{
  "nbformat": 4,
  "nbformat_minor": 0,
  "metadata": {
    "colab": {
      "name": "04-transfer_learing_with_tensorflow.ipynb",
      "provenance": [],
      "authorship_tag": "ABX9TyNcKcyIKBwFNd7fXhiEIN47",
      "include_colab_link": true
    },
    "kernelspec": {
      "name": "python3",
      "display_name": "Python 3"
    },
    "language_info": {
      "name": "python"
    },
    "accelerator": "GPU"
  },
  "cells": [
    {
      "cell_type": "markdown",
      "metadata": {
        "id": "view-in-github",
        "colab_type": "text"
      },
      "source": [
        "<a href=\"https://colab.research.google.com/github/ngcheeyuan/Learner-s-Repo-for-Tensorflow/blob/main/04_transfer_learing_with_tensorflow.ipynb\" target=\"_parent\"><img src=\"https://colab.research.google.com/assets/colab-badge.svg\" alt=\"Open In Colab\"/></a>"
      ]
    },
    {
      "cell_type": "markdown",
      "source": [
        "# Transfer learning with Tensorflow part 1 : Feature Extraction\n",
        "\n",
        "Leverage a working model's existing architecture and learned patterns\n",
        "\n",
        "2 main benefits:\n",
        "1. Can leverage an existing NN architecture proven to work on problem similar to ours.\n",
        "2. Can leverage a working NN which has already learned patterns on similar data to our own, then we can adata those patterns to our own data"
      ],
      "metadata": {
        "id": "XtMX-VyQvLqJ"
      }
    },
    {
      "cell_type": "markdown",
      "source": [
        "reference : https://github.com/mrdbourke/tensorflow-deep-learning"
      ],
      "metadata": {
        "id": "LCeYHagjzSgj"
      }
    },
    {
      "cell_type": "code",
      "source": [
        "!nvidia-smi"
      ],
      "metadata": {
        "colab": {
          "base_uri": "https://localhost:8080/"
        },
        "id": "OW4UE0xyz8cy",
        "outputId": "f4ac310d-ecf5-426e-bbc4-a246c5e02685"
      },
      "execution_count": null,
      "outputs": [
        {
          "output_type": "stream",
          "name": "stdout",
          "text": [
            "Tue Jan 11 11:04:51 2022       \n",
            "+-----------------------------------------------------------------------------+\n",
            "| NVIDIA-SMI 495.46       Driver Version: 460.32.03    CUDA Version: 11.2     |\n",
            "|-------------------------------+----------------------+----------------------+\n",
            "| GPU  Name        Persistence-M| Bus-Id        Disp.A | Volatile Uncorr. ECC |\n",
            "| Fan  Temp  Perf  Pwr:Usage/Cap|         Memory-Usage | GPU-Util  Compute M. |\n",
            "|                               |                      |               MIG M. |\n",
            "|===============================+======================+======================|\n",
            "|   0  Tesla K80           Off  | 00000000:00:04.0 Off |                    0 |\n",
            "| N/A   61C    P8    30W / 149W |      0MiB / 11441MiB |      0%      Default |\n",
            "|                               |                      |                  N/A |\n",
            "+-------------------------------+----------------------+----------------------+\n",
            "                                                                               \n",
            "+-----------------------------------------------------------------------------+\n",
            "| Processes:                                                                  |\n",
            "|  GPU   GI   CI        PID   Type   Process name                  GPU Memory |\n",
            "|        ID   ID                                                   Usage      |\n",
            "|=============================================================================|\n",
            "|  No running processes found                                                 |\n",
            "+-----------------------------------------------------------------------------+\n"
          ]
        }
      ]
    },
    {
      "cell_type": "code",
      "source": [
        "import zipfile\n",
        "\n",
        "!wget https://storage.googleapis.com/ztm_tf_course/food_vision/10_food_classes_10_percent.zip\n",
        "\n",
        "zip_ref = zipfile.ZipFile('10_food_classes_10_percent.zip')\n",
        "zip_ref.extractall()\n",
        "zip_ref.close()"
      ],
      "metadata": {
        "colab": {
          "base_uri": "https://localhost:8080/"
        },
        "id": "2DjPFR7Oz-WY",
        "outputId": "d8fc8247-2ffc-4b7e-d173-391be66ac583"
      },
      "execution_count": null,
      "outputs": [
        {
          "output_type": "stream",
          "name": "stdout",
          "text": [
            "--2022-01-11 11:06:42--  https://storage.googleapis.com/ztm_tf_course/food_vision/10_food_classes_10_percent.zip\n",
            "Resolving storage.googleapis.com (storage.googleapis.com)... 172.217.212.128, 172.217.214.128, 108.177.111.128, ...\n",
            "Connecting to storage.googleapis.com (storage.googleapis.com)|172.217.212.128|:443... connected.\n",
            "HTTP request sent, awaiting response... 200 OK\n",
            "Length: 168546183 (161M) [application/zip]\n",
            "Saving to: ‘10_food_classes_10_percent.zip.2’\n",
            "\n",
            "10_food_classes_10_ 100%[===================>] 160.74M   209MB/s    in 0.8s    \n",
            "\n",
            "2022-01-11 11:06:43 (209 MB/s) - ‘10_food_classes_10_percent.zip.2’ saved [168546183/168546183]\n",
            "\n"
          ]
        }
      ]
    },
    {
      "cell_type": "code",
      "source": [
        "# HOw many images in each folder?\n",
        "\n",
        "import os\n",
        "\n",
        "for dirpath,dirnames,filenames in os.walk('10_food_classes_10_percent'):\n",
        "  print(f\"There are {len(dirnames)} directories and {len(filenames)} images in {dirpath}.\")"
      ],
      "metadata": {
        "colab": {
          "base_uri": "https://localhost:8080/"
        },
        "id": "hppbKTgE0VLE",
        "outputId": "9f825688-9c30-4e26-9a0a-68ce4778a3e0"
      },
      "execution_count": null,
      "outputs": [
        {
          "output_type": "stream",
          "name": "stdout",
          "text": [
            "There are 2 directories and 0 images in 10_food_classes_10_percent.\n",
            "There are 10 directories and 0 images in 10_food_classes_10_percent/test.\n",
            "There are 0 directories and 250 images in 10_food_classes_10_percent/test/sushi.\n",
            "There are 0 directories and 250 images in 10_food_classes_10_percent/test/grilled_salmon.\n",
            "There are 0 directories and 250 images in 10_food_classes_10_percent/test/chicken_wings.\n",
            "There are 0 directories and 250 images in 10_food_classes_10_percent/test/fried_rice.\n",
            "There are 0 directories and 250 images in 10_food_classes_10_percent/test/ice_cream.\n",
            "There are 0 directories and 250 images in 10_food_classes_10_percent/test/hamburger.\n",
            "There are 0 directories and 250 images in 10_food_classes_10_percent/test/ramen.\n",
            "There are 0 directories and 250 images in 10_food_classes_10_percent/test/pizza.\n",
            "There are 0 directories and 250 images in 10_food_classes_10_percent/test/chicken_curry.\n",
            "There are 0 directories and 250 images in 10_food_classes_10_percent/test/steak.\n",
            "There are 10 directories and 0 images in 10_food_classes_10_percent/train.\n",
            "There are 0 directories and 75 images in 10_food_classes_10_percent/train/sushi.\n",
            "There are 0 directories and 75 images in 10_food_classes_10_percent/train/grilled_salmon.\n",
            "There are 0 directories and 75 images in 10_food_classes_10_percent/train/chicken_wings.\n",
            "There are 0 directories and 75 images in 10_food_classes_10_percent/train/fried_rice.\n",
            "There are 0 directories and 75 images in 10_food_classes_10_percent/train/ice_cream.\n",
            "There are 0 directories and 75 images in 10_food_classes_10_percent/train/hamburger.\n",
            "There are 0 directories and 75 images in 10_food_classes_10_percent/train/ramen.\n",
            "There are 0 directories and 75 images in 10_food_classes_10_percent/train/pizza.\n",
            "There are 0 directories and 75 images in 10_food_classes_10_percent/train/chicken_curry.\n",
            "There are 0 directories and 75 images in 10_food_classes_10_percent/train/steak.\n"
          ]
        }
      ]
    },
    {
      "cell_type": "code",
      "source": [
        "## Create data loaders\n",
        "\n",
        "from tensorflow.keras.preprocessing.image import ImageDataGenerator\n",
        "\n",
        "IMG_SHAPE = (224,224)\n",
        "BATCH_SIZE = 32\n",
        "\n",
        "train_dir = '10_food_classes_10_percent/train/'\n",
        "test_dir = '10_food_classes_10_percent/test/'\n",
        "\n",
        "train_datagen = ImageDataGenerator(rescale = 1/255.)\n",
        "test_datagen = ImageDataGenerator(rescale = 1/255.)\n",
        "\n",
        "print('Training_images:')\n",
        "train_data_10_percent = train_datagen.flow_from_directory(train_dir,\n",
        "                                                          target_size = IMG_SHAPE,\n",
        "                                                          batch_size = BATCH_SIZE,\n",
        "                                                          class_mode = 'categorical')\n",
        "print('Testing_images')\n",
        "test_data_10_percent = test_datagen.flow_from_directory(test_dir,\n",
        "                                                         target_size = IMG_SHAPE,\n",
        "                                                         batch_size = BATCH_SIZE,\n",
        "                                                         class_mode = 'categorical')\n"
      ],
      "metadata": {
        "colab": {
          "base_uri": "https://localhost:8080/"
        },
        "id": "DyXMlF6X1HkR",
        "outputId": "5578cc15-38cd-42e9-f9a0-53df48bf23e1"
      },
      "execution_count": null,
      "outputs": [
        {
          "output_type": "stream",
          "name": "stdout",
          "text": [
            "Training_images:\n",
            "Found 750 images belonging to 10 classes.\n",
            "Testing_images\n",
            "Found 2500 images belonging to 10 classes.\n"
          ]
        }
      ]
    },
    {
      "cell_type": "markdown",
      "source": [
        "## Setting up callbacks (things to run whilst our model trains)\n",
        "\n",
        "Callbacks are extra functionality you can add to your models to be performed during or after training. Some of the most popular callbacks:\n",
        "\n",
        "* Tracking experiments with the TensorBoard callback\n",
        "* Model checkpoint with the ModelCheckpoint callback\n",
        "* Stopping a model from training (before it trains too long and overfits) with the EarlyStopping callback"
      ],
      "metadata": {
        "id": "bB9xQua-6WJi"
      }
    },
    {
      "cell_type": "code",
      "source": [
        "#Create TensorBoard callback\n",
        "import datetime\n",
        "\n",
        "def create_tensorboard_callback(dir_name,experiment_name):\n",
        "  log_dir = dir_name + '/' + experiment_name + '/' +datetime.datetime.now().strftime('%Y%m%d-%H%M%S')\n",
        "  tensorboard_callback = tf.keras.callbacks.TensorBoard(log_dir = log_dir)\n",
        "  print(f'Saving TensorBoard log files to : {log_dir}')\n",
        "  return tensorboard_callback"
      ],
      "metadata": {
        "id": "csoL0J387AmP"
      },
      "execution_count": null,
      "outputs": []
    },
    {
      "cell_type": "markdown",
      "source": [
        "## Create models using Tensorflow Hub\n",
        "\n",
        "Now we're going to do a similar process, except the majoirty of our model's layers are going to come from TensorFlow Hub\n",
        "\n",
        "From : https://tfhub.dev/\n",
        "\n",
        "feature vector model : https://tfhub.dev/tensorflow/efficientnet/b0/feature-vector/1"
      ],
      "metadata": {
        "id": "ebU0kUhk8GeS"
      }
    },
    {
      "cell_type": "code",
      "source": [
        "# let's compare the following two models\n",
        "\n",
        "resnet_url = 'https://tfhub.dev/google/imagenet/resnet_v2_50/feature_vector/5'\n",
        "efficientnet_url = 'https://tfhub.dev/tensorflow/efficientnet/b0/feature-vector/1'"
      ],
      "metadata": {
        "id": "W-esCK018Nyv"
      },
      "execution_count": null,
      "outputs": []
    },
    {
      "cell_type": "code",
      "source": [
        "# Import dependencies\n",
        "import tensorflow as tf\n",
        "import tensorflow_hub as hub\n",
        "from tensorflow.keras import layers"
      ],
      "metadata": {
        "id": "xOuZUdE6943d"
      },
      "execution_count": null,
      "outputs": []
    },
    {
      "cell_type": "code",
      "source": [
        "# let's make a create_model() function to create a model from a URL\n",
        "\n",
        "def create_model(model_url,num_classes=10):\n",
        "  '''\n",
        "  Take a Tensorflow Hub URL and creates a Keras Sequential model with it\n",
        "\n",
        "  Args:\n",
        "  model_url (str): A TensorFlow Hub feature extraction URL.\n",
        "  num_classes (int): Number of output neurons in the output layer,\n",
        "  should be equal to the number of target classes, default = 10\n",
        "\n",
        "  Returns:\n",
        "  An uncompiled Keras Sequential model with model_url as feature extractor\n",
        "  layer and Dense output layer with num_classes output neurons\n",
        "  '''\n",
        "\n",
        "  #Download the pretrained model and save it as a Keras layer\n",
        "\n",
        "  feature_extractor_layer = hub.KerasLayer(model_url, \n",
        "                                           trainable = False,\n",
        "                                           name = 'feature_extraction_layer',\n",
        "                                           input_shape = IMAGE_SHAPE + (3,))# freeze the already learned patterns\n",
        "  # Create our own model\n",
        "\n",
        "  model = tf.keras.Sequential([\n",
        "                               feature_extractor_layer,\n",
        "                               layers.Dense(num_classes, activation = 'softmax', name ='output_layer')\n",
        "\n",
        "  ])\n",
        "\n",
        "  return model"
      ],
      "metadata": {
        "id": "mQWRTm4L-GU4"
      },
      "execution_count": null,
      "outputs": []
    },
    {
      "cell_type": "code",
      "source": [
        "# Create ResNet model\n",
        "\n",
        "resnet_model = create_model(resnet_url,\n",
        "                            num_classes = train_data_10_percent.num_classes)\n",
        "resnet_model.summary()                    "
      ],
      "metadata": {
        "colab": {
          "base_uri": "https://localhost:8080/"
        },
        "id": "rAidTCd-_Oeq",
        "outputId": "bba3529c-c2f6-4746-c9a3-36798be90dd4"
      },
      "execution_count": null,
      "outputs": [
        {
          "output_type": "stream",
          "name": "stdout",
          "text": [
            "Model: \"sequential_2\"\n",
            "_________________________________________________________________\n",
            " Layer (type)                Output Shape              Param #   \n",
            "=================================================================\n",
            " feature_extraction_layer (K  (None, 2048)             23564800  \n",
            " erasLayer)                                                      \n",
            "                                                                 \n",
            " output_layer (Dense)        (None, 10)                20490     \n",
            "                                                                 \n",
            "=================================================================\n",
            "Total params: 23,585,290\n",
            "Trainable params: 20,490\n",
            "Non-trainable params: 23,564,800\n",
            "_________________________________________________________________\n"
          ]
        }
      ]
    },
    {
      "cell_type": "code",
      "source": [
        "resnet_model.compile(loss = tf.keras.losses.CategoricalCrossentropy(),\n",
        "                     optimizer = tf.keras.optimizers.Adam(),\n",
        "                     metrics = ['accuracy'])\n",
        "\n",
        "history_1 = resnet_model.fit(train_data_10_percent,\n",
        "                             steps_per_epoch = len(train_data_10_percent),\n",
        "                             epochs = 5,\n",
        "                             validation_data = test_data_10_percent,\n",
        "                             validation_steps = len(test_data_10_percent),\n",
        "                             callbacks = [create_tensorboard_callback(dir_name = 'tensorflow_hub',\n",
        "                                                                       experiment_name = 'resnet50vs2')])"
      ],
      "metadata": {
        "colab": {
          "base_uri": "https://localhost:8080/"
        },
        "id": "6qy1CgLW_gIE",
        "outputId": "af78dd0c-1a1a-4a9e-a1b1-873f4e3ca343"
      },
      "execution_count": null,
      "outputs": [
        {
          "output_type": "stream",
          "name": "stdout",
          "text": [
            "Saving TensorBoard log files to : tensorflow_hub/resnet50vs2/20220111-120801\n",
            "Epoch 1/5\n",
            "24/24 [==============================] - 24s 939ms/step - loss: 0.2323 - accuracy: 0.9520 - val_loss: 0.6416 - val_accuracy: 0.7868\n",
            "Epoch 2/5\n",
            "24/24 [==============================] - 21s 913ms/step - loss: 0.1499 - accuracy: 0.9853 - val_loss: 0.6394 - val_accuracy: 0.7888\n",
            "Epoch 3/5\n",
            "24/24 [==============================] - 21s 912ms/step - loss: 0.1182 - accuracy: 0.9933 - val_loss: 0.6237 - val_accuracy: 0.7984\n",
            "Epoch 4/5\n",
            "24/24 [==============================] - 21s 904ms/step - loss: 0.0931 - accuracy: 0.9960 - val_loss: 0.6242 - val_accuracy: 0.7964\n",
            "Epoch 5/5\n",
            "24/24 [==============================] - 21s 898ms/step - loss: 0.0745 - accuracy: 0.9973 - val_loss: 0.6245 - val_accuracy: 0.7952\n"
          ]
        }
      ]
    },
    {
      "cell_type": "code",
      "source": [
        "import matplotlib.pyplot as plt\n",
        "def plot_loss_curves(history):\n",
        "  '''\n",
        "  Returns separate loss curves for training and validation metrics.\n",
        "\n",
        "  Arg:\n",
        "  history : TensorFlow history Object\n",
        "  \n",
        "  Returns :\n",
        "  Plots of training/vlidation loss and accuracy metrics.\n",
        "  '''\n",
        "\n",
        "  loss = history.history['loss']\n",
        "  val_loss = history.history['val_loss']\n",
        "  \n",
        "  accuracy = history.history['accuracy']\n",
        "  val_accuracy = history.history['val_accuracy']\n",
        "\n",
        "  epochs = range(len(history.history['loss']))\n",
        "\n",
        "  #plot loss\n",
        "  plt.figure(figsize = (16,9))\n",
        "  plt.subplot(1,2,1)\n",
        "  plt.plot(epochs, loss , label = 'training_loss')\n",
        "  plt.plot(epochs, val_loss, label = 'val_loss')\n",
        "  plt.title('loss')\n",
        "  plt.xlabel('epochs')\n",
        "  plt.legend()\n",
        "  #plot accuracy\n",
        "  plt.subplot(1,2,2)\n",
        "  plt.plot(epochs, accuracy, label = 'training_accuracy')\n",
        "  plt.plot(epochs, val_accuracy, label = 'val_accuracy')\n",
        "  plt.title('accuracy')\n",
        "  plt.xlabel('epochs')\n",
        "  plt.legend()"
      ],
      "metadata": {
        "id": "719-nOtP_9Dr"
      },
      "execution_count": null,
      "outputs": []
    },
    {
      "cell_type": "code",
      "source": [
        "plot_loss_curves(history_1)"
      ],
      "metadata": {
        "colab": {
          "base_uri": "https://localhost:8080/",
          "height": 394
        },
        "id": "rhHDAdboBV7z",
        "outputId": "f33548f8-2301-4f16-9118-080f6576cd6d"
      },
      "execution_count": null,
      "outputs": [
        {
          "output_type": "display_data",
          "data": {
            "image/png": "[encoded data removed]",
            "text/plain": [
              "<Figure size 1152x648 with 2 Axes>"
            ]
          },
          "metadata": {
            "needs_background": "light"
          }
        }
      ]
    },
    {
      "cell_type": "code",
      "source": [
        "effnet_model = create_model(model_url = efficientnet_url,\n",
        "                            num_classes = train_data_10_percent.num_classes)\n",
        "effnet_model.summary()      \n",
        "\n",
        "\n",
        "effnet_model.compile(loss = tf.keras.losses.CategoricalCrossentropy(),\n",
        "                     optimizer = tf.keras.optimizers.Adam(),\n",
        "                     metrics = ['accuracy'])\n",
        "\n",
        "history_2 = effnet_model.fit(train_data_10_percent,\n",
        "                             steps_per_epoch = len(train_data_10_percent),\n",
        "                             epochs = 5,\n",
        "                             validation_data = test_data_10_percent,\n",
        "                             validation_steps = len(test_data_10_percent),\n",
        "                             callbacks = [create_tensorboard_callback(dir_name = 'tensorflow_hub',\n",
        "                                                                       experiment_name = 'efficient_net')])"
      ],
      "metadata": {
        "colab": {
          "base_uri": "https://localhost:8080/"
        },
        "id": "9cYDJKBWB5hN",
        "outputId": "66aee9a7-3272-4109-e985-3b2b19f9bcdc"
      },
      "execution_count": null,
      "outputs": [
        {
          "output_type": "stream",
          "name": "stdout",
          "text": [
            "Model: \"sequential_5\"\n",
            "_________________________________________________________________\n",
            " Layer (type)                Output Shape              Param #   \n",
            "=================================================================\n",
            " feature_extraction_layer (K  (None, 1280)             4049564   \n",
            " erasLayer)                                                      \n",
            "                                                                 \n",
            " output_layer (Dense)        (None, 10)                12810     \n",
            "                                                                 \n",
            "=================================================================\n",
            "Total params: 4,062,374\n",
            "Trainable params: 12,810\n",
            "Non-trainable params: 4,049,564\n",
            "_________________________________________________________________\n",
            "Saving TensorBoard log files to : tensorflow_hub/efficient_net/20220111-122443\n",
            "Epoch 1/5\n",
            "24/24 [==============================] - 33s 874ms/step - loss: 1.8877 - accuracy: 0.3947 - val_loss: 1.3084 - val_accuracy: 0.7472\n",
            "Epoch 2/5\n",
            "24/24 [==============================] - 18s 789ms/step - loss: 1.0723 - accuracy: 0.7907 - val_loss: 0.8623 - val_accuracy: 0.8208\n",
            "Epoch 3/5\n",
            "24/24 [==============================] - 18s 787ms/step - loss: 0.7564 - accuracy: 0.8240 - val_loss: 0.6949 - val_accuracy: 0.8396\n",
            "Epoch 4/5\n",
            "24/24 [==============================] - 18s 786ms/step - loss: 0.6079 - accuracy: 0.8733 - val_loss: 0.6040 - val_accuracy: 0.8524\n",
            "Epoch 5/5\n",
            "24/24 [==============================] - 18s 784ms/step - loss: 0.5142 - accuracy: 0.8893 - val_loss: 0.5510 - val_accuracy: 0.8600\n"
          ]
        }
      ]
    },
    {
      "cell_type": "code",
      "source": [
        "plot_loss_curves(history_2)"
      ],
      "metadata": {
        "colab": {
          "base_uri": "https://localhost:8080/",
          "height": 394
        },
        "id": "rsqaanjfERty",
        "outputId": "7b84c909-0581-4cf6-d6f9-4df755f13647"
      },
      "execution_count": null,
      "outputs": [
        {
          "output_type": "display_data",
          "data": {
            "image/png": "[encoded data removed]",
            "text/plain": [
              "<Figure size 1152x648 with 2 Axes>"
            ]
          },
          "metadata": {
            "needs_background": "light"
          }
        }
      ]
    },
    {
      "cell_type": "code",
      "source": [
        "effnet_model.summary()"
      ],
      "metadata": {
        "colab": {
          "base_uri": "https://localhost:8080/"
        },
        "id": "_iA_D4PTE5He",
        "outputId": "39bbedfe-1094-4d21-b246-cec48eac8770"
      },
      "execution_count": null,
      "outputs": [
        {
          "output_type": "stream",
          "name": "stdout",
          "text": [
            "Model: \"sequential_5\"\n",
            "_________________________________________________________________\n",
            " Layer (type)                Output Shape              Param #   \n",
            "=================================================================\n",
            " feature_extraction_layer (K  (None, 1280)             4049564   \n",
            " erasLayer)                                                      \n",
            "                                                                 \n",
            " output_layer (Dense)        (None, 10)                12810     \n",
            "                                                                 \n",
            "=================================================================\n",
            "Total params: 4,062,374\n",
            "Trainable params: 12,810\n",
            "Non-trainable params: 4,049,564\n",
            "_________________________________________________________________\n"
          ]
        }
      ]
    },
    {
      "cell_type": "code",
      "source": [
        "len(effnet_model.layers[0].weights)"
      ],
      "metadata": {
        "colab": {
          "base_uri": "https://localhost:8080/"
        },
        "id": "7pUk_UNwHm15",
        "outputId": "0d9d2854-bffb-4b06-f392-652fb3912a99"
      },
      "execution_count": null,
      "outputs": [
        {
          "output_type": "execute_result",
          "data": {
            "text/plain": [
              "309"
            ]
          },
          "metadata": {},
          "execution_count": 56
        }
      ]
    },
    {
      "cell_type": "code",
      "source": [
        "resnet_model.summary()"
      ],
      "metadata": {
        "colab": {
          "base_uri": "https://localhost:8080/"
        },
        "id": "w4p0LYFIG_lc",
        "outputId": "34a57038-fe1b-46c8-d9cc-8f646ab0dc97"
      },
      "execution_count": null,
      "outputs": [
        {
          "output_type": "stream",
          "name": "stdout",
          "text": [
            "Model: \"sequential_2\"\n",
            "_________________________________________________________________\n",
            " Layer (type)                Output Shape              Param #   \n",
            "=================================================================\n",
            " feature_extraction_layer (K  (None, 2048)             23564800  \n",
            " erasLayer)                                                      \n",
            "                                                                 \n",
            " output_layer (Dense)        (None, 10)                20490     \n",
            "                                                                 \n",
            "=================================================================\n",
            "Total params: 23,585,290\n",
            "Trainable params: 20,490\n",
            "Non-trainable params: 23,564,800\n",
            "_________________________________________________________________\n"
          ]
        }
      ]
    },
    {
      "cell_type": "markdown",
      "source": [
        "## Different types of transfer learnings\n",
        "\n",
        "* As is 'transfer learning' - using an existing model with no changes what so ever.\n",
        "* Efficient  extraction ' transfer learning' - adjust output layer for your problem.\n",
        "*Fine-tuning 'transfer learning' - use the prelearned patterns of an existing model and 'fine-tune' many or all of the underlying layers (including new output layers)"
      ],
      "metadata": {
        "id": "Mi5EHg6eHCc4"
      }
    },
    {
      "cell_type": "markdown",
      "source": [
        "### Comparing our models results with TensorBoard\n",
        "\n",
        "> When you upload things to TensoBoard.dev your experiments are public."
      ],
      "metadata": {
        "id": "j1lkH7QBHf9M"
      }
    },
    {
      "cell_type": "code",
      "source": [
        "# Upload TensorBoard dev records\n",
        "!tensorboard dev upload --logdir ./tensorflow_hub/ \\\n",
        "--name \"EfficientNetB0 vs. ResNet50V2\" \\\n",
        "--description \"Comparing two different TF hub feature extraction model architecture using 10% of the training data\" \\\n",
        "--one_shot"
      ],
      "metadata": {
        "colab": {
          "base_uri": "https://localhost:8080/"
        },
        "id": "Kf9wi1niIJZt",
        "outputId": "477ca3ad-f3cb-41c8-d5fd-f93981a0fed8"
      },
      "execution_count": null,
      "outputs": [
        {
          "output_type": "stream",
          "name": "stdout",
          "text": [
            "\n",
            "New experiment created. View your TensorBoard at: https://tensorboard.dev/experiment/bzQmn0dBSe29FdDE5OLEiQ/\n",
            "\n",
            "\u001b[1m[2022-01-11T12:40:48]\u001b[0m Started scanning logdir.\n",
            "\u001b[1m[2022-01-11T12:40:52]\u001b[0m Total uploaded: 90 scalars, 0 tensors, 4 binary objects (8.8 MB)\n",
            "\u001b[1m[2022-01-11T12:40:52]\u001b[0m Done scanning logdir.\n",
            "\n",
            "\n",
            "Done. View your TensorBoard at https://tensorboard.dev/experiment/bzQmn0dBSe29FdDE5OLEiQ/\n"
          ]
        }
      ]
    },
    {
      "cell_type": "markdown",
      "source": [
        "Our TensorBoard are uploaded here :\n",
        "https://tensorboard.dev/experiment/MBDbcrjeQVOgdBOOQ7jocQ/"
      ],
      "metadata": {
        "id": "YTvDvYdBI4CN"
      }
    },
    {
      "cell_type": "code",
      "source": [
        "!tensorboard dev list"
      ],
      "metadata": {
        "colab": {
          "base_uri": "https://localhost:8080/"
        },
        "id": "yvV14itNJM69",
        "outputId": "11fbdcb1-3c1c-49c2-c0f3-2fd23bc013e4"
      },
      "execution_count": null,
      "outputs": [
        {
          "output_type": "stream",
          "name": "stdout",
          "text": [
            "https://tensorboard.dev/experiment/4m0JHZZyTVGZKTgTOl7pYA/\n",
            "\tName                 EfficientNetB0 vs. ResNet50V2\n",
            "\tDescription          Comparing two different TF hub feature extraction model architecture using 10% of the training data\n",
            "\tId                   4m0JHZZyTVGZKTgTOl7pYA\n",
            "\tCreated              2022-01-11 12:40:40 (2 minutes ago)\n",
            "\tUpdated              2022-01-11 12:40:41 (2 minutes ago)\n",
            "\tRuns                 2\n",
            "\tTags                 1\n",
            "\tScalars              0\n",
            "\tTensor bytes         0\n",
            "\tBinary object bytes  1723166\n",
            "https://tensorboard.dev/experiment/MBDbcrjeQVOgdBOOQ7jocQ/\n",
            "\tName                 EfficientNetB0 vs. ResNet50V2\n",
            "\tDescription          Comparing two different TF hub feature extraction model architecture using 10% of the training data\n",
            "\tId                   MBDbcrjeQVOgdBOOQ7jocQ\n",
            "\tCreated              2022-01-11 12:36:54 (5 minutes ago)\n",
            "\tUpdated              2022-01-11 12:36:58 (5 minutes ago)\n",
            "\tRuns                 7\n",
            "\tTags                 5\n",
            "\tScalars              90\n",
            "\tTensor bytes         0\n",
            "\tBinary object bytes  9247122\n",
            "Total: 2 experiment(s)\n"
          ]
        }
      ]
    },
    {
      "cell_type": "code",
      "source": [
        "# Delete an experiment\n",
        "#!tensorboard dev delete --experiment_id bzQmn0dBSe29FdDE5OLEiQ"
      ],
      "metadata": {
        "colab": {
          "base_uri": "https://localhost:8080/"
        },
        "id": "S0BvNHPbJmIF",
        "outputId": "3023b5af-dc3f-474e-f414-7a9f21d61313"
      },
      "execution_count": null,
      "outputs": [
        {
          "output_type": "stream",
          "name": "stdout",
          "text": [
            "Deleted experiment bzQmn0dBSe29FdDE5OLEiQ.\n"
          ]
        }
      ]
    },
    {
      "cell_type": "code",
      "source": [
        ""
      ],
      "metadata": {
        "id": "rez8dq__KRBi"
      },
      "execution_count": null,
      "outputs": []
    }
  ]
}
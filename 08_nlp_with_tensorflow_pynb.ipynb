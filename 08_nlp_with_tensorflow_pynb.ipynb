{
  "nbformat": 4,
  "nbformat_minor": 0,
  "metadata": {
    "colab": {
      "name": "08-nlp_with_tensorflow.pynb",
      "provenance": [],
      "authorship_tag": "ABX9TyPXmfpkOn2/sLo8KlJL8//s",
      "include_colab_link": true
    },
    "kernelspec": {
      "name": "python3",
      "display_name": "Python 3"
    },
    "language_info": {
      "name": "python"
    },
    "accelerator": "GPU"
  },
  "cells": [
    {
      "cell_type": "markdown",
      "metadata": {
        "id": "view-in-github",
        "colab_type": "text"
      },
      "source": [
        "<a href=\"https://colab.research.google.com/github/ngcheeyuan/Learner-s-Repo-for-Tensorflow/blob/main/08_nlp_with_tensorflow_pynb.ipynb\" target=\"_parent\"><img src=\"https://colab.research.google.com/assets/colab-badge.svg\" alt=\"Open In Colab\"/></a>"
      ]
    },
    {
      "cell_type": "code",
      "execution_count": 1,
      "metadata": {
        "colab": {
          "base_uri": "https://localhost:8080/"
        },
        "id": "29A1QZS7a0s3",
        "outputId": "b6e7394e-c39b-4b3a-bef4-33e9f8524d71"
      },
      "outputs": [
        {
          "output_type": "stream",
          "name": "stdout",
          "text": [
            "--2022-01-18 12:28:24--  https://raw.githubusercontent.com/mrdbourke/tensorflow-deep-learning/main/extras/helper_functions.py\n",
            "Resolving raw.githubusercontent.com (raw.githubusercontent.com)... 185.199.108.133, 185.199.109.133, 185.199.110.133, ...\n",
            "Connecting to raw.githubusercontent.com (raw.githubusercontent.com)|185.199.108.133|:443... connected.\n",
            "HTTP request sent, awaiting response... 200 OK\n",
            "Length: 10246 (10K) [text/plain]\n",
            "Saving to: ‘helper_functions.py’\n",
            "\n",
            "\rhelper_functions.py   0%[                    ]       0  --.-KB/s               \rhelper_functions.py 100%[===================>]  10.01K  --.-KB/s    in 0s      \n",
            "\n",
            "2022-01-18 12:28:24 (71.1 MB/s) - ‘helper_functions.py’ saved [10246/10246]\n",
            "\n"
          ]
        }
      ],
      "source": [
        "!wget https://raw.githubusercontent.com/mrdbourke/tensorflow-deep-learning/main/extras/helper_functions.py\n"
      ]
    },
    {
      "cell_type": "code",
      "source": [
        "from helper_functions import unzip_data , create_tensorboard_callback, plot_loss_curves , compare_historys"
      ],
      "metadata": {
        "id": "CKX_bZjUiXwM"
      },
      "execution_count": 2,
      "outputs": []
    },
    {
      "cell_type": "code",
      "source": [
        "## Get a text dataset - disaster / not disaster\n",
        "!wget https://storage.googleapis.com/ztm_tf_course/nlp_getting_started.zip\n",
        "unzip_data('nlp_getting_started.zip')"
      ],
      "metadata": {
        "colab": {
          "base_uri": "https://localhost:8080/"
        },
        "id": "PIQPPHxeicSf",
        "outputId": "b10f1f73-db0e-4d51-e65d-f4198a8fd0c9"
      },
      "execution_count": 3,
      "outputs": [
        {
          "output_type": "stream",
          "name": "stdout",
          "text": [
            "--2022-01-18 12:28:28--  https://storage.googleapis.com/ztm_tf_course/nlp_getting_started.zip\n",
            "Resolving storage.googleapis.com (storage.googleapis.com)... 142.250.159.128, 74.125.70.128, 74.125.132.128, ...\n",
            "Connecting to storage.googleapis.com (storage.googleapis.com)|142.250.159.128|:443... connected.\n",
            "HTTP request sent, awaiting response... 200 OK\n",
            "Length: 607343 (593K) [application/zip]\n",
            "Saving to: ‘nlp_getting_started.zip’\n",
            "\n",
            "\rnlp_getting_started   0%[                    ]       0  --.-KB/s               \rnlp_getting_started 100%[===================>] 593.11K  --.-KB/s    in 0.006s  \n",
            "\n",
            "2022-01-18 12:28:28 (102 MB/s) - ‘nlp_getting_started.zip’ saved [607343/607343]\n",
            "\n"
          ]
        }
      ]
    },
    {
      "cell_type": "code",
      "source": [
        "import pandas as pd"
      ],
      "metadata": {
        "id": "HYrcvrStikCn"
      },
      "execution_count": 4,
      "outputs": []
    },
    {
      "cell_type": "code",
      "source": [
        "df_train = pd.read_csv('train.csv')"
      ],
      "metadata": {
        "id": "j-oKeOhEjEMX"
      },
      "execution_count": 5,
      "outputs": []
    },
    {
      "cell_type": "code",
      "source": [
        "df_test = pd.read_csv('test.csv')"
      ],
      "metadata": {
        "id": "tjJjEWBKjHNX"
      },
      "execution_count": 6,
      "outputs": []
    },
    {
      "cell_type": "code",
      "source": [
        "df_test.head(5) # no labels in test data"
      ],
      "metadata": {
        "colab": {
          "base_uri": "https://localhost:8080/",
          "height": 206
        },
        "id": "m-bMtZP4jK_Y",
        "outputId": "0ebd9311-92a0-47de-81bc-40ae6a70ddb2"
      },
      "execution_count": 7,
      "outputs": [
        {
          "output_type": "execute_result",
          "data": {
            "text/html": [
              "\n",
              "  <div id=\"df-87c501a7-37c8-4578-a33a-6fb05860e37f\">\n",
              "    <div class=\"colab-df-container\">\n",
              "      <div>\n",
              "<style scoped>\n",
              "    .dataframe tbody tr th:only-of-type {\n",
              "        vertical-align: middle;\n",
              "    }\n",
              "\n",
              "    .dataframe tbody tr th {\n",
              "        vertical-align: top;\n",
              "    }\n",
              "\n",
              "    .dataframe thead th {\n",
              "        text-align: right;\n",
              "    }\n",
              "</style>\n",
              "<table border=\"1\" class=\"dataframe\">\n",
              "  <thead>\n",
              "    <tr style=\"text-align: right;\">\n",
              "      <th></th>\n",
              "      <th>id</th>\n",
              "      <th>keyword</th>\n",
              "      <th>location</th>\n",
              "      <th>text</th>\n",
              "    </tr>\n",
              "  </thead>\n",
              "  <tbody>\n",
              "    <tr>\n",
              "      <th>0</th>\n",
              "      <td>0</td>\n",
              "      <td>NaN</td>\n",
              "      <td>NaN</td>\n",
              "      <td>Just happened a terrible car crash</td>\n",
              "    </tr>\n",
              "    <tr>\n",
              "      <th>1</th>\n",
              "      <td>2</td>\n",
              "      <td>NaN</td>\n",
              "      <td>NaN</td>\n",
              "      <td>Heard about #earthquake is different cities, s...</td>\n",
              "    </tr>\n",
              "    <tr>\n",
              "      <th>2</th>\n",
              "      <td>3</td>\n",
              "      <td>NaN</td>\n",
              "      <td>NaN</td>\n",
              "      <td>there is a forest fire at spot pond, geese are...</td>\n",
              "    </tr>\n",
              "    <tr>\n",
              "      <th>3</th>\n",
              "      <td>9</td>\n",
              "      <td>NaN</td>\n",
              "      <td>NaN</td>\n",
              "      <td>Apocalypse lighting. #Spokane #wildfires</td>\n",
              "    </tr>\n",
              "    <tr>\n",
              "      <th>4</th>\n",
              "      <td>11</td>\n",
              "      <td>NaN</td>\n",
              "      <td>NaN</td>\n",
              "      <td>Typhoon Soudelor kills 28 in China and Taiwan</td>\n",
              "    </tr>\n",
              "  </tbody>\n",
              "</table>\n",
              "</div>\n",
              "      <button class=\"colab-df-convert\" onclick=\"convertToInteractive('df-87c501a7-37c8-4578-a33a-6fb05860e37f')\"\n",
              "              title=\"Convert this dataframe to an interactive table.\"\n",
              "              style=\"display:none;\">\n",
              "        \n",
              "  <svg xmlns=\"http://www.w3.org/2000/svg\" height=\"24px\"viewBox=\"0 0 24 24\"\n",
              "       width=\"24px\">\n",
              "    <path d=\"M0 0h24v24H0V0z\" fill=\"none\"/>\n",
              "    <path d=\"M18.56 5.44l.94 2.06.94-2.06 2.06-.94-2.06-.94-.94-2.06-.94 2.06-2.06.94zm-11 1L8.5 8.5l.94-2.06 2.06-.94-2.06-.94L8.5 2.5l-.94 2.06-2.06.94zm10 10l.94 2.06.94-2.06 2.06-.94-2.06-.94-.94-2.06-.94 2.06-2.06.94z\"/><path d=\"M17.41 7.96l-1.37-1.37c-.4-.4-.92-.59-1.43-.59-.52 0-1.04.2-1.43.59L10.3 9.45l-7.72 7.72c-.78.78-.78 2.05 0 2.83L4 21.41c.39.39.9.59 1.41.59.51 0 1.02-.2 1.41-.59l7.78-7.78 2.81-2.81c.8-.78.8-2.07 0-2.86zM5.41 20L4 18.59l7.72-7.72 1.47 1.35L5.41 20z\"/>\n",
              "  </svg>\n",
              "      </button>\n",
              "      \n",
              "  <style>\n",
              "    .colab-df-container {\n",
              "      display:flex;\n",
              "      flex-wrap:wrap;\n",
              "      gap: 12px;\n",
              "    }\n",
              "\n",
              "    .colab-df-convert {\n",
              "      background-color: #E8F0FE;\n",
              "      border: none;\n",
              "      border-radius: 50%;\n",
              "      cursor: pointer;\n",
              "      display: none;\n",
              "      fill: #1967D2;\n",
              "      height: 32px;\n",
              "      padding: 0 0 0 0;\n",
              "      width: 32px;\n",
              "    }\n",
              "\n",
              "    .colab-df-convert:hover {\n",
              "      background-color: #E2EBFA;\n",
              "      box-shadow: 0px 1px 2px rgba(60, 64, 67, 0.3), 0px 1px 3px 1px rgba(60, 64, 67, 0.15);\n",
              "      fill: #174EA6;\n",
              "    }\n",
              "\n",
              "    [theme=dark] .colab-df-convert {\n",
              "      background-color: #3B4455;\n",
              "      fill: #D2E3FC;\n",
              "    }\n",
              "\n",
              "    [theme=dark] .colab-df-convert:hover {\n",
              "      background-color: #434B5C;\n",
              "      box-shadow: 0px 1px 3px 1px rgba(0, 0, 0, 0.15);\n",
              "      filter: drop-shadow(0px 1px 2px rgba(0, 0, 0, 0.3));\n",
              "      fill: #FFFFFF;\n",
              "    }\n",
              "  </style>\n",
              "\n",
              "      <script>\n",
              "        const buttonEl =\n",
              "          document.querySelector('#df-87c501a7-37c8-4578-a33a-6fb05860e37f button.colab-df-convert');\n",
              "        buttonEl.style.display =\n",
              "          google.colab.kernel.accessAllowed ? 'block' : 'none';\n",
              "\n",
              "        async function convertToInteractive(key) {\n",
              "          const element = document.querySelector('#df-87c501a7-37c8-4578-a33a-6fb05860e37f');\n",
              "          const dataTable =\n",
              "            await google.colab.kernel.invokeFunction('convertToInteractive',\n",
              "                                                     [key], {});\n",
              "          if (!dataTable) return;\n",
              "\n",
              "          const docLinkHtml = 'Like what you see? Visit the ' +\n",
              "            '<a target=\"_blank\" href=https://colab.research.google.com/notebooks/data_table.ipynb>data table notebook</a>'\n",
              "            + ' to learn more about interactive tables.';\n",
              "          element.innerHTML = '';\n",
              "          dataTable['output_type'] = 'display_data';\n",
              "          await google.colab.output.renderOutput(dataTable, element);\n",
              "          const docLink = document.createElement('div');\n",
              "          docLink.innerHTML = docLinkHtml;\n",
              "          element.appendChild(docLink);\n",
              "        }\n",
              "      </script>\n",
              "    </div>\n",
              "  </div>\n",
              "  "
            ],
            "text/plain": [
              "   id keyword location                                               text\n",
              "0   0     NaN      NaN                 Just happened a terrible car crash\n",
              "1   2     NaN      NaN  Heard about #earthquake is different cities, s...\n",
              "2   3     NaN      NaN  there is a forest fire at spot pond, geese are...\n",
              "3   9     NaN      NaN           Apocalypse lighting. #Spokane #wildfires\n",
              "4  11     NaN      NaN      Typhoon Soudelor kills 28 in China and Taiwan"
            ]
          },
          "metadata": {},
          "execution_count": 7
        }
      ]
    },
    {
      "cell_type": "code",
      "source": [
        "df_train.isna().sum()"
      ],
      "metadata": {
        "colab": {
          "base_uri": "https://localhost:8080/"
        },
        "id": "TQvZS5DsjQUe",
        "outputId": "ba37a85b-f903-4dbf-9705-a29b2ecafbe8"
      },
      "execution_count": 8,
      "outputs": [
        {
          "output_type": "execute_result",
          "data": {
            "text/plain": [
              "id             0\n",
              "keyword       61\n",
              "location    2533\n",
              "text           0\n",
              "target         0\n",
              "dtype: int64"
            ]
          },
          "metadata": {},
          "execution_count": 8
        }
      ]
    },
    {
      "cell_type": "code",
      "source": [
        "X = df_train['text']\n",
        "y = df_train['target']"
      ],
      "metadata": {
        "id": "qZ3MpQkFjsAM"
      },
      "execution_count": 9,
      "outputs": []
    },
    {
      "cell_type": "code",
      "source": [
        "from sklearn.model_selection import train_test_split"
      ],
      "metadata": {
        "id": "KBBdyyBvj6JB"
      },
      "execution_count": 10,
      "outputs": []
    },
    {
      "cell_type": "code",
      "source": [
        "X_train , X_val , y_train, y_val = train_test_split(X,y,test_size = 0.25, stratify = y)"
      ],
      "metadata": {
        "id": "_qy-33NdjYFr"
      },
      "execution_count": 11,
      "outputs": []
    },
    {
      "cell_type": "code",
      "source": [
        "y_train.mean(),y_val.mean() , len(X_train), len(y_val)"
      ],
      "metadata": {
        "colab": {
          "base_uri": "https://localhost:8080/"
        },
        "id": "V_AMI3QVkAqx",
        "outputId": "90b2d0d9-7414-4e86-c1b7-799eb2d5a960"
      },
      "execution_count": 12,
      "outputs": [
        {
          "output_type": "execute_result",
          "data": {
            "text/plain": [
              "(0.4296724470134875, 0.42962184873949577, 5709, 1904)"
            ]
          },
          "metadata": {},
          "execution_count": 12
        }
      ]
    },
    {
      "cell_type": "code",
      "source": [
        "df = pd.concat([X_train,y_train] , axis = 1)"
      ],
      "metadata": {
        "id": "dLuqSxEMlC1m"
      },
      "execution_count": 13,
      "outputs": []
    },
    {
      "cell_type": "code",
      "source": [
        "#Let's visualise some random training examples\n",
        "\n",
        "import random\n",
        "random_index = random.randint(0,len(X_train)-5)\n",
        "\n",
        "for row in df[random_index:random_index+5].itertuples():\n",
        " _,text,target = row\n",
        " print(f'target : {target}', 'real_disaster\\n' if target >0 else 'not_disaster\\n' , f'text : {text}\\n')\n",
        " print('------\\n')"
      ],
      "metadata": {
        "colab": {
          "base_uri": "https://localhost:8080/"
        },
        "id": "TccGhnFckGA2",
        "outputId": "e78023e8-a9f9-4de1-a684-bc3a601dee01"
      },
      "execution_count": 14,
      "outputs": [
        {
          "output_type": "stream",
          "name": "stdout",
          "text": [
            "target : 1 real_disaster\n",
            " text : EXCLUSIVE: In 179 fatalities involving on-duty NYPD cops in 15 years only 3åÊÛ_ http://t.co/Cn1joMMUGH\n",
            "\n",
            "------\n",
            "\n",
            "target : 1 real_disaster\n",
            " text : The Latest: More homes razed by Northern California wildfire - http://t.co/2nIP3d15dx http://t.co/egYFNlAOQv\n",
            "\n",
            "------\n",
            "\n",
            "target : 1 real_disaster\n",
            " text : @Hurricane_Dolce no prob\n",
            "\n",
            "------\n",
            "\n",
            "target : 0 not_disaster\n",
            " text : New Giant Flames (Giant Manly Brown) info/order sms:087809233445 pin:2327564d http://t.co/T1mBw0ia3o  http://t.co/CLfa0PY5Lm\n",
            "\n",
            "------\n",
            "\n",
            "target : 0 not_disaster\n",
            " text : I am that girl on tv that sadly turns her music up to drown out the noise of her family fighting literally every day\n",
            "\n",
            "------\n",
            "\n"
          ]
        }
      ]
    },
    {
      "cell_type": "markdown",
      "source": [
        "## tokenization & embedding\n",
        "\n",
        "* tokenization - straight character/word/subword to number\n",
        "\n",
        "* embedding - every word becomes a vector - richer representation between tokens -Word2Vec , GloVe"
      ],
      "metadata": {
        "id": "86GArF-zk39A"
      }
    },
    {
      "cell_type": "code",
      "source": [
        "## tokenization\n",
        "import tensorflow as tf\n",
        "from tensorflow.keras.layers import TextVectorization"
      ],
      "metadata": {
        "id": "dHFrsbkAmhA5"
      },
      "execution_count": 15,
      "outputs": []
    },
    {
      "cell_type": "code",
      "source": [
        "text_vec = TextVectorization(max_tokens= 5000,\n",
        "                             standardize = 'lower_and_strip_punctuation',\n",
        "                             split = 'whitespace',\n",
        "                             ngrams = None,\n",
        "                             output_mode = 'int',\n",
        "                             output_sequence_length = None, #pad text to have the same length as the longest text,\n",
        "                             pad_to_max_tokens = True)"
      ],
      "metadata": {
        "id": "QGwb1ChSnepI"
      },
      "execution_count": 16,
      "outputs": []
    },
    {
      "cell_type": "code",
      "source": [
        "#Average number of tokens in the training tweets\n",
        "round(sum([len(i.split()) for i in X_train])/len(X_train))"
      ],
      "metadata": {
        "colab": {
          "base_uri": "https://localhost:8080/"
        },
        "id": "uPcfyNBlogMB",
        "outputId": "de9be6ef-c678-4346-ce40-c2d84961ee1f"
      },
      "execution_count": 17,
      "outputs": [
        {
          "output_type": "execute_result",
          "data": {
            "text/plain": [
              "15"
            ]
          },
          "metadata": {},
          "execution_count": 17
        }
      ]
    },
    {
      "cell_type": "code",
      "source": [
        "#setup text vectorization variables\n",
        "\n",
        "max_vocab_length = 10000 # max num of words to have in our vocab\n",
        "max_length = 15 # max length of our sequence\n",
        "\n",
        "text_vectorizer = TextVectorization(max_tokens = max_vocab_length,\n",
        "                                    output_sequence_length = max_length)"
      ],
      "metadata": {
        "id": "De0yq7Xxxhd7"
      },
      "execution_count": 18,
      "outputs": []
    },
    {
      "cell_type": "code",
      "source": [
        "#Fit the text vectorizer to the training text\n",
        "text_vectorizer.adapt(X_train)"
      ],
      "metadata": {
        "id": "IFDzJiPbx-t5"
      },
      "execution_count": 19,
      "outputs": []
    },
    {
      "cell_type": "code",
      "source": [
        "#create a sample sentence and tokenize it\n",
        "\n",
        "sample_sentence = \"There's a flood in my street!\"\n",
        "text_vectorizer([sample_sentence])"
      ],
      "metadata": {
        "colab": {
          "base_uri": "https://localhost:8080/"
        },
        "id": "bL9zRWN6yQqA",
        "outputId": "ca683a4d-23ef-4cb1-ecfa-43fe05fec89b"
      },
      "execution_count": 20,
      "outputs": [
        {
          "output_type": "execute_result",
          "data": {
            "text/plain": [
              "<tf.Tensor: shape=(1, 15), dtype=int64, numpy=\n",
              "array([[347,   3, 247,   5,  13, 844,   0,   0,   0,   0,   0,   0,   0,\n",
              "          0,   0]])>"
            ]
          },
          "metadata": {},
          "execution_count": 20
        }
      ]
    },
    {
      "cell_type": "code",
      "source": [
        "#choose a random sentence from the training dataset and tokenize it\n",
        "\n",
        "random_sentence = random.choice(X_train)\n",
        "\n",
        "print(f'original text:\\n {random_sentence} \\\n",
        "        \\n\\nVectorized version:')\n",
        "text_vectorizer([random_sentence])"
      ],
      "metadata": {
        "colab": {
          "base_uri": "https://localhost:8080/"
        },
        "id": "ChqePVQ8yavr",
        "outputId": "b1cd187a-a3eb-4af7-9a6c-32fee9d68b63"
      },
      "execution_count": 21,
      "outputs": [
        {
          "output_type": "stream",
          "name": "stdout",
          "text": [
            "original text:\n",
            " @marksmaponyane Hey!Sundowns were annihilated in their previous meeting with Celtic.Indeed its an improvement.         \n",
            "\n",
            "Vectorized version:\n"
          ]
        },
        {
          "output_type": "execute_result",
          "data": {
            "text/plain": [
              "<tf.Tensor: shape=(1, 15), dtype=int64, numpy=\n",
              "array([[9800,    1,   68,  637,    5,  119, 2460, 1591,   15,    1,   42,\n",
              "          43,    1,    0,    0]])>"
            ]
          },
          "metadata": {},
          "execution_count": 21
        }
      ]
    },
    {
      "cell_type": "code",
      "source": [
        "# get the unique words in the vocabulary\n",
        "words_in_vocab = text_vectorizer.get_vocabulary()\n",
        "top_5_words = words_in_vocab[:5]\n",
        "bottom_5_words = words_in_vocab[-5:]"
      ],
      "metadata": {
        "id": "7bgq5IMLy0GX"
      },
      "execution_count": 22,
      "outputs": []
    },
    {
      "cell_type": "code",
      "source": [
        "len(words_in_vocab),top_5_words , bottom_5_words"
      ],
      "metadata": {
        "colab": {
          "base_uri": "https://localhost:8080/"
        },
        "id": "v6xzc7aYzMr6",
        "outputId": "bc042bad-fafb-4331-8237-da30f46a1e45"
      },
      "execution_count": 23,
      "outputs": [
        {
          "output_type": "execute_result",
          "data": {
            "text/plain": [
              "(10000,\n",
              " ['', '[UNK]', 'the', 'a', 'to'],\n",
              " ['lonepine', 'lonelyness', 'london3', 'lomasvisto', 'lolo'])"
            ]
          },
          "metadata": {},
          "execution_count": 23
        }
      ]
    },
    {
      "cell_type": "markdown",
      "source": [
        "### Create an embedding layer \n",
        "reference : https://www.tensorflow.org/api_docs/python/tf/keras/layers/Embedding\n",
        "\n",
        "The parameters we care most about for our embedding layer:\n",
        "* input_dims = the size of our vocabulary\n",
        "* output_dims = the size of the output embedding vector, a value of 100 would mean each token gets represented by a vector 100 long\n",
        "* input_lnegth = length of the sequence being passed to the embedding layer "
      ],
      "metadata": {
        "id": "Wx0iAyH8zIZB"
      }
    },
    {
      "cell_type": "code",
      "source": [
        "from tensorflow.keras import layers\n",
        "\n",
        "embedding = layers.Embedding(input_dim = max_vocab_length,\n",
        "                             output_dim = 128,\n",
        "                             input_length = max_length)\n",
        "embedding"
      ],
      "metadata": {
        "colab": {
          "base_uri": "https://localhost:8080/"
        },
        "id": "0oDGHaKJzvpF",
        "outputId": "5a671cea-52da-4d4c-8c9d-88162cb53c09"
      },
      "execution_count": 24,
      "outputs": [
        {
          "output_type": "execute_result",
          "data": {
            "text/plain": [
              "<keras.layers.embeddings.Embedding at 0x7f3e2d7651d0>"
            ]
          },
          "metadata": {},
          "execution_count": 24
        }
      ]
    },
    {
      "cell_type": "code",
      "source": [
        "import random"
      ],
      "metadata": {
        "id": "D-RWxxJ2JmCN"
      },
      "execution_count": 25,
      "outputs": []
    },
    {
      "cell_type": "code",
      "source": [
        "random_sentence = random.choice(X_train)"
      ],
      "metadata": {
        "id": "72x2OQ990Y2g"
      },
      "execution_count": 26,
      "outputs": []
    },
    {
      "cell_type": "code",
      "source": [
        "print(f'original sentence: {random_sentence}')\n",
        "print('embedded sentence: \\n')\n",
        "sampled_embed = embedding(text_vectorizer([random_sentence]))\n",
        "sampled_embed"
      ],
      "metadata": {
        "colab": {
          "base_uri": "https://localhost:8080/"
        },
        "id": "Eu4xK1L4J5pm",
        "outputId": "ec38e0cd-67a6-40c7-c8be-29b31884f7cf"
      },
      "execution_count": 27,
      "outputs": [
        {
          "output_type": "stream",
          "name": "stdout",
          "text": [
            "original sentence: European Fitba till Christmas  ARMAGEDDON\n",
            "embedded sentence: \n",
            "\n"
          ]
        },
        {
          "output_type": "execute_result",
          "data": {
            "text/plain": [
              "<tf.Tensor: shape=(1, 15, 128), dtype=float32, numpy=\n",
              "array([[[ 0.01383701,  0.03119907,  0.04768028, ..., -0.02517147,\n",
              "          0.04949797, -0.04548668],\n",
              "        [ 0.01383701,  0.03119907,  0.04768028, ..., -0.02517147,\n",
              "          0.04949797, -0.04548668],\n",
              "        [ 0.04535497,  0.03679568,  0.00134114, ...,  0.01035037,\n",
              "          0.02442044, -0.02157302],\n",
              "        ...,\n",
              "        [ 0.04935987,  0.04897379,  0.04793494, ..., -0.01913549,\n",
              "          0.02610569,  0.0373273 ],\n",
              "        [ 0.04935987,  0.04897379,  0.04793494, ..., -0.01913549,\n",
              "          0.02610569,  0.0373273 ],\n",
              "        [ 0.04935987,  0.04897379,  0.04793494, ..., -0.01913549,\n",
              "          0.02610569,  0.0373273 ]]], dtype=float32)>"
            ]
          },
          "metadata": {},
          "execution_count": 27
        }
      ]
    },
    {
      "cell_type": "code",
      "source": [
        "sampled_embed[0][0],sampled_embed[0][0].shape, random_sentence, text_vectorizer([random_sentence])"
      ],
      "metadata": {
        "colab": {
          "base_uri": "https://localhost:8080/"
        },
        "id": "O-J86ggw0ntd",
        "outputId": "ed20cf95-3c09-4548-ac8c-464c416b65dc"
      },
      "execution_count": 28,
      "outputs": [
        {
          "output_type": "execute_result",
          "data": {
            "text/plain": [
              "(<tf.Tensor: shape=(128,), dtype=float32, numpy=\n",
              " array([ 0.01383701,  0.03119907,  0.04768028, -0.0124943 ,  0.01745861,\n",
              "        -0.03849894, -0.00029136, -0.0144999 , -0.0292614 , -0.0165463 ,\n",
              "         0.04187385, -0.02468996, -0.01655411, -0.04088801,  0.00785475,\n",
              "         0.02605924, -0.00303196,  0.00825418, -0.03228737,  0.03974101,\n",
              "         0.00919332, -0.00609929,  0.01113145,  0.03242484,  0.02333131,\n",
              "         0.00464442, -0.01871241,  0.01792694,  0.02578655, -0.03825564,\n",
              "        -0.00181037, -0.0078031 ,  0.0065101 ,  0.01027864, -0.04877069,\n",
              "         0.00509499, -0.01112198,  0.0339738 , -0.01553364,  0.04964539,\n",
              "        -0.01392425, -0.02970059, -0.01035862, -0.03744185,  0.00081931,\n",
              "         0.01208103, -0.02768211,  0.02406133, -0.03232223, -0.00611378,\n",
              "        -0.00070164,  0.03792281,  0.02059597, -0.03198813,  0.04739946,\n",
              "        -0.0357471 , -0.02761414, -0.02791747,  0.03176472, -0.01610593,\n",
              "        -0.0023564 , -0.04161304,  0.01541504, -0.01674304,  0.00861664,\n",
              "        -0.00507227, -0.00623598,  0.03721548, -0.04115161, -0.04509431,\n",
              "         0.04962626,  0.00160019, -0.044366  , -0.0007581 ,  0.0082525 ,\n",
              "         0.00342043, -0.00762384, -0.04053692, -0.0121889 ,  0.02979172,\n",
              "        -0.02526474,  0.0356872 ,  0.03285689, -0.01108141, -0.00494033,\n",
              "        -0.00891529,  0.01608297, -0.01184858, -0.03657759, -0.00256165,\n",
              "        -0.04314703, -0.03970133,  0.02193976, -0.04656929, -0.00215756,\n",
              "        -0.01430915, -0.0150354 , -0.04406816,  0.00291665,  0.04277459,\n",
              "        -0.00684472,  0.02269853,  0.02577366,  0.02897021,  0.01284489,\n",
              "        -0.013792  , -0.01624556,  0.01623661,  0.0243664 , -0.00502266,\n",
              "        -0.00578394,  0.0297336 ,  0.00183814, -0.01155803, -0.00698911,\n",
              "        -0.04280417,  0.01984194, -0.0314493 , -0.01174998, -0.04530603,\n",
              "         0.04173991,  0.01405897,  0.01419674, -0.01675432, -0.04888476,\n",
              "        -0.02517147,  0.04949797, -0.04548668], dtype=float32)>,\n",
              " TensorShape([128]),\n",
              " 'European Fitba till Christmas  ARMAGEDDON',\n",
              " <tf.Tensor: shape=(1, 15), dtype=int64, numpy=\n",
              " array([[   1,    1,  998, 2236,  367,    0,    0,    0,    0,    0,    0,\n",
              "            0,    0,    0,    0]])>)"
            ]
          },
          "metadata": {},
          "execution_count": 28
        }
      ]
    },
    {
      "cell_type": "markdown",
      "source": [
        "# Modelling a text dataset\n",
        "* 0 - baseline - Naive Bayes with TF-ID encoder\n",
        "* 1 - feed-forwad neural network\n",
        "* 2 - LSTM (RNN)\n",
        "* 3 - GRU (RNN)\n",
        "* 4 - Bidirectional-LSTM(RNN)\n",
        "* 5 - 1D CNN\n",
        "* 6 - Tensorhub Pretrained Feature Extractor (Transfer learning)\n",
        "* 7 - Tensorhub Pretrained Feature Extract (10% of data)"
      ],
      "metadata": {
        "id": "G-QkXNVN1Kfp"
      }
    },
    {
      "cell_type": "markdown",
      "source": [
        "### Moel 0 : getting a baseline"
      ],
      "metadata": {
        "id": "kwKB36BN14Ps"
      }
    },
    {
      "cell_type": "code",
      "source": [
        "from sklearn.feature_extraction.text import TfidfVectorizer\n",
        "from sklearn.naive_bayes import MultinomialNB\n",
        "from sklearn.pipeline import Pipeline"
      ],
      "metadata": {
        "id": "bycQLseR2Rdy"
      },
      "execution_count": 29,
      "outputs": []
    },
    {
      "cell_type": "code",
      "source": [
        "model_0 = Pipeline([('tfidf',TfidfVectorizer()),\n",
        "                     ('clf',MultinomialNB())])"
      ],
      "metadata": {
        "id": "uLbdpyxF2jED"
      },
      "execution_count": 30,
      "outputs": []
    },
    {
      "cell_type": "code",
      "source": [
        "model_0.fit(X_train,y_train)"
      ],
      "metadata": {
        "colab": {
          "base_uri": "https://localhost:8080/"
        },
        "id": "3yi1hCwh2wxw",
        "outputId": "4754de40-6aac-44af-9f5a-2debd041cc50"
      },
      "execution_count": 31,
      "outputs": [
        {
          "output_type": "execute_result",
          "data": {
            "text/plain": [
              "Pipeline(steps=[('tfidf', TfidfVectorizer()), ('clf', MultinomialNB())])"
            ]
          },
          "metadata": {},
          "execution_count": 31
        }
      ]
    },
    {
      "cell_type": "code",
      "source": [
        "from sklearn.metrics import accuracy_score"
      ],
      "metadata": {
        "id": "vVGU536a24ah"
      },
      "execution_count": 32,
      "outputs": []
    },
    {
      "cell_type": "code",
      "source": [
        "baseline_score_train = model_0.score(X_train,y_train)\n",
        "baseline_score_val = model_0.score(X_val,y_val)\n",
        "baseline_score_train,baseline_score_val"
      ],
      "metadata": {
        "colab": {
          "base_uri": "https://localhost:8080/"
        },
        "id": "OsfspS0y2-_S",
        "outputId": "16056cde-8ce7-423c-db68-1fffefc4d204"
      },
      "execution_count": 33,
      "outputs": [
        {
          "output_type": "execute_result",
          "data": {
            "text/plain": [
              "(0.8891224382553863, 0.8014705882352942)"
            ]
          },
          "metadata": {},
          "execution_count": 33
        }
      ]
    },
    {
      "cell_type": "code",
      "source": [
        "from sklearn.metrics import accuracy_score, f1_score , precision_score, recall_score\n",
        "from sklearn.metrics import classification_report"
      ],
      "metadata": {
        "id": "2-8a2SP53pym"
      },
      "execution_count": 34,
      "outputs": []
    },
    {
      "cell_type": "code",
      "source": [
        "def evaluation_metrics(y_preds_train,\n",
        "                       y_preds_val,\n",
        "                       y_train,\n",
        "                       y_val):\n",
        "  \n",
        "  '''\n",
        "  Calculates model accuracy, precision, recall, f1 score of a binary classification model\n",
        "  '''\n",
        "\n",
        "\n",
        " # can use precision_recall_fscore_support \n",
        "\n",
        "  return {'accuracy_train':accuracy_score(y_train,y_preds_train),\n",
        "          'accuracy_val':accuracy_score(y_val,y_preds_val),\n",
        "          'precision_train':precision_score(y_train,y_preds_train),\n",
        "          'precision_val':precision_score(y_val,y_preds_val),\n",
        "          'recall_train':recall_score(y_train,y_preds_train),\n",
        "          'recall_val':recall_score(y_val,y_preds_val),\n",
        "          'f1_train':f1_score(y_train,y_preds_train,),\n",
        "          'f1_val':f1_score(y_val,y_preds_val)}"
      ],
      "metadata": {
        "id": "_T3OV-9m3MPe"
      },
      "execution_count": 35,
      "outputs": []
    },
    {
      "cell_type": "code",
      "source": [
        "y_pred_train = model_0.predict(X_train)\n",
        "y_pred_val = model_0.predict(X_val)\n",
        "baseline_results = evaluation_metrics(y_pred_train,y_pred_val,y_train,y_val)\n",
        "baseline_results"
      ],
      "metadata": {
        "colab": {
          "base_uri": "https://localhost:8080/"
        },
        "id": "S4dkDkTA4wDA",
        "outputId": "8471afdf-6d2d-4ed2-ab47-bd61387880ac"
      },
      "execution_count": 36,
      "outputs": [
        {
          "output_type": "execute_result",
          "data": {
            "text/plain": [
              "{'accuracy_train': 0.8891224382553863,\n",
              " 'accuracy_val': 0.8014705882352942,\n",
              " 'f1_train': 0.856690061127462,\n",
              " 'f1_val': 0.7330508474576272,\n",
              " 'precision_train': 0.9633401221995926,\n",
              " 'precision_val': 0.8678929765886287,\n",
              " 'recall_train': 0.7713004484304933,\n",
              " 'recall_val': 0.6344743276283619}"
            ]
          },
          "metadata": {},
          "execution_count": 36
        }
      ]
    },
    {
      "cell_type": "markdown",
      "source": [
        "### Model 1 : Feed-forward neural network (dense model)"
      ],
      "metadata": {
        "id": "ty1Nq6qQ6kAu"
      }
    },
    {
      "cell_type": "code",
      "source": [
        "# Create a tensorboard callback\n",
        "from helper_functions import create_tensorboard_callback\n",
        "\n",
        "#create a directory to save tensorboard logs\n",
        "SAVE_DIR = 'model_logs'"
      ],
      "metadata": {
        "id": "S8y5RPfw60u9"
      },
      "execution_count": 37,
      "outputs": []
    },
    {
      "cell_type": "code",
      "source": [
        "#build model with functional API\n",
        "from tensorflow.keras import layers\n",
        "inputs = layers.Input(shape =(1,), dtype=tf.string)\n",
        "x = text_vectorizer(inputs)\n",
        "x = embedding(x) # create an embedding of the numberized inputs\n",
        "x = layers.GlobalAveragePooling1D()(x) #condense the feature vector for each token to one vector\n",
        "outputs = layers.Dense(1, activation = 'sigmoid')(x)\n",
        "model_1 = tf.keras.Model(inputs,outputs,name = 'model_1_dense')"
      ],
      "metadata": {
        "id": "ruqtK7Cx69BA"
      },
      "execution_count": 38,
      "outputs": []
    },
    {
      "cell_type": "code",
      "source": [
        "model_1.summary()"
      ],
      "metadata": {
        "colab": {
          "base_uri": "https://localhost:8080/"
        },
        "id": "mdrF5m9M8tCU",
        "outputId": "ba5bbd67-2031-4926-f1cf-ee72cc8a9056"
      },
      "execution_count": 39,
      "outputs": [
        {
          "output_type": "stream",
          "name": "stdout",
          "text": [
            "Model: \"model_1_dense\"\n",
            "_________________________________________________________________\n",
            " Layer (type)                Output Shape              Param #   \n",
            "=================================================================\n",
            " input_1 (InputLayer)        [(None, 1)]               0         \n",
            "                                                                 \n",
            " text_vectorization_1 (TextV  (None, 15)               0         \n",
            " ectorization)                                                   \n",
            "                                                                 \n",
            " embedding (Embedding)       (None, 15, 128)           1280000   \n",
            "                                                                 \n",
            " global_average_pooling1d (G  (None, 128)              0         \n",
            " lobalAveragePooling1D)                                          \n",
            "                                                                 \n",
            " dense (Dense)               (None, 1)                 129       \n",
            "                                                                 \n",
            "=================================================================\n",
            "Total params: 1,280,129\n",
            "Trainable params: 1,280,129\n",
            "Non-trainable params: 0\n",
            "_________________________________________________________________\n"
          ]
        }
      ]
    },
    {
      "cell_type": "code",
      "source": [
        "model_1.summary()"
      ],
      "metadata": {
        "colab": {
          "base_uri": "https://localhost:8080/"
        },
        "id": "8GKmfywt7P4D",
        "outputId": "923dce92-c637-4158-c474-1703599d3f5b"
      },
      "execution_count": 40,
      "outputs": [
        {
          "output_type": "stream",
          "name": "stdout",
          "text": [
            "Model: \"model_1_dense\"\n",
            "_________________________________________________________________\n",
            " Layer (type)                Output Shape              Param #   \n",
            "=================================================================\n",
            " input_1 (InputLayer)        [(None, 1)]               0         \n",
            "                                                                 \n",
            " text_vectorization_1 (TextV  (None, 15)               0         \n",
            " ectorization)                                                   \n",
            "                                                                 \n",
            " embedding (Embedding)       (None, 15, 128)           1280000   \n",
            "                                                                 \n",
            " global_average_pooling1d (G  (None, 128)              0         \n",
            " lobalAveragePooling1D)                                          \n",
            "                                                                 \n",
            " dense (Dense)               (None, 1)                 129       \n",
            "                                                                 \n",
            "=================================================================\n",
            "Total params: 1,280,129\n",
            "Trainable params: 1,280,129\n",
            "Non-trainable params: 0\n",
            "_________________________________________________________________\n"
          ]
        }
      ]
    },
    {
      "cell_type": "code",
      "source": [
        "#Compile model\n",
        "model_1.compile(loss = tf.keras.losses.BinaryCrossentropy(),\n",
        "                optimizer = tf.keras.optimizers.Adam(),\n",
        "                metrics = ['accuracy'])"
      ],
      "metadata": {
        "id": "rMfzDPDS7eP5"
      },
      "execution_count": 41,
      "outputs": []
    },
    {
      "cell_type": "code",
      "source": [
        "model_1_history = model_1.fit(x=X_train,\n",
        "                              y=y_train,\n",
        "                              epochs = 5,\n",
        "                              validation_data = (X_val,y_val),\n",
        "                              callbacks = [create_tensorboard_callback(dir_name = SAVE_DIR,\n",
        "                                                                       experiment_name = 'model_1_dense')])"
      ],
      "metadata": {
        "colab": {
          "base_uri": "https://localhost:8080/"
        },
        "id": "XvjnHmpV7t-y",
        "outputId": "d658236a-fbfa-4dfa-ef85-66c84f776425"
      },
      "execution_count": 42,
      "outputs": [
        {
          "output_type": "stream",
          "name": "stdout",
          "text": [
            "Saving TensorBoard log files to: model_logs/model_1_dense/20220118-122833\n",
            "Epoch 1/5\n",
            "179/179 [==============================] - 4s 9ms/step - loss: 0.6279 - accuracy: 0.6786 - val_loss: 0.5502 - val_accuracy: 0.7484\n",
            "Epoch 2/5\n",
            "179/179 [==============================] - 1s 8ms/step - loss: 0.4642 - accuracy: 0.8101 - val_loss: 0.4649 - val_accuracy: 0.7962\n",
            "Epoch 3/5\n",
            "179/179 [==============================] - 1s 8ms/step - loss: 0.3614 - accuracy: 0.8572 - val_loss: 0.4423 - val_accuracy: 0.7962\n",
            "Epoch 4/5\n",
            "179/179 [==============================] - 1s 8ms/step - loss: 0.2933 - accuracy: 0.8889 - val_loss: 0.4386 - val_accuracy: 0.7941\n",
            "Epoch 5/5\n",
            "179/179 [==============================] - 1s 8ms/step - loss: 0.2421 - accuracy: 0.9131 - val_loss: 0.4505 - val_accuracy: 0.7925\n"
          ]
        }
      ]
    },
    {
      "cell_type": "code",
      "source": [
        "model_1.evaluate(X_val,y_val)"
      ],
      "metadata": {
        "colab": {
          "base_uri": "https://localhost:8080/"
        },
        "id": "OsdyK_rE8CEg",
        "outputId": "dc28477d-c072-4d18-d053-40657175cc0e"
      },
      "execution_count": 43,
      "outputs": [
        {
          "output_type": "stream",
          "name": "stdout",
          "text": [
            "60/60 [==============================] - 0s 4ms/step - loss: 0.4505 - accuracy: 0.7925\n"
          ]
        },
        {
          "output_type": "execute_result",
          "data": {
            "text/plain": [
              "[0.4504808485507965, 0.792542040348053]"
            ]
          },
          "metadata": {},
          "execution_count": 43
        }
      ]
    },
    {
      "cell_type": "code",
      "source": [
        "plot_loss_curves(model_1_history)"
      ],
      "metadata": {
        "colab": {
          "base_uri": "https://localhost:8080/",
          "height": 573
        },
        "id": "AhpRSTYOfJll",
        "outputId": "01b7ecb4-f863-4095-d3e1-b7614b5add83"
      },
      "execution_count": 44,
      "outputs": [
        {
          "output_type": "display_data",
          "data": {
            "image/png": "[encoded data removed]",
            "text/plain": [
              "<Figure size 432x288 with 1 Axes>"
            ]
          },
          "metadata": {
            "needs_background": "light"
          }
        },
        {
          "output_type": "display_data",
          "data": {
            "image/png": "[encoded data removed]",
            "text/plain": [
              "<Figure size 432x288 with 1 Axes>"
            ]
          },
          "metadata": {
            "needs_background": "light"
          }
        }
      ]
    },
    {
      "cell_type": "code",
      "source": [
        "model_1_pred_probs = model_1.predict(X_val)\n",
        "model_1_pred_probs.shape"
      ],
      "metadata": {
        "colab": {
          "base_uri": "https://localhost:8080/"
        },
        "id": "tZ6MoDpR8N1U",
        "outputId": "26fcc828-f612-430d-800a-2fecd053f939"
      },
      "execution_count": 45,
      "outputs": [
        {
          "output_type": "execute_result",
          "data": {
            "text/plain": [
              "(1904, 1)"
            ]
          },
          "metadata": {},
          "execution_count": 45
        }
      ]
    },
    {
      "cell_type": "code",
      "source": [
        "model_1_pred_probs[0]"
      ],
      "metadata": {
        "colab": {
          "base_uri": "https://localhost:8080/"
        },
        "id": "fYXl1PHz8XNz",
        "outputId": "4de46b97-d9c2-475e-fbe8-25d14b3e6a52"
      },
      "execution_count": 46,
      "outputs": [
        {
          "output_type": "execute_result",
          "data": {
            "text/plain": [
              "array([0.01585345], dtype=float32)"
            ]
          },
          "metadata": {},
          "execution_count": 46
        }
      ]
    },
    {
      "cell_type": "code",
      "source": [
        "model_1.compile(loss = tf.keras.losses.BinaryCrossentropy(),\n",
        "                optimizer = tf.keras.optimizers.Adam(),\n",
        "                metrics = ['accuracy'])\n",
        "\n",
        "model_1_corrected_history = model_1.fit(x=X_train,\n",
        "                                        y=y_train,\n",
        "                                        epochs = 5,\n",
        "                                        validation_data = (X_val,y_val),\n",
        "                                        callbacks = [create_tensorboard_callback(dir_name = SAVE_DIR,\n",
        "                                                                                experiment_name = 'model_1_dense_corrected')])"
      ],
      "metadata": {
        "id": "HGsT6S0z8czm",
        "colab": {
          "base_uri": "https://localhost:8080/"
        },
        "outputId": "cdbf74b4-7383-434c-b009-e554b9ff9652"
      },
      "execution_count": 47,
      "outputs": [
        {
          "output_type": "stream",
          "name": "stdout",
          "text": [
            "Saving TensorBoard log files to: model_logs/model_1_dense_corrected/20220118-122845\n",
            "Epoch 1/5\n",
            "179/179 [==============================] - 2s 9ms/step - loss: 0.2019 - accuracy: 0.9263 - val_loss: 0.4695 - val_accuracy: 0.7925\n",
            "Epoch 2/5\n",
            "179/179 [==============================] - 1s 7ms/step - loss: 0.1701 - accuracy: 0.9373 - val_loss: 0.4949 - val_accuracy: 0.7910\n",
            "Epoch 3/5\n",
            "179/179 [==============================] - 1s 8ms/step - loss: 0.1441 - accuracy: 0.9496 - val_loss: 0.5256 - val_accuracy: 0.7836\n",
            "Epoch 4/5\n",
            "179/179 [==============================] - 1s 8ms/step - loss: 0.1238 - accuracy: 0.9573 - val_loss: 0.5584 - val_accuracy: 0.7721\n",
            "Epoch 5/5\n",
            "179/179 [==============================] - 1s 7ms/step - loss: 0.1080 - accuracy: 0.9625 - val_loss: 0.5866 - val_accuracy: 0.7805\n"
          ]
        }
      ]
    },
    {
      "cell_type": "code",
      "source": [
        "model_1.evaluate(X_val,y_val)"
      ],
      "metadata": {
        "colab": {
          "base_uri": "https://localhost:8080/"
        },
        "id": "lBT63Xqa801r",
        "outputId": "d253f2b1-cd60-4c09-bbe2-37298620ce7b"
      },
      "execution_count": 48,
      "outputs": [
        {
          "output_type": "stream",
          "name": "stdout",
          "text": [
            "60/60 [==============================] - 0s 4ms/step - loss: 0.5866 - accuracy: 0.7805\n"
          ]
        },
        {
          "output_type": "execute_result",
          "data": {
            "text/plain": [
              "[0.5865947008132935, 0.7804622054100037]"
            ]
          },
          "metadata": {},
          "execution_count": 48
        }
      ]
    },
    {
      "cell_type": "code",
      "source": [
        "plot_loss_curves(model_1_corrected_history)"
      ],
      "metadata": {
        "colab": {
          "base_uri": "https://localhost:8080/",
          "height": 573
        },
        "id": "MA7PYorG9D_g",
        "outputId": "bc975a29-4af9-43f8-d914-d9661b092aa5"
      },
      "execution_count": 49,
      "outputs": [
        {
          "output_type": "display_data",
          "data": {
            "image/png": "[encoded data removed]",
            "text/plain": [
              "<Figure size 432x288 with 1 Axes>"
            ]
          },
          "metadata": {
            "needs_background": "light"
          }
        },
        {
          "output_type": "display_data",
          "data": {
            "image/png": "[encoded data removed]",
            "text/plain": [
              "<Figure size 432x288 with 1 Axes>"
            ]
          },
          "metadata": {
            "needs_background": "light"
          }
        }
      ]
    },
    {
      "cell_type": "code",
      "source": [
        "model_1_pred_probs_val = model_1.predict(X_val)\n",
        "model_1_pred_probs_train = model_1.predict(X_train)"
      ],
      "metadata": {
        "id": "hnwvN_KA9LDt"
      },
      "execution_count": 50,
      "outputs": []
    },
    {
      "cell_type": "code",
      "source": [
        "import numpy as np\n",
        "model_1_preds_val = tf.cast(tf.squeeze(tf.round(model_1_pred_probs_val)), dtype = tf.int16)\n",
        "model_1_preds_train = tf.cast(tf.squeeze(tf.round(model_1_pred_probs_train)), dtype = tf.int16)\n",
        "model_1_preds_val,model_1_preds_train"
      ],
      "metadata": {
        "id": "2NZDtr_29Z0P",
        "colab": {
          "base_uri": "https://localhost:8080/"
        },
        "outputId": "d1da8a0d-c961-46a9-ea32-c2e6d809377a"
      },
      "execution_count": 51,
      "outputs": [
        {
          "output_type": "execute_result",
          "data": {
            "text/plain": [
              "(<tf.Tensor: shape=(1904,), dtype=int16, numpy=array([0, 1, 0, ..., 1, 0, 0], dtype=int16)>,\n",
              " <tf.Tensor: shape=(5709,), dtype=int16, numpy=array([1, 0, 0, ..., 1, 0, 0], dtype=int16)>)"
            ]
          },
          "metadata": {},
          "execution_count": 51
        }
      ]
    },
    {
      "cell_type": "code",
      "source": [
        "model_1_results = evaluation_metrics(model_1_preds_train,\n",
        "                                     model_1_preds_val,\n",
        "                                     y_train,\n",
        "                                     y_val)"
      ],
      "metadata": {
        "id": "ajtzVARE9cLC"
      },
      "execution_count": 52,
      "outputs": []
    },
    {
      "cell_type": "code",
      "source": [
        "model_1_results"
      ],
      "metadata": {
        "id": "BYYSvNZe_aAK",
        "colab": {
          "base_uri": "https://localhost:8080/"
        },
        "outputId": "b3acf14c-f4c1-4d46-e599-d9d297d686e0"
      },
      "execution_count": 53,
      "outputs": [
        {
          "output_type": "execute_result",
          "data": {
            "text/plain": [
              "{'accuracy_train': 0.9716237519705728,\n",
              " 'accuracy_val': 0.7804621848739496,\n",
              " 'f1_train': 0.9665979381443299,\n",
              " 'f1_val': 0.7374371859296482,\n",
              " 'precision_train': 0.9778890279516061,\n",
              " 'precision_val': 0.7583979328165374,\n",
              " 'recall_train': 0.9555646147574399,\n",
              " 'recall_val': 0.71760391198044}"
            ]
          },
          "metadata": {},
          "execution_count": 53
        }
      ]
    },
    {
      "cell_type": "code",
      "source": [
        "baseline_results"
      ],
      "metadata": {
        "id": "KrX46xuF_eBL",
        "colab": {
          "base_uri": "https://localhost:8080/"
        },
        "outputId": "9fe5c18c-4804-40bb-cb78-ac110273d76b"
      },
      "execution_count": 54,
      "outputs": [
        {
          "output_type": "execute_result",
          "data": {
            "text/plain": [
              "{'accuracy_train': 0.8891224382553863,\n",
              " 'accuracy_val': 0.8014705882352942,\n",
              " 'f1_train': 0.856690061127462,\n",
              " 'f1_val': 0.7330508474576272,\n",
              " 'precision_train': 0.9633401221995926,\n",
              " 'precision_val': 0.8678929765886287,\n",
              " 'recall_train': 0.7713004484304933,\n",
              " 'recall_val': 0.6344743276283619}"
            ]
          },
          "metadata": {},
          "execution_count": 54
        }
      ]
    },
    {
      "cell_type": "code",
      "source": [
        "np.array(list(model_1_results.values())) >np.array(list(baseline_results.values()))"
      ],
      "metadata": {
        "id": "fOplYs85_m0J",
        "colab": {
          "base_uri": "https://localhost:8080/"
        },
        "outputId": "45aba84b-72f1-48a5-8f42-37d8aca380d3"
      },
      "execution_count": 55,
      "outputs": [
        {
          "output_type": "execute_result",
          "data": {
            "text/plain": [
              "array([ True, False,  True, False,  True,  True,  True,  True])"
            ]
          },
          "metadata": {},
          "execution_count": 55
        }
      ]
    },
    {
      "cell_type": "code",
      "source": [
        "words_in_vocab = text_vectorizer.get_vocabulary()"
      ],
      "metadata": {
        "id": "a64ha4pbsl-d"
      },
      "execution_count": 56,
      "outputs": []
    },
    {
      "cell_type": "code",
      "source": [
        "len(words_in_vocab), words_in_vocab[:10]"
      ],
      "metadata": {
        "colab": {
          "base_uri": "https://localhost:8080/"
        },
        "id": "ZcpNzi9Ut3pw",
        "outputId": "12305e50-61eb-41e3-e9cc-7909f0ccadbc"
      },
      "execution_count": 57,
      "outputs": [
        {
          "output_type": "execute_result",
          "data": {
            "text/plain": [
              "(10000, ['', '[UNK]', 'the', 'a', 'to', 'in', 'of', 'and', 'i', 'is'])"
            ]
          },
          "metadata": {},
          "execution_count": 57
        }
      ]
    },
    {
      "cell_type": "code",
      "source": [
        "# Model 1 summary\n",
        "model_1.summary()"
      ],
      "metadata": {
        "colab": {
          "base_uri": "https://localhost:8080/"
        },
        "id": "pOHAh1Eot-tN",
        "outputId": "3df572a0-d3ad-4776-8d1a-01e24f4732dd"
      },
      "execution_count": 58,
      "outputs": [
        {
          "output_type": "stream",
          "name": "stdout",
          "text": [
            "Model: \"model_1_dense\"\n",
            "_________________________________________________________________\n",
            " Layer (type)                Output Shape              Param #   \n",
            "=================================================================\n",
            " input_1 (InputLayer)        [(None, 1)]               0         \n",
            "                                                                 \n",
            " text_vectorization_1 (TextV  (None, 15)               0         \n",
            " ectorization)                                                   \n",
            "                                                                 \n",
            " embedding (Embedding)       (None, 15, 128)           1280000   \n",
            "                                                                 \n",
            " global_average_pooling1d (G  (None, 128)              0         \n",
            " lobalAveragePooling1D)                                          \n",
            "                                                                 \n",
            " dense (Dense)               (None, 1)                 129       \n",
            "                                                                 \n",
            "=================================================================\n",
            "Total params: 1,280,129\n",
            "Trainable params: 1,280,129\n",
            "Non-trainable params: 0\n",
            "_________________________________________________________________\n"
          ]
        }
      ]
    },
    {
      "cell_type": "code",
      "source": [
        "#Get the weight matrix of embedding layer\n",
        "# These are the numerical representation of each token in our training data \n",
        "embedded_weight = model_1.get_layer('embedding').get_weights()[0]"
      ],
      "metadata": {
        "id": "rjabzQCpuK2b"
      },
      "execution_count": 60,
      "outputs": []
    },
    {
      "cell_type": "code",
      "source": [
        "model_1.summary()"
      ],
      "metadata": {
        "colab": {
          "base_uri": "https://localhost:8080/"
        },
        "id": "LZmSnA-4uSOG",
        "outputId": "d0bdec1c-ce17-471d-8752-b3b81150b0a5"
      },
      "execution_count": 61,
      "outputs": [
        {
          "output_type": "stream",
          "name": "stdout",
          "text": [
            "Model: \"model_1_dense\"\n",
            "_________________________________________________________________\n",
            " Layer (type)                Output Shape              Param #   \n",
            "=================================================================\n",
            " input_1 (InputLayer)        [(None, 1)]               0         \n",
            "                                                                 \n",
            " text_vectorization_1 (TextV  (None, 15)               0         \n",
            " ectorization)                                                   \n",
            "                                                                 \n",
            " embedding (Embedding)       (None, 15, 128)           1280000   \n",
            "                                                                 \n",
            " global_average_pooling1d (G  (None, 128)              0         \n",
            " lobalAveragePooling1D)                                          \n",
            "                                                                 \n",
            " dense (Dense)               (None, 1)                 129       \n",
            "                                                                 \n",
            "=================================================================\n",
            "Total params: 1,280,129\n",
            "Trainable params: 1,280,129\n",
            "Non-trainable params: 0\n",
            "_________________________________________________________________\n"
          ]
        }
      ]
    },
    {
      "cell_type": "code",
      "source": [
        "embedded_weight.shape"
      ],
      "metadata": {
        "colab": {
          "base_uri": "https://localhost:8080/"
        },
        "id": "ukngRnX_uTo6",
        "outputId": "d6f35593-c7b4-4b46-df80-14625f50bb97"
      },
      "execution_count": 62,
      "outputs": [
        {
          "output_type": "execute_result",
          "data": {
            "text/plain": [
              "(10000, 128)"
            ]
          },
          "metadata": {},
          "execution_count": 62
        }
      ]
    },
    {
      "cell_type": "markdown",
      "source": [
        "## Visualizing word embeddings\n",
        "https://projector.tensorflow.org/\n",
        "\n"
      ],
      "metadata": {
        "id": "LEUgp6_CugWN"
      }
    },
    {
      "cell_type": "code",
      "source": [
        "import io\n",
        "out_v = io.open('vectors.tsv', 'w', encoding='utf-8')\n",
        "out_m = io.open('metadata.tsv', 'w', encoding='utf-8')\n",
        "\n",
        "for index, word in enumerate(words_in_vocab):\n",
        "  if index == 0:\n",
        "    continue  # skip 0, it's padding.\n",
        "  vec = embedded_weight[index]\n",
        "  out_v.write('\\t'.join([str(x) for x in vec]) + \"\\n\")\n",
        "  out_m.write(word + \"\\n\")\n",
        "out_v.close()\n",
        "out_m.close()\n"
      ],
      "metadata": {
        "id": "TprrxyIKvGrO"
      },
      "execution_count": 63,
      "outputs": []
    },
    {
      "cell_type": "code",
      "source": [
        "# try:\n",
        "#   from google.colab import files\n",
        "#   files.download('vectors.tsv')\n",
        "#   files.download('metadata.tsv')\n",
        "# except Exception:\n",
        "#   pass\n"
      ],
      "metadata": {
        "id": "e-IQI4Hjv2SW"
      },
      "execution_count": 64,
      "outputs": []
    },
    {
      "cell_type": "markdown",
      "source": [
        "## Recurrent Neural Network\n",
        "\n",
        "RNN's are useful for sequence data\n",
        "\n",
        "The premise of a recurrent network is to learn the representation of a previous input to aid the representation of a later input"
      ],
      "metadata": {
        "id": "IWslovDbwJ4c"
      }
    },
    {
      "cell_type": "markdown",
      "source": [
        "![image.png](data:image/png;base64,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)"
      ],
      "metadata": {
        "id": "btZ3GJBfyZwO"
      }
    },
    {
      "cell_type": "markdown",
      "source": [
        "##Model 2 - LSTM - Long short term memory\n",
        "\n",
        "Typical RNN structure\n",
        "\n",
        "Inputer(text) ->Tokenize->Embedding ->Layer(RNN/Dense) -> Ouput"
      ],
      "metadata": {
        "id": "uA9tKAJnyKSY"
      }
    },
    {
      "cell_type": "code",
      "source": [
        "from tensorflow.keras import layers\n",
        "\n",
        "inputs = layers.Input(shape=(1,), dtype = tf.string)\n",
        "x = text_vectorizer(inputs)\n",
        "x = embedding(x)\n",
        "# print(x.shape)\n",
        "# x = layers.LSTM(units = 64, return_sequences=True)(x) #when you're stacking RNN cells , you need to return_sequences = True\n",
        "# print(x.shape)\n",
        "x = layers.LSTM(units = 64)(x)\n",
        "# print(x.shape)\n",
        "x = layers.Dense(64, activation = 'relu')(x)\n",
        "outputs = layers.Dense(1 , activation = 'sigmoid')(x)\n",
        "model_2 = tf.keras.Model(inputs,outputs , name = 'model_2_LSTM')\n"
      ],
      "metadata": {
        "id": "wXyBMqXnzoOJ"
      },
      "execution_count": 65,
      "outputs": []
    },
    {
      "cell_type": "code",
      "source": [
        "model_2.summary()"
      ],
      "metadata": {
        "colab": {
          "base_uri": "https://localhost:8080/"
        },
        "id": "NHWOvU_e0REk",
        "outputId": "246ae38b-0cff-47aa-b4d7-54b83c968c4d"
      },
      "execution_count": 66,
      "outputs": [
        {
          "output_type": "stream",
          "name": "stdout",
          "text": [
            "Model: \"model_2_LSTM\"\n",
            "_________________________________________________________________\n",
            " Layer (type)                Output Shape              Param #   \n",
            "=================================================================\n",
            " input_2 (InputLayer)        [(None, 1)]               0         \n",
            "                                                                 \n",
            " text_vectorization_1 (TextV  (None, 15)               0         \n",
            " ectorization)                                                   \n",
            "                                                                 \n",
            " embedding (Embedding)       (None, 15, 128)           1280000   \n",
            "                                                                 \n",
            " lstm (LSTM)                 (None, 64)                49408     \n",
            "                                                                 \n",
            " dense_1 (Dense)             (None, 64)                4160      \n",
            "                                                                 \n",
            " dense_2 (Dense)             (None, 1)                 65        \n",
            "                                                                 \n",
            "=================================================================\n",
            "Total params: 1,333,633\n",
            "Trainable params: 1,333,633\n",
            "Non-trainable params: 0\n",
            "_________________________________________________________________\n"
          ]
        }
      ]
    },
    {
      "cell_type": "code",
      "source": [
        "#compile the model\n",
        "model_2.compile(loss = tf.keras.losses.BinaryCrossentropy(),\n",
        "                optimizer = tf.keras.optimizers.Adam(),\n",
        "                metrics = ['accuracy'])"
      ],
      "metadata": {
        "id": "rLsCiDp12Fmg"
      },
      "execution_count": 67,
      "outputs": []
    },
    {
      "cell_type": "code",
      "source": [
        "model_2_history = model_2.fit(X_train,\n",
        "                              y_train,\n",
        "                              epochs = 5,\n",
        "                              validation_data = (X_val,y_val),\n",
        "                              callbacks = [create_tensorboard_callback(SAVE_DIR,\n",
        "                                                                       'model_2_lstm')])"
      ],
      "metadata": {
        "colab": {
          "base_uri": "https://localhost:8080/"
        },
        "id": "9SHTY8Qx2Pw1",
        "outputId": "0d2f9010-ac7c-4544-c285-907149998a39"
      },
      "execution_count": 68,
      "outputs": [
        {
          "output_type": "stream",
          "name": "stdout",
          "text": [
            "Saving TensorBoard log files to: model_logs/model_2_lstm/20220118-122917\n",
            "Epoch 1/5\n",
            "179/179 [==============================] - 7s 15ms/step - loss: 0.1498 - accuracy: 0.9581 - val_loss: 0.7031 - val_accuracy: 0.7752\n",
            "Epoch 2/5\n",
            "179/179 [==============================] - 2s 11ms/step - loss: 0.0810 - accuracy: 0.9688 - val_loss: 0.7328 - val_accuracy: 0.7705\n",
            "Epoch 3/5\n",
            "179/179 [==============================] - 2s 11ms/step - loss: 0.0710 - accuracy: 0.9713 - val_loss: 0.8173 - val_accuracy: 0.7652\n",
            "Epoch 4/5\n",
            "179/179 [==============================] - 2s 12ms/step - loss: 0.0626 - accuracy: 0.9737 - val_loss: 1.1124 - val_accuracy: 0.7642\n",
            "Epoch 5/5\n",
            "179/179 [==============================] - 2s 12ms/step - loss: 0.0551 - accuracy: 0.9762 - val_loss: 1.0131 - val_accuracy: 0.7589\n"
          ]
        }
      ]
    },
    {
      "cell_type": "code",
      "source": [
        "model_2_pred_probs_val = tf.squeeze(tf.round(model_2.predict(X_val)))"
      ],
      "metadata": {
        "id": "wp7Jqp8f2iEx"
      },
      "execution_count": 69,
      "outputs": []
    },
    {
      "cell_type": "code",
      "source": [
        "model_2_pred_probs_train = tf.squeeze(tf.round(model_2.predict(X_train)))"
      ],
      "metadata": {
        "id": "IipU0EuY23py"
      },
      "execution_count": 70,
      "outputs": []
    },
    {
      "cell_type": "code",
      "source": [
        "model_2_pred_probs_train[:10]"
      ],
      "metadata": {
        "colab": {
          "base_uri": "https://localhost:8080/"
        },
        "id": "YG6CePMQ2o-O",
        "outputId": "963e49f1-6318-41f1-fc88-8966a65b9128"
      },
      "execution_count": 71,
      "outputs": [
        {
          "output_type": "execute_result",
          "data": {
            "text/plain": [
              "<tf.Tensor: shape=(10,), dtype=float32, numpy=array([1., 0., 0., 0., 0., 1., 0., 0., 1., 0.], dtype=float32)>"
            ]
          },
          "metadata": {},
          "execution_count": 71
        }
      ]
    },
    {
      "cell_type": "code",
      "source": [
        "model_2_results = evaluation_metrics(model_2_pred_probs_train,\n",
        "                                     model_2_pred_probs_val,\n",
        "                                     y_train, y_val)"
      ],
      "metadata": {
        "id": "F1JueCgZ2qwN"
      },
      "execution_count": 72,
      "outputs": []
    },
    {
      "cell_type": "code",
      "source": [
        "model_2_results"
      ],
      "metadata": {
        "colab": {
          "base_uri": "https://localhost:8080/"
        },
        "id": "EGAfG8Qk3Bm6",
        "outputId": "790b5e77-6ebc-44e6-bb68-08d8e2b87a64"
      },
      "execution_count": 73,
      "outputs": [
        {
          "output_type": "execute_result",
          "data": {
            "text/plain": [
              "{'accuracy_train': 0.9807321772639692,\n",
              " 'accuracy_val': 0.7589285714285714,\n",
              " 'f1_train': 0.977319587628866,\n",
              " 'f1_val': 0.7161410018552876,\n",
              " 'precision_train': 0.9887359198998749,\n",
              " 'precision_val': 0.7246558197747184,\n",
              " 'recall_train': 0.9661638809620873,\n",
              " 'recall_val': 0.7078239608801956}"
            ]
          },
          "metadata": {},
          "execution_count": 73
        }
      ]
    },
    {
      "cell_type": "code",
      "source": [
        "baseline_results"
      ],
      "metadata": {
        "colab": {
          "base_uri": "https://localhost:8080/"
        },
        "id": "e2j-6pNR3XBy",
        "outputId": "f99c792f-bf58-4890-e137-e8e75f8f91db"
      },
      "execution_count": 74,
      "outputs": [
        {
          "output_type": "execute_result",
          "data": {
            "text/plain": [
              "{'accuracy_train': 0.8891224382553863,\n",
              " 'accuracy_val': 0.8014705882352942,\n",
              " 'f1_train': 0.856690061127462,\n",
              " 'f1_val': 0.7330508474576272,\n",
              " 'precision_train': 0.9633401221995926,\n",
              " 'precision_val': 0.8678929765886287,\n",
              " 'recall_train': 0.7713004484304933,\n",
              " 'recall_val': 0.6344743276283619}"
            ]
          },
          "metadata": {},
          "execution_count": 74
        }
      ]
    },
    {
      "cell_type": "markdown",
      "source": [
        "## Model 3: GRU - gated recurrent unit\n",
        "\n",
        "- similar to LSTM"
      ],
      "metadata": {
        "id": "Td99jDOo4Xqg"
      }
    },
    {
      "cell_type": "code",
      "source": [
        "from tensorflow.keras import layers\n",
        "\n",
        "inputs = layers.Input(shape=(1,), dtype = tf.string)\n",
        "x = text_vectorizer(inputs)\n",
        "x = embedding(x)\n",
        "# print(x.shape)\n",
        "# x = layers.LSTM(units = 64, return_sequences=True)(x) #when you're stacking RNN cells , you need to return_sequences = True\n",
        "# print(x.shape)\n",
        "x = layers.GRU(units = 64)(x)\n",
        "# print(x.shape)\n",
        "x = layers.Dense(64, activation = 'relu')(x)\n",
        "outputs = layers.Dense(1 , activation = 'sigmoid')(x)\n",
        "model_3 = tf.keras.Model(inputs,outputs , name = 'model_2_LSTM')\n"
      ],
      "metadata": {
        "id": "DKCoaO2m3YnD"
      },
      "execution_count": 75,
      "outputs": []
    },
    {
      "cell_type": "code",
      "source": [
        "model_3.compile(loss = tf.keras.losses.BinaryCrossentropy(),\n",
        "                optimizer = tf.keras.optimizers.Adam(),\n",
        "                metrics = ['accuracy'])"
      ],
      "metadata": {
        "id": "bgefRsJO32ko"
      },
      "execution_count": 76,
      "outputs": []
    },
    {
      "cell_type": "code",
      "source": [
        "model_3_history = model_3.fit(X_train,\n",
        "                              y_train,\n",
        "                              epochs = 5,\n",
        "                              validation_data = (X_val,y_val),\n",
        "                              callbacks = [create_tensorboard_callback(SAVE_DIR,\n",
        "                                                                       'model_3_GRU')])"
      ],
      "metadata": {
        "colab": {
          "base_uri": "https://localhost:8080/"
        },
        "id": "2_fx8UhQ3tNO",
        "outputId": "cbaac5b8-a591-4598-db52-516feee0c2b5"
      },
      "execution_count": 77,
      "outputs": [
        {
          "output_type": "stream",
          "name": "stdout",
          "text": [
            "Saving TensorBoard log files to: model_logs/model_3_GRU/20220118-122934\n",
            "Epoch 1/5\n",
            "179/179 [==============================] - 5s 16ms/step - loss: 0.1308 - accuracy: 0.9459 - val_loss: 0.8103 - val_accuracy: 0.7642\n",
            "Epoch 2/5\n",
            "179/179 [==============================] - 2s 11ms/step - loss: 0.0579 - accuracy: 0.9786 - val_loss: 0.9668 - val_accuracy: 0.7516\n",
            "Epoch 3/5\n",
            "179/179 [==============================] - 2s 11ms/step - loss: 0.0544 - accuracy: 0.9785 - val_loss: 0.8100 - val_accuracy: 0.7710\n",
            "Epoch 4/5\n",
            "179/179 [==============================] - 2s 11ms/step - loss: 0.0469 - accuracy: 0.9795 - val_loss: 0.9924 - val_accuracy: 0.7579\n",
            "Epoch 5/5\n",
            "179/179 [==============================] - 2s 12ms/step - loss: 0.0446 - accuracy: 0.9772 - val_loss: 1.2598 - val_accuracy: 0.7463\n"
          ]
        }
      ]
    },
    {
      "cell_type": "code",
      "source": [
        "model_3_pred_probs_val = tf.squeeze(tf.round(model_3.predict(X_val)))\n",
        "model_3_pred_probs_train = tf.squeeze(tf.round(model_3.predict(X_train)))"
      ],
      "metadata": {
        "id": "9PPDphNl3_Ge"
      },
      "execution_count": 78,
      "outputs": []
    },
    {
      "cell_type": "code",
      "source": [
        "model_3_results = evaluation_metrics(model_3_pred_probs_train,\n",
        "                                     model_3_pred_probs_val,\n",
        "                                     y_train, y_val)"
      ],
      "metadata": {
        "id": "tMh6226I375K"
      },
      "execution_count": 79,
      "outputs": []
    },
    {
      "cell_type": "code",
      "source": [
        "np.array(list(model_3_results.values())) >np.array(list(baseline_results.values()))"
      ],
      "metadata": {
        "colab": {
          "base_uri": "https://localhost:8080/"
        },
        "id": "GpqAbk9v4IIO",
        "outputId": "2e0e6831-4d7a-4c42-f560-b0890a1071c3"
      },
      "execution_count": 80,
      "outputs": [
        {
          "output_type": "execute_result",
          "data": {
            "text/plain": [
              "array([ True, False,  True, False,  True,  True,  True, False])"
            ]
          },
          "metadata": {},
          "execution_count": 80
        }
      ]
    },
    {
      "cell_type": "code",
      "source": [
        "#encoder\n",
        "import tensorflow_hub as hub\n",
        "embed = hub.load('https://tfhub.dev/google/universal-sentence-encoder/4')\n",
        "embed_samples = embed([sample_sentence,'When you can the universal sentence encoder on a sentence, it turns it into numbers'])\n",
        "print(embed_samples[0][:50])"
      ],
      "metadata": {
        "id": "dvFUYuLW4RUD",
        "colab": {
          "base_uri": "https://localhost:8080/"
        },
        "outputId": "5fc8abd4-b1bf-457a-aa9c-c453b72bfd91"
      },
      "execution_count": 81,
      "outputs": [
        {
          "output_type": "stream",
          "name": "stdout",
          "text": [
            "tf.Tensor(\n",
            "[-0.01157024  0.0248591   0.0287805  -0.01271502  0.03971543  0.08827759\n",
            "  0.02680986  0.05589837 -0.01068731 -0.0059729   0.00639324 -0.01819523\n",
            "  0.00030817  0.09105891  0.05874644 -0.03180627  0.01512476 -0.05162928\n",
            "  0.00991369 -0.06865346 -0.04209306  0.0267898   0.03011008  0.00321069\n",
            " -0.00337969 -0.04787359  0.02266718 -0.00985924 -0.04063614 -0.01292095\n",
            " -0.04666384  0.056303   -0.03949255  0.00517685  0.02495828 -0.07014439\n",
            "  0.02871508  0.04947682 -0.00633971 -0.08960191  0.02807117 -0.00808362\n",
            " -0.01360601  0.05998649 -0.10361786 -0.05195372  0.00232955 -0.02332528\n",
            " -0.03758105  0.0332773 ], shape=(50,), dtype=float32)\n"
          ]
        }
      ]
    },
    {
      "cell_type": "code",
      "source": [
        "sample_sentence"
      ],
      "metadata": {
        "colab": {
          "base_uri": "https://localhost:8080/",
          "height": 36
        },
        "id": "dFGUdkwUJUSW",
        "outputId": "1eb27061-48ea-49c4-bb48-02feb65b2e49"
      },
      "execution_count": 82,
      "outputs": [
        {
          "output_type": "execute_result",
          "data": {
            "application/vnd.google.colaboratory.intrinsic+json": {
              "type": "string"
            },
            "text/plain": [
              "\"There's a flood in my street!\""
            ]
          },
          "metadata": {},
          "execution_count": 82
        }
      ]
    },
    {
      "cell_type": "code",
      "source": [
        "embed_samples[0].shape"
      ],
      "metadata": {
        "colab": {
          "base_uri": "https://localhost:8080/"
        },
        "id": "hF11mWc9LOOr",
        "outputId": "73f48a0f-4192-4f89-fb0a-3c677326f087"
      },
      "execution_count": 83,
      "outputs": [
        {
          "output_type": "execute_result",
          "data": {
            "text/plain": [
              "TensorShape([512])"
            ]
          },
          "metadata": {},
          "execution_count": 83
        }
      ]
    },
    {
      "cell_type": "code",
      "source": [
        "#Create a Keras Layer using the USE pretrained layer from tensorflow hub\n",
        "sentence_encoder_layer = hub.KerasLayer('https://tfhub.dev/google/universal-sentence-encoder/4',\n",
        "                                        input_shape = [],\n",
        "                                        dtype = tf.string,\n",
        "                                        trainable = False,\n",
        "                                        name = 'USE'\n",
        "                                        )"
      ],
      "metadata": {
        "id": "syn_5N-bLTtX"
      },
      "execution_count": 84,
      "outputs": []
    },
    {
      "cell_type": "code",
      "source": [
        "#Create model using the Sequential API\n",
        "model_6 = tf.keras.Sequential(\n",
        "    [sentence_encoder_layer,\n",
        "    layers.Dense(64, activation = 'relu'),\n",
        "    layers.Dense(1, activation = 'sigmoid')\n",
        "    ],name = 'model_6_USE'\n",
        ")"
      ],
      "metadata": {
        "id": "CqZ_xH1jMCjG"
      },
      "execution_count": 85,
      "outputs": []
    },
    {
      "cell_type": "code",
      "source": [
        "model_6.compile(loss = tf.keras.losses.BinaryCrossentropy(),\n",
        "                optimizer = tf.keras.optimizers.Adam(),\n",
        "                metrics = ['accuracy'])"
      ],
      "metadata": {
        "id": "hoFiLK8UMY0n"
      },
      "execution_count": 86,
      "outputs": []
    },
    {
      "cell_type": "code",
      "source": [
        "model_6.summary()"
      ],
      "metadata": {
        "colab": {
          "base_uri": "https://localhost:8080/"
        },
        "id": "49clrSvVMi7L",
        "outputId": "8ac6f49f-8109-4008-862a-6ade5cd361bc"
      },
      "execution_count": 87,
      "outputs": [
        {
          "output_type": "stream",
          "name": "stdout",
          "text": [
            "Model: \"model_6_USE\"\n",
            "_________________________________________________________________\n",
            " Layer (type)                Output Shape              Param #   \n",
            "=================================================================\n",
            " USE (KerasLayer)            (None, 512)               256797824 \n",
            "                                                                 \n",
            " dense_5 (Dense)             (None, 64)                32832     \n",
            "                                                                 \n",
            " dense_6 (Dense)             (None, 1)                 65        \n",
            "                                                                 \n",
            "=================================================================\n",
            "Total params: 256,830,721\n",
            "Trainable params: 32,897\n",
            "Non-trainable params: 256,797,824\n",
            "_________________________________________________________________\n"
          ]
        }
      ]
    },
    {
      "cell_type": "code",
      "source": [
        "#Train a classifier on top of USE pretrained embeddings\n",
        "model_6_history = model_6.fit(X_train,y_train,\n",
        "                              epochs = 5,\n",
        "                              validation_data = (X_val,y_val),\n",
        "                              callbacks = [create_tensorboard_callback(SAVE_DIR,\n",
        "                                                                       'tf_hub_sentence_encoder')])"
      ],
      "metadata": {
        "colab": {
          "base_uri": "https://localhost:8080/"
        },
        "id": "rUoJ419pMj2j",
        "outputId": "b3dea402-fd28-4141-a417-91c841cfce95"
      },
      "execution_count": 88,
      "outputs": [
        {
          "output_type": "stream",
          "name": "stdout",
          "text": [
            "Saving TensorBoard log files to: model_logs/tf_hub_sentence_encoder/20220118-123011\n",
            "Epoch 1/5\n",
            "179/179 [==============================] - 8s 28ms/step - loss: 0.5240 - accuracy: 0.7796 - val_loss: 0.4326 - val_accuracy: 0.8020\n",
            "Epoch 2/5\n",
            "179/179 [==============================] - 4s 24ms/step - loss: 0.4228 - accuracy: 0.8105 - val_loss: 0.4174 - val_accuracy: 0.8125\n",
            "Epoch 3/5\n",
            "179/179 [==============================] - 4s 24ms/step - loss: 0.4057 - accuracy: 0.8196 - val_loss: 0.4145 - val_accuracy: 0.8183\n",
            "Epoch 4/5\n",
            "179/179 [==============================] - 4s 24ms/step - loss: 0.3957 - accuracy: 0.8254 - val_loss: 0.4191 - val_accuracy: 0.8157\n",
            "Epoch 5/5\n",
            "179/179 [==============================] - 5s 26ms/step - loss: 0.3897 - accuracy: 0.8280 - val_loss: 0.4114 - val_accuracy: 0.8188\n"
          ]
        }
      ]
    },
    {
      "cell_type": "code",
      "source": [
        "model_6_pred_probs_val = model_6.predict(X_val)"
      ],
      "metadata": {
        "id": "6bIK9WDvM4r5"
      },
      "execution_count": 89,
      "outputs": []
    },
    {
      "cell_type": "code",
      "source": [
        "#Convert prediction probabilities to labels\n",
        "model_6_preds_val = tf.squeeze(tf.round(model_6_pred_probs_val))\n",
        "model_6_preds_val"
      ],
      "metadata": {
        "colab": {
          "base_uri": "https://localhost:8080/"
        },
        "id": "dRCLM6qWNGLp",
        "outputId": "50d7ac4f-4400-41e3-8a60-6b90d2227479"
      },
      "execution_count": 90,
      "outputs": [
        {
          "output_type": "execute_result",
          "data": {
            "text/plain": [
              "<tf.Tensor: shape=(1904,), dtype=float32, numpy=array([0., 1., 0., ..., 1., 0., 0.], dtype=float32)>"
            ]
          },
          "metadata": {},
          "execution_count": 90
        }
      ]
    },
    {
      "cell_type": "code",
      "source": [
        "model_6_pred_probs_train = model_6.predict(X_train)\n",
        "model_6_preds_train = tf.squeeze(tf.round(model_6_pred_probs_train))\n",
        "model_6_preds_train"
      ],
      "metadata": {
        "colab": {
          "base_uri": "https://localhost:8080/"
        },
        "id": "s85xJuEGNahv",
        "outputId": "f0f07040-88b9-4795-edf7-1c844a898409"
      },
      "execution_count": 91,
      "outputs": [
        {
          "output_type": "execute_result",
          "data": {
            "text/plain": [
              "<tf.Tensor: shape=(5709,), dtype=float32, numpy=array([1., 0., 0., ..., 1., 1., 0.], dtype=float32)>"
            ]
          },
          "metadata": {},
          "execution_count": 91
        }
      ]
    },
    {
      "cell_type": "code",
      "source": [
        "model_6_results = evaluation_metrics(model_6_preds_train,\n",
        "                                     model_6_preds_val,\n",
        "                                     y_train, y_val)"
      ],
      "metadata": {
        "id": "ShDLxb8NNMe-"
      },
      "execution_count": 92,
      "outputs": []
    },
    {
      "cell_type": "code",
      "source": [
        "model_6_results"
      ],
      "metadata": {
        "colab": {
          "base_uri": "https://localhost:8080/"
        },
        "id": "uUJb-GjUNg-N",
        "outputId": "94a2de58-2ffd-45a3-8295-aa719a364be2"
      },
      "execution_count": 93,
      "outputs": [
        {
          "output_type": "execute_result",
          "data": {
            "text/plain": [
              "{'accuracy_train': 0.8360483447188649,\n",
              " 'accuracy_val': 0.8188025210084033,\n",
              " 'f1_train': 0.7996575342465753,\n",
              " 'f1_val': 0.7803946530872057,\n",
              " 'precision_train': 0.8418206399278955,\n",
              " 'precision_val': 0.8140770252324038,\n",
              " 'recall_train': 0.7615165103954341,\n",
              " 'recall_val': 0.7493887530562348}"
            ]
          },
          "metadata": {},
          "execution_count": 93
        }
      ]
    },
    {
      "cell_type": "code",
      "source": [
        "np.array(list(model_6_results.values())) >np.array(list(baseline_results.values()))"
      ],
      "metadata": {
        "colab": {
          "base_uri": "https://localhost:8080/"
        },
        "id": "fvlCmZWcNpXk",
        "outputId": "4ff5b3ae-c864-480e-dc2e-7557d7da4329"
      },
      "execution_count": 94,
      "outputs": [
        {
          "output_type": "execute_result",
          "data": {
            "text/plain": [
              "array([False,  True, False, False, False,  True, False,  True])"
            ]
          },
          "metadata": {},
          "execution_count": 94
        }
      ]
    },
    {
      "cell_type": "code",
      "source": [
        "#Create model using the Sequential API\n",
        "model_7 = tf.keras.Sequential(\n",
        "    [sentence_encoder_layer,\n",
        "    layers.Dense(64, activation = 'relu'),\n",
        "    layers.Dense(1, activation = 'sigmoid')\n",
        "    ],name = 'model_7_USE'\n",
        ")"
      ],
      "metadata": {
        "id": "psdPDj8KOCaL"
      },
      "execution_count": 95,
      "outputs": []
    },
    {
      "cell_type": "code",
      "source": [
        "model_7.compile(loss = tf.keras.losses.BinaryCrossentropy(),\n",
        "                optimizer = tf.keras.optimizers.Adam(),\n",
        "                metrics = ['accuracy'])"
      ],
      "metadata": {
        "id": "-eRKcznMOQAT"
      },
      "execution_count": 96,
      "outputs": []
    },
    {
      "cell_type": "code",
      "source": [
        "model_7.summary()"
      ],
      "metadata": {
        "colab": {
          "base_uri": "https://localhost:8080/"
        },
        "id": "O-LsIq0MOR8r",
        "outputId": "ac954d22-7644-44f7-a911-edb640083871"
      },
      "execution_count": 97,
      "outputs": [
        {
          "output_type": "stream",
          "name": "stdout",
          "text": [
            "Model: \"model_7_USE\"\n",
            "_________________________________________________________________\n",
            " Layer (type)                Output Shape              Param #   \n",
            "=================================================================\n",
            " USE (KerasLayer)            (None, 512)               256797824 \n",
            "                                                                 \n",
            " dense_7 (Dense)             (None, 64)                32832     \n",
            "                                                                 \n",
            " dense_8 (Dense)             (None, 1)                 65        \n",
            "                                                                 \n",
            "=================================================================\n",
            "Total params: 256,830,721\n",
            "Trainable params: 32,897\n",
            "Non-trainable params: 256,797,824\n",
            "_________________________________________________________________\n"
          ]
        }
      ]
    },
    {
      "cell_type": "code",
      "source": [
        "#Train a classifier on top of USE pretrained embeddings\n",
        "model_7_history = model_7.fit(X_train,y_train,\n",
        "                              epochs = 5,\n",
        "                              validation_data = (X_val,y_val),\n",
        "                              callbacks = [create_tensorboard_callback(SAVE_DIR,\n",
        "                                                                       'tf_hub_sentence_encoder_2')])"
      ],
      "metadata": {
        "colab": {
          "base_uri": "https://localhost:8080/"
        },
        "id": "YIf8jifwOVgL",
        "outputId": "4eca333b-6d9f-4acd-ee5e-1278dae335ea"
      },
      "execution_count": 98,
      "outputs": [
        {
          "output_type": "stream",
          "name": "stdout",
          "text": [
            "Saving TensorBoard log files to: model_logs/tf_hub_sentence_encoder_2/20220118-123041\n",
            "Epoch 1/5\n",
            "179/179 [==============================] - 6s 27ms/step - loss: 0.5206 - accuracy: 0.7830 - val_loss: 0.4365 - val_accuracy: 0.8004\n",
            "Epoch 2/5\n",
            "179/179 [==============================] - 5s 26ms/step - loss: 0.4216 - accuracy: 0.8140 - val_loss: 0.4210 - val_accuracy: 0.8109\n",
            "Epoch 3/5\n",
            "179/179 [==============================] - 4s 24ms/step - loss: 0.4039 - accuracy: 0.8241 - val_loss: 0.4156 - val_accuracy: 0.8136\n",
            "Epoch 4/5\n",
            "179/179 [==============================] - 4s 24ms/step - loss: 0.3947 - accuracy: 0.8266 - val_loss: 0.4175 - val_accuracy: 0.8130\n",
            "Epoch 5/5\n",
            "179/179 [==============================] - 5s 26ms/step - loss: 0.3874 - accuracy: 0.8273 - val_loss: 0.4137 - val_accuracy: 0.8204\n"
          ]
        }
      ]
    },
    {
      "cell_type": "code",
      "source": [
        "model_7_pred_probs_val = model_7.predict(X_val)"
      ],
      "metadata": {
        "id": "zeUqEqZOOhLK"
      },
      "execution_count": 99,
      "outputs": []
    },
    {
      "cell_type": "code",
      "source": [
        "#Convert prediction probabilities to labels\n",
        "model_7_preds_val = tf.squeeze(tf.round(model_7_pred_probs_val))\n",
        "model_7_preds_val"
      ],
      "metadata": {
        "colab": {
          "base_uri": "https://localhost:8080/"
        },
        "outputId": "a5c05771-c22f-43e6-e46d-d89c82bdf460",
        "id": "9N7O7acbOhLP"
      },
      "execution_count": 100,
      "outputs": [
        {
          "output_type": "execute_result",
          "data": {
            "text/plain": [
              "<tf.Tensor: shape=(1904,), dtype=float32, numpy=array([0., 1., 0., ..., 1., 0., 0.], dtype=float32)>"
            ]
          },
          "metadata": {},
          "execution_count": 100
        }
      ]
    },
    {
      "cell_type": "code",
      "source": [
        "model_7_pred_probs_train = model_7.predict(X_train)\n",
        "model_7_preds_train = tf.squeeze(tf.round(model_7_pred_probs_train))\n",
        "model_7_preds_train"
      ],
      "metadata": {
        "colab": {
          "base_uri": "https://localhost:8080/"
        },
        "outputId": "2b30e7b2-fe3d-44db-f020-6f2160302bd3",
        "id": "kGt3PRF8OhLT"
      },
      "execution_count": 101,
      "outputs": [
        {
          "output_type": "execute_result",
          "data": {
            "text/plain": [
              "<tf.Tensor: shape=(5709,), dtype=float32, numpy=array([1., 0., 0., ..., 1., 1., 0.], dtype=float32)>"
            ]
          },
          "metadata": {},
          "execution_count": 101
        }
      ]
    },
    {
      "cell_type": "code",
      "source": [
        "model_7_results = evaluation_metrics(model_7_preds_train,\n",
        "                                     model_7_preds_val,\n",
        "                                     y_train, y_val)"
      ],
      "metadata": {
        "id": "tq9JgbrUOhLW"
      },
      "execution_count": 102,
      "outputs": []
    },
    {
      "cell_type": "code",
      "source": [
        "model_7_results"
      ],
      "metadata": {
        "colab": {
          "base_uri": "https://localhost:8080/"
        },
        "outputId": "9035464c-f463-46ee-c667-87b636cd8572",
        "id": "4fhnR82OOhLZ"
      },
      "execution_count": 103,
      "outputs": [
        {
          "output_type": "execute_result",
          "data": {
            "text/plain": [
              "{'accuracy_train': 0.837624802942722,\n",
              " 'accuracy_val': 0.8203781512605042,\n",
              " 'f1_train': 0.8010302640051514,\n",
              " 'f1_val': 0.7829949238578681,\n",
              " 'precision_train': 0.8458748866727108,\n",
              " 'precision_val': 0.8139841688654353,\n",
              " 'recall_train': 0.7607011822258459,\n",
              " 'recall_val': 0.7542787286063569}"
            ]
          },
          "metadata": {},
          "execution_count": 103
        }
      ]
    },
    {
      "cell_type": "code",
      "source": [
        "np.array(list(model_7_results.values())) >np.array(list(baseline_results.values()))"
      ],
      "metadata": {
        "colab": {
          "base_uri": "https://localhost:8080/"
        },
        "id": "oPUM6fTgOq5c",
        "outputId": "b7ce2005-0a4e-400a-e0a7-f093979f9650"
      },
      "execution_count": 104,
      "outputs": [
        {
          "output_type": "execute_result",
          "data": {
            "text/plain": [
              "array([False,  True, False, False, False,  True, False,  True])"
            ]
          },
          "metadata": {},
          "execution_count": 104
        }
      ]
    },
    {
      "cell_type": "code",
      "source": [
        "plot_loss_curves(model_7_history)"
      ],
      "metadata": {
        "colab": {
          "base_uri": "https://localhost:8080/",
          "height": 573
        },
        "id": "3eKVQLY1Oxez",
        "outputId": "d508b0d2-6d4c-4689-e9c3-20c2c74369b0"
      },
      "execution_count": 105,
      "outputs": [
        {
          "output_type": "display_data",
          "data": {
            "image/png": "[encoded data removed]",
            "text/plain": [
              "<Figure size 432x288 with 1 Axes>"
            ]
          },
          "metadata": {
            "needs_background": "light"
          }
        },
        {
          "output_type": "display_data",
          "data": {
            "image/png": "[encoded data removed]",
            "text/plain": [
              "<Figure size 432x288 with 1 Axes>"
            ]
          },
          "metadata": {
            "needs_background": "light"
          }
        }
      ]
    },
    {
      "cell_type": "code",
      "source": [
        "df"
      ],
      "metadata": {
        "colab": {
          "base_uri": "https://localhost:8080/",
          "height": 423
        },
        "id": "hbft9fZ2PLNU",
        "outputId": "a74559ab-820f-4dd5-e03a-5f7f4e8c637d"
      },
      "execution_count": 106,
      "outputs": [
        {
          "output_type": "execute_result",
          "data": {
            "text/html": [
              "\n",
              "  <div id=\"df-c4bf2825-2122-4938-9401-8cb24c98bcdc\">\n",
              "    <div class=\"colab-df-container\">\n",
              "      <div>\n",
              "<style scoped>\n",
              "    .dataframe tbody tr th:only-of-type {\n",
              "        vertical-align: middle;\n",
              "    }\n",
              "\n",
              "    .dataframe tbody tr th {\n",
              "        vertical-align: top;\n",
              "    }\n",
              "\n",
              "    .dataframe thead th {\n",
              "        text-align: right;\n",
              "    }\n",
              "</style>\n",
              "<table border=\"1\" class=\"dataframe\">\n",
              "  <thead>\n",
              "    <tr style=\"text-align: right;\">\n",
              "      <th></th>\n",
              "      <th>text</th>\n",
              "      <th>target</th>\n",
              "    </tr>\n",
              "  </thead>\n",
              "  <tbody>\n",
              "    <tr>\n",
              "      <th>2084</th>\n",
              "      <td>Man Found Dead in Demi Moore's Swimming Pool! ...</td>\n",
              "      <td>1</td>\n",
              "    </tr>\n",
              "    <tr>\n",
              "      <th>7088</th>\n",
              "      <td>Diageo's CEO stresses that a board revolt at U...</td>\n",
              "      <td>0</td>\n",
              "    </tr>\n",
              "    <tr>\n",
              "      <th>540</th>\n",
              "      <td>@funkflex yo flex im here https://t.co/2AZxdLCXgA</td>\n",
              "      <td>0</td>\n",
              "    </tr>\n",
              "    <tr>\n",
              "      <th>1881</th>\n",
              "      <td>kenny holland crush da vida</td>\n",
              "      <td>0</td>\n",
              "    </tr>\n",
              "    <tr>\n",
              "      <th>178</th>\n",
              "      <td>AMBULANCE SPRINTER AUTOMATIC FRONTLINE VEHICLE...</td>\n",
              "      <td>0</td>\n",
              "    </tr>\n",
              "    <tr>\n",
              "      <th>...</th>\n",
              "      <td>...</td>\n",
              "      <td>...</td>\n",
              "    </tr>\n",
              "    <tr>\n",
              "      <th>3990</th>\n",
              "      <td>Granted like half my town floods when it rains...</td>\n",
              "      <td>1</td>\n",
              "    </tr>\n",
              "    <tr>\n",
              "      <th>3323</th>\n",
              "      <td>Wow. #FIFA16 has Pre Season Tournaments in Car...</td>\n",
              "      <td>0</td>\n",
              "    </tr>\n",
              "    <tr>\n",
              "      <th>7343</th>\n",
              "      <td>PHOTOS: The Rocky Fire has grown into Californ...</td>\n",
              "      <td>1</td>\n",
              "    </tr>\n",
              "    <tr>\n",
              "      <th>4796</th>\n",
              "      <td>Jrowah: Breaking news! Unconfirmed! I just hea...</td>\n",
              "      <td>1</td>\n",
              "    </tr>\n",
              "    <tr>\n",
              "      <th>5544</th>\n",
              "      <td>Due to the rainstorm last night cupcake decora...</td>\n",
              "      <td>0</td>\n",
              "    </tr>\n",
              "  </tbody>\n",
              "</table>\n",
              "<p>5709 rows × 2 columns</p>\n",
              "</div>\n",
              "      <button class=\"colab-df-convert\" onclick=\"convertToInteractive('df-c4bf2825-2122-4938-9401-8cb24c98bcdc')\"\n",
              "              title=\"Convert this dataframe to an interactive table.\"\n",
              "              style=\"display:none;\">\n",
              "        \n",
              "  <svg xmlns=\"http://www.w3.org/2000/svg\" height=\"24px\"viewBox=\"0 0 24 24\"\n",
              "       width=\"24px\">\n",
              "    <path d=\"M0 0h24v24H0V0z\" fill=\"none\"/>\n",
              "    <path d=\"M18.56 5.44l.94 2.06.94-2.06 2.06-.94-2.06-.94-.94-2.06-.94 2.06-2.06.94zm-11 1L8.5 8.5l.94-2.06 2.06-.94-2.06-.94L8.5 2.5l-.94 2.06-2.06.94zm10 10l.94 2.06.94-2.06 2.06-.94-2.06-.94-.94-2.06-.94 2.06-2.06.94z\"/><path d=\"M17.41 7.96l-1.37-1.37c-.4-.4-.92-.59-1.43-.59-.52 0-1.04.2-1.43.59L10.3 9.45l-7.72 7.72c-.78.78-.78 2.05 0 2.83L4 21.41c.39.39.9.59 1.41.59.51 0 1.02-.2 1.41-.59l7.78-7.78 2.81-2.81c.8-.78.8-2.07 0-2.86zM5.41 20L4 18.59l7.72-7.72 1.47 1.35L5.41 20z\"/>\n",
              "  </svg>\n",
              "      </button>\n",
              "      \n",
              "  <style>\n",
              "    .colab-df-container {\n",
              "      display:flex;\n",
              "      flex-wrap:wrap;\n",
              "      gap: 12px;\n",
              "    }\n",
              "\n",
              "    .colab-df-convert {\n",
              "      background-color: #E8F0FE;\n",
              "      border: none;\n",
              "      border-radius: 50%;\n",
              "      cursor: pointer;\n",
              "      display: none;\n",
              "      fill: #1967D2;\n",
              "      height: 32px;\n",
              "      padding: 0 0 0 0;\n",
              "      width: 32px;\n",
              "    }\n",
              "\n",
              "    .colab-df-convert:hover {\n",
              "      background-color: #E2EBFA;\n",
              "      box-shadow: 0px 1px 2px rgba(60, 64, 67, 0.3), 0px 1px 3px 1px rgba(60, 64, 67, 0.15);\n",
              "      fill: #174EA6;\n",
              "    }\n",
              "\n",
              "    [theme=dark] .colab-df-convert {\n",
              "      background-color: #3B4455;\n",
              "      fill: #D2E3FC;\n",
              "    }\n",
              "\n",
              "    [theme=dark] .colab-df-convert:hover {\n",
              "      background-color: #434B5C;\n",
              "      box-shadow: 0px 1px 3px 1px rgba(0, 0, 0, 0.15);\n",
              "      filter: drop-shadow(0px 1px 2px rgba(0, 0, 0, 0.3));\n",
              "      fill: #FFFFFF;\n",
              "    }\n",
              "  </style>\n",
              "\n",
              "      <script>\n",
              "        const buttonEl =\n",
              "          document.querySelector('#df-c4bf2825-2122-4938-9401-8cb24c98bcdc button.colab-df-convert');\n",
              "        buttonEl.style.display =\n",
              "          google.colab.kernel.accessAllowed ? 'block' : 'none';\n",
              "\n",
              "        async function convertToInteractive(key) {\n",
              "          const element = document.querySelector('#df-c4bf2825-2122-4938-9401-8cb24c98bcdc');\n",
              "          const dataTable =\n",
              "            await google.colab.kernel.invokeFunction('convertToInteractive',\n",
              "                                                     [key], {});\n",
              "          if (!dataTable) return;\n",
              "\n",
              "          const docLinkHtml = 'Like what you see? Visit the ' +\n",
              "            '<a target=\"_blank\" href=https://colab.research.google.com/notebooks/data_table.ipynb>data table notebook</a>'\n",
              "            + ' to learn more about interactive tables.';\n",
              "          element.innerHTML = '';\n",
              "          dataTable['output_type'] = 'display_data';\n",
              "          await google.colab.output.renderOutput(dataTable, element);\n",
              "          const docLink = document.createElement('div');\n",
              "          docLink.innerHTML = docLinkHtml;\n",
              "          element.appendChild(docLink);\n",
              "        }\n",
              "      </script>\n",
              "    </div>\n",
              "  </div>\n",
              "  "
            ],
            "text/plain": [
              "                                                   text  target\n",
              "2084  Man Found Dead in Demi Moore's Swimming Pool! ...       1\n",
              "7088  Diageo's CEO stresses that a board revolt at U...       0\n",
              "540   @funkflex yo flex im here https://t.co/2AZxdLCXgA       0\n",
              "1881                        kenny holland crush da vida       0\n",
              "178   AMBULANCE SPRINTER AUTOMATIC FRONTLINE VEHICLE...       0\n",
              "...                                                 ...     ...\n",
              "3990  Granted like half my town floods when it rains...       1\n",
              "3323  Wow. #FIFA16 has Pre Season Tournaments in Car...       0\n",
              "7343  PHOTOS: The Rocky Fire has grown into Californ...       1\n",
              "4796  Jrowah: Breaking news! Unconfirmed! I just hea...       1\n",
              "5544  Due to the rainstorm last night cupcake decora...       0\n",
              "\n",
              "[5709 rows x 2 columns]"
            ]
          },
          "metadata": {},
          "execution_count": 106
        }
      ]
    },
    {
      "cell_type": "markdown",
      "source": [
        "#Model 7: TF Hub pretrained USE with 10% of the training data"
      ],
      "metadata": {
        "id": "hPHl-DzpPgjK"
      }
    },
    {
      "cell_type": "code",
      "source": [
        "df_new = df.sample(frac = 0.1)"
      ],
      "metadata": {
        "id": "zjnZJ-93PmDi"
      },
      "execution_count": 107,
      "outputs": []
    },
    {
      "cell_type": "code",
      "source": [
        "X_sample = df_new['text'].copy()\n",
        "y_sample = df_new['target'].copy()"
      ],
      "metadata": {
        "id": "MDAvtjBcP1GU"
      },
      "execution_count": 109,
      "outputs": []
    },
    {
      "cell_type": "code",
      "source": [
        "# #Create model using the Sequential API\n",
        "# model_8 = tf.keras.Sequential(\n",
        "#     [sentence_encoder_layer,\n",
        "#     layers.Dense(64, activation = 'relu'),\n",
        "#     layers.Dense(1, activation = 'sigmoid')\n",
        "#     ],name = 'model_7_USE'\n",
        "# )"
      ],
      "metadata": {
        "id": "Fo1gQyiVRIow"
      },
      "execution_count": 110,
      "outputs": []
    },
    {
      "cell_type": "code",
      "source": [
        "model_8 = tf.keras.models.clone_model(model_7)"
      ],
      "metadata": {
        "id": "yj9yuM1xR6Sz"
      },
      "execution_count": 111,
      "outputs": []
    },
    {
      "cell_type": "code",
      "source": [
        "model_8.compile(loss = tf.keras.losses.BinaryCrossentropy(),\n",
        "                optimizer = tf.keras.optimizers.Adam(),\n",
        "                metrics = ['accuracy'])"
      ],
      "metadata": {
        "id": "Sq4n1RNCRIo2"
      },
      "execution_count": 112,
      "outputs": []
    },
    {
      "cell_type": "code",
      "source": [
        "model_8.summary()"
      ],
      "metadata": {
        "colab": {
          "base_uri": "https://localhost:8080/"
        },
        "outputId": "ce762fb7-c7df-4352-9d99-d1f76842f072",
        "id": "HDKsap8VRIo6"
      },
      "execution_count": 113,
      "outputs": [
        {
          "output_type": "stream",
          "name": "stdout",
          "text": [
            "Model: \"model_7_USE\"\n",
            "_________________________________________________________________\n",
            " Layer (type)                Output Shape              Param #   \n",
            "=================================================================\n",
            " USE (KerasLayer)            (None, 512)               256797824 \n",
            "                                                                 \n",
            " dense_7 (Dense)             (None, 64)                32832     \n",
            "                                                                 \n",
            " dense_8 (Dense)             (None, 1)                 65        \n",
            "                                                                 \n",
            "=================================================================\n",
            "Total params: 256,830,721\n",
            "Trainable params: 32,897\n",
            "Non-trainable params: 256,797,824\n",
            "_________________________________________________________________\n"
          ]
        }
      ]
    },
    {
      "cell_type": "code",
      "source": [
        "#Train a classifier on top of USE pretrained embeddings\n",
        "model_8_history = model_8.fit(X_sample,y_sample,\n",
        "                              epochs = 5,\n",
        "                              validation_data = (X_val,y_val),\n",
        "                              callbacks = [create_tensorboard_callback(SAVE_DIR,\n",
        "                                                                       'tf_hub_sentence_encoder_10%')])"
      ],
      "metadata": {
        "colab": {
          "base_uri": "https://localhost:8080/"
        },
        "outputId": "c310a6ac-ef97-49c4-f95f-918720b37a5f",
        "id": "iy8tZKPzRIo-"
      },
      "execution_count": 114,
      "outputs": [
        {
          "output_type": "stream",
          "name": "stdout",
          "text": [
            "Saving TensorBoard log files to: model_logs/tf_hub_sentence_encoder_10%/20220118-123946\n",
            "Epoch 1/5\n",
            "18/18 [==============================] - 5s 123ms/step - loss: 0.6783 - accuracy: 0.6690 - val_loss: 0.6563 - val_accuracy: 0.7537\n",
            "Epoch 2/5\n",
            "18/18 [==============================] - 2s 94ms/step - loss: 0.6279 - accuracy: 0.7951 - val_loss: 0.6089 - val_accuracy: 0.7815\n",
            "Epoch 3/5\n",
            "18/18 [==============================] - 1s 78ms/step - loss: 0.5700 - accuracy: 0.8266 - val_loss: 0.5563 - val_accuracy: 0.7978\n",
            "Epoch 4/5\n",
            "18/18 [==============================] - 2s 96ms/step - loss: 0.5118 - accuracy: 0.8266 - val_loss: 0.5127 - val_accuracy: 0.7878\n",
            "Epoch 5/5\n",
            "18/18 [==============================] - 1s 73ms/step - loss: 0.4625 - accuracy: 0.8354 - val_loss: 0.4837 - val_accuracy: 0.7873\n"
          ]
        }
      ]
    },
    {
      "cell_type": "code",
      "source": [
        "model_8_pred_probs_val = model_8.predict(X_val)"
      ],
      "metadata": {
        "id": "duCZEfqfRIpA"
      },
      "execution_count": 115,
      "outputs": []
    },
    {
      "cell_type": "code",
      "source": [
        "#Convert prediction probabilities to labels\n",
        "model_8_preds_val = tf.squeeze(tf.round(model_8_pred_probs_val))\n",
        "model_8_preds_val"
      ],
      "metadata": {
        "colab": {
          "base_uri": "https://localhost:8080/"
        },
        "outputId": "86da65f2-4536-49bb-d292-9a84e322290b",
        "id": "HS7ie_lnRIpC"
      },
      "execution_count": 116,
      "outputs": [
        {
          "output_type": "execute_result",
          "data": {
            "text/plain": [
              "<tf.Tensor: shape=(1904,), dtype=float32, numpy=array([0., 1., 0., ..., 1., 0., 0.], dtype=float32)>"
            ]
          },
          "metadata": {},
          "execution_count": 116
        }
      ]
    },
    {
      "cell_type": "code",
      "source": [
        "model_8_pred_probs_train = model_8.predict(X_train)\n",
        "model_8_preds_train = tf.squeeze(tf.round(model_8_pred_probs_train))\n",
        "model_8_preds_train"
      ],
      "metadata": {
        "colab": {
          "base_uri": "https://localhost:8080/"
        },
        "outputId": "213f7eb7-afbb-4d43-a790-0e0f2aa44670",
        "id": "b3sc3IhjRIpE"
      },
      "execution_count": 117,
      "outputs": [
        {
          "output_type": "execute_result",
          "data": {
            "text/plain": [
              "<tf.Tensor: shape=(5709,), dtype=float32, numpy=array([1., 1., 0., ..., 1., 1., 0.], dtype=float32)>"
            ]
          },
          "metadata": {},
          "execution_count": 117
        }
      ]
    },
    {
      "cell_type": "code",
      "source": [
        "model_8_results = evaluation_metrics(model_8_preds_train,\n",
        "                                     model_8_preds_val,\n",
        "                                     y_train, y_val)"
      ],
      "metadata": {
        "id": "Zj1db4ZfRIpG"
      },
      "execution_count": 118,
      "outputs": []
    },
    {
      "cell_type": "code",
      "source": [
        "model_8_results"
      ],
      "metadata": {
        "colab": {
          "base_uri": "https://localhost:8080/"
        },
        "outputId": "42808e37-f3eb-4c42-feec-6f425dd325c9",
        "id": "-royyHY0RIpI"
      },
      "execution_count": 119,
      "outputs": [
        {
          "output_type": "execute_result",
          "data": {
            "text/plain": [
              "{'accuracy_train': 0.7878787878787878,\n",
              " 'accuracy_val': 0.7872899159663865,\n",
              " 'f1_train': 0.7415154749199572,\n",
              " 'f1_val': 0.7457627118644067,\n",
              " 'precision_train': 0.7782258064516129,\n",
              " 'precision_val': 0.7664516129032258,\n",
              " 'recall_train': 0.7081125152874032,\n",
              " 'recall_val': 0.726161369193154}"
            ]
          },
          "metadata": {},
          "execution_count": 119
        }
      ]
    },
    {
      "cell_type": "code",
      "source": [
        "np.array(list(model_8_results.values())) >np.array(list(baseline_results.values()))"
      ],
      "metadata": {
        "colab": {
          "base_uri": "https://localhost:8080/"
        },
        "outputId": "63c5ab19-c0a3-4f46-abad-919a0bf14d2b",
        "id": "EvfYOoIfRIpK"
      },
      "execution_count": 120,
      "outputs": [
        {
          "output_type": "execute_result",
          "data": {
            "text/plain": [
              "array([False, False, False, False, False,  True, False,  True])"
            ]
          },
          "metadata": {},
          "execution_count": 120
        }
      ]
    },
    {
      "cell_type": "code",
      "source": [
        "plot_loss_curves(model_8_history)"
      ],
      "metadata": {
        "colab": {
          "base_uri": "https://localhost:8080/",
          "height": 573
        },
        "outputId": "d593f9e5-0b9c-43f8-cdef-4c445c79e34f",
        "id": "gBk58b16RIpL"
      },
      "execution_count": 121,
      "outputs": [
        {
          "output_type": "display_data",
          "data": {
            "image/png": "[encoded data removed]",
            "text/plain": [
              "<Figure size 432x288 with 1 Axes>"
            ]
          },
          "metadata": {
            "needs_background": "light"
          }
        },
        {
          "output_type": "display_data",
          "data": {
            "image/png": "[encoded data removed]",
            "text/plain": [
              "<Figure size 432x288 with 1 Axes>"
            ]
          },
          "metadata": {
            "needs_background": "light"
          }
        }
      ]
    },
    {
      "cell_type": "code",
      "source": [
        "all_model_results = pd.DataFrame({'baseline':baseline_results,\n",
        "                                  'simple_dense':model_1_results,\n",
        "                                  'lstm_dense':model_2_results,\n",
        "                                  'gru_dense':model_3_results,\n",
        "                                  'USE_encoder_1':model_6_results,\n",
        "                                  'USE_encoder_1_dense_layer':model_7_results,\n",
        "                                  'USE_encoder_10%':model_8_results})"
      ],
      "metadata": {
        "id": "H9LV1QPyTKtJ"
      },
      "execution_count": 122,
      "outputs": []
    },
    {
      "cell_type": "code",
      "source": [
        "all_model_results.T"
      ],
      "metadata": {
        "colab": {
          "base_uri": "https://localhost:8080/",
          "height": 333
        },
        "id": "hVXLxFvwV5JK",
        "outputId": "d31b9f28-a3f1-48de-8081-dcc9a9291377"
      },
      "execution_count": 123,
      "outputs": [
        {
          "output_type": "execute_result",
          "data": {
            "text/html": [
              "\n",
              "  <div id=\"df-33fd77ad-a52a-486a-aeb2-36037c635953\">\n",
              "    <div class=\"colab-df-container\">\n",
              "      <div>\n",
              "<style scoped>\n",
              "    .dataframe tbody tr th:only-of-type {\n",
              "        vertical-align: middle;\n",
              "    }\n",
              "\n",
              "    .dataframe tbody tr th {\n",
              "        vertical-align: top;\n",
              "    }\n",
              "\n",
              "    .dataframe thead th {\n",
              "        text-align: right;\n",
              "    }\n",
              "</style>\n",
              "<table border=\"1\" class=\"dataframe\">\n",
              "  <thead>\n",
              "    <tr style=\"text-align: right;\">\n",
              "      <th></th>\n",
              "      <th>accuracy_train</th>\n",
              "      <th>accuracy_val</th>\n",
              "      <th>precision_train</th>\n",
              "      <th>precision_val</th>\n",
              "      <th>recall_train</th>\n",
              "      <th>recall_val</th>\n",
              "      <th>f1_train</th>\n",
              "      <th>f1_val</th>\n",
              "    </tr>\n",
              "  </thead>\n",
              "  <tbody>\n",
              "    <tr>\n",
              "      <th>baseline</th>\n",
              "      <td>0.889122</td>\n",
              "      <td>0.801471</td>\n",
              "      <td>0.963340</td>\n",
              "      <td>0.867893</td>\n",
              "      <td>0.771300</td>\n",
              "      <td>0.634474</td>\n",
              "      <td>0.856690</td>\n",
              "      <td>0.733051</td>\n",
              "    </tr>\n",
              "    <tr>\n",
              "      <th>simple_dense</th>\n",
              "      <td>0.971624</td>\n",
              "      <td>0.780462</td>\n",
              "      <td>0.977889</td>\n",
              "      <td>0.758398</td>\n",
              "      <td>0.955565</td>\n",
              "      <td>0.717604</td>\n",
              "      <td>0.966598</td>\n",
              "      <td>0.737437</td>\n",
              "    </tr>\n",
              "    <tr>\n",
              "      <th>lstm_dense</th>\n",
              "      <td>0.980732</td>\n",
              "      <td>0.758929</td>\n",
              "      <td>0.988736</td>\n",
              "      <td>0.724656</td>\n",
              "      <td>0.966164</td>\n",
              "      <td>0.707824</td>\n",
              "      <td>0.977320</td>\n",
              "      <td>0.716141</td>\n",
              "    </tr>\n",
              "    <tr>\n",
              "      <th>gru_dense</th>\n",
              "      <td>0.984411</td>\n",
              "      <td>0.746324</td>\n",
              "      <td>0.980879</td>\n",
              "      <td>0.694541</td>\n",
              "      <td>0.982878</td>\n",
              "      <td>0.731051</td>\n",
              "      <td>0.981877</td>\n",
              "      <td>0.712329</td>\n",
              "    </tr>\n",
              "    <tr>\n",
              "      <th>USE_encoder_1</th>\n",
              "      <td>0.836048</td>\n",
              "      <td>0.818803</td>\n",
              "      <td>0.841821</td>\n",
              "      <td>0.814077</td>\n",
              "      <td>0.761517</td>\n",
              "      <td>0.749389</td>\n",
              "      <td>0.799658</td>\n",
              "      <td>0.780395</td>\n",
              "    </tr>\n",
              "    <tr>\n",
              "      <th>USE_encoder_1_dense_layer</th>\n",
              "      <td>0.837625</td>\n",
              "      <td>0.820378</td>\n",
              "      <td>0.845875</td>\n",
              "      <td>0.813984</td>\n",
              "      <td>0.760701</td>\n",
              "      <td>0.754279</td>\n",
              "      <td>0.801030</td>\n",
              "      <td>0.782995</td>\n",
              "    </tr>\n",
              "    <tr>\n",
              "      <th>USE_encoder_10%</th>\n",
              "      <td>0.787879</td>\n",
              "      <td>0.787290</td>\n",
              "      <td>0.778226</td>\n",
              "      <td>0.766452</td>\n",
              "      <td>0.708113</td>\n",
              "      <td>0.726161</td>\n",
              "      <td>0.741515</td>\n",
              "      <td>0.745763</td>\n",
              "    </tr>\n",
              "  </tbody>\n",
              "</table>\n",
              "</div>\n",
              "      <button class=\"colab-df-convert\" onclick=\"convertToInteractive('df-33fd77ad-a52a-486a-aeb2-36037c635953')\"\n",
              "              title=\"Convert this dataframe to an interactive table.\"\n",
              "              style=\"display:none;\">\n",
              "        \n",
              "  <svg xmlns=\"http://www.w3.org/2000/svg\" height=\"24px\"viewBox=\"0 0 24 24\"\n",
              "       width=\"24px\">\n",
              "    <path d=\"M0 0h24v24H0V0z\" fill=\"none\"/>\n",
              "    <path d=\"M18.56 5.44l.94 2.06.94-2.06 2.06-.94-2.06-.94-.94-2.06-.94 2.06-2.06.94zm-11 1L8.5 8.5l.94-2.06 2.06-.94-2.06-.94L8.5 2.5l-.94 2.06-2.06.94zm10 10l.94 2.06.94-2.06 2.06-.94-2.06-.94-.94-2.06-.94 2.06-2.06.94z\"/><path d=\"M17.41 7.96l-1.37-1.37c-.4-.4-.92-.59-1.43-.59-.52 0-1.04.2-1.43.59L10.3 9.45l-7.72 7.72c-.78.78-.78 2.05 0 2.83L4 21.41c.39.39.9.59 1.41.59.51 0 1.02-.2 1.41-.59l7.78-7.78 2.81-2.81c.8-.78.8-2.07 0-2.86zM5.41 20L4 18.59l7.72-7.72 1.47 1.35L5.41 20z\"/>\n",
              "  </svg>\n",
              "      </button>\n",
              "      \n",
              "  <style>\n",
              "    .colab-df-container {\n",
              "      display:flex;\n",
              "      flex-wrap:wrap;\n",
              "      gap: 12px;\n",
              "    }\n",
              "\n",
              "    .colab-df-convert {\n",
              "      background-color: #E8F0FE;\n",
              "      border: none;\n",
              "      border-radius: 50%;\n",
              "      cursor: pointer;\n",
              "      display: none;\n",
              "      fill: #1967D2;\n",
              "      height: 32px;\n",
              "      padding: 0 0 0 0;\n",
              "      width: 32px;\n",
              "    }\n",
              "\n",
              "    .colab-df-convert:hover {\n",
              "      background-color: #E2EBFA;\n",
              "      box-shadow: 0px 1px 2px rgba(60, 64, 67, 0.3), 0px 1px 3px 1px rgba(60, 64, 67, 0.15);\n",
              "      fill: #174EA6;\n",
              "    }\n",
              "\n",
              "    [theme=dark] .colab-df-convert {\n",
              "      background-color: #3B4455;\n",
              "      fill: #D2E3FC;\n",
              "    }\n",
              "\n",
              "    [theme=dark] .colab-df-convert:hover {\n",
              "      background-color: #434B5C;\n",
              "      box-shadow: 0px 1px 3px 1px rgba(0, 0, 0, 0.15);\n",
              "      filter: drop-shadow(0px 1px 2px rgba(0, 0, 0, 0.3));\n",
              "      fill: #FFFFFF;\n",
              "    }\n",
              "  </style>\n",
              "\n",
              "      <script>\n",
              "        const buttonEl =\n",
              "          document.querySelector('#df-33fd77ad-a52a-486a-aeb2-36037c635953 button.colab-df-convert');\n",
              "        buttonEl.style.display =\n",
              "          google.colab.kernel.accessAllowed ? 'block' : 'none';\n",
              "\n",
              "        async function convertToInteractive(key) {\n",
              "          const element = document.querySelector('#df-33fd77ad-a52a-486a-aeb2-36037c635953');\n",
              "          const dataTable =\n",
              "            await google.colab.kernel.invokeFunction('convertToInteractive',\n",
              "                                                     [key], {});\n",
              "          if (!dataTable) return;\n",
              "\n",
              "          const docLinkHtml = 'Like what you see? Visit the ' +\n",
              "            '<a target=\"_blank\" href=https://colab.research.google.com/notebooks/data_table.ipynb>data table notebook</a>'\n",
              "            + ' to learn more about interactive tables.';\n",
              "          element.innerHTML = '';\n",
              "          dataTable['output_type'] = 'display_data';\n",
              "          await google.colab.output.renderOutput(dataTable, element);\n",
              "          const docLink = document.createElement('div');\n",
              "          docLink.innerHTML = docLinkHtml;\n",
              "          element.appendChild(docLink);\n",
              "        }\n",
              "      </script>\n",
              "    </div>\n",
              "  </div>\n",
              "  "
            ],
            "text/plain": [
              "                           accuracy_train  accuracy_val  ...  f1_train    f1_val\n",
              "baseline                         0.889122      0.801471  ...  0.856690  0.733051\n",
              "simple_dense                     0.971624      0.780462  ...  0.966598  0.737437\n",
              "lstm_dense                       0.980732      0.758929  ...  0.977320  0.716141\n",
              "gru_dense                        0.984411      0.746324  ...  0.981877  0.712329\n",
              "USE_encoder_1                    0.836048      0.818803  ...  0.799658  0.780395\n",
              "USE_encoder_1_dense_layer        0.837625      0.820378  ...  0.801030  0.782995\n",
              "USE_encoder_10%                  0.787879      0.787290  ...  0.741515  0.745763\n",
              "\n",
              "[7 rows x 8 columns]"
            ]
          },
          "metadata": {},
          "execution_count": 123
        }
      ]
    },
    {
      "cell_type": "code",
      "source": [
        "all_model_results.T.sort_values(by = 'f1_val' , ascending = False)[['f1_train','f1_val']].plot(kind = 'bar', figsize =(16,9)).legend(bbox_to_anchor = (1.0,1.0))"
      ],
      "metadata": {
        "colab": {
          "base_uri": "https://localhost:8080/",
          "height": 512
        },
        "id": "HXAkat07UMnP",
        "outputId": "00fd0485-ca4d-422e-8fc3-c6f7db68c4b5"
      },
      "execution_count": 124,
      "outputs": [
        {
          "output_type": "execute_result",
          "data": {
            "text/plain": [
              "<matplotlib.legend.Legend at 0x7f3dfb85b310>"
            ]
          },
          "metadata": {},
          "execution_count": 124
        },
        {
          "output_type": "display_data",
          "data": {
            "image/png": "[encoded data removed]",
            "text/plain": [
              "<Figure size 1152x648 with 1 Axes>"
            ]
          },
          "metadata": {
            "needs_background": "light"
          }
        }
      ]
    },
    {
      "cell_type": "code",
      "source": [
        "#view tensorboard logs of transfer learning modelling experiments\n",
        "\n",
        "!tensorboard dev upload --logdir ./model_logs/ \\\n",
        "--name 'NLP Modeling Experiments' \\\n",
        "--description 'Comparing multiple different types of model architectures on the Kaggle Tweet disaster classification' \\\n",
        "--one_shot # exit the upload once uploading is finished"
      ],
      "metadata": {
        "colab": {
          "base_uri": "https://localhost:8080/"
        },
        "id": "81B4xZkPVFKE",
        "outputId": "90e158fe-43b5-4d2b-ebc0-74ae01ea6e40"
      },
      "execution_count": 125,
      "outputs": [
        {
          "output_type": "stream",
          "name": "stdout",
          "text": [
            "\n",
            "***** TensorBoard Uploader *****\n",
            "\n",
            "This will upload your TensorBoard logs to https://tensorboard.dev/ from\n",
            "the following directory:\n",
            "\n",
            "./model_logs/\n",
            "\n",
            "This TensorBoard will be visible to everyone. Do not upload sensitive\n",
            "data.\n",
            "\n",
            "Your use of this service is subject to Google's Terms of Service\n",
            "<https://policies.google.com/terms> and Privacy Policy\n",
            "<https://policies.google.com/privacy>, and TensorBoard.dev's Terms of Service\n",
            "<https://tensorboard.dev/policy/terms/>.\n",
            "\n",
            "This notice will not be shown again while you are logged into the uploader.\n",
            "To log out, run `tensorboard dev auth revoke`.\n",
            "\n",
            "Continue? (yes/NO) yes\n",
            "\n",
            "Please visit this URL to authorize this application: https://accounts.google.com/o/oauth2/auth?response_type=code&client_id=373649185512-8v619h5kft38l4456nm2dj4ubeqsrvh6.apps.googleusercontent.com&redirect_uri=urn%3Aietf%3Awg%3Aoauth%3A2.0%3Aoob&scope=openid+https%3A%2F%2Fwww.googleapis.com%2Fauth%2Fuserinfo.email&state=NyUP9pPyqbIFcAu5klgDqSirO8Fwg1&prompt=consent&access_type=offline\n",
            "Enter the authorization code: 4/1AX4XfWjfnoVjL0X3j1hKaQj5LZKLTV6Nm0ip-1BpcXsa2ixgg-fuKS_41zs\n",
            "\n",
            "\n",
            "New experiment created. View your TensorBoard at: https://tensorboard.dev/experiment/8BqsA2DIQyi1Oof0gJdCRg/\n",
            "\n",
            "\u001b[1m[2022-01-18T12:41:57]\u001b[0m Started scanning logdir.\n",
            "\u001b[1m[2022-01-18T12:42:04]\u001b[0m Total uploaded: 210 scalars, 0 tensors, 7 binary objects (3.2 MB)\n",
            "\u001b[1m[2022-01-18T12:42:04]\u001b[0m Done scanning logdir.\n",
            "\n",
            "\n",
            "Done. View your TensorBoard at https://tensorboard.dev/experiment/8BqsA2DIQyi1Oof0gJdCRg/\n"
          ]
        }
      ]
    },
    {
      "cell_type": "code",
      "source": [
        "# Link to tensorboard: https://tensorboard.dev/experiment/JjcGK5f5SxOxDTpOwq0uDw/\n"
      ],
      "metadata": {
        "id": "Lt0spCtUXDu5"
      },
      "execution_count": 126,
      "outputs": []
    },
    {
      "cell_type": "markdown",
      "source": [
        "## saving a model"
      ],
      "metadata": {
        "id": "rmXD1888KeDk"
      }
    },
    {
      "cell_type": "code",
      "source": [
        "model_7.save('model_7.h5') # saving in HDF5 format"
      ],
      "metadata": {
        "id": "Snn6__CJXfTW"
      },
      "execution_count": 129,
      "outputs": []
    },
    {
      "cell_type": "code",
      "source": [
        "#Load model with custom hub layer(required HDF5 format)\n",
        "load_model_7 = tf.keras.models.load_model('model_7.h5',\n",
        "                                          custom_objects = {'KerasLayer':hub.KerasLayer}) #https://www.tensorflow.org/hub/api_docs/python/hub/KerasLayer"
      ],
      "metadata": {
        "id": "iL81yvN8M1Cw"
      },
      "execution_count": 130,
      "outputs": []
    },
    {
      "cell_type": "code",
      "source": [
        "from google.colab import drive\n",
        "drive.mount('/content/drive')"
      ],
      "metadata": {
        "id": "nmzd3qKSNs54"
      },
      "execution_count": null,
      "outputs": []
    },
    {
      "cell_type": "code",
      "source": [
        "load_model_7.evaluate(X_val,y_val)"
      ],
      "metadata": {
        "colab": {
          "base_uri": "https://localhost:8080/"
        },
        "id": "RbufsUl3NRC_",
        "outputId": "68e8dcdc-4b13-4ef9-d534-d00f8b9ade13"
      },
      "execution_count": 132,
      "outputs": [
        {
          "output_type": "stream",
          "name": "stdout",
          "text": [
            "60/60 [==============================] - 2s 18ms/step - loss: 0.4137 - accuracy: 0.8204\n"
          ]
        },
        {
          "output_type": "execute_result",
          "data": {
            "text/plain": [
              "[0.41366317868232727, 0.8203781247138977]"
            ]
          },
          "metadata": {},
          "execution_count": 132
        }
      ]
    },
    {
      "cell_type": "code",
      "source": [
        "model_7_results"
      ],
      "metadata": {
        "colab": {
          "base_uri": "https://localhost:8080/"
        },
        "id": "Tbt3bXYaOLwG",
        "outputId": "c6c22c86-5cd5-4c58-a648-7f96a0eefb46"
      },
      "execution_count": 133,
      "outputs": [
        {
          "output_type": "execute_result",
          "data": {
            "text/plain": [
              "{'accuracy_train': 0.837624802942722,\n",
              " 'accuracy_val': 0.8203781512605042,\n",
              " 'f1_train': 0.8010302640051514,\n",
              " 'f1_val': 0.7829949238578681,\n",
              " 'precision_train': 0.8458748866727108,\n",
              " 'precision_val': 0.8139841688654353,\n",
              " 'recall_train': 0.7607011822258459,\n",
              " 'recall_val': 0.7542787286063569}"
            ]
          },
          "metadata": {},
          "execution_count": 133
        }
      ]
    },
    {
      "cell_type": "code",
      "source": [
        "### Save model format\n",
        "model_7.save('model_7')"
      ],
      "metadata": {
        "colab": {
          "base_uri": "https://localhost:8080/"
        },
        "id": "DXkXU1rYOYi5",
        "outputId": "11bbedc0-cbfd-4856-c66c-9edc76ce6a63"
      },
      "execution_count": 134,
      "outputs": [
        {
          "output_type": "stream",
          "name": "stderr",
          "text": [
            "WARNING:absl:Function `_wrapped_model` contains input name(s) USE_input with unsupported characters which will be renamed to use_input in the SavedModel.\n"
          ]
        },
        {
          "output_type": "stream",
          "name": "stdout",
          "text": [
            "INFO:tensorflow:Assets written to: model_7/assets\n"
          ]
        },
        {
          "output_type": "stream",
          "name": "stderr",
          "text": [
            "INFO:tensorflow:Assets written to: model_7/assets\n"
          ]
        }
      ]
    },
    {
      "cell_type": "code",
      "source": [
        "saved_model_format = tf.keras.models.load_model('model_7')"
      ],
      "metadata": {
        "id": "Ig4mR-0SOh2G"
      },
      "execution_count": 137,
      "outputs": []
    },
    {
      "cell_type": "code",
      "source": [
        "saved_model_format.evaluate(X_val,y_val)"
      ],
      "metadata": {
        "colab": {
          "base_uri": "https://localhost:8080/"
        },
        "id": "M7VXHfzLOtIl",
        "outputId": "90a98d62-6389-42cb-cea8-134a2a13ee00"
      },
      "execution_count": 139,
      "outputs": [
        {
          "output_type": "stream",
          "name": "stdout",
          "text": [
            "60/60 [==============================] - 2s 18ms/step - loss: 0.4137 - accuracy: 0.8204\n"
          ]
        },
        {
          "output_type": "execute_result",
          "data": {
            "text/plain": [
              "[0.41366320848464966, 0.8203781247138977]"
            ]
          },
          "metadata": {},
          "execution_count": 139
        }
      ]
    },
    {
      "cell_type": "markdown",
      "source": [
        "#Error analysis"
      ],
      "metadata": {
        "id": "_rSIif_-O3gC"
      }
    },
    {
      "cell_type": "code",
      "source": [
        "pred_probs = model_7.predict(X_val)"
      ],
      "metadata": {
        "id": "zX540VlBPE3X"
      },
      "execution_count": 141,
      "outputs": []
    },
    {
      "cell_type": "code",
      "source": [
        "preds = tf.cast(tf.squeeze(tf.round(pred_probs)),dtype = tf.int16)"
      ],
      "metadata": {
        "id": "oBC22uRiPPB1"
      },
      "execution_count": 150,
      "outputs": []
    },
    {
      "cell_type": "code",
      "source": [
        "prediction_table = pd.DataFrame({'text':X_val,\n",
        "                                'predictions':preds,\n",
        "                                'pred_probs':tf.squeeze(pred_probs).numpy(),\n",
        "                                'actual':y_val})"
      ],
      "metadata": {
        "id": "JqsalF6gPYjE"
      },
      "execution_count": 157,
      "outputs": []
    },
    {
      "cell_type": "code",
      "source": [
        "prediction_table['wrong_predictions'] = prediction_table.predictions!=prediction_table.actual "
      ],
      "metadata": {
        "id": "qCYvG5KGPj3d"
      },
      "execution_count": 158,
      "outputs": []
    },
    {
      "cell_type": "code",
      "source": [
        "mask = prediction_table['wrong_predictions'] == True\n",
        "wrong_predictions = prediction_table[mask].sort_values(by = 'pred_probs', ascending = False).reset_index(drop= True)"
      ],
      "metadata": {
        "id": "FvaGYGaoPv4N"
      },
      "execution_count": 163,
      "outputs": []
    },
    {
      "cell_type": "code",
      "source": [
        "most_wrong_false_positive = wrong_predictions.head(10)"
      ],
      "metadata": {
        "id": "0JM7QUamROVD"
      },
      "execution_count": 173,
      "outputs": []
    },
    {
      "cell_type": "code",
      "source": [
        "most_wrong_false_negative = wrong_predictions.tail(10)"
      ],
      "metadata": {
        "id": "8IRJcubRRuCz"
      },
      "execution_count": 174,
      "outputs": []
    },
    {
      "cell_type": "code",
      "source": [
        "import itertools\n",
        "print('----------------------------------       False Positives      -------------------------------------')\n",
        "print('---------------------------------------------------------------------------------------------------')\n",
        "for row in wrong_predictions.head(10).itertuples():\n",
        "  _,text,preds,probs,target,_ = row\n",
        "  print(f'target: {target}, predictions: {preds}, probs :{[probs]}')\n",
        "  print(f'text: {text}','\\n')\n",
        "  print('-------------------------------------------------------------------------------------------------------')"
      ],
      "metadata": {
        "colab": {
          "base_uri": "https://localhost:8080/"
        },
        "id": "ayE7yn1WR77m",
        "outputId": "10c4e175-b74e-4c1b-a54f-3312ca535296"
      },
      "execution_count": 189,
      "outputs": [
        {
          "output_type": "stream",
          "name": "stdout",
          "text": [
            "----------------------------------       False Positives      -------------------------------------\n",
            "---------------------------------------------------------------------------------------------------\n",
            "target: 0, predictions: 1, probs :[0.9897798299789429]\n",
            "text: DISASTER AVERTED: Police kill gunman with Û÷hoax deviceÛª atåÊcinema http://t.co/5NG0FzpVdS \n",
            "\n",
            "-------------------------------------------------------------------------------------------------------\n",
            "target: 0, predictions: 1, probs :[0.9741340279579163]\n",
            "text: @adorableappple No reported flooding po in the area. Ten-4. #mmda \n",
            "\n",
            "-------------------------------------------------------------------------------------------------------\n",
            "target: 0, predictions: 1, probs :[0.9655008316040039]\n",
            "text: Two Jewish Terrorists Charged In Historic-Church Arson | The Ugly Truth http://t.co/iEksNFSbY7 http://t.co/VWCf3slkrW \n",
            "\n",
            "-------------------------------------------------------------------------------------------------------\n",
            "target: 0, predictions: 1, probs :[0.961201548576355]\n",
            "text: Trusting Iran to stop terrorism is like inviting an arsonist to join the fire brigade - Telegraph http://t.co/2Z2HTDjQZD \n",
            "\n",
            "-------------------------------------------------------------------------------------------------------\n",
            "target: 0, predictions: 1, probs :[0.9275496602058411]\n",
            "text: Over half of poll respondents worry nuclear disaster fading from public consciousness http://t.co/YtnnnD631z ##fukushima \n",
            "\n",
            "-------------------------------------------------------------------------------------------------------\n"
          ]
        }
      ]
    },
    {
      "cell_type": "code",
      "source": [
        "print('----------------------------------       False Negatives      -------------------------------------')\n",
        "print('---------------------------------------------------------------------------------------------------')\n",
        "for row in wrong_predictions.tail(10).itertuples():\n",
        "  _,text,preds,probs,target,_ = row\n",
        "  print(f'target: {target}, predictions: {preds}, probs :{[probs]}')\n",
        "  print(f'text: {text}','\\n')\n",
        "  print('-------------------------------------------------------------------------------------------------------')"
      ],
      "metadata": {
        "colab": {
          "base_uri": "https://localhost:8080/"
        },
        "id": "g-3N6B5FSgMl",
        "outputId": "7e52d6f8-5e8d-42df-b7da-fb36871a3da7"
      },
      "execution_count": 190,
      "outputs": [
        {
          "output_type": "stream",
          "name": "stdout",
          "text": [
            "----------------------------------       False Negatives      -------------------------------------\n",
            "---------------------------------------------------------------------------------------------------\n",
            "target: 1, predictions: 0, probs :[0.05854713171720505]\n",
            "text: @HowardU If 90BLKs&amp;8WHTs colluded 2 take WHT F @USAgov AUTH Hostage&amp;2 make her look BLK w/Bioterrorism&amp;use her lgl/org IDis ID still hers? \n",
            "\n",
            "-------------------------------------------------------------------------------------------------------\n",
            "target: 1, predictions: 0, probs :[0.05585695430636406]\n",
            "text: Flattened thee striker \n",
            "\n",
            "-------------------------------------------------------------------------------------------------------\n",
            "target: 1, predictions: 0, probs :[0.05264560505747795]\n",
            "text: I can't drown my demons they know how to swim \n",
            "\n",
            "-------------------------------------------------------------------------------------------------------\n",
            "target: 1, predictions: 0, probs :[0.04792399704456329]\n",
            "text: you can stab me in the back but I promise you'll be the one bleeding \n",
            "\n",
            "-------------------------------------------------------------------------------------------------------\n",
            "target: 1, predictions: 0, probs :[0.047895170748233795]\n",
            "text: Crawling in my skin\n",
            "These wounds they will not hea \n",
            "\n",
            "-------------------------------------------------------------------------------------------------------\n",
            "target: 1, predictions: 0, probs :[0.043281614780426025]\n",
            "text: @LEDofficial1 As you can imagine we're inundated with requests each week for samples &amp; as much as we'd love to be able to send sweets 1/2 \n",
            "\n",
            "-------------------------------------------------------------------------------------------------------\n",
            "target: 1, predictions: 0, probs :[0.04202510043978691]\n",
            "text: I'll be at SFA very soon....#Pandemonium http://t.co/RW8b50xz9m \n",
            "\n",
            "-------------------------------------------------------------------------------------------------------\n",
            "target: 1, predictions: 0, probs :[0.03483127802610397]\n",
            "text: Why are you deluged with low self-image? Take the quiz: http://t.co/XsPqdOrIqj http://t.co/CQYvFR4UCy \n",
            "\n",
            "-------------------------------------------------------------------------------------------------------\n",
            "target: 1, predictions: 0, probs :[0.033127594739198685]\n",
            "text: Pandemonium use to be my fav cd ?? I had to get it http://t.co/6WhUgaeM3C \n",
            "\n",
            "-------------------------------------------------------------------------------------------------------\n",
            "target: 1, predictions: 0, probs :[0.02431536465883255]\n",
            "text: ÛÏ@LordBrathwaite: Everyone Here: Ahh I hate snow!\n",
            "\n",
            "Me: Lol u call this a snowstorm..?\n",
            "\n",
            "#growingupincoloradoÛ \n",
            "\n",
            "-------------------------------------------------------------------------------------------------------\n"
          ]
        }
      ]
    },
    {
      "cell_type": "code",
      "source": [
        "test_df = pd.read_csv('test.csv')"
      ],
      "metadata": {
        "id": "PcG18hwvTPh2"
      },
      "execution_count": 192,
      "outputs": []
    },
    {
      "cell_type": "code",
      "source": [
        "test_pred_probs = model_7.predict(test_df['text'])"
      ],
      "metadata": {
        "id": "nyNoysz_VmA4"
      },
      "execution_count": 194,
      "outputs": []
    },
    {
      "cell_type": "code",
      "source": [
        "test_preds = tf.cast(tf.squeeze(tf.round(test_pred_probs)), dtype = tf.int16).numpy()"
      ],
      "metadata": {
        "id": "2ivjYfcZVrF3"
      },
      "execution_count": 198,
      "outputs": []
    },
    {
      "cell_type": "code",
      "source": [
        "test_df['predictions'] = test_preds\n",
        "test_df['prediction_prob'] = tf.squeeze(test_pred_probs).numpy()"
      ],
      "metadata": {
        "id": "j2YGlbnRV0lP"
      },
      "execution_count": 201,
      "outputs": []
    },
    {
      "cell_type": "code",
      "source": [
        "test_sentences = test_df['text'].to_list()\n",
        "test_samples = random.sample(test_sentences,10)\n",
        "for test_sample in test_samples:\n",
        "  pred_prob = tf.squeeze(model_7.predict([test_sample]))\n",
        "  pred = tf.round(pred_prob)\n",
        "  print(f'Pred: {int(pred)}, prob{pred_prob}')\n",
        "  print(f'Text : {test_sample}')\n",
        "  print('----------------------------------------')"
      ],
      "metadata": {
        "colab": {
          "base_uri": "https://localhost:8080/"
        },
        "id": "uX7Uoe02WE5H",
        "outputId": "b4274a5a-1852-45b1-b366-35e5be9a1e7f"
      },
      "execution_count": 206,
      "outputs": [
        {
          "output_type": "stream",
          "name": "stdout",
          "text": [
            "Pred: 0, prob0.17383526265621185\n",
            "Text : HillaryÛªs Bimbo Eruptions and Questionable Financial Dealings Should Derail Campaign http://t.co/kAL1s5mg2z via @politicsisdirty\n",
            "----------------------------------------\n",
            "Pred: 0, prob0.11381566524505615\n",
            "Text : I'll let Louis drown me at the water wall by the mall If that makes him smile\n",
            "----------------------------------------\n",
            "Pred: 0, prob0.2503000795841217\n",
            "Text : God the past few nights have been awesome but tonight it looks like the heat wave is back ?? can't breathe in my room!\n",
            "----------------------------------------\n",
            "Pred: 0, prob0.28235456347465515\n",
            "Text : MGS4 came out during a time of great upheaval in my life and itÛªs very odd that MGSV is coming and itÛªs also when things are getting iffy\n",
            "----------------------------------------\n",
            "Pred: 0, prob0.0857897475361824\n",
            "Text : Stop Extreme Regulations That Hurt The Middle Class http://t.co/ATp5apYxRr\n",
            "----------------------------------------\n",
            "Pred: 1, prob0.8371120095252991\n",
            "Text : 'Prompt and utter' mass murder  https://t.co/BRU7t5UzUy\n",
            "----------------------------------------\n",
            "Pred: 0, prob0.09042001515626907\n",
            "Text : Awful refereeing has ruined the balance of the game. Guy is a bloody mess #IMFC\n",
            "----------------------------------------\n",
            "Pred: 0, prob0.12103510648012161\n",
            "Text : Obama 'lambasted 4 not being respected &amp; 4 being a jokeÛ\n",
            "Would #Trump prefer more civilian casualties?\n",
            "http://t.co/gxQMDMzA1u\n",
            "#GOP\n",
            "#maddow\n",
            "----------------------------------------\n",
            "Pred: 1, prob0.6753401756286621\n",
            "Text : Revel8ion Media recently went out to support the 'Rocky Fire' rescue efforts. This is what we filmed.\n",
            "#RockyFire  http://t.co/Haxz4XLs8d\n",
            "----------------------------------------\n",
            "Pred: 1, prob0.7292470335960388\n",
            "Text : [55433] 1954 LIONEL TRAINS SMOKE LOCOMOTIVES WITH MAGNE-TRACTION INSTRUCTIONS http://t.co/2W2EtbTGdr http://t.co/MWS8130h8n\n",
            "----------------------------------------\n"
          ]
        }
      ]
    },
    {
      "cell_type": "markdown",
      "source": [
        "#The speed/score tradeoff"
      ],
      "metadata": {
        "id": "hIWaHhuGWNTy"
      }
    },
    {
      "cell_type": "code",
      "source": [
        "import time\n",
        "\n",
        "def pred_timer(model,samples):\n",
        "  '''\n",
        "  Times how long a model takes to make predictions\n",
        "  '''\n",
        "  start_time = time.perf_counter()\n",
        "  model.predict(samples)\n",
        "  end_time = time.perf_counter()\n",
        "\n",
        "  return end_time - start_time , (end_time - start_time)/len(samples)"
      ],
      "metadata": {
        "id": "-KRvs3RKX6To"
      },
      "execution_count": 212,
      "outputs": []
    },
    {
      "cell_type": "code",
      "source": [
        "duration_model_0 , time_per_sample_model_0 = pred_timer(model_0,X_val)\n",
        "duration_model_0 , time_per_sample_model_0"
      ],
      "metadata": {
        "colab": {
          "base_uri": "https://localhost:8080/"
        },
        "id": "8afo092gYLGU",
        "outputId": "ace63a46-6e6d-4766-c4a1-a585a059a52b"
      },
      "execution_count": 219,
      "outputs": [
        {
          "output_type": "execute_result",
          "data": {
            "text/plain": [
              "(0.041350343000885914, 2.171761712231403e-05)"
            ]
          },
          "metadata": {},
          "execution_count": 219
        }
      ]
    },
    {
      "cell_type": "code",
      "source": [
        "duration_model_1 , time_per_sample_model_1 = pred_timer(model_7,X_val)\n",
        "duration_model_1 , time_per_sample_model_1"
      ],
      "metadata": {
        "colab": {
          "base_uri": "https://localhost:8080/"
        },
        "id": "kdsJMfUaYxGQ",
        "outputId": "fd20b29d-416b-4e2f-a469-b8c2aa522043"
      },
      "execution_count": 220,
      "outputs": [
        {
          "output_type": "execute_result",
          "data": {
            "text/plain": [
              "(0.9628272310001194, 0.000505686570903424)"
            ]
          },
          "metadata": {},
          "execution_count": 220
        }
      ]
    },
    {
      "cell_type": "code",
      "source": [
        "duration_model_1/duration_model_0"
      ],
      "metadata": {
        "colab": {
          "base_uri": "https://localhost:8080/"
        },
        "id": "nQrbgG0bY4oH",
        "outputId": "902131ee-23f4-4e89-a0bb-a159090cb037"
      },
      "execution_count": 221,
      "outputs": [
        {
          "output_type": "execute_result",
          "data": {
            "text/plain": [
              "23.28462501458552"
            ]
          },
          "metadata": {},
          "execution_count": 221
        }
      ]
    },
    {
      "cell_type": "code",
      "source": [
        "time_per_sample_model_1/time_per_sample_model_0"
      ],
      "metadata": {
        "colab": {
          "base_uri": "https://localhost:8080/"
        },
        "id": "JDJLbnk_ZHT0",
        "outputId": "fcdc6a32-5ada-4866-c6f4-46731bf8ed35"
      },
      "execution_count": 222,
      "outputs": [
        {
          "output_type": "execute_result",
          "data": {
            "text/plain": [
              "23.28462501458552"
            ]
          },
          "metadata": {},
          "execution_count": 222
        }
      ]
    }
  ]
}
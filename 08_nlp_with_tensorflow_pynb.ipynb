{
  "nbformat": 4,
  "nbformat_minor": 0,
  "metadata": {
    "colab": {
      "name": "08-nlp_with_tensorflow.pynb",
      "provenance": [],
      "authorship_tag": "ABX9TyOTWTLNcFDnqe9mtKDXWz3m",
      "include_colab_link": true
    },
    "kernelspec": {
      "name": "python3",
      "display_name": "Python 3"
    },
    "language_info": {
      "name": "python"
    }
  },
  "cells": [
    {
      "cell_type": "markdown",
      "metadata": {
        "id": "view-in-github",
        "colab_type": "text"
      },
      "source": [
        "<a href=\"https://colab.research.google.com/github/ngcheeyuan/Learner-s-Repo-for-Tensorflow/blob/main/08_nlp_with_tensorflow_pynb.ipynb\" target=\"_parent\"><img src=\"https://colab.research.google.com/assets/colab-badge.svg\" alt=\"Open In Colab\"/></a>"
      ]
    },
    {
      "cell_type": "code",
      "execution_count": 1,
      "metadata": {
        "colab": {
          "base_uri": "https://localhost:8080/"
        },
        "id": "29A1QZS7a0s3",
        "outputId": "e482541c-aa89-460f-dc11-a613b940aa73"
      },
      "outputs": [
        {
          "output_type": "stream",
          "name": "stdout",
          "text": [
            "--2022-01-15 02:20:45--  https://raw.githubusercontent.com/mrdbourke/tensorflow-deep-learning/main/extras/helper_functions.py\n",
            "Resolving raw.githubusercontent.com (raw.githubusercontent.com)... 185.199.108.133, 185.199.109.133, 185.199.110.133, ...\n",
            "Connecting to raw.githubusercontent.com (raw.githubusercontent.com)|185.199.108.133|:443... connected.\n",
            "HTTP request sent, awaiting response... 200 OK\n",
            "Length: 10246 (10K) [text/plain]\n",
            "Saving to: ‘helper_functions.py’\n",
            "\n",
            "\rhelper_functions.py   0%[                    ]       0  --.-KB/s               \rhelper_functions.py 100%[===================>]  10.01K  --.-KB/s    in 0s      \n",
            "\n",
            "2022-01-15 02:20:45 (90.1 MB/s) - ‘helper_functions.py’ saved [10246/10246]\n",
            "\n"
          ]
        }
      ],
      "source": [
        "!wget https://raw.githubusercontent.com/mrdbourke/tensorflow-deep-learning/main/extras/helper_functions.py\n"
      ]
    },
    {
      "cell_type": "code",
      "source": [
        "from helper_functions import unzip_data , create_tensorboard_callback, plot_loss_curves , compare_historys"
      ],
      "metadata": {
        "id": "CKX_bZjUiXwM"
      },
      "execution_count": 4,
      "outputs": []
    },
    {
      "cell_type": "code",
      "source": [
        "## Get a text dataset - disaster / not disaster\n",
        "!wget https://storage.googleapis.com/ztm_tf_course/nlp_getting_started.zip\n",
        "unzip_data('nlp_getting_started.zip')"
      ],
      "metadata": {
        "colab": {
          "base_uri": "https://localhost:8080/"
        },
        "id": "PIQPPHxeicSf",
        "outputId": "143dad83-6b1f-4348-ac28-346aa288be5c"
      },
      "execution_count": 6,
      "outputs": [
        {
          "output_type": "stream",
          "name": "stdout",
          "text": [
            "--2022-01-15 02:23:16--  https://storage.googleapis.com/ztm_tf_course/nlp_getting_started.zip\n",
            "Resolving storage.googleapis.com (storage.googleapis.com)... 74.125.137.128, 142.250.141.128, 2607:f8b0:4023:c03::80, ...\n",
            "Connecting to storage.googleapis.com (storage.googleapis.com)|74.125.137.128|:443... connected.\n",
            "HTTP request sent, awaiting response... 200 OK\n",
            "Length: 607343 (593K) [application/zip]\n",
            "Saving to: ‘nlp_getting_started.zip’\n",
            "\n",
            "nlp_getting_started 100%[===================>] 593.11K  --.-KB/s    in 0.04s   \n",
            "\n",
            "2022-01-15 02:23:16 (16.5 MB/s) - ‘nlp_getting_started.zip’ saved [607343/607343]\n",
            "\n"
          ]
        }
      ]
    },
    {
      "cell_type": "code",
      "source": [
        "import pandas as pd"
      ],
      "metadata": {
        "id": "HYrcvrStikCn"
      },
      "execution_count": 7,
      "outputs": []
    },
    {
      "cell_type": "code",
      "source": [
        "df_train = pd.read_csv('train.csv')"
      ],
      "metadata": {
        "id": "j-oKeOhEjEMX"
      },
      "execution_count": 11,
      "outputs": []
    },
    {
      "cell_type": "code",
      "source": [
        "df_test = pd.read_csv('test.csv')"
      ],
      "metadata": {
        "id": "tjJjEWBKjHNX"
      },
      "execution_count": 12,
      "outputs": []
    },
    {
      "cell_type": "code",
      "source": [
        "df_test.head(5) # no labels in test data"
      ],
      "metadata": {
        "colab": {
          "base_uri": "https://localhost:8080/",
          "height": 206
        },
        "id": "m-bMtZP4jK_Y",
        "outputId": "7a5c51ef-9153-4c64-ee69-6e5999c07891"
      },
      "execution_count": 15,
      "outputs": [
        {
          "output_type": "execute_result",
          "data": {
            "text/html": [
              "\n",
              "  <div id=\"df-be684789-14ae-4d1b-b7cb-41cd93ec7ae0\">\n",
              "    <div class=\"colab-df-container\">\n",
              "      <div>\n",
              "<style scoped>\n",
              "    .dataframe tbody tr th:only-of-type {\n",
              "        vertical-align: middle;\n",
              "    }\n",
              "\n",
              "    .dataframe tbody tr th {\n",
              "        vertical-align: top;\n",
              "    }\n",
              "\n",
              "    .dataframe thead th {\n",
              "        text-align: right;\n",
              "    }\n",
              "</style>\n",
              "<table border=\"1\" class=\"dataframe\">\n",
              "  <thead>\n",
              "    <tr style=\"text-align: right;\">\n",
              "      <th></th>\n",
              "      <th>id</th>\n",
              "      <th>keyword</th>\n",
              "      <th>location</th>\n",
              "      <th>text</th>\n",
              "    </tr>\n",
              "  </thead>\n",
              "  <tbody>\n",
              "    <tr>\n",
              "      <th>0</th>\n",
              "      <td>0</td>\n",
              "      <td>NaN</td>\n",
              "      <td>NaN</td>\n",
              "      <td>Just happened a terrible car crash</td>\n",
              "    </tr>\n",
              "    <tr>\n",
              "      <th>1</th>\n",
              "      <td>2</td>\n",
              "      <td>NaN</td>\n",
              "      <td>NaN</td>\n",
              "      <td>Heard about #earthquake is different cities, s...</td>\n",
              "    </tr>\n",
              "    <tr>\n",
              "      <th>2</th>\n",
              "      <td>3</td>\n",
              "      <td>NaN</td>\n",
              "      <td>NaN</td>\n",
              "      <td>there is a forest fire at spot pond, geese are...</td>\n",
              "    </tr>\n",
              "    <tr>\n",
              "      <th>3</th>\n",
              "      <td>9</td>\n",
              "      <td>NaN</td>\n",
              "      <td>NaN</td>\n",
              "      <td>Apocalypse lighting. #Spokane #wildfires</td>\n",
              "    </tr>\n",
              "    <tr>\n",
              "      <th>4</th>\n",
              "      <td>11</td>\n",
              "      <td>NaN</td>\n",
              "      <td>NaN</td>\n",
              "      <td>Typhoon Soudelor kills 28 in China and Taiwan</td>\n",
              "    </tr>\n",
              "  </tbody>\n",
              "</table>\n",
              "</div>\n",
              "      <button class=\"colab-df-convert\" onclick=\"convertToInteractive('df-be684789-14ae-4d1b-b7cb-41cd93ec7ae0')\"\n",
              "              title=\"Convert this dataframe to an interactive table.\"\n",
              "              style=\"display:none;\">\n",
              "        \n",
              "  <svg xmlns=\"http://www.w3.org/2000/svg\" height=\"24px\"viewBox=\"0 0 24 24\"\n",
              "       width=\"24px\">\n",
              "    <path d=\"M0 0h24v24H0V0z\" fill=\"none\"/>\n",
              "    <path d=\"M18.56 5.44l.94 2.06.94-2.06 2.06-.94-2.06-.94-.94-2.06-.94 2.06-2.06.94zm-11 1L8.5 8.5l.94-2.06 2.06-.94-2.06-.94L8.5 2.5l-.94 2.06-2.06.94zm10 10l.94 2.06.94-2.06 2.06-.94-2.06-.94-.94-2.06-.94 2.06-2.06.94z\"/><path d=\"M17.41 7.96l-1.37-1.37c-.4-.4-.92-.59-1.43-.59-.52 0-1.04.2-1.43.59L10.3 9.45l-7.72 7.72c-.78.78-.78 2.05 0 2.83L4 21.41c.39.39.9.59 1.41.59.51 0 1.02-.2 1.41-.59l7.78-7.78 2.81-2.81c.8-.78.8-2.07 0-2.86zM5.41 20L4 18.59l7.72-7.72 1.47 1.35L5.41 20z\"/>\n",
              "  </svg>\n",
              "      </button>\n",
              "      \n",
              "  <style>\n",
              "    .colab-df-container {\n",
              "      display:flex;\n",
              "      flex-wrap:wrap;\n",
              "      gap: 12px;\n",
              "    }\n",
              "\n",
              "    .colab-df-convert {\n",
              "      background-color: #E8F0FE;\n",
              "      border: none;\n",
              "      border-radius: 50%;\n",
              "      cursor: pointer;\n",
              "      display: none;\n",
              "      fill: #1967D2;\n",
              "      height: 32px;\n",
              "      padding: 0 0 0 0;\n",
              "      width: 32px;\n",
              "    }\n",
              "\n",
              "    .colab-df-convert:hover {\n",
              "      background-color: #E2EBFA;\n",
              "      box-shadow: 0px 1px 2px rgba(60, 64, 67, 0.3), 0px 1px 3px 1px rgba(60, 64, 67, 0.15);\n",
              "      fill: #174EA6;\n",
              "    }\n",
              "\n",
              "    [theme=dark] .colab-df-convert {\n",
              "      background-color: #3B4455;\n",
              "      fill: #D2E3FC;\n",
              "    }\n",
              "\n",
              "    [theme=dark] .colab-df-convert:hover {\n",
              "      background-color: #434B5C;\n",
              "      box-shadow: 0px 1px 3px 1px rgba(0, 0, 0, 0.15);\n",
              "      filter: drop-shadow(0px 1px 2px rgba(0, 0, 0, 0.3));\n",
              "      fill: #FFFFFF;\n",
              "    }\n",
              "  </style>\n",
              "\n",
              "      <script>\n",
              "        const buttonEl =\n",
              "          document.querySelector('#df-be684789-14ae-4d1b-b7cb-41cd93ec7ae0 button.colab-df-convert');\n",
              "        buttonEl.style.display =\n",
              "          google.colab.kernel.accessAllowed ? 'block' : 'none';\n",
              "\n",
              "        async function convertToInteractive(key) {\n",
              "          const element = document.querySelector('#df-be684789-14ae-4d1b-b7cb-41cd93ec7ae0');\n",
              "          const dataTable =\n",
              "            await google.colab.kernel.invokeFunction('convertToInteractive',\n",
              "                                                     [key], {});\n",
              "          if (!dataTable) return;\n",
              "\n",
              "          const docLinkHtml = 'Like what you see? Visit the ' +\n",
              "            '<a target=\"_blank\" href=https://colab.research.google.com/notebooks/data_table.ipynb>data table notebook</a>'\n",
              "            + ' to learn more about interactive tables.';\n",
              "          element.innerHTML = '';\n",
              "          dataTable['output_type'] = 'display_data';\n",
              "          await google.colab.output.renderOutput(dataTable, element);\n",
              "          const docLink = document.createElement('div');\n",
              "          docLink.innerHTML = docLinkHtml;\n",
              "          element.appendChild(docLink);\n",
              "        }\n",
              "      </script>\n",
              "    </div>\n",
              "  </div>\n",
              "  "
            ],
            "text/plain": [
              "   id keyword location                                               text\n",
              "0   0     NaN      NaN                 Just happened a terrible car crash\n",
              "1   2     NaN      NaN  Heard about #earthquake is different cities, s...\n",
              "2   3     NaN      NaN  there is a forest fire at spot pond, geese are...\n",
              "3   9     NaN      NaN           Apocalypse lighting. #Spokane #wildfires\n",
              "4  11     NaN      NaN      Typhoon Soudelor kills 28 in China and Taiwan"
            ]
          },
          "metadata": {},
          "execution_count": 15
        }
      ]
    },
    {
      "cell_type": "code",
      "source": [
        "df_train.isna().sum()"
      ],
      "metadata": {
        "colab": {
          "base_uri": "https://localhost:8080/"
        },
        "id": "TQvZS5DsjQUe",
        "outputId": "b68e127c-5cbc-4990-bebd-0b8427da9fde"
      },
      "execution_count": 17,
      "outputs": [
        {
          "output_type": "execute_result",
          "data": {
            "text/plain": [
              "id             0\n",
              "keyword       61\n",
              "location    2533\n",
              "text           0\n",
              "target         0\n",
              "dtype: int64"
            ]
          },
          "metadata": {},
          "execution_count": 17
        }
      ]
    },
    {
      "cell_type": "code",
      "source": [
        "X_train"
      ],
      "metadata": {
        "colab": {
          "base_uri": "https://localhost:8080/"
        },
        "id": "mbg-Ng88k0bD",
        "outputId": "d6c4e362-3ea3-4d9c-be65-3136146a2230"
      },
      "execution_count": 33,
      "outputs": [
        {
          "output_type": "execute_result",
          "data": {
            "text/plain": [
              "5740    VIDEO: 'We're picking up bodies from water': R...\n",
              "1508    The best part of old baseball managers wearing...\n",
              "6549    The 'twins' survived their first day of high s...\n",
              "972     Louis Vuitton Monogram Sophie Limited Edition ...\n",
              "5562    Landslide in Italian Alps kills three: ROME (R...\n",
              "                              ...                        \n",
              "4836    @yelllowheather controlled murder is fine. mas...\n",
              "2379    Will @FoxNews continue to derail the Iran Nucl...\n",
              "5652    UD: Rescue (Structural Collapse) - Scott Road ...\n",
              "6103    that horrible sinking feeling when youÛªve be...\n",
              "759     Rick and Morty - They Blew Up : http://t.co/UQ...\n",
              "Name: text, Length: 5709, dtype: object"
            ]
          },
          "metadata": {},
          "execution_count": 33
        }
      ]
    },
    {
      "cell_type": "code",
      "source": [
        "X = df_train['text']\n",
        "y = df_train['target']"
      ],
      "metadata": {
        "id": "qZ3MpQkFjsAM"
      },
      "execution_count": 19,
      "outputs": []
    },
    {
      "cell_type": "code",
      "source": [
        "from sklearn.model_selection import train_test_split"
      ],
      "metadata": {
        "id": "KBBdyyBvj6JB"
      },
      "execution_count": 20,
      "outputs": []
    },
    {
      "cell_type": "code",
      "source": [
        "X_train , X_val , y_train, y_val = train_test_split(X,y,test_size = 0.25, stratify = y)"
      ],
      "metadata": {
        "id": "_qy-33NdjYFr"
      },
      "execution_count": 31,
      "outputs": []
    },
    {
      "cell_type": "code",
      "source": [
        "y_train.mean(),y_val.mean() , len(X_train), len(y_val)"
      ],
      "metadata": {
        "colab": {
          "base_uri": "https://localhost:8080/"
        },
        "id": "V_AMI3QVkAqx",
        "outputId": "86e55b78-ba82-40f3-b557-cb75cfb9f020"
      },
      "execution_count": 32,
      "outputs": [
        {
          "output_type": "execute_result",
          "data": {
            "text/plain": [
              "(0.4296724470134875, 0.42962184873949577, 5709, 1904)"
            ]
          },
          "metadata": {},
          "execution_count": 32
        }
      ]
    },
    {
      "cell_type": "code",
      "source": [
        "df = pd.concat([X_train,y_train] , axis = 1)"
      ],
      "metadata": {
        "id": "dLuqSxEMlC1m"
      },
      "execution_count": 41,
      "outputs": []
    },
    {
      "cell_type": "code",
      "source": [
        "#Let's visualise some random training examples\n",
        "\n",
        "import random\n",
        "random_index = random.randint(0,len(X_train)-5)\n",
        "\n",
        "for row in df[random_index:random_index+5].itertuples():\n",
        " _,text,target = row\n",
        " print(f'target : {target}', 'real_disaster\\n' if target >0 else 'not_disaster\\n' , f'text : {text}\\n')\n",
        " print('------\\n')"
      ],
      "metadata": {
        "colab": {
          "base_uri": "https://localhost:8080/"
        },
        "id": "TccGhnFckGA2",
        "outputId": "1434d254-6d14-41c8-eedf-6a7a410a649c"
      },
      "execution_count": 54,
      "outputs": [
        {
          "output_type": "stream",
          "name": "stdout",
          "text": [
            "target : 0 not_disaster\n",
            " text : @Morning_Joe @Reince @PressSec Joe ur so smart u should run 4 president Ur perfect !The American people love assholes u'd win by a landslide\n",
            "\n",
            "------\n",
            "\n",
            "target : 1 real_disaster\n",
            " text : Some people are really natural disaster too\n",
            "\n",
            "------\n",
            "\n",
            "target : 1 real_disaster\n",
            " text : Drones Under Fire: Officials Offer $75000 Reward Leading To Pilots Who Flew Over Wildfire http://t.co/d2vEppeh8S #photography #arts\n",
            "\n",
            "------\n",
            "\n",
            "target : 1 real_disaster\n",
            " text : Reid Lake fire prompts campground evacuation order http://t.co/jBODKM6rBU\n",
            "\n",
            "------\n",
            "\n",
            "target : 1 real_disaster\n",
            " text : Cross-border terrorism: Pakistan caught red-handed again http://t.co/uDj50J3MV4\n",
            "\n",
            "------\n",
            "\n"
          ]
        }
      ]
    },
    {
      "cell_type": "markdown",
      "source": [
        "## tokenization & embedding\n",
        "\n",
        "* tokenization - straight character/word/subword to number\n",
        "\n",
        "* embedding - every word becomes a vector - richer representation between tokens -Word2Vec , GloVe"
      ],
      "metadata": {
        "id": "86GArF-zk39A"
      }
    },
    {
      "cell_type": "code",
      "source": [
        "## tokenization\n",
        "import tensorflow as tf\n",
        "from tensorflow.keras.layers import TextVectorization"
      ],
      "metadata": {
        "id": "dHFrsbkAmhA5"
      },
      "execution_count": 72,
      "outputs": []
    },
    {
      "cell_type": "code",
      "source": [
        "text_vec = TextVectorization(max_tokens= 5000,\n",
        "                             standardize = 'lower_and_strip_punctuation',\n",
        "                             split = 'whitespace',\n",
        "                             ngrams = None,\n",
        "                             output_mode = 'int',\n",
        "                             output_sequence_length = None, #pad text to have the same length as the longest text,\n",
        "                             pad_to_max_tokens = True)"
      ],
      "metadata": {
        "id": "QGwb1ChSnepI"
      },
      "execution_count": 77,
      "outputs": []
    },
    {
      "cell_type": "code",
      "source": [
        "#Average number of tokens in the training tweets\n",
        "round(sum([len(i.split()) for i in X_train])/len(X_train))"
      ],
      "metadata": {
        "colab": {
          "base_uri": "https://localhost:8080/"
        },
        "id": "uPcfyNBlogMB",
        "outputId": "d2e7ef63-fc8c-4082-f176-d305758bd6ea"
      },
      "execution_count": 83,
      "outputs": [
        {
          "output_type": "execute_result",
          "data": {
            "text/plain": [
              "15"
            ]
          },
          "metadata": {},
          "execution_count": 83
        }
      ]
    },
    {
      "cell_type": "code",
      "source": [
        "#setup text vectorization variables\n",
        "\n",
        "max_vocab_length = 10000 # max num of words to have in our vocab\n",
        "max_length = 15 # max length of our sequence\n",
        "\n",
        "text_vectorizer = TextVectorization(max_tokens = max_vocab_length,\n",
        "                                    output_sequence_length = max_length)"
      ],
      "metadata": {
        "id": "De0yq7Xxxhd7"
      },
      "execution_count": 85,
      "outputs": []
    },
    {
      "cell_type": "code",
      "source": [
        "#Fit the text vectorizer to the training text\n",
        "text_vectorizer.adapt(X_train)"
      ],
      "metadata": {
        "id": "IFDzJiPbx-t5"
      },
      "execution_count": 86,
      "outputs": []
    },
    {
      "cell_type": "code",
      "source": [
        "#create a sample sentence and tokenize it\n",
        "\n",
        "sample_sentence = \"There's a flood in my street!\"\n",
        "text_vectorizer([sample_sentence])"
      ],
      "metadata": {
        "colab": {
          "base_uri": "https://localhost:8080/"
        },
        "id": "bL9zRWN6yQqA",
        "outputId": "54614daf-bf8a-4382-9df6-e200fb087e28"
      },
      "execution_count": 90,
      "outputs": [
        {
          "output_type": "execute_result",
          "data": {
            "text/plain": [
              "<tf.Tensor: shape=(1, 15), dtype=int64, numpy=\n",
              "array([[259,   3, 192,   4,  13, 757,   0,   0,   0,   0,   0,   0,   0,\n",
              "          0,   0]])>"
            ]
          },
          "metadata": {},
          "execution_count": 90
        }
      ]
    },
    {
      "cell_type": "code",
      "source": [
        "#choose a random sentence from the training dataset and tokenize it\n",
        "\n",
        "random_sentence = random.choice(X_train)\n",
        "print(f'original text:\\n {random_sentence} \\\n",
        "        \\n\\nVectorized version:')\n",
        "text_vectorizer([random_sentence])"
      ],
      "metadata": {
        "colab": {
          "base_uri": "https://localhost:8080/"
        },
        "id": "ChqePVQ8yavr",
        "outputId": "10ad5b24-3466-44c5-aeab-34800a9194ab"
      },
      "execution_count": 93,
      "outputs": [
        {
          "output_type": "stream",
          "name": "stdout",
          "text": [
            "original text:\n",
            " OSP concerned about mounting fatalities http://t.co/YmP0gInwza http://t.co/FYIOQvIOif         \n",
            "\n",
            "Vectorized version:\n"
          ]
        },
        {
          "output_type": "execute_result",
          "data": {
            "text/plain": [
              "<tf.Tensor: shape=(1, 15), dtype=int64, numpy=\n",
              "array([[8981, 1881,   52, 9477,  285,    1,    1,    0,    0,    0,    0,\n",
              "           0,    0,    0,    0]])>"
            ]
          },
          "metadata": {},
          "execution_count": 93
        }
      ]
    },
    {
      "cell_type": "code",
      "source": [
        "# get the unique words in the vocabulary\n",
        "words_in_vocab = text_vectorizer.get_vocabulary()\n",
        "top_5_words = words_in_vocab[:5]\n",
        "bottom_5_words = words_in_vocab[-5:]"
      ],
      "metadata": {
        "id": "7bgq5IMLy0GX"
      },
      "execution_count": 95,
      "outputs": []
    },
    {
      "cell_type": "code",
      "source": [
        "len(words_in_vocab),top_5_words , bottom_5_words"
      ],
      "metadata": {
        "colab": {
          "base_uri": "https://localhost:8080/"
        },
        "id": "v6xzc7aYzMr6",
        "outputId": "5b7d8f16-ad87-4845-ddc0-1d5b00d017c7"
      },
      "execution_count": 101,
      "outputs": [
        {
          "output_type": "execute_result",
          "data": {
            "text/plain": [
              "(10000,\n",
              " ['', '[UNK]', 'the', 'a', 'in'],\n",
              " ['losangeles', 'lorry', 'loretta', 'lore', 'lopezandthelion'])"
            ]
          },
          "metadata": {},
          "execution_count": 101
        }
      ]
    },
    {
      "cell_type": "markdown",
      "source": [
        "### Create an embedding layer \n",
        "reference : https://www.tensorflow.org/api_docs/python/tf/keras/layers/Embedding\n",
        "\n",
        "The parameters we care most about for our embedding layer:\n",
        "* input_dims = the size of our vocabulary\n",
        "* output_dims = the size of the output embedding vector, a value of 100 would mean each token gets represented by a vector 100 long\n",
        "* input_lnegth = length of the sequence being passed to the embedding layer "
      ],
      "metadata": {
        "id": "Wx0iAyH8zIZB"
      }
    },
    {
      "cell_type": "code",
      "source": [
        "from tensorflow.keras import layers\n",
        "\n",
        "embedding = layers.Embedding(input_dim = max_vocab_length,\n",
        "                             output_dim = 128,\n",
        "                             input_length = max_length)\n",
        "embedding"
      ],
      "metadata": {
        "colab": {
          "base_uri": "https://localhost:8080/"
        },
        "id": "0oDGHaKJzvpF",
        "outputId": "50aae301-eb9f-4245-c78b-bad46dd9c21b"
      },
      "execution_count": 103,
      "outputs": [
        {
          "output_type": "execute_result",
          "data": {
            "text/plain": [
              "<keras.layers.embeddings.Embedding at 0x7fc711f1c790>"
            ]
          },
          "metadata": {},
          "execution_count": 103
        }
      ]
    },
    {
      "cell_type": "code",
      "source": [
        "random_sentence = random.choice(X_train)\n",
        "print(f'original sentence: {random_sentence}')\n",
        "print('embedded sentence: \\n')\n",
        "sampled_embed = embedding(text_vectorizer([random_sentence]))\n",
        "sampled_embed"
      ],
      "metadata": {
        "colab": {
          "base_uri": "https://localhost:8080/"
        },
        "id": "72x2OQ990Y2g",
        "outputId": "c90be10f-1e1c-4f21-a558-a778f1edf3ca"
      },
      "execution_count": 110,
      "outputs": [
        {
          "output_type": "stream",
          "name": "stdout",
          "text": [
            "original sentence: Downtown Emergency Service Center is hiring! #Chemical #Dependency Counselor or Intern in #Seattle apply now! #jobs http://t.co/SKQPWSNOin\n",
            "embedded sentence: \n",
            "\n"
          ]
        },
        {
          "output_type": "execute_result",
          "data": {
            "text/plain": [
              "<tf.Tensor: shape=(1, 15, 128), dtype=float32, numpy=\n",
              "array([[[ 0.04944539,  0.04037405, -0.04081986, ...,  0.00388252,\n",
              "         -0.01702844,  0.02214609],\n",
              "        [-0.01620657,  0.04914521, -0.04942518, ..., -0.00988957,\n",
              "         -0.03543322,  0.01118841],\n",
              "        [ 0.00768814,  0.02774942, -0.0049371 , ...,  0.04154738,\n",
              "         -0.00191029, -0.03607891],\n",
              "        ...,\n",
              "        [ 0.04287002, -0.01480588, -0.03319335, ...,  0.01150355,\n",
              "         -0.04213332, -0.0372829 ],\n",
              "        [-0.01833663,  0.00146604,  0.02814621, ..., -0.0164618 ,\n",
              "         -0.00345272, -0.01905504],\n",
              "        [ 0.04219855, -0.00685462, -0.00658493, ..., -0.0284266 ,\n",
              "         -0.00797322, -0.00803772]]], dtype=float32)>"
            ]
          },
          "metadata": {},
          "execution_count": 110
        }
      ]
    },
    {
      "cell_type": "code",
      "source": [
        "sampled_embed[0][0],sampled_embed[0][0].shape, random_sentence, text_vectorizer([random_sentence])"
      ],
      "metadata": {
        "colab": {
          "base_uri": "https://localhost:8080/"
        },
        "id": "O-J86ggw0ntd",
        "outputId": "d2f6a760-ce6a-4d32-eb87-4d8db1884ea4"
      },
      "execution_count": 115,
      "outputs": [
        {
          "output_type": "execute_result",
          "data": {
            "text/plain": [
              "(<tf.Tensor: shape=(128,), dtype=float32, numpy=\n",
              " array([ 0.04944539,  0.04037405, -0.04081986, -0.02289185,  0.01092731,\n",
              "        -0.02358   , -0.01146393, -0.0350467 , -0.01117951,  0.03443919,\n",
              "         0.04162939, -0.01438476,  0.02754383, -0.02871627,  0.04556448,\n",
              "        -0.04880804,  0.01672919,  0.00195135, -0.03829076, -0.02524284,\n",
              "        -0.04601251, -0.03189303,  0.02761498, -0.00169505,  0.0483521 ,\n",
              "        -0.00157613, -0.04796144, -0.01537554,  0.04069507, -0.04892487,\n",
              "         0.04520634, -0.01125417,  0.00832789, -0.03282966, -0.03243369,\n",
              "        -0.04193339, -0.02511194,  0.01885872, -0.03237641, -0.00479548,\n",
              "        -0.02375308,  0.03799135,  0.03571931, -0.01210807,  0.0190069 ,\n",
              "         0.04948295, -0.01094959,  0.01033096, -0.00967931, -0.01963001,\n",
              "         0.04906949, -0.04457519, -0.04888879, -0.00516742,  0.01409291,\n",
              "         0.04619911,  0.01247301,  0.03141513, -0.03049445, -0.0053605 ,\n",
              "         0.00405968, -0.03420593,  0.03578899,  0.01086663,  0.01940061,\n",
              "        -0.00495932,  0.00396864, -0.02547811,  0.01554749, -0.0356593 ,\n",
              "        -0.04996185, -0.0444429 , -0.02035919, -0.00543404,  0.04211614,\n",
              "        -0.01633496, -0.03965368, -0.04165643, -0.0377004 ,  0.03176847,\n",
              "        -0.03748057, -0.04464583,  0.002457  , -0.01115471, -0.04518611,\n",
              "         0.00100311,  0.04629456, -0.0049615 ,  0.03680321, -0.0448943 ,\n",
              "        -0.0123425 , -0.00028268,  0.03150422, -0.00390035, -0.01003891,\n",
              "         0.03891838, -0.04784374, -0.01915493, -0.02227384,  0.0486383 ,\n",
              "         0.04367769,  0.01624096, -0.02480079,  0.03944714, -0.04593456,\n",
              "        -0.01557708,  0.02050605,  0.03088511,  0.02507076, -0.01489158,\n",
              "        -0.04349123,  0.02600428, -0.02411587,  0.0097468 ,  0.00083028,\n",
              "        -0.00725488,  0.01068076,  0.00367625,  0.03616898,  0.02564744,\n",
              "         0.01431343,  0.04648945, -0.02214304, -0.0376896 , -0.02263867,\n",
              "         0.00388252, -0.01702844,  0.02214609], dtype=float32)>,\n",
              " TensorShape([128]),\n",
              " 'Downtown Emergency Service Center is hiring! #Chemical #Dependency Counselor or Intern in #Seattle apply now! #jobs http://t.co/SKQPWSNOin',\n",
              " <tf.Tensor: shape=(1, 15), dtype=int64, numpy=\n",
              " array([[ 822,   69,  294,  700,    9, 1047,  413, 2688, 2703,   50, 2570,\n",
              "            4, 1281, 1506,   54]])>)"
            ]
          },
          "metadata": {},
          "execution_count": 115
        }
      ]
    },
    {
      "cell_type": "markdown",
      "source": [
        "# Modelling a text dataset\n",
        "* 0 - baseline - Naive Bayes with TF-ID encoder\n",
        "* 1 - feed-forwad neural network\n",
        "* 2 - LSTM (RNN)\n",
        "* 3 - GRU (RNN)\n",
        "* 4 - Bidirectional-LSTM(RNN)\n",
        "* 5 - 1D CNN\n",
        "* 6 - Tensorhub Pretrained Feature Extractor (Transfer learning)\n",
        "* 7 - Tensorhub Pretrained Feature Extract (10% of data)"
      ],
      "metadata": {
        "id": "G-QkXNVN1Kfp"
      }
    },
    {
      "cell_type": "markdown",
      "source": [
        "### Moel 0 : getting a baseline"
      ],
      "metadata": {
        "id": "kwKB36BN14Ps"
      }
    },
    {
      "cell_type": "code",
      "source": [
        "from sklearn.feature_extraction.text import TfidfVectorizer\n",
        "from sklearn.naive_bayes import MultinomialNB\n",
        "from sklearn.pipeline import Pipeline"
      ],
      "metadata": {
        "id": "bycQLseR2Rdy"
      },
      "execution_count": 118,
      "outputs": []
    },
    {
      "cell_type": "code",
      "source": [
        "model_0 = Pipeline([('tfidf',TfidfVectorizer()),\n",
        "                     ('clf',MultinomialNB())])"
      ],
      "metadata": {
        "id": "uLbdpyxF2jED"
      },
      "execution_count": 121,
      "outputs": []
    },
    {
      "cell_type": "code",
      "source": [
        "model_0.fit(X_train,y_train)"
      ],
      "metadata": {
        "colab": {
          "base_uri": "https://localhost:8080/"
        },
        "id": "3yi1hCwh2wxw",
        "outputId": "e6a528ee-52b8-42e4-ceb9-73047c67a8ef"
      },
      "execution_count": 122,
      "outputs": [
        {
          "output_type": "execute_result",
          "data": {
            "text/plain": [
              "Pipeline(steps=[('tfidf', TfidfVectorizer()), ('clf', MultinomialNB())])"
            ]
          },
          "metadata": {},
          "execution_count": 122
        }
      ]
    },
    {
      "cell_type": "code",
      "source": [
        "from sklearn.metrics import accuracy_score"
      ],
      "metadata": {
        "id": "vVGU536a24ah"
      },
      "execution_count": 123,
      "outputs": []
    },
    {
      "cell_type": "code",
      "source": [
        "baseline_score_train = model_0.score(X_train,y_train)\n",
        "baseline_score_val = model_0.score(X_val,y_val)\n",
        "baseline_score_train,baseline_score_val"
      ],
      "metadata": {
        "colab": {
          "base_uri": "https://localhost:8080/"
        },
        "id": "OsfspS0y2-_S",
        "outputId": "b98fcb45-b396-4db1-d7cc-cc58943be88d"
      },
      "execution_count": 127,
      "outputs": [
        {
          "output_type": "execute_result",
          "data": {
            "text/plain": [
              "(0.8887721142056402, 0.7993697478991597)"
            ]
          },
          "metadata": {},
          "execution_count": 127
        }
      ]
    },
    {
      "cell_type": "code",
      "source": [
        "from sklearn.metrics import accuracy_score, f1_score , precision_score, recall_score\n",
        "from sklearn.metrics import classification_report"
      ],
      "metadata": {
        "id": "2-8a2SP53pym"
      },
      "execution_count": 128,
      "outputs": []
    },
    {
      "cell_type": "code",
      "source": [
        "def evaluation_metrics(y_preds_train,\n",
        "                       y_preds_val,\n",
        "                       y_train,\n",
        "                       y_val):\n",
        "  \n",
        "  '''\n",
        "  Calculates model accuracy, precision, recall, f1 score of a binary classification model\n",
        "  '''\n",
        "\n",
        "\n",
        " # can use precision_recall_fscore_support \n",
        "\n",
        "  return {'accuracy_train':accuracy_score(y_train,y_preds_train),\n",
        "          'accuracy_val':accuracy_score(y_val,y_preds_val),\n",
        "          'precision_train':precision_score(y_train,y_preds_train),\n",
        "          'precision_val':precision_score(y_val,y_preds_val),\n",
        "          'recall_train':recall_score(y_train,y_preds_train),\n",
        "          'recall_val':recall_score(y_val,y_preds_val),\n",
        "          'f1_train':f1_score(y_train,y_preds_train,),\n",
        "          'f1_val':f1_score(y_val,y_preds_val)}"
      ],
      "metadata": {
        "id": "_T3OV-9m3MPe"
      },
      "execution_count": 181,
      "outputs": []
    },
    {
      "cell_type": "code",
      "source": [
        "y_pred_train = model_0.predict(X_train)\n",
        "y_pred_val = model_0.predict(X_val)\n",
        "baseline_results = evaluation_metrics(y_pred_train,y_pred_val,y_train,y_val)\n",
        "baseline_results"
      ],
      "metadata": {
        "colab": {
          "base_uri": "https://localhost:8080/"
        },
        "id": "S4dkDkTA4wDA",
        "outputId": "f3d3575f-8ef8-4b1a-82db-5966353d6f37"
      },
      "execution_count": 182,
      "outputs": [
        {
          "output_type": "execute_result",
          "data": {
            "text/plain": [
              "{'accuracy_train': 0.8887721142056402,\n",
              " 'accuracy_val': 0.7993697478991597,\n",
              " 'f1_train': 0.8568207440811726,\n",
              " 'f1_val': 0.7255747126436782,\n",
              " 'precision_train': 0.958627648839556,\n",
              " 'precision_val': 0.8797909407665505,\n",
              " 'recall_train': 0.7745617611088463,\n",
              " 'recall_val': 0.617359413202934}"
            ]
          },
          "metadata": {},
          "execution_count": 182
        }
      ]
    },
    {
      "cell_type": "markdown",
      "source": [
        "### Model 1 : Feed-forward neural network (dense model)"
      ],
      "metadata": {
        "id": "ty1Nq6qQ6kAu"
      }
    },
    {
      "cell_type": "code",
      "source": [
        "# Create a tensorboard callback\n",
        "from helper_functions import create_tensorboard_callback\n",
        "\n",
        "#create a directory to save tensorboard logs\n",
        "SAVE_DIR = 'model_logs'"
      ],
      "metadata": {
        "id": "S8y5RPfw60u9"
      },
      "execution_count": 148,
      "outputs": []
    },
    {
      "cell_type": "code",
      "source": [
        "#build model with functional API\n",
        "from tensorflow.keras import layers\n",
        "inputs = layers.Input(shape =(1,), dtype=tf.string)\n",
        "x = text_vectorizer(inputs)\n",
        "x = embedding(x) # create an embedding of the numberized inputs\n",
        "x = layers.GlobalAveragePooling1D()(x) #condense the feature vector for each token to one vector\n",
        "outputs = layers.Dense(1, activation = 'sigmoid')(x)\n",
        "model_1 = tf.keras.Model(inputs,outputs,name = 'model_1_dense')"
      ],
      "metadata": {
        "id": "ruqtK7Cx69BA"
      },
      "execution_count": 159,
      "outputs": []
    },
    {
      "cell_type": "code",
      "source": [
        "model_1.summary()"
      ],
      "metadata": {
        "colab": {
          "base_uri": "https://localhost:8080/"
        },
        "id": "mdrF5m9M8tCU",
        "outputId": "dad70f49-fb2d-48fe-d2cd-eac0fde29b33"
      },
      "execution_count": 160,
      "outputs": [
        {
          "output_type": "stream",
          "name": "stdout",
          "text": [
            "Model: \"model_1_dense\"\n",
            "_________________________________________________________________\n",
            " Layer (type)                Output Shape              Param #   \n",
            "=================================================================\n",
            " input_3 (InputLayer)        [(None, 1)]               0         \n",
            "                                                                 \n",
            " text_vectorization_13 (Text  (None, 15)               0         \n",
            " Vectorization)                                                  \n",
            "                                                                 \n",
            " embedding (Embedding)       (None, 15, 128)           1280000   \n",
            "                                                                 \n",
            " global_average_pooling1d (G  (None, 128)              0         \n",
            " lobalAveragePooling1D)                                          \n",
            "                                                                 \n",
            " dense_1 (Dense)             (None, 1)                 129       \n",
            "                                                                 \n",
            "=================================================================\n",
            "Total params: 1,280,129\n",
            "Trainable params: 1,280,129\n",
            "Non-trainable params: 0\n",
            "_________________________________________________________________\n"
          ]
        }
      ]
    },
    {
      "cell_type": "code",
      "source": [
        "model_1.summary()"
      ],
      "metadata": {
        "colab": {
          "base_uri": "https://localhost:8080/"
        },
        "id": "8GKmfywt7P4D",
        "outputId": "9a8f5e33-a73a-46cc-8b04-3e659b1a7baa"
      },
      "execution_count": 151,
      "outputs": [
        {
          "output_type": "stream",
          "name": "stdout",
          "text": [
            "Model: \"model_1_dense\"\n",
            "_________________________________________________________________\n",
            " Layer (type)                Output Shape              Param #   \n",
            "=================================================================\n",
            " input_2 (InputLayer)        [(None, 1)]               0         \n",
            "                                                                 \n",
            " text_vectorization_13 (Text  (None, 15)               0         \n",
            " Vectorization)                                                  \n",
            "                                                                 \n",
            " embedding (Embedding)       (None, 15, 128)           1280000   \n",
            "                                                                 \n",
            " dense (Dense)               (None, 15, 1)             129       \n",
            "                                                                 \n",
            "=================================================================\n",
            "Total params: 1,280,129\n",
            "Trainable params: 1,280,129\n",
            "Non-trainable params: 0\n",
            "_________________________________________________________________\n"
          ]
        }
      ]
    },
    {
      "cell_type": "code",
      "source": [
        "#Compile model\n",
        "model_1.compile(loss = tf.keras.losses.BinaryCrossentropy(),\n",
        "                optimizer = tf.keras.optimizers.Adam(),\n",
        "                metrics = ['accuracy'])"
      ],
      "metadata": {
        "id": "rMfzDPDS7eP5"
      },
      "execution_count": 152,
      "outputs": []
    },
    {
      "cell_type": "code",
      "source": [
        "model_1_history = model_1.fit(x=X_train,\n",
        "                              y=y_train,\n",
        "                              epochs = 5,\n",
        "                              validation_data = (X_val,y_val),\n",
        "                              callbacks = [create_tensorboard_callback(dir_name = SAVE_DIR,\n",
        "                                                                       experiment_name = 'model_1_dense')])"
      ],
      "metadata": {
        "colab": {
          "base_uri": "https://localhost:8080/"
        },
        "id": "XvjnHmpV7t-y",
        "outputId": "dea2eb29-fa34-4476-a44a-138a6e9c7486"
      },
      "execution_count": 154,
      "outputs": [
        {
          "output_type": "stream",
          "name": "stdout",
          "text": [
            "Saving TensorBoard log files to: model_logs/model_1_dense/20220115-041305\n",
            "Epoch 1/5\n",
            "179/179 [==============================] - 3s 13ms/step - loss: 0.6546 - accuracy: 0.6338 - val_loss: 0.6273 - val_accuracy: 0.6587\n",
            "Epoch 2/5\n",
            "179/179 [==============================] - 2s 12ms/step - loss: 0.5993 - accuracy: 0.6925 - val_loss: 0.6200 - val_accuracy: 0.6594\n",
            "Epoch 3/5\n",
            "179/179 [==============================] - 2s 11ms/step - loss: 0.5745 - accuracy: 0.6936 - val_loss: 0.6240 - val_accuracy: 0.6592\n",
            "Epoch 4/5\n",
            "179/179 [==============================] - 2s 12ms/step - loss: 0.5628 - accuracy: 0.6945 - val_loss: 0.6314 - val_accuracy: 0.6582\n",
            "Epoch 5/5\n",
            "179/179 [==============================] - 2s 12ms/step - loss: 0.5573 - accuracy: 0.6944 - val_loss: 0.6345 - val_accuracy: 0.6586\n"
          ]
        }
      ]
    },
    {
      "cell_type": "code",
      "source": [
        "model_1.evaluate(X_val,y_val)"
      ],
      "metadata": {
        "colab": {
          "base_uri": "https://localhost:8080/"
        },
        "id": "OsdyK_rE8CEg",
        "outputId": "3a3b3e5f-9d95-44f0-ccbb-cedb2249b3d1"
      },
      "execution_count": 156,
      "outputs": [
        {
          "output_type": "stream",
          "name": "stdout",
          "text": [
            "60/60 [==============================] - 0s 2ms/step - loss: 0.6345 - accuracy: 0.6586\n"
          ]
        },
        {
          "output_type": "execute_result",
          "data": {
            "text/plain": [
              "[0.6345201730728149, 0.6586484313011169]"
            ]
          },
          "metadata": {},
          "execution_count": 156
        }
      ]
    },
    {
      "cell_type": "code",
      "source": [
        "model_1_pred_probs = model_1.predict(X_val)\n",
        "model_1_pred_probs.shape"
      ],
      "metadata": {
        "colab": {
          "base_uri": "https://localhost:8080/"
        },
        "id": "tZ6MoDpR8N1U",
        "outputId": "6aa9abf6-3196-43e4-e1d6-25412d165f91"
      },
      "execution_count": 157,
      "outputs": [
        {
          "output_type": "execute_result",
          "data": {
            "text/plain": [
              "(1904, 15, 1)"
            ]
          },
          "metadata": {},
          "execution_count": 157
        }
      ]
    },
    {
      "cell_type": "code",
      "source": [
        "model_1_pred_probs[0]"
      ],
      "metadata": {
        "colab": {
          "base_uri": "https://localhost:8080/"
        },
        "id": "fYXl1PHz8XNz",
        "outputId": "aa4a5a6e-fb71-4c7b-cd61-d31ef5117186"
      },
      "execution_count": 158,
      "outputs": [
        {
          "output_type": "execute_result",
          "data": {
            "text/plain": [
              "array([[0.1985704 ],\n",
              "       [0.1126219 ],\n",
              "       [0.38585526],\n",
              "       [0.21389925],\n",
              "       [0.38323477],\n",
              "       [0.38323477],\n",
              "       [0.38323477],\n",
              "       [0.38323477],\n",
              "       [0.38323477],\n",
              "       [0.38323477],\n",
              "       [0.38323477],\n",
              "       [0.38323477],\n",
              "       [0.38323477],\n",
              "       [0.38323477],\n",
              "       [0.38323477]], dtype=float32)"
            ]
          },
          "metadata": {},
          "execution_count": 158
        }
      ]
    },
    {
      "cell_type": "code",
      "source": [
        "model_1.compile(loss = tf.keras.losses.BinaryCrossentropy(),\n",
        "                optimizer = tf.keras.optimizers.Adam(),\n",
        "                metrics = ['accuracy'])\n",
        "\n",
        "model_1_corrected_history = model_1.fit(x=X_train,\n",
        "                                        y=y_train,\n",
        "                                        epochs = 5,\n",
        "                                        validation_data = (X_val,y_val),\n",
        "                                        callbacks = [create_tensorboard_callback(dir_name = SAVE_DIR,\n",
        "                                                                                experiment_name = 'model_1_dense_corrected')])"
      ],
      "metadata": {
        "colab": {
          "base_uri": "https://localhost:8080/"
        },
        "id": "HGsT6S0z8czm",
        "outputId": "7aada869-3294-46a2-db92-10625cf5150a"
      },
      "execution_count": 162,
      "outputs": [
        {
          "output_type": "stream",
          "name": "stdout",
          "text": [
            "Saving TensorBoard log files to: model_logs/model_1_dense_corrected/20220115-041646\n",
            "Epoch 1/5\n",
            "179/179 [==============================] - 3s 13ms/step - loss: 0.5878 - accuracy: 0.7462 - val_loss: 0.5400 - val_accuracy: 0.7637\n",
            "Epoch 2/5\n",
            "179/179 [==============================] - 2s 12ms/step - loss: 0.4215 - accuracy: 0.8522 - val_loss: 0.4700 - val_accuracy: 0.7878\n",
            "Epoch 3/5\n",
            "179/179 [==============================] - 2s 12ms/step - loss: 0.3304 - accuracy: 0.8793 - val_loss: 0.4499 - val_accuracy: 0.8009\n",
            "Epoch 4/5\n",
            "179/179 [==============================] - 2s 12ms/step - loss: 0.2716 - accuracy: 0.9030 - val_loss: 0.4476 - val_accuracy: 0.8009\n",
            "Epoch 5/5\n",
            "179/179 [==============================] - 2s 12ms/step - loss: 0.2271 - accuracy: 0.9203 - val_loss: 0.4588 - val_accuracy: 0.7988\n"
          ]
        }
      ]
    },
    {
      "cell_type": "code",
      "source": [
        "model_1.evaluate(X_val,y_val)"
      ],
      "metadata": {
        "colab": {
          "base_uri": "https://localhost:8080/"
        },
        "id": "lBT63Xqa801r",
        "outputId": "4fe7cbd4-dd82-4449-9a02-20ca8f08a1c8"
      },
      "execution_count": 163,
      "outputs": [
        {
          "output_type": "stream",
          "name": "stdout",
          "text": [
            "60/60 [==============================] - 0s 2ms/step - loss: 0.4588 - accuracy: 0.7988\n"
          ]
        },
        {
          "output_type": "execute_result",
          "data": {
            "text/plain": [
              "[0.4587961435317993, 0.7988445162773132]"
            ]
          },
          "metadata": {},
          "execution_count": 163
        }
      ]
    },
    {
      "cell_type": "code",
      "source": [
        "plot_loss_curves(model_1_corrected_history)"
      ],
      "metadata": {
        "colab": {
          "base_uri": "https://localhost:8080/",
          "height": 573
        },
        "id": "MA7PYorG9D_g",
        "outputId": "17b4d137-4d30-4766-e137-574b6602a66b"
      },
      "execution_count": 164,
      "outputs": [
        {
          "output_type": "display_data",
          "data": {
            "image/png": "[encoded data removed]",
            "text/plain": [
              "<Figure size 432x288 with 1 Axes>"
            ]
          },
          "metadata": {
            "needs_background": "light"
          }
        },
        {
          "output_type": "display_data",
          "data": {
            "image/png": "[encoded data removed]",
            "text/plain": [
              "<Figure size 432x288 with 1 Axes>"
            ]
          },
          "metadata": {
            "needs_background": "light"
          }
        }
      ]
    },
    {
      "cell_type": "code",
      "source": [
        "model_1_pred_probs_val = model_1.predict(X_val)\n",
        "model_1_pred_probs_train = model_1.predict(X_train)"
      ],
      "metadata": {
        "id": "hnwvN_KA9LDt"
      },
      "execution_count": 183,
      "outputs": []
    },
    {
      "cell_type": "code",
      "source": [
        "import numpy as np\n",
        "model_1_preds_val = tf.cast(tf.squeeze(tf.round(model_1_pred_probs_val)), dtype = tf.int16)\n",
        "model_1_preds_train = tf.cast(tf.squeeze(tf.round(model_1_pred_probs_train)), dtype = tf.int16)\n",
        "model_1_preds_val,model_1_preds_train"
      ],
      "metadata": {
        "colab": {
          "base_uri": "https://localhost:8080/"
        },
        "id": "2NZDtr_29Z0P",
        "outputId": "4ec38812-5051-4e14-c994-e47f55b7c5b4"
      },
      "execution_count": 184,
      "outputs": [
        {
          "output_type": "execute_result",
          "data": {
            "text/plain": [
              "(<tf.Tensor: shape=(1904,), dtype=int16, numpy=array([0, 1, 0, ..., 0, 0, 0], dtype=int16)>,\n",
              " <tf.Tensor: shape=(5709,), dtype=int16, numpy=array([1, 0, 0, ..., 1, 1, 0], dtype=int16)>)"
            ]
          },
          "metadata": {},
          "execution_count": 184
        }
      ]
    },
    {
      "cell_type": "code",
      "source": [
        "model_1_results = evaluation_metrics(model_1_preds_train,\n",
        "                                     model_1_preds_val,\n",
        "                                     y_train,\n",
        "                                     y_val)"
      ],
      "metadata": {
        "id": "ajtzVARE9cLC"
      },
      "execution_count": 191,
      "outputs": []
    },
    {
      "cell_type": "code",
      "source": [
        "model_1_results"
      ],
      "metadata": {
        "colab": {
          "base_uri": "https://localhost:8080/"
        },
        "id": "BYYSvNZe_aAK",
        "outputId": "727bc471-72d6-4be2-82da-6842f8808eaa"
      },
      "execution_count": 192,
      "outputs": [
        {
          "output_type": "execute_result",
          "data": {
            "text/plain": [
              "{'accuracy_train': 0.9393939393939394,\n",
              " 'accuracy_val': 0.7988445378151261,\n",
              " 'f1_train': 0.9266327396098388,\n",
              " 'f1_val': 0.7530625402965827,\n",
              " 'precision_train': 0.9655324790101635,\n",
              " 'precision_val': 0.7967257844474761,\n",
              " 'recall_train': 0.8907460252751732,\n",
              " 'recall_val': 0.7139364303178484}"
            ]
          },
          "metadata": {},
          "execution_count": 192
        }
      ]
    },
    {
      "cell_type": "code",
      "source": [
        "baseline_results"
      ],
      "metadata": {
        "colab": {
          "base_uri": "https://localhost:8080/"
        },
        "id": "KrX46xuF_eBL",
        "outputId": "f91f5c05-072c-4922-d768-99f96ef259be"
      },
      "execution_count": 193,
      "outputs": [
        {
          "output_type": "execute_result",
          "data": {
            "text/plain": [
              "{'accuracy_train': 0.8887721142056402,\n",
              " 'accuracy_val': 0.7993697478991597,\n",
              " 'f1_train': 0.8568207440811726,\n",
              " 'f1_val': 0.7255747126436782,\n",
              " 'precision_train': 0.958627648839556,\n",
              " 'precision_val': 0.8797909407665505,\n",
              " 'recall_train': 0.7745617611088463,\n",
              " 'recall_val': 0.617359413202934}"
            ]
          },
          "metadata": {},
          "execution_count": 193
        }
      ]
    },
    {
      "cell_type": "code",
      "source": [
        "np.array(list(model_1_results.values())) >np.array(list(baseline_results.values()))"
      ],
      "metadata": {
        "colab": {
          "base_uri": "https://localhost:8080/"
        },
        "id": "fOplYs85_m0J",
        "outputId": "8269c12a-1102-4a97-e76c-8299279ff757"
      },
      "execution_count": 194,
      "outputs": [
        {
          "output_type": "execute_result",
          "data": {
            "text/plain": [
              "array([ True, False,  True, False,  True,  True,  True,  True])"
            ]
          },
          "metadata": {},
          "execution_count": 194
        }
      ]
    },
    {
      "cell_type": "code",
      "source": [
        ""
      ],
      "metadata": {
        "id": "Wdvu7qxr_1Gk"
      },
      "execution_count": null,
      "outputs": []
    }
  ]
}
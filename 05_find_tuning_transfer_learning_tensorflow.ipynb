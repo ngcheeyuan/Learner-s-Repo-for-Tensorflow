{
  "nbformat": 4,
  "nbformat_minor": 0,
  "metadata": {
    "colab": {
      "name": "05-find-tuning-transfer_learning_tensorflow.ipynb",
      "provenance": [],
      "collapsed_sections": [],
      "authorship_tag": "ABX9TyMJb9s48mw7X9b4pX+31MzL",
      "include_colab_link": true
    },
    "kernelspec": {
      "name": "python3",
      "display_name": "Python 3"
    },
    "language_info": {
      "name": "python"
    },
    "accelerator": "GPU"
  },
  "cells": [
    {
      "cell_type": "markdown",
      "metadata": {
        "id": "view-in-github",
        "colab_type": "text"
      },
      "source": [
        "<a href=\"https://colab.research.google.com/github/ngcheeyuan/Learner-s-Repo-for-Tensorflow/blob/main/05_find_tuning_transfer_learning_tensorflow.ipynb\" target=\"_parent\"><img src=\"https://colab.research.google.com/assets/colab-badge.svg\" alt=\"Open In Colab\"/></a>"
      ]
    },
    {
      "cell_type": "markdown",
      "source": [
        "## Transfer learning with Tensorflow : Fine-tuning"
      ],
      "metadata": {
        "id": "cnVS_uniZBVU"
      }
    },
    {
      "cell_type": "code",
      "source": [
        "## Creating helper functions:\n",
        "## So it's a good idea to put functions you'll want to use again in a script you can download and import into your notebook"
      ],
      "metadata": {
        "id": "PpUYLwiRZrQs"
      },
      "execution_count": 2,
      "outputs": []
    },
    {
      "cell_type": "code",
      "source": [
        "!wget https://raw.githubusercontent.com/mrdbourke/tensorflow-deep-learning/main/extras/helper_functions.py"
      ],
      "metadata": {
        "colab": {
          "base_uri": "https://localhost:8080/"
        },
        "id": "WBHdd-NtZ002",
        "outputId": "e1731b6b-4d88-4f37-9cba-86b64869e5e0"
      },
      "execution_count": 3,
      "outputs": [
        {
          "output_type": "stream",
          "name": "stdout",
          "text": [
            "--2022-01-12 01:12:16--  https://raw.githubusercontent.com/mrdbourke/tensorflow-deep-learning/main/extras/helper_functions.py\n",
            "Resolving raw.githubusercontent.com (raw.githubusercontent.com)... 185.199.109.133, 185.199.108.133, 185.199.110.133, ...\n",
            "Connecting to raw.githubusercontent.com (raw.githubusercontent.com)|185.199.109.133|:443... connected.\n",
            "HTTP request sent, awaiting response... 200 OK\n",
            "Length: 10246 (10K) [text/plain]\n",
            "Saving to: ‘helper_functions.py’\n",
            "\n",
            "\rhelper_functions.py   0%[                    ]       0  --.-KB/s               \rhelper_functions.py 100%[===================>]  10.01K  --.-KB/s    in 0s      \n",
            "\n",
            "2022-01-12 01:12:16 (82.7 MB/s) - ‘helper_functions.py’ saved [10246/10246]\n",
            "\n"
          ]
        }
      ]
    },
    {
      "cell_type": "code",
      "source": [
        "#Import heper functions we're going to use in this book\n",
        "\n",
        "from helper_functions import create_tensorboard_callback, plot_loss_curves, unzip_data, walk_through_dir"
      ],
      "metadata": {
        "id": "wcTDdJC8aX-g"
      },
      "execution_count": 4,
      "outputs": []
    },
    {
      "cell_type": "markdown",
      "source": [
        "## Let's get some data"
      ],
      "metadata": {
        "id": "_lA5BqtRaz-Z"
      }
    },
    {
      "cell_type": "code",
      "source": [
        "# Get 10% of training data of Food101\n",
        "\n",
        "!wget https://storage.googleapis.com/ztm_tf_course/food_vision/10_food_classes_10_percent.zip\n",
        "unzip_data('10_food_classes_10_percent.zip')"
      ],
      "metadata": {
        "colab": {
          "base_uri": "https://localhost:8080/"
        },
        "id": "5_uZuykCbBct",
        "outputId": "0bd77e7b-6adc-45f2-89ca-b0bd64f509b2"
      },
      "execution_count": 5,
      "outputs": [
        {
          "output_type": "stream",
          "name": "stdout",
          "text": [
            "--2022-01-12 01:12:19--  https://storage.googleapis.com/ztm_tf_course/food_vision/10_food_classes_10_percent.zip\n",
            "Resolving storage.googleapis.com (storage.googleapis.com)... 74.125.142.128, 142.250.99.128, 108.177.98.128, ...\n",
            "Connecting to storage.googleapis.com (storage.googleapis.com)|74.125.142.128|:443... connected.\n",
            "HTTP request sent, awaiting response... 200 OK\n",
            "Length: 168546183 (161M) [application/zip]\n",
            "Saving to: ‘10_food_classes_10_percent.zip’\n",
            "\n",
            "10_food_classes_10_ 100%[===================>] 160.74M   143MB/s    in 1.1s    \n",
            "\n",
            "2022-01-12 01:12:20 (143 MB/s) - ‘10_food_classes_10_percent.zip’ saved [168546183/168546183]\n",
            "\n"
          ]
        }
      ]
    },
    {
      "cell_type": "code",
      "source": [
        "#check out how many images and subdirectories are in the directory\n",
        "walk_through_dir('10_food_classes_10_percent')"
      ],
      "metadata": {
        "colab": {
          "base_uri": "https://localhost:8080/"
        },
        "id": "NnJih_NzbWHb",
        "outputId": "d6a280db-8b74-4bce-db35-8b90177f15b5"
      },
      "execution_count": 6,
      "outputs": [
        {
          "output_type": "stream",
          "name": "stdout",
          "text": [
            "There are 2 directories and 0 images in '10_food_classes_10_percent'.\n",
            "There are 10 directories and 0 images in '10_food_classes_10_percent/train'.\n",
            "There are 0 directories and 75 images in '10_food_classes_10_percent/train/fried_rice'.\n",
            "There are 0 directories and 75 images in '10_food_classes_10_percent/train/hamburger'.\n",
            "There are 0 directories and 75 images in '10_food_classes_10_percent/train/chicken_wings'.\n",
            "There are 0 directories and 75 images in '10_food_classes_10_percent/train/steak'.\n",
            "There are 0 directories and 75 images in '10_food_classes_10_percent/train/pizza'.\n",
            "There are 0 directories and 75 images in '10_food_classes_10_percent/train/ice_cream'.\n",
            "There are 0 directories and 75 images in '10_food_classes_10_percent/train/sushi'.\n",
            "There are 0 directories and 75 images in '10_food_classes_10_percent/train/grilled_salmon'.\n",
            "There are 0 directories and 75 images in '10_food_classes_10_percent/train/ramen'.\n",
            "There are 0 directories and 75 images in '10_food_classes_10_percent/train/chicken_curry'.\n",
            "There are 10 directories and 0 images in '10_food_classes_10_percent/test'.\n",
            "There are 0 directories and 250 images in '10_food_classes_10_percent/test/fried_rice'.\n",
            "There are 0 directories and 250 images in '10_food_classes_10_percent/test/hamburger'.\n",
            "There are 0 directories and 250 images in '10_food_classes_10_percent/test/chicken_wings'.\n",
            "There are 0 directories and 250 images in '10_food_classes_10_percent/test/steak'.\n",
            "There are 0 directories and 250 images in '10_food_classes_10_percent/test/pizza'.\n",
            "There are 0 directories and 250 images in '10_food_classes_10_percent/test/ice_cream'.\n",
            "There are 0 directories and 250 images in '10_food_classes_10_percent/test/sushi'.\n",
            "There are 0 directories and 250 images in '10_food_classes_10_percent/test/grilled_salmon'.\n",
            "There are 0 directories and 250 images in '10_food_classes_10_percent/test/ramen'.\n",
            "There are 0 directories and 250 images in '10_food_classes_10_percent/test/chicken_curry'.\n"
          ]
        }
      ]
    },
    {
      "cell_type": "code",
      "source": [
        "#Create training and test directory paths\n",
        "train_dir = '10_food_classes_10_percent/train'\n",
        "test_dir = '10_food_classes_10_percent/test'"
      ],
      "metadata": {
        "id": "20GS3zv9b6PZ"
      },
      "execution_count": 7,
      "outputs": []
    },
    {
      "cell_type": "code",
      "source": [
        "import tensorflow as tf\n",
        "from tensorflow.keras.preprocessing import image_dataset_from_directory"
      ],
      "metadata": {
        "id": "qN6_RUMDccjq"
      },
      "execution_count": 8,
      "outputs": []
    },
    {
      "cell_type": "code",
      "source": [
        "IMG_SIZE = (224,224)\n",
        "BATCH_SIZE = 32\n",
        "train_data_10_percent = image_dataset_from_directory(directory = train_dir,\n",
        "                                                     image_size = IMG_SIZE,\n",
        "                                                     batch_size = BATCH_SIZE,\n",
        "                                                     label_mode = 'categorical')\n",
        "\n",
        "test_data_10_percent = image_dataset_from_directory(directory = test_dir,\n",
        "                                                    image_size = IMG_SIZE,\n",
        "                                                    batch_size = BATCH_SIZE,\n",
        "                                                    label_mode = 'categorical')"
      ],
      "metadata": {
        "colab": {
          "base_uri": "https://localhost:8080/"
        },
        "id": "JaZdoCuNcmy1",
        "outputId": "8236b94c-61f3-42ea-8cb3-42b10eb7cdc9"
      },
      "execution_count": 9,
      "outputs": [
        {
          "output_type": "stream",
          "name": "stdout",
          "text": [
            "Found 750 files belonging to 10 classes.\n",
            "Found 2500 files belonging to 10 classes.\n"
          ]
        }
      ]
    },
    {
      "cell_type": "code",
      "source": [
        "train_data_10_percent "
      ],
      "metadata": {
        "colab": {
          "base_uri": "https://localhost:8080/"
        },
        "id": "GTJIZS4ddShN",
        "outputId": "216daa0d-cd02-4db6-b194-95bf7f14e5af"
      },
      "execution_count": 10,
      "outputs": [
        {
          "output_type": "execute_result",
          "data": {
            "text/plain": [
              "<BatchDataset shapes: ((None, 224, 224, 3), (None, 10)), types: (tf.float32, tf.float32)>"
            ]
          },
          "metadata": {},
          "execution_count": 10
        }
      ]
    },
    {
      "cell_type": "code",
      "source": [
        "train_data_10_percent.class_names"
      ],
      "metadata": {
        "colab": {
          "base_uri": "https://localhost:8080/"
        },
        "id": "NAy-l6VQdW8e",
        "outputId": "0b469fb7-e6a9-4344-848b-bf25a8efa759"
      },
      "execution_count": 11,
      "outputs": [
        {
          "output_type": "execute_result",
          "data": {
            "text/plain": [
              "['chicken_curry',\n",
              " 'chicken_wings',\n",
              " 'fried_rice',\n",
              " 'grilled_salmon',\n",
              " 'hamburger',\n",
              " 'ice_cream',\n",
              " 'pizza',\n",
              " 'ramen',\n",
              " 'steak',\n",
              " 'sushi']"
            ]
          },
          "metadata": {},
          "execution_count": 11
        }
      ]
    },
    {
      "cell_type": "code",
      "source": [
        "for images, labels in train_data_10_percent.take(1):\n",
        "  print(images,labels)"
      ],
      "metadata": {
        "colab": {
          "base_uri": "https://localhost:8080/"
        },
        "id": "MAXCdwrMdpEl",
        "outputId": "f44c3fb8-6626-4edc-91ec-1727f839c153"
      },
      "execution_count": 12,
      "outputs": [
        {
          "output_type": "stream",
          "name": "stdout",
          "text": [
            "tf.Tensor(\n",
            "[[[[1.47142859e+01 9.71428585e+00 3.71428561e+00]\n",
            "   [1.68571434e+01 1.18571434e+01 5.85714340e+00]\n",
            "   [1.50000000e+01 1.00000000e+01 4.00000000e+00]\n",
            "   ...\n",
            "   [2.32142639e+01 1.22142639e+01 8.21426392e+00]\n",
            "   [2.37857265e+01 1.27857275e+01 8.78572750e+00]\n",
            "   [2.42295437e+01 1.32295446e+01 9.94383049e+00]]\n",
            "\n",
            "  [[1.63112259e+01 1.13112240e+01 5.31122494e+00]\n",
            "   [1.59285717e+01 1.09285717e+01 4.92857170e+00]\n",
            "   [1.48010206e+01 9.80102062e+00 3.80102015e+00]\n",
            "   ...\n",
            "   [2.95867558e+01 1.65867558e+01 1.01888371e+01]\n",
            "   [2.58571301e+01 1.28571301e+01 6.85713005e+00]\n",
            "   [2.66174145e+01 1.36174145e+01 7.61741447e+00]]\n",
            "\n",
            "  [[1.55714283e+01 1.10000000e+01 4.78571415e+00]\n",
            "   [1.26581631e+01 8.08673477e+00 1.87244856e+00]\n",
            "   [1.67857132e+01 1.22142859e+01 6.00000000e+00]\n",
            "   ...\n",
            "   [3.06173420e+01 1.62142639e+01 8.66327763e+00]\n",
            "   [2.91581535e+01 1.45867252e+01 7.37243891e+00]\n",
            "   [2.94949245e+01 1.49234972e+01 7.70921135e+00]]\n",
            "\n",
            "  ...\n",
            "\n",
            "  [[2.22918411e+02 1.91918411e+02 1.37918411e+02]\n",
            "   [2.22254990e+02 1.91254990e+02 1.37254990e+02]\n",
            "   [2.15408081e+02 1.84408081e+02 1.30408081e+02]\n",
            "   ...\n",
            "   [2.36474442e+02 2.09474442e+02 1.62474442e+02]\n",
            "   [2.37469421e+02 2.10469421e+02 1.63469421e+02]\n",
            "   [2.36653183e+02 2.09653183e+02 1.62653183e+02]]\n",
            "\n",
            "  [[2.23500015e+02 1.93500015e+02 1.39500015e+02]\n",
            "   [2.16352081e+02 1.86352081e+02 1.32352081e+02]\n",
            "   [2.17000076e+02 1.87000076e+02 1.33000076e+02]\n",
            "   ...\n",
            "   [2.33428528e+02 2.06428528e+02 1.59428528e+02]\n",
            "   [2.34704025e+02 2.07704025e+02 1.60704025e+02]\n",
            "   [2.39000061e+02 2.12000061e+02 1.65000061e+02]]\n",
            "\n",
            "  [[2.18418137e+02 1.88418137e+02 1.34418137e+02]\n",
            "   [2.16999893e+02 1.86999893e+02 1.32999893e+02]\n",
            "   [2.21520294e+02 1.91520294e+02 1.37520294e+02]\n",
            "   ...\n",
            "   [2.34699066e+02 2.07699066e+02 1.60699066e+02]\n",
            "   [2.31163345e+02 2.04163345e+02 1.57163345e+02]\n",
            "   [2.31143066e+02 2.04143066e+02 1.57143066e+02]]]\n",
            "\n",
            "\n",
            " [[[2.42084503e+02 2.42084503e+02 2.40084503e+02]\n",
            "   [2.44520248e+02 2.44520248e+02 2.42520248e+02]\n",
            "   [2.42146835e+02 2.42146835e+02 2.40146835e+02]\n",
            "   ...\n",
            "   [2.42051270e+02 2.42051270e+02 2.42051270e+02]\n",
            "   [2.43618744e+02 2.43618744e+02 2.43618744e+02]\n",
            "   [2.41761841e+02 2.41761841e+02 2.41761841e+02]]\n",
            "\n",
            "  [[2.42877396e+02 2.42877396e+02 2.40877396e+02]\n",
            "   [2.40095657e+02 2.40095657e+02 2.38095657e+02]\n",
            "   [2.24122131e+02 2.24122131e+02 2.22122131e+02]\n",
            "   ...\n",
            "   [2.26739029e+02 2.26739029e+02 2.26739029e+02]\n",
            "   [2.33167175e+02 2.33167175e+02 2.33167175e+02]\n",
            "   [2.42225449e+02 2.42225449e+02 2.42225449e+02]]\n",
            "\n",
            "  [[2.43957596e+02 2.43957596e+02 2.41957596e+02]\n",
            "   [2.25274551e+02 2.25274551e+02 2.23274551e+02]\n",
            "   [2.34115921e+02 2.34115921e+02 2.32115921e+02]\n",
            "   ...\n",
            "   [2.40593506e+02 2.40593506e+02 2.40593506e+02]\n",
            "   [2.25257233e+02 2.25257233e+02 2.25257233e+02]\n",
            "   [2.43962479e+02 2.43962479e+02 2.43962479e+02]]\n",
            "\n",
            "  ...\n",
            "\n",
            "  [[2.42996964e+02 2.42996964e+02 2.42996964e+02]\n",
            "   [2.19381836e+02 2.19381836e+02 2.19381836e+02]\n",
            "   [2.41211716e+02 2.41211716e+02 2.41211716e+02]\n",
            "   ...\n",
            "   [2.43058105e+02 2.43058105e+02 2.43058105e+02]\n",
            "   [2.26690475e+02 2.26690475e+02 2.26690475e+02]\n",
            "   [2.40187332e+02 2.40187332e+02 2.40187332e+02]]\n",
            "\n",
            "  [[2.44080521e+02 2.44080521e+02 2.44080521e+02]\n",
            "   [2.29218643e+02 2.29218643e+02 2.29218643e+02]\n",
            "   [2.24299347e+02 2.24299347e+02 2.24299347e+02]\n",
            "   ...\n",
            "   [2.21967529e+02 2.21967529e+02 2.21967529e+02]\n",
            "   [2.31841858e+02 2.31841858e+02 2.31841858e+02]\n",
            "   [2.41449615e+02 2.41449615e+02 2.41449615e+02]]\n",
            "\n",
            "  [[2.41525192e+02 2.41525192e+02 2.41525192e+02]\n",
            "   [2.43244293e+02 2.43244293e+02 2.43244293e+02]\n",
            "   [2.35070053e+02 2.35070053e+02 2.35070053e+02]\n",
            "   ...\n",
            "   [2.35860779e+02 2.35860779e+02 2.35860779e+02]\n",
            "   [2.43074341e+02 2.43074341e+02 2.43074341e+02]\n",
            "   [2.42805634e+02 2.42805634e+02 2.42805634e+02]]]\n",
            "\n",
            "\n",
            " [[[1.83571434e+01 1.43571424e+01 1.33571424e+01]\n",
            "   [1.85714283e+01 1.45714293e+01 1.15714293e+01]\n",
            "   [1.96428566e+01 1.56428576e+01 1.26428576e+01]\n",
            "   ...\n",
            "   [1.16785652e+02 9.97856522e+01 8.37856522e+01]\n",
            "   [1.08969307e+02 8.99693069e+01 7.49693069e+01]\n",
            "   [9.90305862e+01 8.00305862e+01 6.50305862e+01]]\n",
            "\n",
            "  [[2.08826542e+01 1.68826542e+01 1.58826532e+01]\n",
            "   [2.18571434e+01 1.78571434e+01 1.48571434e+01]\n",
            "   [2.25000000e+01 1.85000000e+01 1.55000000e+01]\n",
            "   ...\n",
            "   [1.49999878e+02 1.33999878e+02 1.17999878e+02]\n",
            "   [1.35438675e+02 1.18438675e+02 1.02438675e+02]\n",
            "   [1.23908134e+02 1.06908134e+02 9.09081345e+01]]\n",
            "\n",
            "  [[2.58622456e+01 2.18622456e+01 2.08622456e+01]\n",
            "   [2.28163261e+01 1.88163261e+01 1.58163261e+01]\n",
            "   [2.12346935e+01 1.72346935e+01 1.42346935e+01]\n",
            "   ...\n",
            "   [1.85550964e+02 1.72765259e+02 1.56765259e+02]\n",
            "   [1.75499878e+02 1.62714157e+02 1.46714157e+02]\n",
            "   [1.58862122e+02 1.44423431e+02 1.28928497e+02]]\n",
            "\n",
            "  ...\n",
            "\n",
            "  [[1.37143078e+01 1.47143078e+01 8.71430779e+00]\n",
            "   [1.92857800e+01 2.02857800e+01 1.52857800e+01]\n",
            "   [1.60663776e+01 1.58520927e+01 1.38520918e+01]\n",
            "   ...\n",
            "   [2.20617386e+02 2.11617386e+02 1.94617386e+02]\n",
            "   [2.22214264e+02 2.11214264e+02 1.93214264e+02]\n",
            "   [2.22418381e+02 2.11418381e+02 1.93418381e+02]]\n",
            "\n",
            "  [[1.59795885e+01 1.69795876e+01 1.09795885e+01]\n",
            "   [1.67856750e+01 1.77856750e+01 1.27856750e+01]\n",
            "   [1.59438677e+01 1.57295818e+01 1.37295818e+01]\n",
            "   ...\n",
            "   [2.20729599e+02 2.11729599e+02 1.94729599e+02]\n",
            "   [2.20933655e+02 2.09933655e+02 1.91933655e+02]\n",
            "   [2.21688843e+02 2.10688843e+02 1.92688843e+02]]\n",
            "\n",
            "  [[1.42295446e+01 1.52295446e+01 9.22954464e+00]\n",
            "   [1.33316650e+01 1.43316650e+01 9.33166504e+00]\n",
            "   [1.57857141e+01 1.57857141e+01 1.42142859e+01]\n",
            "   ...\n",
            "   [2.18719345e+02 2.09719345e+02 1.92719345e+02]\n",
            "   [2.22025513e+02 2.11025513e+02 1.93025513e+02]\n",
            "   [2.21102020e+02 2.10102020e+02 1.92102020e+02]]]\n",
            "\n",
            "\n",
            " ...\n",
            "\n",
            "\n",
            " [[[1.89698990e+02 2.34698975e+02 2.40928574e+02]\n",
            "   [1.93668365e+02 2.29903046e+02 2.41785706e+02]\n",
            "   [2.02709183e+02 2.30280609e+02 2.44494888e+02]\n",
            "   ...\n",
            "   [8.53013229e+01 7.02145004e+01 5.90768280e+01]\n",
            "   [9.53418350e+01 7.76989746e+01 6.76989746e+01]\n",
            "   [8.92143173e+01 7.06428909e+01 5.89286079e+01]]\n",
            "\n",
            "  [[1.92306122e+02 2.30760193e+02 2.39474503e+02]\n",
            "   [1.97147964e+02 2.31214279e+02 2.41214279e+02]\n",
            "   [2.05500000e+02 2.33158157e+02 2.47357132e+02]\n",
            "   ...\n",
            "   [6.93929138e+01 5.96786270e+01 4.75357704e+01]\n",
            "   [6.40613022e+01 5.43623238e+01 4.22143631e+01]\n",
            "   [6.14029884e+01 5.19285011e+01 3.97142181e+01]]\n",
            "\n",
            "  [[2.01704086e+02 2.32790817e+02 2.42714294e+02]\n",
            "   [2.02612244e+02 2.33071426e+02 2.44056122e+02]\n",
            "   [2.05923477e+02 2.35663269e+02 2.47306122e+02]\n",
            "   ...\n",
            "   [5.90458488e+01 5.58520050e+01 4.28060684e+01]\n",
            "   [6.43928375e+01 6.40510330e+01 4.84081612e+01]\n",
            "   [5.51482124e+01 5.72196770e+01 4.06482468e+01]]\n",
            "\n",
            "  ...\n",
            "\n",
            "  [[7.57856369e+01 6.36428146e+01 4.70714035e+01]\n",
            "   [6.89540253e+01 6.09693413e+01 4.20560760e+01]\n",
            "   [6.42602234e+01 5.98112411e+01 3.87397919e+01]\n",
            "   ...\n",
            "   [5.95563126e+01 3.51277237e+01 2.29134274e+01]\n",
            "   [6.67957230e+01 4.25253296e+01 3.02395935e+01]\n",
            "   [4.41224060e+01 2.17703590e+01 9.84170914e+00]]\n",
            "\n",
            "  [[6.43366547e+01 5.62652397e+01 4.37856979e+01]\n",
            "   [6.13519897e+01 5.43417892e+01 3.64132347e+01]\n",
            "   [6.32142334e+01 5.91581230e+01 3.39284821e+01]\n",
            "   ...\n",
            "   [6.59896622e+01 3.99896622e+01 2.65917358e+01]\n",
            "   [6.37294655e+01 3.77447701e+01 2.47396679e+01]\n",
            "   [5.19798470e+01 2.89339409e+01 1.50257502e+01]]\n",
            "\n",
            "  [[6.39387779e+01 5.90969315e+01 4.84540710e+01]\n",
            "   [6.69489594e+01 6.18775330e+01 4.32346725e+01]\n",
            "   [6.07704086e+01 5.47091904e+01 2.87653160e+01]\n",
            "   ...\n",
            "   [6.77904510e+01 3.97904510e+01 2.57904510e+01]\n",
            "   [6.78367691e+01 4.18367653e+01 2.68367672e+01]\n",
            "   [5.75712585e+01 3.15712585e+01 1.65712585e+01]]]\n",
            "\n",
            "\n",
            " [[[0.00000000e+00 0.00000000e+00 0.00000000e+00]\n",
            "   [0.00000000e+00 0.00000000e+00 0.00000000e+00]\n",
            "   [0.00000000e+00 0.00000000e+00 0.00000000e+00]\n",
            "   ...\n",
            "   [6.49897842e+01 7.09897842e+01 6.09897804e+01]\n",
            "   [6.39081688e+01 6.99081650e+01 5.99081688e+01]\n",
            "   [6.11734810e+01 6.71734772e+01 5.71734810e+01]]\n",
            "\n",
            "  [[0.00000000e+00 0.00000000e+00 0.00000000e+00]\n",
            "   [0.00000000e+00 0.00000000e+00 0.00000000e+00]\n",
            "   [0.00000000e+00 0.00000000e+00 0.00000000e+00]\n",
            "   ...\n",
            "   [6.39591866e+01 6.99591827e+01 5.79591866e+01]\n",
            "   [6.59286041e+01 7.19286041e+01 5.99286041e+01]\n",
            "   [6.23826714e+01 6.83826675e+01 5.63826714e+01]]\n",
            "\n",
            "  [[0.00000000e+00 0.00000000e+00 0.00000000e+00]\n",
            "   [0.00000000e+00 0.00000000e+00 0.00000000e+00]\n",
            "   [0.00000000e+00 0.00000000e+00 0.00000000e+00]\n",
            "   ...\n",
            "   [6.88520050e+01 7.28520050e+01 5.76836472e+01]\n",
            "   [6.56275558e+01 6.96275558e+01 5.42856979e+01]\n",
            "   [6.70102005e+01 7.10102005e+01 5.60153084e+01]]\n",
            "\n",
            "  ...\n",
            "\n",
            "  [[8.95969849e+01 8.10918732e+01 4.65306969e+01]\n",
            "   [7.87141571e+01 6.87141571e+01 3.34998894e+01]\n",
            "   [9.24233932e+01 8.24233932e+01 4.72091255e+01]\n",
            "   ...\n",
            "   [1.62142334e+01 1.30458546e+01 0.00000000e+00]\n",
            "   [1.58264542e+01 1.34999695e+01 1.98963091e-01]\n",
            "   [1.45713501e+01 1.23570862e+01 7.65237585e-02]]\n",
            "\n",
            "  [[8.67806396e+01 7.77806396e+01 4.67806358e+01]\n",
            "   [8.79999771e+01 7.69999771e+01 4.68673210e+01]\n",
            "   [9.00255127e+01 7.90255127e+01 4.86275635e+01]\n",
            "   ...\n",
            "   [1.27550869e+01 1.08010149e+01 0.00000000e+00]\n",
            "   [1.09948673e+01 1.17959394e+01 0.00000000e+00]\n",
            "   [8.66836834e+00 9.66836834e+00 0.00000000e+00]]\n",
            "\n",
            "  [[9.06069870e+01 8.16069870e+01 5.26069870e+01]\n",
            "   [8.99032364e+01 7.89032364e+01 5.09032326e+01]\n",
            "   [9.21582184e+01 8.11582184e+01 5.31582222e+01]\n",
            "   ...\n",
            "   [1.37908354e+01 1.24337187e+01 0.00000000e+00]\n",
            "   [1.26429443e+01 1.36429443e+01 3.31671268e-01]\n",
            "   [9.78582764e+00 1.17858276e+01 1.27565026e-01]]]\n",
            "\n",
            "\n",
            " [[[1.65846939e+02 1.60846939e+02 1.04846939e+02]\n",
            "   [1.66428574e+02 1.61428574e+02 1.06428574e+02]\n",
            "   [1.65566330e+02 1.57566330e+02 1.08994904e+02]\n",
            "   ...\n",
            "   [2.06428589e+02 2.08214325e+02 1.69000061e+02]\n",
            "   [2.06285721e+02 2.07285721e+02 1.75285721e+02]\n",
            "   [2.07540848e+02 2.07540848e+02 1.79540848e+02]]\n",
            "\n",
            "  [[1.69025513e+02 1.64025513e+02 1.09025505e+02]\n",
            "   [1.64066330e+02 1.57066330e+02 1.03066322e+02]\n",
            "   [1.67627548e+02 1.59183670e+02 1.10229591e+02]\n",
            "   ...\n",
            "   [2.05285690e+02 2.06872467e+02 1.69515350e+02]\n",
            "   [2.09066345e+02 2.10066345e+02 1.78066345e+02]\n",
            "   [2.08311157e+02 2.08908066e+02 1.79117340e+02]]\n",
            "\n",
            "  [[1.68867340e+02 1.62867340e+02 1.04010208e+02]\n",
            "   [1.70857147e+02 1.64428574e+02 1.05571426e+02]\n",
            "   [1.68596939e+02 1.59382645e+02 1.03096939e+02]\n",
            "   ...\n",
            "   [2.04382629e+02 2.05785736e+02 1.69168411e+02]\n",
            "   [2.06785721e+02 2.07785721e+02 1.75785721e+02]\n",
            "   [2.06581619e+02 2.07581619e+02 1.76581619e+02]]\n",
            "\n",
            "  ...\n",
            "\n",
            "  [[1.88489746e+02 1.90209122e+02 1.28050995e+02]\n",
            "   [1.84300949e+02 1.89300949e+02 1.23443810e+02]\n",
            "   [1.86520401e+02 1.91520401e+02 1.24520401e+02]\n",
            "   ...\n",
            "   [2.16214264e+02 2.15663284e+02 1.63403122e+02]\n",
            "   [2.14127518e+02 2.14142822e+02 1.61556107e+02]\n",
            "   [2.12214264e+02 2.12428528e+02 1.57785736e+02]]\n",
            "\n",
            "  [[1.92163254e+02 1.93163254e+02 1.33969391e+02]\n",
            "   [1.89862244e+02 1.94724487e+02 1.31147980e+02]\n",
            "   [1.83158142e+02 1.88158142e+02 1.21959160e+02]\n",
            "   ...\n",
            "   [2.14428528e+02 2.14000000e+02 1.63785736e+02]\n",
            "   [2.14142883e+02 2.14142883e+02 1.64142883e+02]\n",
            "   [2.12739777e+02 2.15071442e+02 1.64076462e+02]]\n",
            "\n",
            "  [[1.88112228e+02 1.89112228e+02 1.31698990e+02]\n",
            "   [1.86403030e+02 1.90403030e+02 1.29545883e+02]\n",
            "   [1.83637894e+02 1.88637894e+02 1.22637886e+02]\n",
            "   ...\n",
            "   [2.13362137e+02 2.12147873e+02 1.63933609e+02]\n",
            "   [2.12142883e+02 2.14142883e+02 1.65142883e+02]\n",
            "   [2.14000000e+02 2.16000000e+02 1.67000000e+02]]]], shape=(32, 224, 224, 3), dtype=float32) tf.Tensor(\n",
            "[[0. 0. 0. 0. 0. 0. 0. 0. 0. 1.]\n",
            " [0. 0. 0. 0. 0. 0. 0. 0. 1. 0.]\n",
            " [0. 0. 0. 0. 0. 0. 0. 0. 0. 1.]\n",
            " [1. 0. 0. 0. 0. 0. 0. 0. 0. 0.]\n",
            " [0. 0. 0. 0. 1. 0. 0. 0. 0. 0.]\n",
            " [0. 0. 0. 0. 1. 0. 0. 0. 0. 0.]\n",
            " [0. 1. 0. 0. 0. 0. 0. 0. 0. 0.]\n",
            " [0. 0. 0. 0. 0. 0. 0. 0. 1. 0.]\n",
            " [0. 0. 0. 0. 0. 0. 0. 0. 1. 0.]\n",
            " [0. 0. 0. 0. 0. 0. 1. 0. 0. 0.]\n",
            " [0. 0. 0. 0. 0. 1. 0. 0. 0. 0.]\n",
            " [0. 1. 0. 0. 0. 0. 0. 0. 0. 0.]\n",
            " [0. 0. 0. 0. 0. 0. 0. 0. 1. 0.]\n",
            " [0. 0. 0. 1. 0. 0. 0. 0. 0. 0.]\n",
            " [1. 0. 0. 0. 0. 0. 0. 0. 0. 0.]\n",
            " [0. 0. 0. 0. 1. 0. 0. 0. 0. 0.]\n",
            " [0. 0. 0. 0. 0. 1. 0. 0. 0. 0.]\n",
            " [0. 0. 1. 0. 0. 0. 0. 0. 0. 0.]\n",
            " [0. 0. 0. 0. 0. 0. 0. 1. 0. 0.]\n",
            " [0. 0. 0. 0. 0. 0. 0. 0. 1. 0.]\n",
            " [0. 0. 0. 0. 0. 0. 0. 0. 0. 1.]\n",
            " [0. 1. 0. 0. 0. 0. 0. 0. 0. 0.]\n",
            " [0. 0. 0. 0. 0. 1. 0. 0. 0. 0.]\n",
            " [0. 0. 1. 0. 0. 0. 0. 0. 0. 0.]\n",
            " [0. 0. 1. 0. 0. 0. 0. 0. 0. 0.]\n",
            " [0. 0. 1. 0. 0. 0. 0. 0. 0. 0.]\n",
            " [0. 0. 0. 0. 1. 0. 0. 0. 0. 0.]\n",
            " [0. 0. 0. 1. 0. 0. 0. 0. 0. 0.]\n",
            " [0. 0. 0. 1. 0. 0. 0. 0. 0. 0.]\n",
            " [0. 0. 0. 1. 0. 0. 0. 0. 0. 0.]\n",
            " [0. 0. 0. 0. 0. 0. 0. 1. 0. 0.]\n",
            " [0. 0. 0. 0. 0. 0. 0. 1. 0. 0.]], shape=(32, 10), dtype=float32)\n"
          ]
        }
      ]
    },
    {
      "cell_type": "code",
      "source": [
        "#functional API is more flexible compared to Sequential API\n",
        "#Feature extraction\n",
        "\n",
        "#1. Create a model with tf.keras.application\n",
        "base_model = tf.keras.applications.EfficientNetB0(include_top = False)\n",
        "base_model.trainable = False\n",
        "\n",
        "# Create inputs into our model\n",
        "\n",
        "inputs =tf.keras.layers.Input(shape = (224,224,3) , name = 'input_layer')\n",
        "\n",
        "# when you use ResNet50V2 you will beed to normalize inputs\n",
        "#x = tf.keras.layers.experimental.preprocessing.Rescaling(1./255)(inputs)\n",
        "\n",
        "# pass the inputs to the base_model\n",
        "x = base_model(inputs)\n",
        "print(f'shape after passing inputs through base model : {x.shape}')\n",
        "\n",
        "#Average pool the outputs of the base model(Aggregate all the most important information . reduce number of computation)\n",
        "x = tf.keras.layers.GlobalAveragePooling2D(name = 'global_average_pooling_layer')(x)\n",
        "print(f'Shape after GlobalAveragePooling2D:{x.shape}')\n",
        "\n",
        "outputs = tf.keras.layers.Dense(10, activation = 'softmax' , name = 'output_layer')(x)\n",
        "\n",
        "# combine the inputs with the outputs into a model\n",
        "model_0 = tf.keras.Model(inputs,outputs)\n",
        "model_0.compile(loss = tf.keras.losses.CategoricalCrossentropy(),\n",
        "                optimizer = tf.keras.optimizers.Adam(),\n",
        "                metrics = ['accuracy'])\n",
        "history_0 = model_0.fit(train_data_10_percent ,\n",
        "                        epochs = 5,\n",
        "                        steps_per_epoch = len(train_data_10_percent),\n",
        "                        validation_data = test_data_10_percent ,\n",
        "                        validation_steps =int(0.25*len(test_data_10_percent)),\n",
        "                        callbacks = [create_tensorboard_callback(dir_name = 'transfer_learning_part_2' , \n",
        "                                                                 experiment_name = 'model_0')])"
      ],
      "metadata": {
        "colab": {
          "base_uri": "https://localhost:8080/"
        },
        "id": "qI13pmoldztO",
        "outputId": "d760f59c-613e-4e7d-8f72-a1b2ab759140"
      },
      "execution_count": 13,
      "outputs": [
        {
          "output_type": "stream",
          "name": "stdout",
          "text": [
            "Downloading data from https://storage.googleapis.com/keras-applications/efficientnetb0_notop.h5\n",
            "16711680/16705208 [==============================] - 0s 0us/step\n",
            "16719872/16705208 [==============================] - 0s 0us/step\n",
            "shape after passing inputs through base model : (None, 7, 7, 1280)\n",
            "Shape after GlobalAveragePooling2D:(None, 1280)\n",
            "Saving TensorBoard log files to: transfer_learning_part_2/model_0/20220112-011227\n",
            "Epoch 1/5\n"
          ]
        },
        {
          "output_type": "stream",
          "name": "stderr",
          "text": [
            "/usr/local/lib/python3.7/dist-packages/keras/engine/functional.py:1410: CustomMaskWarning: Custom mask layers require a config and must override get_config. When loading, the custom mask layer must be passed to the custom_objects argument.\n",
            "  layer_config = serialize_layer_fn(layer)\n"
          ]
        },
        {
          "output_type": "stream",
          "name": "stdout",
          "text": [
            "24/24 [==============================] - 84s 3s/step - loss: 1.9378 - accuracy: 0.3653 - val_loss: 1.3992 - val_accuracy: 0.6711\n",
            "Epoch 2/5\n",
            "24/24 [==============================] - 76s 3s/step - loss: 1.1504 - accuracy: 0.7347 - val_loss: 0.9527 - val_accuracy: 0.7796\n",
            "Epoch 3/5\n",
            "24/24 [==============================] - 75s 3s/step - loss: 0.8425 - accuracy: 0.7947 - val_loss: 0.7739 - val_accuracy: 0.8240\n",
            "Epoch 4/5\n",
            "24/24 [==============================] - 76s 3s/step - loss: 0.6874 - accuracy: 0.8467 - val_loss: 0.6984 - val_accuracy: 0.8306\n",
            "Epoch 5/5\n",
            "24/24 [==============================] - 75s 3s/step - loss: 0.6043 - accuracy: 0.8467 - val_loss: 0.6369 - val_accuracy: 0.8372\n"
          ]
        }
      ]
    },
    {
      "cell_type": "code",
      "source": [
        "model_0.evaluate(test_data_10_percent)"
      ],
      "metadata": {
        "colab": {
          "base_uri": "https://localhost:8080/"
        },
        "id": "b25oliqdgisa",
        "outputId": "0572b228-1bfc-4f6d-fda8-64d11773271d"
      },
      "execution_count": 14,
      "outputs": [
        {
          "output_type": "stream",
          "name": "stdout",
          "text": [
            "79/79 [==============================] - 115s 1s/step - loss: 0.6073 - accuracy: 0.8448\n"
          ]
        },
        {
          "output_type": "execute_result",
          "data": {
            "text/plain": [
              "[0.6072911620140076, 0.8447999954223633]"
            ]
          },
          "metadata": {},
          "execution_count": 14
        }
      ]
    },
    {
      "cell_type": "code",
      "source": [
        "for layer_number , layer in enumerate(base_model.layers):\n",
        "  print(layer_number,layer.name)"
      ],
      "metadata": {
        "colab": {
          "base_uri": "https://localhost:8080/"
        },
        "id": "xqIX9m4ugspd",
        "outputId": "de441118-bc68-41dd-bbf9-ac2a889bedce"
      },
      "execution_count": 15,
      "outputs": [
        {
          "output_type": "stream",
          "name": "stdout",
          "text": [
            "0 input_1\n",
            "1 rescaling\n",
            "2 normalization\n",
            "3 stem_conv_pad\n",
            "4 stem_conv\n",
            "5 stem_bn\n",
            "6 stem_activation\n",
            "7 block1a_dwconv\n",
            "8 block1a_bn\n",
            "9 block1a_activation\n",
            "10 block1a_se_squeeze\n",
            "11 block1a_se_reshape\n",
            "12 block1a_se_reduce\n",
            "13 block1a_se_expand\n",
            "14 block1a_se_excite\n",
            "15 block1a_project_conv\n",
            "16 block1a_project_bn\n",
            "17 block2a_expand_conv\n",
            "18 block2a_expand_bn\n",
            "19 block2a_expand_activation\n",
            "20 block2a_dwconv_pad\n",
            "21 block2a_dwconv\n",
            "22 block2a_bn\n",
            "23 block2a_activation\n",
            "24 block2a_se_squeeze\n",
            "25 block2a_se_reshape\n",
            "26 block2a_se_reduce\n",
            "27 block2a_se_expand\n",
            "28 block2a_se_excite\n",
            "29 block2a_project_conv\n",
            "30 block2a_project_bn\n",
            "31 block2b_expand_conv\n",
            "32 block2b_expand_bn\n",
            "33 block2b_expand_activation\n",
            "34 block2b_dwconv\n",
            "35 block2b_bn\n",
            "36 block2b_activation\n",
            "37 block2b_se_squeeze\n",
            "38 block2b_se_reshape\n",
            "39 block2b_se_reduce\n",
            "40 block2b_se_expand\n",
            "41 block2b_se_excite\n",
            "42 block2b_project_conv\n",
            "43 block2b_project_bn\n",
            "44 block2b_drop\n",
            "45 block2b_add\n",
            "46 block3a_expand_conv\n",
            "47 block3a_expand_bn\n",
            "48 block3a_expand_activation\n",
            "49 block3a_dwconv_pad\n",
            "50 block3a_dwconv\n",
            "51 block3a_bn\n",
            "52 block3a_activation\n",
            "53 block3a_se_squeeze\n",
            "54 block3a_se_reshape\n",
            "55 block3a_se_reduce\n",
            "56 block3a_se_expand\n",
            "57 block3a_se_excite\n",
            "58 block3a_project_conv\n",
            "59 block3a_project_bn\n",
            "60 block3b_expand_conv\n",
            "61 block3b_expand_bn\n",
            "62 block3b_expand_activation\n",
            "63 block3b_dwconv\n",
            "64 block3b_bn\n",
            "65 block3b_activation\n",
            "66 block3b_se_squeeze\n",
            "67 block3b_se_reshape\n",
            "68 block3b_se_reduce\n",
            "69 block3b_se_expand\n",
            "70 block3b_se_excite\n",
            "71 block3b_project_conv\n",
            "72 block3b_project_bn\n",
            "73 block3b_drop\n",
            "74 block3b_add\n",
            "75 block4a_expand_conv\n",
            "76 block4a_expand_bn\n",
            "77 block4a_expand_activation\n",
            "78 block4a_dwconv_pad\n",
            "79 block4a_dwconv\n",
            "80 block4a_bn\n",
            "81 block4a_activation\n",
            "82 block4a_se_squeeze\n",
            "83 block4a_se_reshape\n",
            "84 block4a_se_reduce\n",
            "85 block4a_se_expand\n",
            "86 block4a_se_excite\n",
            "87 block4a_project_conv\n",
            "88 block4a_project_bn\n",
            "89 block4b_expand_conv\n",
            "90 block4b_expand_bn\n",
            "91 block4b_expand_activation\n",
            "92 block4b_dwconv\n",
            "93 block4b_bn\n",
            "94 block4b_activation\n",
            "95 block4b_se_squeeze\n",
            "96 block4b_se_reshape\n",
            "97 block4b_se_reduce\n",
            "98 block4b_se_expand\n",
            "99 block4b_se_excite\n",
            "100 block4b_project_conv\n",
            "101 block4b_project_bn\n",
            "102 block4b_drop\n",
            "103 block4b_add\n",
            "104 block4c_expand_conv\n",
            "105 block4c_expand_bn\n",
            "106 block4c_expand_activation\n",
            "107 block4c_dwconv\n",
            "108 block4c_bn\n",
            "109 block4c_activation\n",
            "110 block4c_se_squeeze\n",
            "111 block4c_se_reshape\n",
            "112 block4c_se_reduce\n",
            "113 block4c_se_expand\n",
            "114 block4c_se_excite\n",
            "115 block4c_project_conv\n",
            "116 block4c_project_bn\n",
            "117 block4c_drop\n",
            "118 block4c_add\n",
            "119 block5a_expand_conv\n",
            "120 block5a_expand_bn\n",
            "121 block5a_expand_activation\n",
            "122 block5a_dwconv\n",
            "123 block5a_bn\n",
            "124 block5a_activation\n",
            "125 block5a_se_squeeze\n",
            "126 block5a_se_reshape\n",
            "127 block5a_se_reduce\n",
            "128 block5a_se_expand\n",
            "129 block5a_se_excite\n",
            "130 block5a_project_conv\n",
            "131 block5a_project_bn\n",
            "132 block5b_expand_conv\n",
            "133 block5b_expand_bn\n",
            "134 block5b_expand_activation\n",
            "135 block5b_dwconv\n",
            "136 block5b_bn\n",
            "137 block5b_activation\n",
            "138 block5b_se_squeeze\n",
            "139 block5b_se_reshape\n",
            "140 block5b_se_reduce\n",
            "141 block5b_se_expand\n",
            "142 block5b_se_excite\n",
            "143 block5b_project_conv\n",
            "144 block5b_project_bn\n",
            "145 block5b_drop\n",
            "146 block5b_add\n",
            "147 block5c_expand_conv\n",
            "148 block5c_expand_bn\n",
            "149 block5c_expand_activation\n",
            "150 block5c_dwconv\n",
            "151 block5c_bn\n",
            "152 block5c_activation\n",
            "153 block5c_se_squeeze\n",
            "154 block5c_se_reshape\n",
            "155 block5c_se_reduce\n",
            "156 block5c_se_expand\n",
            "157 block5c_se_excite\n",
            "158 block5c_project_conv\n",
            "159 block5c_project_bn\n",
            "160 block5c_drop\n",
            "161 block5c_add\n",
            "162 block6a_expand_conv\n",
            "163 block6a_expand_bn\n",
            "164 block6a_expand_activation\n",
            "165 block6a_dwconv_pad\n",
            "166 block6a_dwconv\n",
            "167 block6a_bn\n",
            "168 block6a_activation\n",
            "169 block6a_se_squeeze\n",
            "170 block6a_se_reshape\n",
            "171 block6a_se_reduce\n",
            "172 block6a_se_expand\n",
            "173 block6a_se_excite\n",
            "174 block6a_project_conv\n",
            "175 block6a_project_bn\n",
            "176 block6b_expand_conv\n",
            "177 block6b_expand_bn\n",
            "178 block6b_expand_activation\n",
            "179 block6b_dwconv\n",
            "180 block6b_bn\n",
            "181 block6b_activation\n",
            "182 block6b_se_squeeze\n",
            "183 block6b_se_reshape\n",
            "184 block6b_se_reduce\n",
            "185 block6b_se_expand\n",
            "186 block6b_se_excite\n",
            "187 block6b_project_conv\n",
            "188 block6b_project_bn\n",
            "189 block6b_drop\n",
            "190 block6b_add\n",
            "191 block6c_expand_conv\n",
            "192 block6c_expand_bn\n",
            "193 block6c_expand_activation\n",
            "194 block6c_dwconv\n",
            "195 block6c_bn\n",
            "196 block6c_activation\n",
            "197 block6c_se_squeeze\n",
            "198 block6c_se_reshape\n",
            "199 block6c_se_reduce\n",
            "200 block6c_se_expand\n",
            "201 block6c_se_excite\n",
            "202 block6c_project_conv\n",
            "203 block6c_project_bn\n",
            "204 block6c_drop\n",
            "205 block6c_add\n",
            "206 block6d_expand_conv\n",
            "207 block6d_expand_bn\n",
            "208 block6d_expand_activation\n",
            "209 block6d_dwconv\n",
            "210 block6d_bn\n",
            "211 block6d_activation\n",
            "212 block6d_se_squeeze\n",
            "213 block6d_se_reshape\n",
            "214 block6d_se_reduce\n",
            "215 block6d_se_expand\n",
            "216 block6d_se_excite\n",
            "217 block6d_project_conv\n",
            "218 block6d_project_bn\n",
            "219 block6d_drop\n",
            "220 block6d_add\n",
            "221 block7a_expand_conv\n",
            "222 block7a_expand_bn\n",
            "223 block7a_expand_activation\n",
            "224 block7a_dwconv\n",
            "225 block7a_bn\n",
            "226 block7a_activation\n",
            "227 block7a_se_squeeze\n",
            "228 block7a_se_reshape\n",
            "229 block7a_se_reduce\n",
            "230 block7a_se_expand\n",
            "231 block7a_se_excite\n",
            "232 block7a_project_conv\n",
            "233 block7a_project_bn\n",
            "234 top_conv\n",
            "235 top_bn\n",
            "236 top_activation\n"
          ]
        }
      ]
    },
    {
      "cell_type": "code",
      "source": [
        "#How about we get a summary of the base mode?\n",
        "base_model.summary()"
      ],
      "metadata": {
        "colab": {
          "base_uri": "https://localhost:8080/"
        },
        "id": "b_Q3r4wHifTM",
        "outputId": "70bce178-eb07-4cd7-b782-9ee1b49e7b83"
      },
      "execution_count": 16,
      "outputs": [
        {
          "output_type": "stream",
          "name": "stdout",
          "text": [
            "Model: \"efficientnetb0\"\n",
            "__________________________________________________________________________________________________\n",
            " Layer (type)                   Output Shape         Param #     Connected to                     \n",
            "==================================================================================================\n",
            " input_1 (InputLayer)           [(None, None, None,  0           []                               \n",
            "                                 3)]                                                              \n",
            "                                                                                                  \n",
            " rescaling (Rescaling)          (None, None, None,   0           ['input_1[0][0]']                \n",
            "                                3)                                                                \n",
            "                                                                                                  \n",
            " normalization (Normalization)  (None, None, None,   7           ['rescaling[0][0]']              \n",
            "                                3)                                                                \n",
            "                                                                                                  \n",
            " stem_conv_pad (ZeroPadding2D)  (None, None, None,   0           ['normalization[0][0]']          \n",
            "                                3)                                                                \n",
            "                                                                                                  \n",
            " stem_conv (Conv2D)             (None, None, None,   864         ['stem_conv_pad[0][0]']          \n",
            "                                32)                                                               \n",
            "                                                                                                  \n",
            " stem_bn (BatchNormalization)   (None, None, None,   128         ['stem_conv[0][0]']              \n",
            "                                32)                                                               \n",
            "                                                                                                  \n",
            " stem_activation (Activation)   (None, None, None,   0           ['stem_bn[0][0]']                \n",
            "                                32)                                                               \n",
            "                                                                                                  \n",
            " block1a_dwconv (DepthwiseConv2  (None, None, None,   288        ['stem_activation[0][0]']        \n",
            " D)                             32)                                                               \n",
            "                                                                                                  \n",
            " block1a_bn (BatchNormalization  (None, None, None,   128        ['block1a_dwconv[0][0]']         \n",
            " )                              32)                                                               \n",
            "                                                                                                  \n",
            " block1a_activation (Activation  (None, None, None,   0          ['block1a_bn[0][0]']             \n",
            " )                              32)                                                               \n",
            "                                                                                                  \n",
            " block1a_se_squeeze (GlobalAver  (None, 32)          0           ['block1a_activation[0][0]']     \n",
            " agePooling2D)                                                                                    \n",
            "                                                                                                  \n",
            " block1a_se_reshape (Reshape)   (None, 1, 1, 32)     0           ['block1a_se_squeeze[0][0]']     \n",
            "                                                                                                  \n",
            " block1a_se_reduce (Conv2D)     (None, 1, 1, 8)      264         ['block1a_se_reshape[0][0]']     \n",
            "                                                                                                  \n",
            " block1a_se_expand (Conv2D)     (None, 1, 1, 32)     288         ['block1a_se_reduce[0][0]']      \n",
            "                                                                                                  \n",
            " block1a_se_excite (Multiply)   (None, None, None,   0           ['block1a_activation[0][0]',     \n",
            "                                32)                               'block1a_se_expand[0][0]']      \n",
            "                                                                                                  \n",
            " block1a_project_conv (Conv2D)  (None, None, None,   512         ['block1a_se_excite[0][0]']      \n",
            "                                16)                                                               \n",
            "                                                                                                  \n",
            " block1a_project_bn (BatchNorma  (None, None, None,   64         ['block1a_project_conv[0][0]']   \n",
            " lization)                      16)                                                               \n",
            "                                                                                                  \n",
            " block2a_expand_conv (Conv2D)   (None, None, None,   1536        ['block1a_project_bn[0][0]']     \n",
            "                                96)                                                               \n",
            "                                                                                                  \n",
            " block2a_expand_bn (BatchNormal  (None, None, None,   384        ['block2a_expand_conv[0][0]']    \n",
            " ization)                       96)                                                               \n",
            "                                                                                                  \n",
            " block2a_expand_activation (Act  (None, None, None,   0          ['block2a_expand_bn[0][0]']      \n",
            " ivation)                       96)                                                               \n",
            "                                                                                                  \n",
            " block2a_dwconv_pad (ZeroPaddin  (None, None, None,   0          ['block2a_expand_activation[0][0]\n",
            " g2D)                           96)                              ']                               \n",
            "                                                                                                  \n",
            " block2a_dwconv (DepthwiseConv2  (None, None, None,   864        ['block2a_dwconv_pad[0][0]']     \n",
            " D)                             96)                                                               \n",
            "                                                                                                  \n",
            " block2a_bn (BatchNormalization  (None, None, None,   384        ['block2a_dwconv[0][0]']         \n",
            " )                              96)                                                               \n",
            "                                                                                                  \n",
            " block2a_activation (Activation  (None, None, None,   0          ['block2a_bn[0][0]']             \n",
            " )                              96)                                                               \n",
            "                                                                                                  \n",
            " block2a_se_squeeze (GlobalAver  (None, 96)          0           ['block2a_activation[0][0]']     \n",
            " agePooling2D)                                                                                    \n",
            "                                                                                                  \n",
            " block2a_se_reshape (Reshape)   (None, 1, 1, 96)     0           ['block2a_se_squeeze[0][0]']     \n",
            "                                                                                                  \n",
            " block2a_se_reduce (Conv2D)     (None, 1, 1, 4)      388         ['block2a_se_reshape[0][0]']     \n",
            "                                                                                                  \n",
            " block2a_se_expand (Conv2D)     (None, 1, 1, 96)     480         ['block2a_se_reduce[0][0]']      \n",
            "                                                                                                  \n",
            " block2a_se_excite (Multiply)   (None, None, None,   0           ['block2a_activation[0][0]',     \n",
            "                                96)                               'block2a_se_expand[0][0]']      \n",
            "                                                                                                  \n",
            " block2a_project_conv (Conv2D)  (None, None, None,   2304        ['block2a_se_excite[0][0]']      \n",
            "                                24)                                                               \n",
            "                                                                                                  \n",
            " block2a_project_bn (BatchNorma  (None, None, None,   96         ['block2a_project_conv[0][0]']   \n",
            " lization)                      24)                                                               \n",
            "                                                                                                  \n",
            " block2b_expand_conv (Conv2D)   (None, None, None,   3456        ['block2a_project_bn[0][0]']     \n",
            "                                144)                                                              \n",
            "                                                                                                  \n",
            " block2b_expand_bn (BatchNormal  (None, None, None,   576        ['block2b_expand_conv[0][0]']    \n",
            " ization)                       144)                                                              \n",
            "                                                                                                  \n",
            " block2b_expand_activation (Act  (None, None, None,   0          ['block2b_expand_bn[0][0]']      \n",
            " ivation)                       144)                                                              \n",
            "                                                                                                  \n",
            " block2b_dwconv (DepthwiseConv2  (None, None, None,   1296       ['block2b_expand_activation[0][0]\n",
            " D)                             144)                             ']                               \n",
            "                                                                                                  \n",
            " block2b_bn (BatchNormalization  (None, None, None,   576        ['block2b_dwconv[0][0]']         \n",
            " )                              144)                                                              \n",
            "                                                                                                  \n",
            " block2b_activation (Activation  (None, None, None,   0          ['block2b_bn[0][0]']             \n",
            " )                              144)                                                              \n",
            "                                                                                                  \n",
            " block2b_se_squeeze (GlobalAver  (None, 144)         0           ['block2b_activation[0][0]']     \n",
            " agePooling2D)                                                                                    \n",
            "                                                                                                  \n",
            " block2b_se_reshape (Reshape)   (None, 1, 1, 144)    0           ['block2b_se_squeeze[0][0]']     \n",
            "                                                                                                  \n",
            " block2b_se_reduce (Conv2D)     (None, 1, 1, 6)      870         ['block2b_se_reshape[0][0]']     \n",
            "                                                                                                  \n",
            " block2b_se_expand (Conv2D)     (None, 1, 1, 144)    1008        ['block2b_se_reduce[0][0]']      \n",
            "                                                                                                  \n",
            " block2b_se_excite (Multiply)   (None, None, None,   0           ['block2b_activation[0][0]',     \n",
            "                                144)                              'block2b_se_expand[0][0]']      \n",
            "                                                                                                  \n",
            " block2b_project_conv (Conv2D)  (None, None, None,   3456        ['block2b_se_excite[0][0]']      \n",
            "                                24)                                                               \n",
            "                                                                                                  \n",
            " block2b_project_bn (BatchNorma  (None, None, None,   96         ['block2b_project_conv[0][0]']   \n",
            " lization)                      24)                                                               \n",
            "                                                                                                  \n",
            " block2b_drop (Dropout)         (None, None, None,   0           ['block2b_project_bn[0][0]']     \n",
            "                                24)                                                               \n",
            "                                                                                                  \n",
            " block2b_add (Add)              (None, None, None,   0           ['block2b_drop[0][0]',           \n",
            "                                24)                               'block2a_project_bn[0][0]']     \n",
            "                                                                                                  \n",
            " block3a_expand_conv (Conv2D)   (None, None, None,   3456        ['block2b_add[0][0]']            \n",
            "                                144)                                                              \n",
            "                                                                                                  \n",
            " block3a_expand_bn (BatchNormal  (None, None, None,   576        ['block3a_expand_conv[0][0]']    \n",
            " ization)                       144)                                                              \n",
            "                                                                                                  \n",
            " block3a_expand_activation (Act  (None, None, None,   0          ['block3a_expand_bn[0][0]']      \n",
            " ivation)                       144)                                                              \n",
            "                                                                                                  \n",
            " block3a_dwconv_pad (ZeroPaddin  (None, None, None,   0          ['block3a_expand_activation[0][0]\n",
            " g2D)                           144)                             ']                               \n",
            "                                                                                                  \n",
            " block3a_dwconv (DepthwiseConv2  (None, None, None,   3600       ['block3a_dwconv_pad[0][0]']     \n",
            " D)                             144)                                                              \n",
            "                                                                                                  \n",
            " block3a_bn (BatchNormalization  (None, None, None,   576        ['block3a_dwconv[0][0]']         \n",
            " )                              144)                                                              \n",
            "                                                                                                  \n",
            " block3a_activation (Activation  (None, None, None,   0          ['block3a_bn[0][0]']             \n",
            " )                              144)                                                              \n",
            "                                                                                                  \n",
            " block3a_se_squeeze (GlobalAver  (None, 144)         0           ['block3a_activation[0][0]']     \n",
            " agePooling2D)                                                                                    \n",
            "                                                                                                  \n",
            " block3a_se_reshape (Reshape)   (None, 1, 1, 144)    0           ['block3a_se_squeeze[0][0]']     \n",
            "                                                                                                  \n",
            " block3a_se_reduce (Conv2D)     (None, 1, 1, 6)      870         ['block3a_se_reshape[0][0]']     \n",
            "                                                                                                  \n",
            " block3a_se_expand (Conv2D)     (None, 1, 1, 144)    1008        ['block3a_se_reduce[0][0]']      \n",
            "                                                                                                  \n",
            " block3a_se_excite (Multiply)   (None, None, None,   0           ['block3a_activation[0][0]',     \n",
            "                                144)                              'block3a_se_expand[0][0]']      \n",
            "                                                                                                  \n",
            " block3a_project_conv (Conv2D)  (None, None, None,   5760        ['block3a_se_excite[0][0]']      \n",
            "                                40)                                                               \n",
            "                                                                                                  \n",
            " block3a_project_bn (BatchNorma  (None, None, None,   160        ['block3a_project_conv[0][0]']   \n",
            " lization)                      40)                                                               \n",
            "                                                                                                  \n",
            " block3b_expand_conv (Conv2D)   (None, None, None,   9600        ['block3a_project_bn[0][0]']     \n",
            "                                240)                                                              \n",
            "                                                                                                  \n",
            " block3b_expand_bn (BatchNormal  (None, None, None,   960        ['block3b_expand_conv[0][0]']    \n",
            " ization)                       240)                                                              \n",
            "                                                                                                  \n",
            " block3b_expand_activation (Act  (None, None, None,   0          ['block3b_expand_bn[0][0]']      \n",
            " ivation)                       240)                                                              \n",
            "                                                                                                  \n",
            " block3b_dwconv (DepthwiseConv2  (None, None, None,   6000       ['block3b_expand_activation[0][0]\n",
            " D)                             240)                             ']                               \n",
            "                                                                                                  \n",
            " block3b_bn (BatchNormalization  (None, None, None,   960        ['block3b_dwconv[0][0]']         \n",
            " )                              240)                                                              \n",
            "                                                                                                  \n",
            " block3b_activation (Activation  (None, None, None,   0          ['block3b_bn[0][0]']             \n",
            " )                              240)                                                              \n",
            "                                                                                                  \n",
            " block3b_se_squeeze (GlobalAver  (None, 240)         0           ['block3b_activation[0][0]']     \n",
            " agePooling2D)                                                                                    \n",
            "                                                                                                  \n",
            " block3b_se_reshape (Reshape)   (None, 1, 1, 240)    0           ['block3b_se_squeeze[0][0]']     \n",
            "                                                                                                  \n",
            " block3b_se_reduce (Conv2D)     (None, 1, 1, 10)     2410        ['block3b_se_reshape[0][0]']     \n",
            "                                                                                                  \n",
            " block3b_se_expand (Conv2D)     (None, 1, 1, 240)    2640        ['block3b_se_reduce[0][0]']      \n",
            "                                                                                                  \n",
            " block3b_se_excite (Multiply)   (None, None, None,   0           ['block3b_activation[0][0]',     \n",
            "                                240)                              'block3b_se_expand[0][0]']      \n",
            "                                                                                                  \n",
            " block3b_project_conv (Conv2D)  (None, None, None,   9600        ['block3b_se_excite[0][0]']      \n",
            "                                40)                                                               \n",
            "                                                                                                  \n",
            " block3b_project_bn (BatchNorma  (None, None, None,   160        ['block3b_project_conv[0][0]']   \n",
            " lization)                      40)                                                               \n",
            "                                                                                                  \n",
            " block3b_drop (Dropout)         (None, None, None,   0           ['block3b_project_bn[0][0]']     \n",
            "                                40)                                                               \n",
            "                                                                                                  \n",
            " block3b_add (Add)              (None, None, None,   0           ['block3b_drop[0][0]',           \n",
            "                                40)                               'block3a_project_bn[0][0]']     \n",
            "                                                                                                  \n",
            " block4a_expand_conv (Conv2D)   (None, None, None,   9600        ['block3b_add[0][0]']            \n",
            "                                240)                                                              \n",
            "                                                                                                  \n",
            " block4a_expand_bn (BatchNormal  (None, None, None,   960        ['block4a_expand_conv[0][0]']    \n",
            " ization)                       240)                                                              \n",
            "                                                                                                  \n",
            " block4a_expand_activation (Act  (None, None, None,   0          ['block4a_expand_bn[0][0]']      \n",
            " ivation)                       240)                                                              \n",
            "                                                                                                  \n",
            " block4a_dwconv_pad (ZeroPaddin  (None, None, None,   0          ['block4a_expand_activation[0][0]\n",
            " g2D)                           240)                             ']                               \n",
            "                                                                                                  \n",
            " block4a_dwconv (DepthwiseConv2  (None, None, None,   2160       ['block4a_dwconv_pad[0][0]']     \n",
            " D)                             240)                                                              \n",
            "                                                                                                  \n",
            " block4a_bn (BatchNormalization  (None, None, None,   960        ['block4a_dwconv[0][0]']         \n",
            " )                              240)                                                              \n",
            "                                                                                                  \n",
            " block4a_activation (Activation  (None, None, None,   0          ['block4a_bn[0][0]']             \n",
            " )                              240)                                                              \n",
            "                                                                                                  \n",
            " block4a_se_squeeze (GlobalAver  (None, 240)         0           ['block4a_activation[0][0]']     \n",
            " agePooling2D)                                                                                    \n",
            "                                                                                                  \n",
            " block4a_se_reshape (Reshape)   (None, 1, 1, 240)    0           ['block4a_se_squeeze[0][0]']     \n",
            "                                                                                                  \n",
            " block4a_se_reduce (Conv2D)     (None, 1, 1, 10)     2410        ['block4a_se_reshape[0][0]']     \n",
            "                                                                                                  \n",
            " block4a_se_expand (Conv2D)     (None, 1, 1, 240)    2640        ['block4a_se_reduce[0][0]']      \n",
            "                                                                                                  \n",
            " block4a_se_excite (Multiply)   (None, None, None,   0           ['block4a_activation[0][0]',     \n",
            "                                240)                              'block4a_se_expand[0][0]']      \n",
            "                                                                                                  \n",
            " block4a_project_conv (Conv2D)  (None, None, None,   19200       ['block4a_se_excite[0][0]']      \n",
            "                                80)                                                               \n",
            "                                                                                                  \n",
            " block4a_project_bn (BatchNorma  (None, None, None,   320        ['block4a_project_conv[0][0]']   \n",
            " lization)                      80)                                                               \n",
            "                                                                                                  \n",
            " block4b_expand_conv (Conv2D)   (None, None, None,   38400       ['block4a_project_bn[0][0]']     \n",
            "                                480)                                                              \n",
            "                                                                                                  \n",
            " block4b_expand_bn (BatchNormal  (None, None, None,   1920       ['block4b_expand_conv[0][0]']    \n",
            " ization)                       480)                                                              \n",
            "                                                                                                  \n",
            " block4b_expand_activation (Act  (None, None, None,   0          ['block4b_expand_bn[0][0]']      \n",
            " ivation)                       480)                                                              \n",
            "                                                                                                  \n",
            " block4b_dwconv (DepthwiseConv2  (None, None, None,   4320       ['block4b_expand_activation[0][0]\n",
            " D)                             480)                             ']                               \n",
            "                                                                                                  \n",
            " block4b_bn (BatchNormalization  (None, None, None,   1920       ['block4b_dwconv[0][0]']         \n",
            " )                              480)                                                              \n",
            "                                                                                                  \n",
            " block4b_activation (Activation  (None, None, None,   0          ['block4b_bn[0][0]']             \n",
            " )                              480)                                                              \n",
            "                                                                                                  \n",
            " block4b_se_squeeze (GlobalAver  (None, 480)         0           ['block4b_activation[0][0]']     \n",
            " agePooling2D)                                                                                    \n",
            "                                                                                                  \n",
            " block4b_se_reshape (Reshape)   (None, 1, 1, 480)    0           ['block4b_se_squeeze[0][0]']     \n",
            "                                                                                                  \n",
            " block4b_se_reduce (Conv2D)     (None, 1, 1, 20)     9620        ['block4b_se_reshape[0][0]']     \n",
            "                                                                                                  \n",
            " block4b_se_expand (Conv2D)     (None, 1, 1, 480)    10080       ['block4b_se_reduce[0][0]']      \n",
            "                                                                                                  \n",
            " block4b_se_excite (Multiply)   (None, None, None,   0           ['block4b_activation[0][0]',     \n",
            "                                480)                              'block4b_se_expand[0][0]']      \n",
            "                                                                                                  \n",
            " block4b_project_conv (Conv2D)  (None, None, None,   38400       ['block4b_se_excite[0][0]']      \n",
            "                                80)                                                               \n",
            "                                                                                                  \n",
            " block4b_project_bn (BatchNorma  (None, None, None,   320        ['block4b_project_conv[0][0]']   \n",
            " lization)                      80)                                                               \n",
            "                                                                                                  \n",
            " block4b_drop (Dropout)         (None, None, None,   0           ['block4b_project_bn[0][0]']     \n",
            "                                80)                                                               \n",
            "                                                                                                  \n",
            " block4b_add (Add)              (None, None, None,   0           ['block4b_drop[0][0]',           \n",
            "                                80)                               'block4a_project_bn[0][0]']     \n",
            "                                                                                                  \n",
            " block4c_expand_conv (Conv2D)   (None, None, None,   38400       ['block4b_add[0][0]']            \n",
            "                                480)                                                              \n",
            "                                                                                                  \n",
            " block4c_expand_bn (BatchNormal  (None, None, None,   1920       ['block4c_expand_conv[0][0]']    \n",
            " ization)                       480)                                                              \n",
            "                                                                                                  \n",
            " block4c_expand_activation (Act  (None, None, None,   0          ['block4c_expand_bn[0][0]']      \n",
            " ivation)                       480)                                                              \n",
            "                                                                                                  \n",
            " block4c_dwconv (DepthwiseConv2  (None, None, None,   4320       ['block4c_expand_activation[0][0]\n",
            " D)                             480)                             ']                               \n",
            "                                                                                                  \n",
            " block4c_bn (BatchNormalization  (None, None, None,   1920       ['block4c_dwconv[0][0]']         \n",
            " )                              480)                                                              \n",
            "                                                                                                  \n",
            " block4c_activation (Activation  (None, None, None,   0          ['block4c_bn[0][0]']             \n",
            " )                              480)                                                              \n",
            "                                                                                                  \n",
            " block4c_se_squeeze (GlobalAver  (None, 480)         0           ['block4c_activation[0][0]']     \n",
            " agePooling2D)                                                                                    \n",
            "                                                                                                  \n",
            " block4c_se_reshape (Reshape)   (None, 1, 1, 480)    0           ['block4c_se_squeeze[0][0]']     \n",
            "                                                                                                  \n",
            " block4c_se_reduce (Conv2D)     (None, 1, 1, 20)     9620        ['block4c_se_reshape[0][0]']     \n",
            "                                                                                                  \n",
            " block4c_se_expand (Conv2D)     (None, 1, 1, 480)    10080       ['block4c_se_reduce[0][0]']      \n",
            "                                                                                                  \n",
            " block4c_se_excite (Multiply)   (None, None, None,   0           ['block4c_activation[0][0]',     \n",
            "                                480)                              'block4c_se_expand[0][0]']      \n",
            "                                                                                                  \n",
            " block4c_project_conv (Conv2D)  (None, None, None,   38400       ['block4c_se_excite[0][0]']      \n",
            "                                80)                                                               \n",
            "                                                                                                  \n",
            " block4c_project_bn (BatchNorma  (None, None, None,   320        ['block4c_project_conv[0][0]']   \n",
            " lization)                      80)                                                               \n",
            "                                                                                                  \n",
            " block4c_drop (Dropout)         (None, None, None,   0           ['block4c_project_bn[0][0]']     \n",
            "                                80)                                                               \n",
            "                                                                                                  \n",
            " block4c_add (Add)              (None, None, None,   0           ['block4c_drop[0][0]',           \n",
            "                                80)                               'block4b_add[0][0]']            \n",
            "                                                                                                  \n",
            " block5a_expand_conv (Conv2D)   (None, None, None,   38400       ['block4c_add[0][0]']            \n",
            "                                480)                                                              \n",
            "                                                                                                  \n",
            " block5a_expand_bn (BatchNormal  (None, None, None,   1920       ['block5a_expand_conv[0][0]']    \n",
            " ization)                       480)                                                              \n",
            "                                                                                                  \n",
            " block5a_expand_activation (Act  (None, None, None,   0          ['block5a_expand_bn[0][0]']      \n",
            " ivation)                       480)                                                              \n",
            "                                                                                                  \n",
            " block5a_dwconv (DepthwiseConv2  (None, None, None,   12000      ['block5a_expand_activation[0][0]\n",
            " D)                             480)                             ']                               \n",
            "                                                                                                  \n",
            " block5a_bn (BatchNormalization  (None, None, None,   1920       ['block5a_dwconv[0][0]']         \n",
            " )                              480)                                                              \n",
            "                                                                                                  \n",
            " block5a_activation (Activation  (None, None, None,   0          ['block5a_bn[0][0]']             \n",
            " )                              480)                                                              \n",
            "                                                                                                  \n",
            " block5a_se_squeeze (GlobalAver  (None, 480)         0           ['block5a_activation[0][0]']     \n",
            " agePooling2D)                                                                                    \n",
            "                                                                                                  \n",
            " block5a_se_reshape (Reshape)   (None, 1, 1, 480)    0           ['block5a_se_squeeze[0][0]']     \n",
            "                                                                                                  \n",
            " block5a_se_reduce (Conv2D)     (None, 1, 1, 20)     9620        ['block5a_se_reshape[0][0]']     \n",
            "                                                                                                  \n",
            " block5a_se_expand (Conv2D)     (None, 1, 1, 480)    10080       ['block5a_se_reduce[0][0]']      \n",
            "                                                                                                  \n",
            " block5a_se_excite (Multiply)   (None, None, None,   0           ['block5a_activation[0][0]',     \n",
            "                                480)                              'block5a_se_expand[0][0]']      \n",
            "                                                                                                  \n",
            " block5a_project_conv (Conv2D)  (None, None, None,   53760       ['block5a_se_excite[0][0]']      \n",
            "                                112)                                                              \n",
            "                                                                                                  \n",
            " block5a_project_bn (BatchNorma  (None, None, None,   448        ['block5a_project_conv[0][0]']   \n",
            " lization)                      112)                                                              \n",
            "                                                                                                  \n",
            " block5b_expand_conv (Conv2D)   (None, None, None,   75264       ['block5a_project_bn[0][0]']     \n",
            "                                672)                                                              \n",
            "                                                                                                  \n",
            " block5b_expand_bn (BatchNormal  (None, None, None,   2688       ['block5b_expand_conv[0][0]']    \n",
            " ization)                       672)                                                              \n",
            "                                                                                                  \n",
            " block5b_expand_activation (Act  (None, None, None,   0          ['block5b_expand_bn[0][0]']      \n",
            " ivation)                       672)                                                              \n",
            "                                                                                                  \n",
            " block5b_dwconv (DepthwiseConv2  (None, None, None,   16800      ['block5b_expand_activation[0][0]\n",
            " D)                             672)                             ']                               \n",
            "                                                                                                  \n",
            " block5b_bn (BatchNormalization  (None, None, None,   2688       ['block5b_dwconv[0][0]']         \n",
            " )                              672)                                                              \n",
            "                                                                                                  \n",
            " block5b_activation (Activation  (None, None, None,   0          ['block5b_bn[0][0]']             \n",
            " )                              672)                                                              \n",
            "                                                                                                  \n",
            " block5b_se_squeeze (GlobalAver  (None, 672)         0           ['block5b_activation[0][0]']     \n",
            " agePooling2D)                                                                                    \n",
            "                                                                                                  \n",
            " block5b_se_reshape (Reshape)   (None, 1, 1, 672)    0           ['block5b_se_squeeze[0][0]']     \n",
            "                                                                                                  \n",
            " block5b_se_reduce (Conv2D)     (None, 1, 1, 28)     18844       ['block5b_se_reshape[0][0]']     \n",
            "                                                                                                  \n",
            " block5b_se_expand (Conv2D)     (None, 1, 1, 672)    19488       ['block5b_se_reduce[0][0]']      \n",
            "                                                                                                  \n",
            " block5b_se_excite (Multiply)   (None, None, None,   0           ['block5b_activation[0][0]',     \n",
            "                                672)                              'block5b_se_expand[0][0]']      \n",
            "                                                                                                  \n",
            " block5b_project_conv (Conv2D)  (None, None, None,   75264       ['block5b_se_excite[0][0]']      \n",
            "                                112)                                                              \n",
            "                                                                                                  \n",
            " block5b_project_bn (BatchNorma  (None, None, None,   448        ['block5b_project_conv[0][0]']   \n",
            " lization)                      112)                                                              \n",
            "                                                                                                  \n",
            " block5b_drop (Dropout)         (None, None, None,   0           ['block5b_project_bn[0][0]']     \n",
            "                                112)                                                              \n",
            "                                                                                                  \n",
            " block5b_add (Add)              (None, None, None,   0           ['block5b_drop[0][0]',           \n",
            "                                112)                              'block5a_project_bn[0][0]']     \n",
            "                                                                                                  \n",
            " block5c_expand_conv (Conv2D)   (None, None, None,   75264       ['block5b_add[0][0]']            \n",
            "                                672)                                                              \n",
            "                                                                                                  \n",
            " block5c_expand_bn (BatchNormal  (None, None, None,   2688       ['block5c_expand_conv[0][0]']    \n",
            " ization)                       672)                                                              \n",
            "                                                                                                  \n",
            " block5c_expand_activation (Act  (None, None, None,   0          ['block5c_expand_bn[0][0]']      \n",
            " ivation)                       672)                                                              \n",
            "                                                                                                  \n",
            " block5c_dwconv (DepthwiseConv2  (None, None, None,   16800      ['block5c_expand_activation[0][0]\n",
            " D)                             672)                             ']                               \n",
            "                                                                                                  \n",
            " block5c_bn (BatchNormalization  (None, None, None,   2688       ['block5c_dwconv[0][0]']         \n",
            " )                              672)                                                              \n",
            "                                                                                                  \n",
            " block5c_activation (Activation  (None, None, None,   0          ['block5c_bn[0][0]']             \n",
            " )                              672)                                                              \n",
            "                                                                                                  \n",
            " block5c_se_squeeze (GlobalAver  (None, 672)         0           ['block5c_activation[0][0]']     \n",
            " agePooling2D)                                                                                    \n",
            "                                                                                                  \n",
            " block5c_se_reshape (Reshape)   (None, 1, 1, 672)    0           ['block5c_se_squeeze[0][0]']     \n",
            "                                                                                                  \n",
            " block5c_se_reduce (Conv2D)     (None, 1, 1, 28)     18844       ['block5c_se_reshape[0][0]']     \n",
            "                                                                                                  \n",
            " block5c_se_expand (Conv2D)     (None, 1, 1, 672)    19488       ['block5c_se_reduce[0][0]']      \n",
            "                                                                                                  \n",
            " block5c_se_excite (Multiply)   (None, None, None,   0           ['block5c_activation[0][0]',     \n",
            "                                672)                              'block5c_se_expand[0][0]']      \n",
            "                                                                                                  \n",
            " block5c_project_conv (Conv2D)  (None, None, None,   75264       ['block5c_se_excite[0][0]']      \n",
            "                                112)                                                              \n",
            "                                                                                                  \n",
            " block5c_project_bn (BatchNorma  (None, None, None,   448        ['block5c_project_conv[0][0]']   \n",
            " lization)                      112)                                                              \n",
            "                                                                                                  \n",
            " block5c_drop (Dropout)         (None, None, None,   0           ['block5c_project_bn[0][0]']     \n",
            "                                112)                                                              \n",
            "                                                                                                  \n",
            " block5c_add (Add)              (None, None, None,   0           ['block5c_drop[0][0]',           \n",
            "                                112)                              'block5b_add[0][0]']            \n",
            "                                                                                                  \n",
            " block6a_expand_conv (Conv2D)   (None, None, None,   75264       ['block5c_add[0][0]']            \n",
            "                                672)                                                              \n",
            "                                                                                                  \n",
            " block6a_expand_bn (BatchNormal  (None, None, None,   2688       ['block6a_expand_conv[0][0]']    \n",
            " ization)                       672)                                                              \n",
            "                                                                                                  \n",
            " block6a_expand_activation (Act  (None, None, None,   0          ['block6a_expand_bn[0][0]']      \n",
            " ivation)                       672)                                                              \n",
            "                                                                                                  \n",
            " block6a_dwconv_pad (ZeroPaddin  (None, None, None,   0          ['block6a_expand_activation[0][0]\n",
            " g2D)                           672)                             ']                               \n",
            "                                                                                                  \n",
            " block6a_dwconv (DepthwiseConv2  (None, None, None,   16800      ['block6a_dwconv_pad[0][0]']     \n",
            " D)                             672)                                                              \n",
            "                                                                                                  \n",
            " block6a_bn (BatchNormalization  (None, None, None,   2688       ['block6a_dwconv[0][0]']         \n",
            " )                              672)                                                              \n",
            "                                                                                                  \n",
            " block6a_activation (Activation  (None, None, None,   0          ['block6a_bn[0][0]']             \n",
            " )                              672)                                                              \n",
            "                                                                                                  \n",
            " block6a_se_squeeze (GlobalAver  (None, 672)         0           ['block6a_activation[0][0]']     \n",
            " agePooling2D)                                                                                    \n",
            "                                                                                                  \n",
            " block6a_se_reshape (Reshape)   (None, 1, 1, 672)    0           ['block6a_se_squeeze[0][0]']     \n",
            "                                                                                                  \n",
            " block6a_se_reduce (Conv2D)     (None, 1, 1, 28)     18844       ['block6a_se_reshape[0][0]']     \n",
            "                                                                                                  \n",
            " block6a_se_expand (Conv2D)     (None, 1, 1, 672)    19488       ['block6a_se_reduce[0][0]']      \n",
            "                                                                                                  \n",
            " block6a_se_excite (Multiply)   (None, None, None,   0           ['block6a_activation[0][0]',     \n",
            "                                672)                              'block6a_se_expand[0][0]']      \n",
            "                                                                                                  \n",
            " block6a_project_conv (Conv2D)  (None, None, None,   129024      ['block6a_se_excite[0][0]']      \n",
            "                                192)                                                              \n",
            "                                                                                                  \n",
            " block6a_project_bn (BatchNorma  (None, None, None,   768        ['block6a_project_conv[0][0]']   \n",
            " lization)                      192)                                                              \n",
            "                                                                                                  \n",
            " block6b_expand_conv (Conv2D)   (None, None, None,   221184      ['block6a_project_bn[0][0]']     \n",
            "                                1152)                                                             \n",
            "                                                                                                  \n",
            " block6b_expand_bn (BatchNormal  (None, None, None,   4608       ['block6b_expand_conv[0][0]']    \n",
            " ization)                       1152)                                                             \n",
            "                                                                                                  \n",
            " block6b_expand_activation (Act  (None, None, None,   0          ['block6b_expand_bn[0][0]']      \n",
            " ivation)                       1152)                                                             \n",
            "                                                                                                  \n",
            " block6b_dwconv (DepthwiseConv2  (None, None, None,   28800      ['block6b_expand_activation[0][0]\n",
            " D)                             1152)                            ']                               \n",
            "                                                                                                  \n",
            " block6b_bn (BatchNormalization  (None, None, None,   4608       ['block6b_dwconv[0][0]']         \n",
            " )                              1152)                                                             \n",
            "                                                                                                  \n",
            " block6b_activation (Activation  (None, None, None,   0          ['block6b_bn[0][0]']             \n",
            " )                              1152)                                                             \n",
            "                                                                                                  \n",
            " block6b_se_squeeze (GlobalAver  (None, 1152)        0           ['block6b_activation[0][0]']     \n",
            " agePooling2D)                                                                                    \n",
            "                                                                                                  \n",
            " block6b_se_reshape (Reshape)   (None, 1, 1, 1152)   0           ['block6b_se_squeeze[0][0]']     \n",
            "                                                                                                  \n",
            " block6b_se_reduce (Conv2D)     (None, 1, 1, 48)     55344       ['block6b_se_reshape[0][0]']     \n",
            "                                                                                                  \n",
            " block6b_se_expand (Conv2D)     (None, 1, 1, 1152)   56448       ['block6b_se_reduce[0][0]']      \n",
            "                                                                                                  \n",
            " block6b_se_excite (Multiply)   (None, None, None,   0           ['block6b_activation[0][0]',     \n",
            "                                1152)                             'block6b_se_expand[0][0]']      \n",
            "                                                                                                  \n",
            " block6b_project_conv (Conv2D)  (None, None, None,   221184      ['block6b_se_excite[0][0]']      \n",
            "                                192)                                                              \n",
            "                                                                                                  \n",
            " block6b_project_bn (BatchNorma  (None, None, None,   768        ['block6b_project_conv[0][0]']   \n",
            " lization)                      192)                                                              \n",
            "                                                                                                  \n",
            " block6b_drop (Dropout)         (None, None, None,   0           ['block6b_project_bn[0][0]']     \n",
            "                                192)                                                              \n",
            "                                                                                                  \n",
            " block6b_add (Add)              (None, None, None,   0           ['block6b_drop[0][0]',           \n",
            "                                192)                              'block6a_project_bn[0][0]']     \n",
            "                                                                                                  \n",
            " block6c_expand_conv (Conv2D)   (None, None, None,   221184      ['block6b_add[0][0]']            \n",
            "                                1152)                                                             \n",
            "                                                                                                  \n",
            " block6c_expand_bn (BatchNormal  (None, None, None,   4608       ['block6c_expand_conv[0][0]']    \n",
            " ization)                       1152)                                                             \n",
            "                                                                                                  \n",
            " block6c_expand_activation (Act  (None, None, None,   0          ['block6c_expand_bn[0][0]']      \n",
            " ivation)                       1152)                                                             \n",
            "                                                                                                  \n",
            " block6c_dwconv (DepthwiseConv2  (None, None, None,   28800      ['block6c_expand_activation[0][0]\n",
            " D)                             1152)                            ']                               \n",
            "                                                                                                  \n",
            " block6c_bn (BatchNormalization  (None, None, None,   4608       ['block6c_dwconv[0][0]']         \n",
            " )                              1152)                                                             \n",
            "                                                                                                  \n",
            " block6c_activation (Activation  (None, None, None,   0          ['block6c_bn[0][0]']             \n",
            " )                              1152)                                                             \n",
            "                                                                                                  \n",
            " block6c_se_squeeze (GlobalAver  (None, 1152)        0           ['block6c_activation[0][0]']     \n",
            " agePooling2D)                                                                                    \n",
            "                                                                                                  \n",
            " block6c_se_reshape (Reshape)   (None, 1, 1, 1152)   0           ['block6c_se_squeeze[0][0]']     \n",
            "                                                                                                  \n",
            " block6c_se_reduce (Conv2D)     (None, 1, 1, 48)     55344       ['block6c_se_reshape[0][0]']     \n",
            "                                                                                                  \n",
            " block6c_se_expand (Conv2D)     (None, 1, 1, 1152)   56448       ['block6c_se_reduce[0][0]']      \n",
            "                                                                                                  \n",
            " block6c_se_excite (Multiply)   (None, None, None,   0           ['block6c_activation[0][0]',     \n",
            "                                1152)                             'block6c_se_expand[0][0]']      \n",
            "                                                                                                  \n",
            " block6c_project_conv (Conv2D)  (None, None, None,   221184      ['block6c_se_excite[0][0]']      \n",
            "                                192)                                                              \n",
            "                                                                                                  \n",
            " block6c_project_bn (BatchNorma  (None, None, None,   768        ['block6c_project_conv[0][0]']   \n",
            " lization)                      192)                                                              \n",
            "                                                                                                  \n",
            " block6c_drop (Dropout)         (None, None, None,   0           ['block6c_project_bn[0][0]']     \n",
            "                                192)                                                              \n",
            "                                                                                                  \n",
            " block6c_add (Add)              (None, None, None,   0           ['block6c_drop[0][0]',           \n",
            "                                192)                              'block6b_add[0][0]']            \n",
            "                                                                                                  \n",
            " block6d_expand_conv (Conv2D)   (None, None, None,   221184      ['block6c_add[0][0]']            \n",
            "                                1152)                                                             \n",
            "                                                                                                  \n",
            " block6d_expand_bn (BatchNormal  (None, None, None,   4608       ['block6d_expand_conv[0][0]']    \n",
            " ization)                       1152)                                                             \n",
            "                                                                                                  \n",
            " block6d_expand_activation (Act  (None, None, None,   0          ['block6d_expand_bn[0][0]']      \n",
            " ivation)                       1152)                                                             \n",
            "                                                                                                  \n",
            " block6d_dwconv (DepthwiseConv2  (None, None, None,   28800      ['block6d_expand_activation[0][0]\n",
            " D)                             1152)                            ']                               \n",
            "                                                                                                  \n",
            " block6d_bn (BatchNormalization  (None, None, None,   4608       ['block6d_dwconv[0][0]']         \n",
            " )                              1152)                                                             \n",
            "                                                                                                  \n",
            " block6d_activation (Activation  (None, None, None,   0          ['block6d_bn[0][0]']             \n",
            " )                              1152)                                                             \n",
            "                                                                                                  \n",
            " block6d_se_squeeze (GlobalAver  (None, 1152)        0           ['block6d_activation[0][0]']     \n",
            " agePooling2D)                                                                                    \n",
            "                                                                                                  \n",
            " block6d_se_reshape (Reshape)   (None, 1, 1, 1152)   0           ['block6d_se_squeeze[0][0]']     \n",
            "                                                                                                  \n",
            " block6d_se_reduce (Conv2D)     (None, 1, 1, 48)     55344       ['block6d_se_reshape[0][0]']     \n",
            "                                                                                                  \n",
            " block6d_se_expand (Conv2D)     (None, 1, 1, 1152)   56448       ['block6d_se_reduce[0][0]']      \n",
            "                                                                                                  \n",
            " block6d_se_excite (Multiply)   (None, None, None,   0           ['block6d_activation[0][0]',     \n",
            "                                1152)                             'block6d_se_expand[0][0]']      \n",
            "                                                                                                  \n",
            " block6d_project_conv (Conv2D)  (None, None, None,   221184      ['block6d_se_excite[0][0]']      \n",
            "                                192)                                                              \n",
            "                                                                                                  \n",
            " block6d_project_bn (BatchNorma  (None, None, None,   768        ['block6d_project_conv[0][0]']   \n",
            " lization)                      192)                                                              \n",
            "                                                                                                  \n",
            " block6d_drop (Dropout)         (None, None, None,   0           ['block6d_project_bn[0][0]']     \n",
            "                                192)                                                              \n",
            "                                                                                                  \n",
            " block6d_add (Add)              (None, None, None,   0           ['block6d_drop[0][0]',           \n",
            "                                192)                              'block6c_add[0][0]']            \n",
            "                                                                                                  \n",
            " block7a_expand_conv (Conv2D)   (None, None, None,   221184      ['block6d_add[0][0]']            \n",
            "                                1152)                                                             \n",
            "                                                                                                  \n",
            " block7a_expand_bn (BatchNormal  (None, None, None,   4608       ['block7a_expand_conv[0][0]']    \n",
            " ization)                       1152)                                                             \n",
            "                                                                                                  \n",
            " block7a_expand_activation (Act  (None, None, None,   0          ['block7a_expand_bn[0][0]']      \n",
            " ivation)                       1152)                                                             \n",
            "                                                                                                  \n",
            " block7a_dwconv (DepthwiseConv2  (None, None, None,   10368      ['block7a_expand_activation[0][0]\n",
            " D)                             1152)                            ']                               \n",
            "                                                                                                  \n",
            " block7a_bn (BatchNormalization  (None, None, None,   4608       ['block7a_dwconv[0][0]']         \n",
            " )                              1152)                                                             \n",
            "                                                                                                  \n",
            " block7a_activation (Activation  (None, None, None,   0          ['block7a_bn[0][0]']             \n",
            " )                              1152)                                                             \n",
            "                                                                                                  \n",
            " block7a_se_squeeze (GlobalAver  (None, 1152)        0           ['block7a_activation[0][0]']     \n",
            " agePooling2D)                                                                                    \n",
            "                                                                                                  \n",
            " block7a_se_reshape (Reshape)   (None, 1, 1, 1152)   0           ['block7a_se_squeeze[0][0]']     \n",
            "                                                                                                  \n",
            " block7a_se_reduce (Conv2D)     (None, 1, 1, 48)     55344       ['block7a_se_reshape[0][0]']     \n",
            "                                                                                                  \n",
            " block7a_se_expand (Conv2D)     (None, 1, 1, 1152)   56448       ['block7a_se_reduce[0][0]']      \n",
            "                                                                                                  \n",
            " block7a_se_excite (Multiply)   (None, None, None,   0           ['block7a_activation[0][0]',     \n",
            "                                1152)                             'block7a_se_expand[0][0]']      \n",
            "                                                                                                  \n",
            " block7a_project_conv (Conv2D)  (None, None, None,   368640      ['block7a_se_excite[0][0]']      \n",
            "                                320)                                                              \n",
            "                                                                                                  \n",
            " block7a_project_bn (BatchNorma  (None, None, None,   1280       ['block7a_project_conv[0][0]']   \n",
            " lization)                      320)                                                              \n",
            "                                                                                                  \n",
            " top_conv (Conv2D)              (None, None, None,   409600      ['block7a_project_bn[0][0]']     \n",
            "                                1280)                                                             \n",
            "                                                                                                  \n",
            " top_bn (BatchNormalization)    (None, None, None,   5120        ['top_conv[0][0]']               \n",
            "                                1280)                                                             \n",
            "                                                                                                  \n",
            " top_activation (Activation)    (None, None, None,   0           ['top_bn[0][0]']                 \n",
            "                                1280)                                                             \n",
            "                                                                                                  \n",
            "==================================================================================================\n",
            "Total params: 4,049,571\n",
            "Trainable params: 0\n",
            "Non-trainable params: 4,049,571\n",
            "__________________________________________________________________________________________________\n"
          ]
        }
      ]
    },
    {
      "cell_type": "code",
      "source": [
        "#How about a summary of our whole model?\n",
        "model_0.summary()"
      ],
      "metadata": {
        "colab": {
          "base_uri": "https://localhost:8080/"
        },
        "id": "wLvLZkWAiqy_",
        "outputId": "c81b20a7-337a-4fd8-df5a-39fe096348d1"
      },
      "execution_count": 17,
      "outputs": [
        {
          "output_type": "stream",
          "name": "stdout",
          "text": [
            "Model: \"model\"\n",
            "_________________________________________________________________\n",
            " Layer (type)                Output Shape              Param #   \n",
            "=================================================================\n",
            " input_layer (InputLayer)    [(None, 224, 224, 3)]     0         \n",
            "                                                                 \n",
            " efficientnetb0 (Functional)  (None, None, None, 1280)  4049571  \n",
            "                                                                 \n",
            " global_average_pooling_laye  (None, 1280)             0         \n",
            " r (GlobalAveragePooling2D)                                      \n",
            "                                                                 \n",
            " output_layer (Dense)        (None, 10)                12810     \n",
            "                                                                 \n",
            "=================================================================\n",
            "Total params: 4,062,381\n",
            "Trainable params: 12,810\n",
            "Non-trainable params: 4,049,571\n",
            "_________________________________________________________________\n"
          ]
        }
      ]
    },
    {
      "cell_type": "code",
      "source": [
        "plot_loss_curves(history_0)"
      ],
      "metadata": {
        "colab": {
          "base_uri": "https://localhost:8080/",
          "height": 573
        },
        "id": "rd6lWwQ9ixdw",
        "outputId": "657c0050-dd0c-45ba-cc1e-af578430e7b0"
      },
      "execution_count": 18,
      "outputs": [
        {
          "output_type": "display_data",
          "data": {
            "image/png": "[encoded data removed]",
            "text/plain": [
              "<Figure size 432x288 with 1 Axes>"
            ]
          },
          "metadata": {
            "needs_background": "light"
          }
        },
        {
          "output_type": "display_data",
          "data": {
            "image/png": "[encoded data removed]",
            "text/plain": [
              "<Figure size 432x288 with 1 Axes>"
            ]
          },
          "metadata": {
            "needs_background": "light"
          }
        }
      ]
    },
    {
      "cell_type": "markdown",
      "source": [
        "### Getting a feature vector from a trained model\n",
        "\n",
        "Let's demonstrate the global average pooling 2D layer\n",
        "\n",
        "Let's use a similar shaped tensor of (1,4,4,3) and then pass it to GlobalAveragePooling2D"
      ],
      "metadata": {
        "id": "dLKt-UgMj07P"
      }
    },
    {
      "cell_type": "code",
      "source": [
        "# Define the input shape\n",
        "\n",
        "input_shape = (1,4,4,3)\n",
        "\n",
        "#create a random_tensor\n",
        "tf.random.set_seed(42)\n",
        "input_tensor = tf.random.normal(input_shape)\n",
        "print(f'Random input tensor:{input_tensor}\\n')\n",
        "\n",
        "# pass the random tensor through a global average 2D layer\n",
        "global_average_pooled_tensor = tf.keras.layers.GlobalAveragePooling2D()(input_tensor)\n",
        "print(f'2D global averaged pooled random tensor:{global_average_pooled_tensor}\\n')\n",
        "\n",
        "print(f'Shape of input tensor: {input_tensor.shape}')\n",
        "print(f'Shape of input tensor: {global_average_pooled_tensor.shape}')"
      ],
      "metadata": {
        "colab": {
          "base_uri": "https://localhost:8080/"
        },
        "id": "GpCo28tHmsrg",
        "outputId": "566cf481-beb2-464c-ee0a-c310db206b08"
      },
      "execution_count": 19,
      "outputs": [
        {
          "output_type": "stream",
          "name": "stdout",
          "text": [
            "Random input tensor:[[[[ 0.3274685  -0.8426258   0.3194337 ]\n",
            "   [-1.4075519  -2.3880599  -1.0392479 ]\n",
            "   [-0.5573232   0.539707    1.6994323 ]\n",
            "   [ 0.28893656 -1.5066116  -0.26454744]]\n",
            "\n",
            "  [[-0.59722406 -1.9171132  -0.62044144]\n",
            "   [ 0.8504023  -0.40604794 -3.0258412 ]\n",
            "   [ 0.9058464   0.29855987 -0.22561555]\n",
            "   [-0.7616443  -1.891714   -0.9384712 ]]\n",
            "\n",
            "  [[ 0.77852213 -0.47338897  0.97772694]\n",
            "   [ 0.24694404  0.20573747 -0.5256233 ]\n",
            "   [ 0.32410017  0.02545409 -0.10638497]\n",
            "   [-0.6369475   1.1603122   0.2507359 ]]\n",
            "\n",
            "  [[-0.41728497  0.40125778 -1.4145442 ]\n",
            "   [-0.59318566 -1.6617213   0.33567193]\n",
            "   [ 0.10815629  0.2347968  -0.56668764]\n",
            "   [-0.35819843  0.88698626  0.5274477 ]]]]\n",
            "\n",
            "2D global averaged pooled random tensor:[[-0.09368646 -0.45840445 -0.28855976]]\n",
            "\n",
            "Shape of input tensor: (1, 4, 4, 3)\n",
            "Shape of input tensor: (1, 3)\n"
          ]
        }
      ]
    },
    {
      "cell_type": "code",
      "source": [
        "#Let's replicate the GlobalAveragePool2D layer \n",
        "tf.reduce_mean(input_tensor, axis=[1,2])"
      ],
      "metadata": {
        "colab": {
          "base_uri": "https://localhost:8080/"
        },
        "id": "bVGP_qGynkJP",
        "outputId": "d4807055-24db-4f79-e82e-26e7de9069d9"
      },
      "execution_count": 20,
      "outputs": [
        {
          "output_type": "execute_result",
          "data": {
            "text/plain": [
              "<tf.Tensor: shape=(1, 3), dtype=float32, numpy=array([[-0.09368646, -0.45840445, -0.28855976]], dtype=float32)>"
            ]
          },
          "metadata": {},
          "execution_count": 20
        }
      ]
    },
    {
      "cell_type": "code",
      "source": [
        "input_shape = (1,4,4,3)\n",
        "\n",
        "#create a random_tensor\n",
        "tf.random.set_seed(42)\n",
        "input_tensor = tf.random.normal(input_shape)\n",
        "print(f'Random input tensor:{input_tensor}\\n')\n",
        "\n",
        "# pass the random tensor through a global average 2D layer\n",
        "global_max_pooled_tensor = tf.keras.layers.GlobalMaxPooling2D()(input_tensor)\n",
        "print(f'2D global averaged pooled random tensor:{global_max_pooled_tensor}\\n')\n",
        "\n",
        "print(f'Shape of input tensor: {input_tensor.shape}')\n",
        "print(f'Shape of input tensor: {global_max_pooled_tensor.shape}')"
      ],
      "metadata": {
        "id": "039D0Pb_piIp",
        "colab": {
          "base_uri": "https://localhost:8080/"
        },
        "outputId": "3bf2b780-1576-4139-ff31-1ce3055882bc"
      },
      "execution_count": 21,
      "outputs": [
        {
          "output_type": "stream",
          "name": "stdout",
          "text": [
            "Random input tensor:[[[[ 0.3274685  -0.8426258   0.3194337 ]\n",
            "   [-1.4075519  -2.3880599  -1.0392479 ]\n",
            "   [-0.5573232   0.539707    1.6994323 ]\n",
            "   [ 0.28893656 -1.5066116  -0.26454744]]\n",
            "\n",
            "  [[-0.59722406 -1.9171132  -0.62044144]\n",
            "   [ 0.8504023  -0.40604794 -3.0258412 ]\n",
            "   [ 0.9058464   0.29855987 -0.22561555]\n",
            "   [-0.7616443  -1.891714   -0.9384712 ]]\n",
            "\n",
            "  [[ 0.77852213 -0.47338897  0.97772694]\n",
            "   [ 0.24694404  0.20573747 -0.5256233 ]\n",
            "   [ 0.32410017  0.02545409 -0.10638497]\n",
            "   [-0.6369475   1.1603122   0.2507359 ]]\n",
            "\n",
            "  [[-0.41728497  0.40125778 -1.4145442 ]\n",
            "   [-0.59318566 -1.6617213   0.33567193]\n",
            "   [ 0.10815629  0.2347968  -0.56668764]\n",
            "   [-0.35819843  0.88698626  0.5274477 ]]]]\n",
            "\n",
            "2D global averaged pooled random tensor:[[0.9058464 1.1603122 1.6994323]]\n",
            "\n",
            "Shape of input tensor: (1, 4, 4, 3)\n",
            "Shape of input tensor: (1, 3)\n"
          ]
        }
      ]
    },
    {
      "cell_type": "code",
      "source": [
        "tf.reduce_max(input_tensor, axis = [1,2])"
      ],
      "metadata": {
        "colab": {
          "base_uri": "https://localhost:8080/"
        },
        "id": "C_nRT1NzrnBR",
        "outputId": "710ec6c4-7d59-4d83-e997-527d3745275b"
      },
      "execution_count": 22,
      "outputs": [
        {
          "output_type": "execute_result",
          "data": {
            "text/plain": [
              "<tf.Tensor: shape=(1, 3), dtype=float32, numpy=array([[0.9058464, 1.1603122, 1.6994323]], dtype=float32)>"
            ]
          },
          "metadata": {},
          "execution_count": 22
        }
      ]
    },
    {
      "cell_type": "markdown",
      "source": [
        "#What is a feature vector?\n",
        "\n",
        "A feature vector is a learned representation of the input data (a compressed form of the input data based on how the model sees it)"
      ],
      "metadata": {
        "id": "vkZJ6TkYr06K"
      }
    },
    {
      "cell_type": "code",
      "source": [
        "## Running a series of transfer learning experiments\n",
        "!wget https://storage.googleapis.com/ztm_tf_course/food_vision/10_food_classes_1_percent.zip\n",
        "unzip_data('10_food_classes_1_percent.zip')"
      ],
      "metadata": {
        "colab": {
          "base_uri": "https://localhost:8080/"
        },
        "id": "jN3k31i7sSuL",
        "outputId": "9312fa67-462e-4437-8102-8ea26bcb1de5"
      },
      "execution_count": 23,
      "outputs": [
        {
          "output_type": "stream",
          "name": "stdout",
          "text": [
            "--2022-01-12 01:21:03--  https://storage.googleapis.com/ztm_tf_course/food_vision/10_food_classes_1_percent.zip\n",
            "Resolving storage.googleapis.com (storage.googleapis.com)... 74.125.135.128, 74.125.195.128, 74.125.142.128, ...\n",
            "Connecting to storage.googleapis.com (storage.googleapis.com)|74.125.135.128|:443... connected.\n",
            "HTTP request sent, awaiting response... 200 OK\n",
            "Length: 133612354 (127M) [application/zip]\n",
            "Saving to: ‘10_food_classes_1_percent.zip’\n",
            "\n",
            "10_food_classes_1_p 100%[===================>] 127.42M   147MB/s    in 0.9s    \n",
            "\n",
            "2022-01-12 01:21:04 (147 MB/s) - ‘10_food_classes_1_percent.zip’ saved [133612354/133612354]\n",
            "\n"
          ]
        }
      ]
    },
    {
      "cell_type": "code",
      "source": [
        "train_dir_1_percent = '10_food_classes_1_percent/train'\n",
        "test_dir_1_percent = '10_food_classes_1_percent/test'"
      ],
      "metadata": {
        "id": "H-2glIH3tqBV"
      },
      "execution_count": 24,
      "outputs": []
    },
    {
      "cell_type": "code",
      "source": [
        "walk_through_dir('10_food_classes_1_percent')"
      ],
      "metadata": {
        "colab": {
          "base_uri": "https://localhost:8080/"
        },
        "id": "uODNfAO1t8__",
        "outputId": "104cbdcb-23e5-4eb8-9e5d-196ddb7b0928"
      },
      "execution_count": 25,
      "outputs": [
        {
          "output_type": "stream",
          "name": "stdout",
          "text": [
            "There are 2 directories and 0 images in '10_food_classes_1_percent'.\n",
            "There are 10 directories and 0 images in '10_food_classes_1_percent/train'.\n",
            "There are 0 directories and 7 images in '10_food_classes_1_percent/train/fried_rice'.\n",
            "There are 0 directories and 7 images in '10_food_classes_1_percent/train/hamburger'.\n",
            "There are 0 directories and 7 images in '10_food_classes_1_percent/train/chicken_wings'.\n",
            "There are 0 directories and 7 images in '10_food_classes_1_percent/train/steak'.\n",
            "There are 0 directories and 7 images in '10_food_classes_1_percent/train/pizza'.\n",
            "There are 0 directories and 7 images in '10_food_classes_1_percent/train/ice_cream'.\n",
            "There are 0 directories and 7 images in '10_food_classes_1_percent/train/sushi'.\n",
            "There are 0 directories and 7 images in '10_food_classes_1_percent/train/grilled_salmon'.\n",
            "There are 0 directories and 7 images in '10_food_classes_1_percent/train/ramen'.\n",
            "There are 0 directories and 7 images in '10_food_classes_1_percent/train/chicken_curry'.\n",
            "There are 10 directories and 0 images in '10_food_classes_1_percent/test'.\n",
            "There are 0 directories and 250 images in '10_food_classes_1_percent/test/fried_rice'.\n",
            "There are 0 directories and 250 images in '10_food_classes_1_percent/test/hamburger'.\n",
            "There are 0 directories and 250 images in '10_food_classes_1_percent/test/chicken_wings'.\n",
            "There are 0 directories and 250 images in '10_food_classes_1_percent/test/steak'.\n",
            "There are 0 directories and 250 images in '10_food_classes_1_percent/test/pizza'.\n",
            "There are 0 directories and 250 images in '10_food_classes_1_percent/test/ice_cream'.\n",
            "There are 0 directories and 250 images in '10_food_classes_1_percent/test/sushi'.\n",
            "There are 0 directories and 250 images in '10_food_classes_1_percent/test/grilled_salmon'.\n",
            "There are 0 directories and 250 images in '10_food_classes_1_percent/test/ramen'.\n",
            "There are 0 directories and 250 images in '10_food_classes_1_percent/test/chicken_curry'.\n"
          ]
        }
      ]
    },
    {
      "cell_type": "code",
      "source": [
        "#setup data loaders\n",
        "IMG_SIZE = (224,224)\n",
        "train_data_1_percent = tf.keras.preprocessing.image_dataset_from_directory(train_dir_1_percent,\n",
        "                                                                           image_size = IMG_SIZE,\n",
        "                                                                           label_mode = 'categorical',\n",
        "                                                                           batch_size = BATCH_SIZE)\n",
        "test_data_1_percent = tf.keras.preprocessing.image_dataset_from_directory(test_dir_1_percent,\n",
        "                                                                          image_size = IMG_SIZE,\n",
        "                                                                          label_mode = 'categorical',\n",
        "                                                                          batch_size = BATCH_SIZE)"
      ],
      "metadata": {
        "colab": {
          "base_uri": "https://localhost:8080/"
        },
        "id": "rQoVKj5EuDfy",
        "outputId": "b4e2c76a-9cde-4d14-87ba-ce0ee2a0f982"
      },
      "execution_count": 26,
      "outputs": [
        {
          "output_type": "stream",
          "name": "stdout",
          "text": [
            "Found 70 files belonging to 10 classes.\n",
            "Found 2500 files belonging to 10 classes.\n"
          ]
        }
      ]
    },
    {
      "cell_type": "markdown",
      "source": [
        "Benefits of data augmentation inside the model are :\n",
        "\n",
        "* Preprocessing of images (augmenting them) happens on the GPU (much faster) rather than the CPU\n",
        "\n",
        "* Image data augmentation only happens during training , so we can still export our whole model and use it elsewhere.\n"
      ],
      "metadata": {
        "id": "4GboeSMjwkaw"
      }
    },
    {
      "cell_type": "code",
      "source": [
        "## Adding data augmentation into the model\n",
        "import tensorflow as tf\n",
        "from tensorflow import keras\n",
        "from tensorflow.keras import layers\n",
        "from tensorflow.keras.layers.experimental import preprocessing"
      ],
      "metadata": {
        "id": "pxekY7QXuo9r"
      },
      "execution_count": 27,
      "outputs": []
    },
    {
      "cell_type": "code",
      "source": [
        "data_augmentation = keras.Sequential([\n",
        "                                      preprocessing.RandomFlip('horizontal'),\n",
        "                                      preprocessing.RandomRotation(0.2),\n",
        "                                      preprocessing.RandomZoom(0.2),\n",
        "                                      preprocessing.RandomHeight(0.2),\n",
        "                                      preprocessing.RandomWidth(0.2)\n",
        "\n",
        "], name = 'data_augmentation') # automically turned on during training , and turned off during testing"
      ],
      "metadata": {
        "id": "spHBChtGvGzo"
      },
      "execution_count": 28,
      "outputs": []
    },
    {
      "cell_type": "markdown",
      "source": [
        "### Visualize our data augmentation layer ( and see what happens to our data)\n"
      ],
      "metadata": {
        "id": "VBRdMoMmv0K1"
      }
    },
    {
      "cell_type": "code",
      "source": [
        "# View a random image and compare it to its augmented version\n",
        "\n",
        "import matplotlib.pyplot as plt\n",
        "import matplotlib.image as mpimg\n",
        "import os\n",
        "import random\n",
        "\n",
        "target_class = random.choice(train_data_10_percent.class_names)\n",
        "target_dir = '10_food_classes_1_percent/train/' + target_class\n",
        "random_image = random.choice(os.listdir(target_dir))\n",
        "random_image_path = target_dir + '/' +random_image\n",
        "\n",
        "img = mpimg.imread(random_image_path)\n",
        "plt.imshow(img)\n",
        "plt.axis(False)\n",
        "plt.title(f'Original random image from class {target_class}')\n",
        "\n",
        "# Now let's plot our augmented random image\n",
        "\n",
        "augmented_img = data_augmentation(tf.expand_dims(img, axis = 0)) #data augmentation expects 4 dims , img has only 3 \n",
        "plt.figure()\n",
        "plt.axis(False)\n",
        "plt.title(f'Augmented random image from {target_class}')\n",
        "plt.imshow(tf.squeeze(augmented_img)/255.) # image not normalized, imshow requires normalized image"
      ],
      "metadata": {
        "colab": {
          "base_uri": "https://localhost:8080/",
          "height": 528
        },
        "id": "RFneI-i0xSF8",
        "outputId": "e7b99e37-0ea4-4158-f612-ee69015756da"
      },
      "execution_count": 29,
      "outputs": [
        {
          "output_type": "execute_result",
          "data": {
            "text/plain": [
              "<matplotlib.image.AxesImage at 0x7f07dcdeb810>"
            ]
          },
          "metadata": {},
          "execution_count": 29
        },
        {
          "output_type": "display_data",
          "data": {
            "image/png": "[encoded data removed]",
            "text/plain": [
              "<Figure size 432x288 with 1 Axes>"
            ]
          },
          "metadata": {
            "needs_background": "light"
          }
        },
        {
          "output_type": "display_data",
          "data": {
            "image/png": "[encoded data removed]",
            "text/plain": [
              "<Figure size 432x288 with 1 Axes>"
            ]
          },
          "metadata": {
            "needs_background": "light"
          }
        }
      ]
    },
    {
      "cell_type": "markdown",
      "source": [
        "### Model 1: Feature extraction transfer learning on 1% of data with augmentation:\n",
        " "
      ],
      "metadata": {
        "id": "79J2QdnFxlDc"
      }
    },
    {
      "cell_type": "code",
      "source": [
        "input_shape = (224, 224, 3)\n",
        "base_model = tf.keras.applications.EfficientNetB0(include_top=False)\n",
        "base_model.trainable = False\n",
        "\n",
        "# Create input layer\n",
        "#inputs = layers.Input(shape=input_shape, name=\"input_layer\")\n",
        "inputs =tf.keras.layers.Input(shape = (224,224,3) , name = 'input_layer')\n",
        "\n",
        "# Add in data augmentation Sequential model as a layer\n",
        "x = data_augmentation(inputs)\n",
        "\n",
        "# Give base_model inputs (after augmentation) and don't train it\n",
        "x = base_model(x, training=False)\n",
        "\n",
        "# Pool output features of base model\n",
        "x = layers.GlobalAveragePooling2D(name=\"global_average_pooling_layer\")(x)\n",
        "\n",
        "# Put a dense layer on as the output\n",
        "outputs = layers.Dense(10, activation=\"softmax\", name=\"output_layer\")(x)\n",
        "\n",
        "# Make a model with inputs and outputs\n",
        "model_1 = keras.Model(inputs, outputs)\n",
        "\n",
        "# Compile the model\n",
        "model_1.compile(loss=\"categorical_crossentropy\",\n",
        "              optimizer=tf.keras.optimizers.Adam(),\n",
        "              metrics=[\"accuracy\"])\n",
        "\n",
        "# Fit the model\n",
        "history_1_percent = model_1.fit(train_data_1_percent,\n",
        "                    epochs=5,\n",
        "                    steps_per_epoch=len(train_data_1_percent),\n",
        "                    validation_data=test_data_10_percent,\n",
        "                    validation_steps=int(0.25* len(test_data_10_percent)), # validate for less steps\n",
        "                    # Track model training logs\n",
        "                    callbacks=[create_tensorboard_callback(\"transfer_learning_part_2\", \"1_percent_data_aug\")])\n"
      ],
      "metadata": {
        "colab": {
          "base_uri": "https://localhost:8080/"
        },
        "id": "EfD6wH-v0o1h",
        "outputId": "205b6c9a-1a16-490a-831a-ff8876a2f6d6"
      },
      "execution_count": 30,
      "outputs": [
        {
          "output_type": "stream",
          "name": "stdout",
          "text": [
            "Saving TensorBoard log files to: transfer_learning_part_2/1_percent_data_aug/20220112-012110\n",
            "Epoch 1/5\n"
          ]
        },
        {
          "output_type": "stream",
          "name": "stderr",
          "text": [
            "/usr/local/lib/python3.7/dist-packages/keras/engine/functional.py:1410: CustomMaskWarning: Custom mask layers require a config and must override get_config. When loading, the custom mask layer must be passed to the custom_objects argument.\n",
            "  layer_config = serialize_layer_fn(layer)\n"
          ]
        },
        {
          "output_type": "stream",
          "name": "stdout",
          "text": [
            "3/3 [==============================] - 41s 16s/step - loss: 2.4140 - accuracy: 0.1143 - val_loss: 2.2442 - val_accuracy: 0.1546\n",
            "Epoch 2/5\n",
            "3/3 [==============================] - 45s 21s/step - loss: 2.1491 - accuracy: 0.2286 - val_loss: 2.1182 - val_accuracy: 0.2418\n",
            "Epoch 3/5\n",
            "3/3 [==============================] - 33s 16s/step - loss: 2.0006 - accuracy: 0.4000 - val_loss: 2.0000 - val_accuracy: 0.3158\n",
            "Epoch 4/5\n",
            "3/3 [==============================] - 44s 21s/step - loss: 1.8210 - accuracy: 0.4857 - val_loss: 1.9210 - val_accuracy: 0.3602\n",
            "Epoch 5/5\n",
            "3/3 [==============================] - 44s 21s/step - loss: 1.6971 - accuracy: 0.6000 - val_loss: 1.8360 - val_accuracy: 0.4046\n"
          ]
        }
      ]
    },
    {
      "cell_type": "code",
      "source": [
        "model_1.evaluate(test_data_10_percent)"
      ],
      "metadata": {
        "id": "zdA8QMck2rCu",
        "colab": {
          "base_uri": "https://localhost:8080/"
        },
        "outputId": "f5d0ad21-3ade-4499-8db4-548f4e78d28a"
      },
      "execution_count": 31,
      "outputs": [
        {
          "output_type": "stream",
          "name": "stdout",
          "text": [
            "79/79 [==============================] - 119s 1s/step - loss: 1.8332 - accuracy: 0.4428\n"
          ]
        },
        {
          "output_type": "execute_result",
          "data": {
            "text/plain": [
              "[1.8332284688949585, 0.44279998540878296]"
            ]
          },
          "metadata": {},
          "execution_count": 31
        }
      ]
    },
    {
      "cell_type": "code",
      "source": [
        "plot_loss_curve(history)"
      ],
      "metadata": {
        "id": "9HIstsuC15qO"
      },
      "execution_count": 31,
      "outputs": []
    },
    {
      "cell_type": "code",
      "source": [
        "#1. import data.\n",
        "#2. visualize data\n",
        "#3. preprocessing\n",
        "#4. build model\n",
        "#5. evaluate\n",
        "#"
      ],
      "metadata": {
        "id": "lDX2H7R-2AAf"
      },
      "execution_count": 45,
      "outputs": []
    },
    {
      "cell_type": "code",
      "source": [
        "train_dir = '10_food_classes_10_percent/train'\n",
        "test_dir = '10_food_classes_10_percent/test'\n",
        "\n",
        "\n",
        "#create data loader\n",
        "import tensorflow as tf\n",
        "from tensorflow.keras.preprocessing import image_dataset_from_directory\n",
        "\n",
        "IMG_SIZE = (224,224)\n",
        "BATCH_SIZE = 32\n",
        "train_data_10_percent = image_dataset_from_directory(directory = train_dir,\n",
        "                                                     image_size = IMG_SIZE,\n",
        "                                                     batch_size = BATCH_SIZE,\n",
        "                                                     label_mode = 'categorical')\n",
        "\n",
        "test_data_10_percent = image_dataset_from_directory(directory = test_dir,\n",
        "                                                    image_size = IMG_SIZE,\n",
        "                                                    batch_size = BATCH_SIZE,\n",
        "                                                    label_mode = 'categorical')\n"
      ],
      "metadata": {
        "colab": {
          "base_uri": "https://localhost:8080/"
        },
        "id": "Knt-H7SK4NLD",
        "outputId": "9f098686-9dbf-4a3a-a6bd-624e4602ca69"
      },
      "execution_count": 32,
      "outputs": [
        {
          "output_type": "stream",
          "name": "stdout",
          "text": [
            "Found 750 files belonging to 10 classes.\n",
            "Found 2500 files belonging to 10 classes.\n"
          ]
        }
      ]
    },
    {
      "cell_type": "code",
      "source": [
        "from tensorflow.keras.layers.experimental import preprocessing\n",
        "\n",
        "data_augmentation = tf.keras.Sequential([\n",
        "                                         preprocessing.RandomFlip('horizontal'),\n",
        "                                         preprocessing.RandomHeight(0.2),\n",
        "                                         preprocessing.RandomWidth(0.2),\n",
        "                                         preprocessing.RandomZoom(0.2),\n",
        "                                         preprocessing.RandomRotation(0.2)\n",
        "                                         #preprocessing.Rescaling(1./255) efficient net has rescaling, use rescaling if there isn't \n",
        "], name = 'data_augmentation')"
      ],
      "metadata": {
        "id": "ScIlFAqm5dE8"
      },
      "execution_count": 35,
      "outputs": []
    },
    {
      "cell_type": "code",
      "source": [
        "input_shape = (224,224,3)\n",
        "#setup base model\n",
        "base_model = tf.keras.applications.EfficientNetB0(include_top = False)\n",
        "base_model.trainable = False\n",
        "\n",
        "#setup inputs\n",
        "inputs = tf.keras.layers.Input(shape = input_shape,\n",
        "                               name = 'input_layer')\n",
        "\n",
        "#data augmentation\n",
        "x = data_augmentation(inputs)\n",
        "x = base_model(x , training = False) # pass augmented data to model\n",
        "\n",
        "#pool output features\n",
        "x = layers.GlobalAveragePooling2D(name = 'global_average_pooling')(x)\n",
        "\n",
        "#put a dense layer as output\n",
        "outputs = keras.layers.Dense(10 , activation = 'softmax', name = 'output_layer')(x)\n",
        "\n",
        "#build model\n",
        "model_2 = keras.Model(inputs, outputs)\n",
        "\n",
        "#compile model\n",
        "\n",
        "model_2.compile(loss = tf.keras.losses.CategoricalCrossentropy(),\n",
        "                optimizer = tf.keras.optimizers.Adam(),\n",
        "                metrics = ['accuracy'])"
      ],
      "metadata": {
        "id": "9SNqhkk55wIy"
      },
      "execution_count": 47,
      "outputs": []
    },
    {
      "cell_type": "markdown",
      "source": [
        "# Create a model checkpoint callback\n",
        "\n",
        "it can intermediately save our models (the full model or just the weights) during training."
      ],
      "metadata": {
        "id": "BfWJj7fP__Bc"
      }
    },
    {
      "cell_type": "code",
      "source": [
        "from tensorflow.keras.callbacks import ModelCheckpoint\n",
        "#initiallize checkpoint file name\n",
        "checkpoint_path = 'ten_percent_model_checkpoints_weights/checkpoint.ckpt'\n",
        "# Create a model checkpoint callback that saves the mode's weights only\n",
        "checkpoint_callback = ModelCheckpoint(filepath = checkpoint_path,\n",
        "                                      save_weights_only = True,\n",
        "                                      save_best_only = True,\n",
        "                                      save_freq = 'epoch', #save every epoch,\n",
        "                                      verbose = 1)"
      ],
      "metadata": {
        "id": "Tw4cHhQ2AFht"
      },
      "execution_count": 53,
      "outputs": []
    },
    {
      "cell_type": "code",
      "source": [
        "initial_epochs = 5\n",
        "history_2 = model_2.fit(train_data_10_percent,\n",
        "                        steps_per_epoch = len(train_data_10_percent),\n",
        "                        epochs = initial_epochs,\n",
        "                        validation_data = test_data_10_percent,\n",
        "                        validation_steps = int(0.25*len(test_data_10_percent)),\n",
        "                        callbacks = [create_tensorboard_callback(dir_name = 'transfer_learning_part_2',\n",
        "                                                                 experiment_name = 'train_10percent_augmented'),\n",
        "                                     checkpoint_callback])"
      ],
      "metadata": {
        "colab": {
          "base_uri": "https://localhost:8080/",
          "height": 436
        },
        "id": "H_eF-zUf50Sa",
        "outputId": "1b0dddda-25ea-4d9d-f2c5-76e8a4cda9c6"
      },
      "execution_count": 95,
      "outputs": [
        {
          "output_type": "stream",
          "name": "stdout",
          "text": [
            "Saving TensorBoard log files to: transfer_learning_part_2/train_10percent_augmented/20220112-031356\n",
            "Epoch 1/5\n"
          ]
        },
        {
          "output_type": "stream",
          "name": "stderr",
          "text": [
            "/usr/local/lib/python3.7/dist-packages/keras/engine/functional.py:1410: CustomMaskWarning: Custom mask layers require a config and must override get_config. When loading, the custom mask layer must be passed to the custom_objects argument.\n",
            "  layer_config = serialize_layer_fn(layer)\n"
          ]
        },
        {
          "output_type": "error",
          "ename": "TypeError",
          "evalue": "ignored",
          "traceback": [
            "\u001b[0;31m---------------------------------------------------------------------------\u001b[0m",
            "\u001b[0;31mTypeError\u001b[0m                                 Traceback (most recent call last)",
            "\u001b[0;32m<ipython-input-95-8c7a528065f8>\u001b[0m in \u001b[0;36m<module>\u001b[0;34m()\u001b[0m\n\u001b[1;32m      7\u001b[0m                         callbacks = [create_tensorboard_callback(dir_name = 'transfer_learning_part_2',\n\u001b[1;32m      8\u001b[0m                                                                  experiment_name = 'train_10percent_augmented'),\n\u001b[0;32m----> 9\u001b[0;31m                                      checkpoint_callback])\n\u001b[0m",
            "\u001b[0;32m/usr/local/lib/python3.7/dist-packages/keras/utils/traceback_utils.py\u001b[0m in \u001b[0;36merror_handler\u001b[0;34m(*args, **kwargs)\u001b[0m\n\u001b[1;32m     65\u001b[0m     \u001b[0;32mexcept\u001b[0m \u001b[0mException\u001b[0m \u001b[0;32mas\u001b[0m \u001b[0me\u001b[0m\u001b[0;34m:\u001b[0m  \u001b[0;31m# pylint: disable=broad-except\u001b[0m\u001b[0;34m\u001b[0m\u001b[0;34m\u001b[0m\u001b[0m\n\u001b[1;32m     66\u001b[0m       \u001b[0mfiltered_tb\u001b[0m \u001b[0;34m=\u001b[0m \u001b[0m_process_traceback_frames\u001b[0m\u001b[0;34m(\u001b[0m\u001b[0me\u001b[0m\u001b[0;34m.\u001b[0m\u001b[0m__traceback__\u001b[0m\u001b[0;34m)\u001b[0m\u001b[0;34m\u001b[0m\u001b[0;34m\u001b[0m\u001b[0m\n\u001b[0;32m---> 67\u001b[0;31m       \u001b[0;32mraise\u001b[0m \u001b[0me\u001b[0m\u001b[0;34m.\u001b[0m\u001b[0mwith_traceback\u001b[0m\u001b[0;34m(\u001b[0m\u001b[0mfiltered_tb\u001b[0m\u001b[0;34m)\u001b[0m \u001b[0;32mfrom\u001b[0m \u001b[0;32mNone\u001b[0m\u001b[0;34m\u001b[0m\u001b[0;34m\u001b[0m\u001b[0m\n\u001b[0m\u001b[1;32m     68\u001b[0m     \u001b[0;32mfinally\u001b[0m\u001b[0;34m:\u001b[0m\u001b[0;34m\u001b[0m\u001b[0;34m\u001b[0m\u001b[0m\n\u001b[1;32m     69\u001b[0m       \u001b[0;32mdel\u001b[0m \u001b[0mfiltered_tb\u001b[0m\u001b[0;34m\u001b[0m\u001b[0;34m\u001b[0m\u001b[0m\n",
            "\u001b[0;32m/usr/local/lib/python3.7/dist-packages/tensorflow/python/eager/def_function.py\u001b[0m in \u001b[0;36m_call\u001b[0;34m(self, *args, **kwds)\u001b[0m\n\u001b[1;32m    940\u001b[0m       \u001b[0;31m# In this case we have created variables on the first call, so we run the\u001b[0m\u001b[0;34m\u001b[0m\u001b[0;34m\u001b[0m\u001b[0;34m\u001b[0m\u001b[0m\n\u001b[1;32m    941\u001b[0m       \u001b[0;31m# defunned version which is guaranteed to never create variables.\u001b[0m\u001b[0;34m\u001b[0m\u001b[0;34m\u001b[0m\u001b[0;34m\u001b[0m\u001b[0m\n\u001b[0;32m--> 942\u001b[0;31m       \u001b[0;32mreturn\u001b[0m \u001b[0mself\u001b[0m\u001b[0;34m.\u001b[0m\u001b[0m_stateless_fn\u001b[0m\u001b[0;34m(\u001b[0m\u001b[0;34m*\u001b[0m\u001b[0margs\u001b[0m\u001b[0;34m,\u001b[0m \u001b[0;34m**\u001b[0m\u001b[0mkwds\u001b[0m\u001b[0;34m)\u001b[0m  \u001b[0;31m# pylint: disable=not-callable\u001b[0m\u001b[0;34m\u001b[0m\u001b[0;34m\u001b[0m\u001b[0m\n\u001b[0m\u001b[1;32m    943\u001b[0m     \u001b[0;32melif\u001b[0m \u001b[0mself\u001b[0m\u001b[0;34m.\u001b[0m\u001b[0m_stateful_fn\u001b[0m \u001b[0;32mis\u001b[0m \u001b[0;32mnot\u001b[0m \u001b[0;32mNone\u001b[0m\u001b[0;34m:\u001b[0m\u001b[0;34m\u001b[0m\u001b[0;34m\u001b[0m\u001b[0m\n\u001b[1;32m    944\u001b[0m       \u001b[0;31m# Release the lock early so that multiple threads can perform the call\u001b[0m\u001b[0;34m\u001b[0m\u001b[0;34m\u001b[0m\u001b[0;34m\u001b[0m\u001b[0m\n",
            "\u001b[0;31mTypeError\u001b[0m: 'NoneType' object is not callable"
          ]
        }
      ]
    },
    {
      "cell_type": "code",
      "source": [
        "model_0.evaluate(test_data_10_percent)"
      ],
      "metadata": {
        "colab": {
          "base_uri": "https://localhost:8080/"
        },
        "id": "D41qLgLcB5gP",
        "outputId": "d02a27fb-7ef2-475e-d48c-c0fe7e450372"
      },
      "execution_count": 55,
      "outputs": [
        {
          "output_type": "stream",
          "name": "stdout",
          "text": [
            "79/79 [==============================] - 144s 2s/step - loss: 0.6073 - accuracy: 0.8448\n"
          ]
        },
        {
          "output_type": "execute_result",
          "data": {
            "text/plain": [
              "[0.6072912812232971, 0.8447999954223633]"
            ]
          },
          "metadata": {},
          "execution_count": 55
        }
      ]
    },
    {
      "cell_type": "code",
      "source": [
        "model_2.evaluate(test_data_10_percent)"
      ],
      "metadata": {
        "colab": {
          "base_uri": "https://localhost:8080/"
        },
        "id": "OZrdEZsVCCGU",
        "outputId": "79ca064d-faac-4a0e-eed0-c4dd30fa9fef"
      },
      "execution_count": 56,
      "outputs": [
        {
          "output_type": "stream",
          "name": "stdout",
          "text": [
            "79/79 [==============================] - 144s 2s/step - loss: 0.5885 - accuracy: 0.8352\n"
          ]
        },
        {
          "output_type": "execute_result",
          "data": {
            "text/plain": [
              "[0.5885218381881714, 0.8352000117301941]"
            ]
          },
          "metadata": {},
          "execution_count": 56
        }
      ]
    },
    {
      "cell_type": "code",
      "source": [
        "plot_loss_curves(history_2)"
      ],
      "metadata": {
        "colab": {
          "base_uri": "https://localhost:8080/",
          "height": 573
        },
        "id": "iQuGqppGB2v8",
        "outputId": "8467955b-e21f-4557-c1dc-425c176d0929"
      },
      "execution_count": 54,
      "outputs": [
        {
          "output_type": "display_data",
          "data": {
            "image/png": "[encoded data removed]",
            "text/plain": [
              "<Figure size 432x288 with 1 Axes>"
            ]
          },
          "metadata": {
            "needs_background": "light"
          }
        },
        {
          "output_type": "display_data",
          "data": {
            "image/png": "[encoded data removed]",
            "text/plain": [
              "<Figure size 432x288 with 1 Axes>"
            ]
          },
          "metadata": {
            "needs_background": "light"
          }
        }
      ]
    },
    {
      "cell_type": "markdown",
      "source": [
        "# Loading in checkpointed weights\n",
        "Loading  in checked pointed weights returns a model to a specific checkpoint"
      ],
      "metadata": {
        "id": "vxR6vtK7-8ht"
      }
    },
    {
      "cell_type": "code",
      "source": [
        "# load in saved model weights and evaluate_model\n",
        "model_2.load_weights(checkpoint_path)"
      ],
      "metadata": {
        "colab": {
          "base_uri": "https://localhost:8080/"
        },
        "id": "PbGbpdkTCPUN",
        "outputId": "d91d2202-bd79-4451-93c2-75431dbc8c5e"
      },
      "execution_count": 96,
      "outputs": [
        {
          "output_type": "execute_result",
          "data": {
            "text/plain": [
              "<tensorflow.python.training.tracking.util.CheckpointLoadStatus at 0x7f07d7f5b6d0>"
            ]
          },
          "metadata": {},
          "execution_count": 96
        }
      ]
    },
    {
      "cell_type": "code",
      "source": [
        "loaded_weights_model_results = model_2.evaluate(test_data_10_percent)"
      ],
      "metadata": {
        "colab": {
          "base_uri": "https://localhost:8080/"
        },
        "id": "XHFI0UdoCXqd",
        "outputId": "5fc918e6-f636-47d4-f2a5-4d6c9030c414"
      },
      "execution_count": 97,
      "outputs": [
        {
          "output_type": "stream",
          "name": "stdout",
          "text": [
            "79/79 [==============================] - 127s 2s/step - loss: 0.5885 - accuracy: 0.8352\n"
          ]
        }
      ]
    },
    {
      "cell_type": "markdown",
      "source": [
        "## Model 3 : Fine tuning existing model\n",
        "\n",
        ">Fine-tuning usually works best after training a feature extraction model for a few epochs with large amounts of custom data.\n",
        "\n",
        "- typical work flow -> trained freeze model\n",
        "- load in trained model, and unfreeze some layers and retrain\n"
      ],
      "metadata": {
        "id": "isDIidcDC77F"
      }
    },
    {
      "cell_type": "code",
      "source": [
        "model_2.load_weights(checkpoint_path)"
      ],
      "metadata": {
        "colab": {
          "base_uri": "https://localhost:8080/"
        },
        "id": "SZQ7KYICCg6e",
        "outputId": "a2a45d4e-06c0-4a8a-d246-77308b2cbb4f"
      },
      "execution_count": 98,
      "outputs": [
        {
          "output_type": "execute_result",
          "data": {
            "text/plain": [
              "<tensorflow.python.training.tracking.util.CheckpointLoadStatus at 0x7f07d7c6fa90>"
            ]
          },
          "metadata": {},
          "execution_count": 98
        }
      ]
    },
    {
      "cell_type": "code",
      "source": [
        "model_2.layers"
      ],
      "metadata": {
        "colab": {
          "base_uri": "https://localhost:8080/"
        },
        "id": "Mrd4K8M4C7L-",
        "outputId": "bc707120-6e2a-41a4-c997-3bb146fe55d2"
      },
      "execution_count": 99,
      "outputs": [
        {
          "output_type": "execute_result",
          "data": {
            "text/plain": [
              "[<keras.engine.input_layer.InputLayer at 0x7f07de9c6690>,\n",
              " <keras.engine.sequential.Sequential at 0x7f07daecd210>,\n",
              " <keras.engine.functional.Functional at 0x7f07d307af10>,\n",
              " <keras.layers.pooling.GlobalAveragePooling2D at 0x7f07cf43b310>,\n",
              " <keras.layers.core.dense.Dense at 0x7f07d3118d90>]"
            ]
          },
          "metadata": {},
          "execution_count": 99
        }
      ]
    },
    {
      "cell_type": "code",
      "source": [
        "#Are the layers trainable?\n",
        "for layer in model_2.layers:\n",
        "  print(layer, layer.trainable)"
      ],
      "metadata": {
        "colab": {
          "base_uri": "https://localhost:8080/"
        },
        "id": "bpXGVLy5EGqG",
        "outputId": "665050af-3a22-4ffb-99aa-e97bcba761e5"
      },
      "execution_count": 100,
      "outputs": [
        {
          "output_type": "stream",
          "name": "stdout",
          "text": [
            "<keras.engine.input_layer.InputLayer object at 0x7f07de9c6690> True\n",
            "<keras.engine.sequential.Sequential object at 0x7f07daecd210> True\n",
            "<keras.engine.functional.Functional object at 0x7f07d307af10> True\n",
            "<keras.layers.pooling.GlobalAveragePooling2D object at 0x7f07cf43b310> True\n",
            "<keras.layers.core.dense.Dense object at 0x7f07d3118d90> True\n"
          ]
        }
      ]
    },
    {
      "cell_type": "code",
      "source": [
        "for i,layer in enumerate(model_2.layers[2].layers):\n",
        "  print(i,layer,layer.trainable)"
      ],
      "metadata": {
        "colab": {
          "base_uri": "https://localhost:8080/"
        },
        "id": "_tPpu4tOEJxd",
        "outputId": "1181e87d-942b-4561-8e75-8364a2b45dc6"
      },
      "execution_count": 101,
      "outputs": [
        {
          "output_type": "stream",
          "name": "stdout",
          "text": [
            "0 <keras.engine.input_layer.InputLayer object at 0x7f07cf48ff90> False\n",
            "1 <keras.layers.preprocessing.image_preprocessing.Rescaling object at 0x7f07cf44f9d0> False\n",
            "2 <keras.layers.preprocessing.normalization.Normalization object at 0x7f07cf3f3c90> False\n",
            "3 <keras.layers.convolutional.ZeroPadding2D object at 0x7f07cba7c650> False\n",
            "4 <keras.layers.convolutional.Conv2D object at 0x7f07d23bf590> False\n",
            "5 <keras.layers.normalization.batch_normalization.BatchNormalization object at 0x7f07d05d3510> False\n",
            "6 <keras.layers.core.activation.Activation object at 0x7f07cf4307d0> False\n",
            "7 <keras.layers.convolutional.DepthwiseConv2D object at 0x7f07cf426410> False\n",
            "8 <keras.layers.normalization.batch_normalization.BatchNormalization object at 0x7f07cf408550> False\n",
            "9 <keras.layers.core.activation.Activation object at 0x7f07cf4084d0> False\n",
            "10 <keras.layers.pooling.GlobalAveragePooling2D object at 0x7f07d0611310> False\n",
            "11 <keras.layers.core.reshape.Reshape object at 0x7f07cf3c1350> False\n",
            "12 <keras.layers.convolutional.Conv2D object at 0x7f07cf3c1450> False\n",
            "13 <keras.layers.convolutional.Conv2D object at 0x7f07d23e3ed0> False\n",
            "14 <keras.layers.merge.Multiply object at 0x7f07cf3d59d0> False\n",
            "15 <keras.layers.convolutional.Conv2D object at 0x7f07cf3da150> False\n",
            "16 <keras.layers.normalization.batch_normalization.BatchNormalization object at 0x7f07cf3ccb10> False\n",
            "17 <keras.layers.convolutional.Conv2D object at 0x7f07cf373b10> False\n",
            "18 <keras.layers.normalization.batch_normalization.BatchNormalization object at 0x7f07cf3d70d0> False\n",
            "19 <keras.layers.core.activation.Activation object at 0x7f07cf3ef310> False\n",
            "20 <keras.layers.convolutional.ZeroPadding2D object at 0x7f07cf37a910> False\n",
            "21 <keras.layers.convolutional.DepthwiseConv2D object at 0x7f07d232a050> False\n",
            "22 <keras.layers.normalization.batch_normalization.BatchNormalization object at 0x7f07cf37d1d0> False\n",
            "23 <keras.layers.core.activation.Activation object at 0x7f07cf4261d0> False\n",
            "24 <keras.layers.pooling.GlobalAveragePooling2D object at 0x7f07cf4a4710> False\n",
            "25 <keras.layers.core.reshape.Reshape object at 0x7f07cf39c450> False\n",
            "26 <keras.layers.convolutional.Conv2D object at 0x7f07cf394610> False\n",
            "27 <keras.layers.convolutional.Conv2D object at 0x7f07cf3e9e10> False\n",
            "28 <keras.layers.merge.Multiply object at 0x7f07cf3a6150> False\n",
            "29 <keras.layers.convolutional.Conv2D object at 0x7f07cf3ab850> False\n",
            "30 <keras.layers.normalization.batch_normalization.BatchNormalization object at 0x7f07cf384d10> False\n",
            "31 <keras.layers.convolutional.Conv2D object at 0x7f07cf33cbd0> False\n",
            "32 <keras.layers.normalization.batch_normalization.BatchNormalization object at 0x7f07cf39f310> False\n",
            "33 <keras.layers.core.activation.Activation object at 0x7f07cf39ccd0> False\n",
            "34 <keras.layers.convolutional.DepthwiseConv2D object at 0x7f07cf465050> False\n",
            "35 <keras.layers.normalization.batch_normalization.BatchNormalization object at 0x7f07cf3b5150> False\n",
            "36 <keras.layers.core.activation.Activation object at 0x7f07cf3cc150> False\n",
            "37 <keras.layers.pooling.GlobalAveragePooling2D object at 0x7f07d0527d50> False\n",
            "38 <keras.layers.core.reshape.Reshape object at 0x7f07de944fd0> False\n",
            "39 <keras.layers.convolutional.Conv2D object at 0x7f07de9e9690> False\n",
            "40 <keras.layers.convolutional.Conv2D object at 0x7f07cf33cb50> False\n",
            "41 <keras.layers.merge.Multiply object at 0x7f07cf355310> False\n",
            "42 <keras.layers.convolutional.Conv2D object at 0x7f07cf352050> False\n",
            "43 <keras.layers.normalization.batch_normalization.BatchNormalization object at 0x7f07cf42f690> False\n",
            "44 <keras.layers.core.dropout.Dropout object at 0x7f07cf361050> False\n",
            "45 <keras.layers.merge.Add object at 0x7f07d05fd490> False\n",
            "46 <keras.layers.convolutional.Conv2D object at 0x7f07cf36b110> False\n",
            "47 <keras.layers.normalization.batch_normalization.BatchNormalization object at 0x7f07cf35ca90> False\n",
            "48 <keras.layers.core.activation.Activation object at 0x7f07cf2f63d0> False\n",
            "49 <keras.layers.convolutional.ZeroPadding2D object at 0x7f07cf3006d0> False\n",
            "50 <keras.layers.convolutional.DepthwiseConv2D object at 0x7f07cf346e90> False\n",
            "51 <keras.layers.normalization.batch_normalization.BatchNormalization object at 0x7f07cf2faf90> False\n",
            "52 <keras.layers.core.activation.Activation object at 0x7f07cf3b50d0> False\n",
            "53 <keras.layers.pooling.GlobalAveragePooling2D object at 0x7f07cf30afd0> False\n",
            "54 <keras.layers.core.reshape.Reshape object at 0x7f07cf3bc590> False\n",
            "55 <keras.layers.convolutional.Conv2D object at 0x7f07cf314950> False\n",
            "56 <keras.layers.convolutional.Conv2D object at 0x7f07cf36b350> False\n",
            "57 <keras.layers.merge.Multiply object at 0x7f07cf327750> False\n",
            "58 <keras.layers.convolutional.Conv2D object at 0x7f07cf32ae50> False\n",
            "59 <keras.layers.normalization.batch_normalization.BatchNormalization object at 0x7f07cf31f890> False\n",
            "60 <keras.layers.convolutional.Conv2D object at 0x7f07cf2c3710> False\n",
            "61 <keras.layers.normalization.batch_normalization.BatchNormalization object at 0x7f07cf2b2510> False\n",
            "62 <keras.layers.core.activation.Activation object at 0x7f07cf2c3050> False\n",
            "63 <keras.layers.convolutional.DepthwiseConv2D object at 0x7f07cf2d4310> False\n",
            "64 <keras.layers.normalization.batch_normalization.BatchNormalization object at 0x7f07cf2bcad0> False\n",
            "65 <keras.layers.core.activation.Activation object at 0x7f07cf2d4e50> False\n",
            "66 <keras.layers.pooling.GlobalAveragePooling2D object at 0x7f07cf2bae10> False\n",
            "67 <keras.layers.core.reshape.Reshape object at 0x7f07cf2e2e90> False\n",
            "68 <keras.layers.convolutional.Conv2D object at 0x7f07cf2e8150> False\n",
            "69 <keras.layers.convolutional.Conv2D object at 0x7f07cf2b2f50> False\n",
            "70 <keras.layers.merge.Multiply object at 0x7f07cf27a4d0> False\n",
            "71 <keras.layers.convolutional.Conv2D object at 0x7f07cf282bd0> False\n",
            "72 <keras.layers.normalization.batch_normalization.BatchNormalization object at 0x7f07cf277610> False\n",
            "73 <keras.layers.core.dropout.Dropout object at 0x7f07cf293bd0> False\n",
            "74 <keras.layers.merge.Add object at 0x7f07cf298410> False\n",
            "75 <keras.layers.convolutional.Conv2D object at 0x7f07cf28c550> False\n",
            "76 <keras.layers.normalization.batch_normalization.BatchNormalization object at 0x7f07cf282d90> False\n",
            "77 <keras.layers.core.activation.Activation object at 0x7f07cf2bcb90> False\n",
            "78 <keras.layers.convolutional.ZeroPadding2D object at 0x7f07cf2bcc10> False\n",
            "79 <keras.layers.convolutional.DepthwiseConv2D object at 0x7f07cf2c7490> False\n",
            "80 <keras.layers.normalization.batch_normalization.BatchNormalization object at 0x7f07cf2f1b90> False\n",
            "81 <keras.layers.core.activation.Activation object at 0x7f07cf2d4890> False\n",
            "82 <keras.layers.pooling.GlobalAveragePooling2D object at 0x7f07cf300a50> False\n",
            "83 <keras.layers.core.reshape.Reshape object at 0x7f07cf361350> False\n",
            "84 <keras.layers.convolutional.Conv2D object at 0x7f07cf434050> False\n",
            "85 <keras.layers.convolutional.Conv2D object at 0x7f07cf28cd90> False\n",
            "86 <keras.layers.merge.Multiply object at 0x7f07cf2a9c90> False\n",
            "87 <keras.layers.convolutional.Conv2D object at 0x7f07cf2a9510> False\n",
            "88 <keras.layers.normalization.batch_normalization.BatchNormalization object at 0x7f07cf2a6e10> False\n",
            "89 <keras.layers.convolutional.Conv2D object at 0x7f07cf23cf90> False\n",
            "90 <keras.layers.normalization.batch_normalization.BatchNormalization object at 0x7f07cf239f10> False\n",
            "91 <keras.layers.core.activation.Activation object at 0x7f07cf241890> False\n",
            "92 <keras.layers.convolutional.DepthwiseConv2D object at 0x7f07cf2568d0> False\n",
            "93 <keras.layers.normalization.batch_normalization.BatchNormalization object at 0x7f07cf25e450> False\n",
            "94 <keras.layers.core.activation.Activation object at 0x7f07cf24f550> False\n",
            "95 <keras.layers.pooling.GlobalAveragePooling2D object at 0x7f07cf26e850> False\n",
            "96 <keras.layers.core.reshape.Reshape object at 0x7f07cf2ee290> False\n",
            "97 <keras.layers.convolutional.Conv2D object at 0x7f07cf26e050> False\n",
            "98 <keras.layers.convolutional.Conv2D object at 0x7f07cf247110> False\n",
            "99 <keras.layers.merge.Multiply object at 0x7f07cf200cd0> False\n",
            "100 <keras.layers.convolutional.Conv2D object at 0x7f07cf205b10> False\n",
            "101 <keras.layers.normalization.batch_normalization.BatchNormalization object at 0x7f07cf1fae10> False\n",
            "102 <keras.layers.core.dropout.Dropout object at 0x7f07cf214610> False\n",
            "103 <keras.layers.merge.Add object at 0x7f07cf21ce90> False\n",
            "104 <keras.layers.convolutional.Conv2D object at 0x7f07cf20f1d0> False\n",
            "105 <keras.layers.normalization.batch_normalization.BatchNormalization object at 0x7f07cf20c8d0> False\n",
            "106 <keras.layers.core.activation.Activation object at 0x7f07cf1b2a10> False\n",
            "107 <keras.layers.convolutional.DepthwiseConv2D object at 0x7f07cf226b50> False\n",
            "108 <keras.layers.normalization.batch_normalization.BatchNormalization object at 0x7f07cf226950> False\n",
            "109 <keras.layers.core.activation.Activation object at 0x7f07cf24f490> False\n",
            "110 <keras.layers.pooling.GlobalAveragePooling2D object at 0x7f07cf1bef90> False\n",
            "111 <keras.layers.core.reshape.Reshape object at 0x7f07cf24f150> False\n",
            "112 <keras.layers.convolutional.Conv2D object at 0x7f07cf1b8850> False\n",
            "113 <keras.layers.convolutional.Conv2D object at 0x7f07cf214190> False\n",
            "114 <keras.layers.merge.Multiply object at 0x7f07cf1d5b90> False\n",
            "115 <keras.layers.convolutional.Conv2D object at 0x7f07cf1d5a90> False\n",
            "116 <keras.layers.normalization.batch_normalization.BatchNormalization object at 0x7f07cf1cecd0> False\n",
            "117 <keras.layers.core.dropout.Dropout object at 0x7f07cf1ef510> False\n",
            "118 <keras.layers.merge.Add object at 0x7f07cf1c3e50> False\n",
            "119 <keras.layers.convolutional.Conv2D object at 0x7f07cf1db310> False\n",
            "120 <keras.layers.normalization.batch_normalization.BatchNormalization object at 0x7f07dc893410> False\n",
            "121 <keras.layers.core.activation.Activation object at 0x7f07cf1d5490> False\n",
            "122 <keras.layers.convolutional.DepthwiseConv2D object at 0x7f07cf298790> False\n",
            "123 <keras.layers.normalization.batch_normalization.BatchNormalization object at 0x7f07cf226910> False\n",
            "124 <keras.layers.core.activation.Activation object at 0x7f07cf1c8810> False\n",
            "125 <keras.layers.pooling.GlobalAveragePooling2D object at 0x7f07de967910> False\n",
            "126 <keras.layers.core.reshape.Reshape object at 0x7f07cf44f950> False\n",
            "127 <keras.layers.convolutional.Conv2D object at 0x7f07cf45ca10> False\n",
            "128 <keras.layers.convolutional.Conv2D object at 0x7f07cf434fd0> False\n",
            "129 <keras.layers.merge.Multiply object at 0x7f07cba8d950> False\n",
            "130 <keras.layers.convolutional.Conv2D object at 0x7f07cba8ddd0> False\n",
            "131 <keras.layers.normalization.batch_normalization.BatchNormalization object at 0x7f07cf45c6d0> False\n",
            "132 <keras.layers.convolutional.Conv2D object at 0x7f07d2d9b050> False\n",
            "133 <keras.layers.normalization.batch_normalization.BatchNormalization object at 0x7f07cf49ba50> False\n",
            "134 <keras.layers.core.activation.Activation object at 0x7f07cf45a890> False\n",
            "135 <keras.layers.convolutional.DepthwiseConv2D object at 0x7f07ccab6610> False\n",
            "136 <keras.layers.normalization.batch_normalization.BatchNormalization object at 0x7f07cba81d10> False\n",
            "137 <keras.layers.core.activation.Activation object at 0x7f07d0a6ff90> False\n",
            "138 <keras.layers.pooling.GlobalAveragePooling2D object at 0x7f07cba88850> False\n",
            "139 <keras.layers.core.reshape.Reshape object at 0x7f07cba88dd0> False\n",
            "140 <keras.layers.convolutional.Conv2D object at 0x7f07d0a6f810> False\n",
            "141 <keras.layers.convolutional.Conv2D object at 0x7f07d2da2610> False\n",
            "142 <keras.layers.merge.Multiply object at 0x7f07d2d38a90> False\n",
            "143 <keras.layers.convolutional.Conv2D object at 0x7f07cf485a10> False\n",
            "144 <keras.layers.normalization.batch_normalization.BatchNormalization object at 0x7f07d055f950> False\n",
            "145 <keras.layers.core.dropout.Dropout object at 0x7f07d06bf990> False\n",
            "146 <keras.layers.merge.Add object at 0x7f07d06d9650> False\n",
            "147 <keras.layers.convolutional.Conv2D object at 0x7f07d0606610> False\n",
            "148 <keras.layers.normalization.batch_normalization.BatchNormalization object at 0x7f07d05b3bd0> False\n",
            "149 <keras.layers.core.activation.Activation object at 0x7f07d05c9c50> False\n",
            "150 <keras.layers.convolutional.DepthwiseConv2D object at 0x7f07d0547890> False\n",
            "151 <keras.layers.normalization.batch_normalization.BatchNormalization object at 0x7f07d05a9850> False\n",
            "152 <keras.layers.core.activation.Activation object at 0x7f07d05e2190> False\n",
            "153 <keras.layers.pooling.GlobalAveragePooling2D object at 0x7f07d05a4ed0> False\n",
            "154 <keras.layers.core.reshape.Reshape object at 0x7f07d07d2510> False\n",
            "155 <keras.layers.convolutional.Conv2D object at 0x7f07d08d6650> False\n",
            "156 <keras.layers.convolutional.Conv2D object at 0x7f07d2dfa490> False\n",
            "157 <keras.layers.merge.Multiply object at 0x7f07d2e094d0> False\n",
            "158 <keras.layers.convolutional.Conv2D object at 0x7f07d2e0f290> False\n",
            "159 <keras.layers.normalization.batch_normalization.BatchNormalization object at 0x7f07d2e74910> False\n",
            "160 <keras.layers.core.dropout.Dropout object at 0x7f07d2e0dbd0> False\n",
            "161 <keras.layers.merge.Add object at 0x7f07d071c310> False\n",
            "162 <keras.layers.convolutional.Conv2D object at 0x7f07d0669410> False\n",
            "163 <keras.layers.normalization.batch_normalization.BatchNormalization object at 0x7f07d06d5f10> False\n",
            "164 <keras.layers.core.activation.Activation object at 0x7f07d060cc50> False\n",
            "165 <keras.layers.convolutional.ZeroPadding2D object at 0x7f07d05a8b90> False\n",
            "166 <keras.layers.convolutional.DepthwiseConv2D object at 0x7f07cf49b390> False\n",
            "167 <keras.layers.normalization.batch_normalization.BatchNormalization object at 0x7f07cf1d5e90> False\n",
            "168 <keras.layers.core.activation.Activation object at 0x7f07d2d39790> False\n",
            "169 <keras.layers.pooling.GlobalAveragePooling2D object at 0x7f07d2e36a10> False\n",
            "170 <keras.layers.core.reshape.Reshape object at 0x7f07d2ddb0d0> False\n",
            "171 <keras.layers.convolutional.Conv2D object at 0x7f07d2dbd210> False\n",
            "172 <keras.layers.convolutional.Conv2D object at 0x7f07d2df12d0> False\n",
            "173 <keras.layers.merge.Multiply object at 0x7f07d2e80250> False\n",
            "174 <keras.layers.convolutional.Conv2D object at 0x7f07d2ded850> False\n",
            "175 <keras.layers.normalization.batch_normalization.BatchNormalization object at 0x7f07d2f2d750> False\n",
            "176 <keras.layers.convolutional.Conv2D object at 0x7f07d2f34690> False\n",
            "177 <keras.layers.normalization.batch_normalization.BatchNormalization object at 0x7f07d2edb950> False\n",
            "178 <keras.layers.core.activation.Activation object at 0x7f07d2e8dd50> False\n",
            "179 <keras.layers.convolutional.DepthwiseConv2D object at 0x7f07d2e46610> False\n",
            "180 <keras.layers.normalization.batch_normalization.BatchNormalization object at 0x7f07d2e465d0> False\n",
            "181 <keras.layers.core.activation.Activation object at 0x7f07d2e60910> False\n",
            "182 <keras.layers.pooling.GlobalAveragePooling2D object at 0x7f07d2e3e190> False\n",
            "183 <keras.layers.core.reshape.Reshape object at 0x7f07d2e3eb90> False\n",
            "184 <keras.layers.convolutional.Conv2D object at 0x7f07d2db6e10> False\n",
            "185 <keras.layers.convolutional.Conv2D object at 0x7f07d2eb4210> False\n",
            "186 <keras.layers.merge.Multiply object at 0x7f07d2e96250> False\n",
            "187 <keras.layers.convolutional.Conv2D object at 0x7f07d062abd0> False\n",
            "188 <keras.layers.normalization.batch_normalization.BatchNormalization object at 0x7f07d2f3a250> False\n",
            "189 <keras.layers.core.dropout.Dropout object at 0x7f07d2feb550> False\n",
            "190 <keras.layers.merge.Add object at 0x7f07d2f9a410> False\n",
            "191 <keras.layers.convolutional.Conv2D object at 0x7f07d2eaf090> False\n",
            "192 <keras.layers.normalization.batch_normalization.BatchNormalization object at 0x7f07d2f85710> False\n",
            "193 <keras.layers.core.activation.Activation object at 0x7f07d2f77e10> False\n",
            "194 <keras.layers.convolutional.DepthwiseConv2D object at 0x7f07d2f62d90> False\n",
            "195 <keras.layers.normalization.batch_normalization.BatchNormalization object at 0x7f07d2fb1a90> False\n",
            "196 <keras.layers.core.activation.Activation object at 0x7f07d2f0e7d0> False\n",
            "197 <keras.layers.pooling.GlobalAveragePooling2D object at 0x7f07d2f6b8d0> False\n",
            "198 <keras.layers.core.reshape.Reshape object at 0x7f07d2f0ee50> False\n",
            "199 <keras.layers.convolutional.Conv2D object at 0x7f07d2f76410> False\n",
            "200 <keras.layers.convolutional.Conv2D object at 0x7f07d2f01ad0> False\n",
            "201 <keras.layers.merge.Multiply object at 0x7f07d2fb1f50> False\n",
            "202 <keras.layers.convolutional.Conv2D object at 0x7f07d2f5ab50> False\n",
            "203 <keras.layers.normalization.batch_normalization.BatchNormalization object at 0x7f07d2febe50> False\n",
            "204 <keras.layers.core.dropout.Dropout object at 0x7f07d2f771d0> False\n",
            "205 <keras.layers.merge.Add object at 0x7f07d2f62390> False\n",
            "206 <keras.layers.convolutional.Conv2D object at 0x7f07d2edb110> False\n",
            "207 <keras.layers.normalization.batch_normalization.BatchNormalization object at 0x7f07d2dca550> False\n",
            "208 <keras.layers.core.activation.Activation object at 0x7f07cf49b410> False\n",
            "209 <keras.layers.convolutional.DepthwiseConv2D object at 0x7f07d2ed2590> False\n",
            "210 <keras.layers.normalization.batch_normalization.BatchNormalization object at 0x7f07d2f15c50> False\n",
            "211 <keras.layers.core.activation.Activation object at 0x7f07d2f1a990> False\n",
            "212 <keras.layers.pooling.GlobalAveragePooling2D object at 0x7f07d2fb5ad0> False\n",
            "213 <keras.layers.core.reshape.Reshape object at 0x7f07d305d310> False\n",
            "214 <keras.layers.convolutional.Conv2D object at 0x7f07d306ddd0> False\n",
            "215 <keras.layers.convolutional.Conv2D object at 0x7f07d3062490> False\n",
            "216 <keras.layers.merge.Multiply object at 0x7f07d303b8d0> False\n",
            "217 <keras.layers.convolutional.Conv2D object at 0x7f07d30b2e50> False\n",
            "218 <keras.layers.normalization.batch_normalization.BatchNormalization object at 0x7f07d3015950> False\n",
            "219 <keras.layers.core.dropout.Dropout object at 0x7f07d3028710> False\n",
            "220 <keras.layers.merge.Add object at 0x7f07d3068210> False\n",
            "221 <keras.layers.convolutional.Conv2D object at 0x7f07d2fcaed0> False\n",
            "222 <keras.layers.normalization.batch_normalization.BatchNormalization object at 0x7f07d2fca490> False\n",
            "223 <keras.layers.core.activation.Activation object at 0x7f07d2fcf050> False\n",
            "224 <keras.layers.convolutional.DepthwiseConv2D object at 0x7f07d2fd2f10> False\n",
            "225 <keras.layers.normalization.batch_normalization.BatchNormalization object at 0x7f07d2fd28d0> False\n",
            "226 <keras.layers.core.activation.Activation object at 0x7f07d3003e10> False\n",
            "227 <keras.layers.pooling.GlobalAveragePooling2D object at 0x7f07d3112390> True\n",
            "228 <keras.layers.core.reshape.Reshape object at 0x7f07d2ffc090> True\n",
            "229 <keras.layers.convolutional.Conv2D object at 0x7f07d301c310> True\n",
            "230 <keras.layers.convolutional.Conv2D object at 0x7f07d30eca90> True\n",
            "231 <keras.layers.merge.Multiply object at 0x7f07d3104f50> True\n",
            "232 <keras.layers.convolutional.Conv2D object at 0x7f07d3003e50> True\n",
            "233 <keras.layers.normalization.batch_normalization.BatchNormalization object at 0x7f07d30d7290> True\n",
            "234 <keras.layers.convolutional.Conv2D object at 0x7f07cf33ce90> True\n",
            "235 <keras.layers.normalization.batch_normalization.BatchNormalization object at 0x7f07d30dfd90> True\n",
            "236 <keras.layers.core.activation.Activation object at 0x7f07d30e5450> True\n"
          ]
        }
      ]
    },
    {
      "cell_type": "code",
      "source": [
        "#how many trainable variables are in our base models?\n",
        "print(len(model_2.layers[2].trainable_variables))"
      ],
      "metadata": {
        "colab": {
          "base_uri": "https://localhost:8080/"
        },
        "id": "2YMKplpQEcXB",
        "outputId": "887e6676-8d75-472e-e8a9-13689701f936"
      },
      "execution_count": 102,
      "outputs": [
        {
          "output_type": "stream",
          "name": "stdout",
          "text": [
            "10\n"
          ]
        }
      ]
    },
    {
      "cell_type": "code",
      "source": [
        "#To begin fine-tuning , let's start by setting the last 10 layers of our base_model.trainable.\n",
        "base_model.trainable = True\n",
        "for layer in base_model.layers[:-10]:\n",
        "  layer.trainable = False\n",
        "\n",
        "#recompile (we have to recompile our model every time we make a change)\n",
        "model_2.compile(loss = tf.keras.losses.CategoricalCrossentropy(),\n",
        "                optimizer = tf.keras.optimizers.Adam(learning_rate = 0.0001),\n",
        "#When fine tuning we wouldn't want to change the trainable layers too much - as that will result in  overfitting\n",
        "#a rule of thumb is to reduce the learning rate by 10x -reference UML fit paper\n",
        "                metrics = ['accuracy'])"
      ],
      "metadata": {
        "id": "xIGTx2DCEmDz"
      },
      "execution_count": 103,
      "outputs": []
    },
    {
      "cell_type": "markdown",
      "source": [
        "A rule of thumb is to reduce the learning rate by 10x -reference UML fit paper\n",
        "reference : https://arxiv.org/abs/1801.06146"
      ],
      "metadata": {
        "id": "rNUf8SzoHtc6"
      }
    },
    {
      "cell_type": "code",
      "source": [
        "#check which layers are trainable\n",
        "for layer_number , layer in enumerate(model_2.layers[2].layers):\n",
        "  print(layer_number , layer.name , layer.trainable)"
      ],
      "metadata": {
        "colab": {
          "base_uri": "https://localhost:8080/"
        },
        "id": "AFm57cGsGHc2",
        "outputId": "812f7418-a496-41e4-f6e8-79b3bbf777b0"
      },
      "execution_count": 104,
      "outputs": [
        {
          "output_type": "stream",
          "name": "stdout",
          "text": [
            "0 input_7 False\n",
            "1 rescaling_6 False\n",
            "2 normalization_6 False\n",
            "3 stem_conv_pad False\n",
            "4 stem_conv False\n",
            "5 stem_bn False\n",
            "6 stem_activation False\n",
            "7 block1a_dwconv False\n",
            "8 block1a_bn False\n",
            "9 block1a_activation False\n",
            "10 block1a_se_squeeze False\n",
            "11 block1a_se_reshape False\n",
            "12 block1a_se_reduce False\n",
            "13 block1a_se_expand False\n",
            "14 block1a_se_excite False\n",
            "15 block1a_project_conv False\n",
            "16 block1a_project_bn False\n",
            "17 block2a_expand_conv False\n",
            "18 block2a_expand_bn False\n",
            "19 block2a_expand_activation False\n",
            "20 block2a_dwconv_pad False\n",
            "21 block2a_dwconv False\n",
            "22 block2a_bn False\n",
            "23 block2a_activation False\n",
            "24 block2a_se_squeeze False\n",
            "25 block2a_se_reshape False\n",
            "26 block2a_se_reduce False\n",
            "27 block2a_se_expand False\n",
            "28 block2a_se_excite False\n",
            "29 block2a_project_conv False\n",
            "30 block2a_project_bn False\n",
            "31 block2b_expand_conv False\n",
            "32 block2b_expand_bn False\n",
            "33 block2b_expand_activation False\n",
            "34 block2b_dwconv False\n",
            "35 block2b_bn False\n",
            "36 block2b_activation False\n",
            "37 block2b_se_squeeze False\n",
            "38 block2b_se_reshape False\n",
            "39 block2b_se_reduce False\n",
            "40 block2b_se_expand False\n",
            "41 block2b_se_excite False\n",
            "42 block2b_project_conv False\n",
            "43 block2b_project_bn False\n",
            "44 block2b_drop False\n",
            "45 block2b_add False\n",
            "46 block3a_expand_conv False\n",
            "47 block3a_expand_bn False\n",
            "48 block3a_expand_activation False\n",
            "49 block3a_dwconv_pad False\n",
            "50 block3a_dwconv False\n",
            "51 block3a_bn False\n",
            "52 block3a_activation False\n",
            "53 block3a_se_squeeze False\n",
            "54 block3a_se_reshape False\n",
            "55 block3a_se_reduce False\n",
            "56 block3a_se_expand False\n",
            "57 block3a_se_excite False\n",
            "58 block3a_project_conv False\n",
            "59 block3a_project_bn False\n",
            "60 block3b_expand_conv False\n",
            "61 block3b_expand_bn False\n",
            "62 block3b_expand_activation False\n",
            "63 block3b_dwconv False\n",
            "64 block3b_bn False\n",
            "65 block3b_activation False\n",
            "66 block3b_se_squeeze False\n",
            "67 block3b_se_reshape False\n",
            "68 block3b_se_reduce False\n",
            "69 block3b_se_expand False\n",
            "70 block3b_se_excite False\n",
            "71 block3b_project_conv False\n",
            "72 block3b_project_bn False\n",
            "73 block3b_drop False\n",
            "74 block3b_add False\n",
            "75 block4a_expand_conv False\n",
            "76 block4a_expand_bn False\n",
            "77 block4a_expand_activation False\n",
            "78 block4a_dwconv_pad False\n",
            "79 block4a_dwconv False\n",
            "80 block4a_bn False\n",
            "81 block4a_activation False\n",
            "82 block4a_se_squeeze False\n",
            "83 block4a_se_reshape False\n",
            "84 block4a_se_reduce False\n",
            "85 block4a_se_expand False\n",
            "86 block4a_se_excite False\n",
            "87 block4a_project_conv False\n",
            "88 block4a_project_bn False\n",
            "89 block4b_expand_conv False\n",
            "90 block4b_expand_bn False\n",
            "91 block4b_expand_activation False\n",
            "92 block4b_dwconv False\n",
            "93 block4b_bn False\n",
            "94 block4b_activation False\n",
            "95 block4b_se_squeeze False\n",
            "96 block4b_se_reshape False\n",
            "97 block4b_se_reduce False\n",
            "98 block4b_se_expand False\n",
            "99 block4b_se_excite False\n",
            "100 block4b_project_conv False\n",
            "101 block4b_project_bn False\n",
            "102 block4b_drop False\n",
            "103 block4b_add False\n",
            "104 block4c_expand_conv False\n",
            "105 block4c_expand_bn False\n",
            "106 block4c_expand_activation False\n",
            "107 block4c_dwconv False\n",
            "108 block4c_bn False\n",
            "109 block4c_activation False\n",
            "110 block4c_se_squeeze False\n",
            "111 block4c_se_reshape False\n",
            "112 block4c_se_reduce False\n",
            "113 block4c_se_expand False\n",
            "114 block4c_se_excite False\n",
            "115 block4c_project_conv False\n",
            "116 block4c_project_bn False\n",
            "117 block4c_drop False\n",
            "118 block4c_add False\n",
            "119 block5a_expand_conv False\n",
            "120 block5a_expand_bn False\n",
            "121 block5a_expand_activation False\n",
            "122 block5a_dwconv False\n",
            "123 block5a_bn False\n",
            "124 block5a_activation False\n",
            "125 block5a_se_squeeze False\n",
            "126 block5a_se_reshape False\n",
            "127 block5a_se_reduce False\n",
            "128 block5a_se_expand False\n",
            "129 block5a_se_excite False\n",
            "130 block5a_project_conv False\n",
            "131 block5a_project_bn False\n",
            "132 block5b_expand_conv False\n",
            "133 block5b_expand_bn False\n",
            "134 block5b_expand_activation False\n",
            "135 block5b_dwconv False\n",
            "136 block5b_bn False\n",
            "137 block5b_activation False\n",
            "138 block5b_se_squeeze False\n",
            "139 block5b_se_reshape False\n",
            "140 block5b_se_reduce False\n",
            "141 block5b_se_expand False\n",
            "142 block5b_se_excite False\n",
            "143 block5b_project_conv False\n",
            "144 block5b_project_bn False\n",
            "145 block5b_drop False\n",
            "146 block5b_add False\n",
            "147 block5c_expand_conv False\n",
            "148 block5c_expand_bn False\n",
            "149 block5c_expand_activation False\n",
            "150 block5c_dwconv False\n",
            "151 block5c_bn False\n",
            "152 block5c_activation False\n",
            "153 block5c_se_squeeze False\n",
            "154 block5c_se_reshape False\n",
            "155 block5c_se_reduce False\n",
            "156 block5c_se_expand False\n",
            "157 block5c_se_excite False\n",
            "158 block5c_project_conv False\n",
            "159 block5c_project_bn False\n",
            "160 block5c_drop False\n",
            "161 block5c_add False\n",
            "162 block6a_expand_conv False\n",
            "163 block6a_expand_bn False\n",
            "164 block6a_expand_activation False\n",
            "165 block6a_dwconv_pad False\n",
            "166 block6a_dwconv False\n",
            "167 block6a_bn False\n",
            "168 block6a_activation False\n",
            "169 block6a_se_squeeze False\n",
            "170 block6a_se_reshape False\n",
            "171 block6a_se_reduce False\n",
            "172 block6a_se_expand False\n",
            "173 block6a_se_excite False\n",
            "174 block6a_project_conv False\n",
            "175 block6a_project_bn False\n",
            "176 block6b_expand_conv False\n",
            "177 block6b_expand_bn False\n",
            "178 block6b_expand_activation False\n",
            "179 block6b_dwconv False\n",
            "180 block6b_bn False\n",
            "181 block6b_activation False\n",
            "182 block6b_se_squeeze False\n",
            "183 block6b_se_reshape False\n",
            "184 block6b_se_reduce False\n",
            "185 block6b_se_expand False\n",
            "186 block6b_se_excite False\n",
            "187 block6b_project_conv False\n",
            "188 block6b_project_bn False\n",
            "189 block6b_drop False\n",
            "190 block6b_add False\n",
            "191 block6c_expand_conv False\n",
            "192 block6c_expand_bn False\n",
            "193 block6c_expand_activation False\n",
            "194 block6c_dwconv False\n",
            "195 block6c_bn False\n",
            "196 block6c_activation False\n",
            "197 block6c_se_squeeze False\n",
            "198 block6c_se_reshape False\n",
            "199 block6c_se_reduce False\n",
            "200 block6c_se_expand False\n",
            "201 block6c_se_excite False\n",
            "202 block6c_project_conv False\n",
            "203 block6c_project_bn False\n",
            "204 block6c_drop False\n",
            "205 block6c_add False\n",
            "206 block6d_expand_conv False\n",
            "207 block6d_expand_bn False\n",
            "208 block6d_expand_activation False\n",
            "209 block6d_dwconv False\n",
            "210 block6d_bn False\n",
            "211 block6d_activation False\n",
            "212 block6d_se_squeeze False\n",
            "213 block6d_se_reshape False\n",
            "214 block6d_se_reduce False\n",
            "215 block6d_se_expand False\n",
            "216 block6d_se_excite False\n",
            "217 block6d_project_conv False\n",
            "218 block6d_project_bn False\n",
            "219 block6d_drop False\n",
            "220 block6d_add False\n",
            "221 block7a_expand_conv False\n",
            "222 block7a_expand_bn False\n",
            "223 block7a_expand_activation False\n",
            "224 block7a_dwconv False\n",
            "225 block7a_bn False\n",
            "226 block7a_activation False\n",
            "227 block7a_se_squeeze True\n",
            "228 block7a_se_reshape True\n",
            "229 block7a_se_reduce True\n",
            "230 block7a_se_expand True\n",
            "231 block7a_se_excite True\n",
            "232 block7a_project_conv True\n",
            "233 block7a_project_bn True\n",
            "234 top_conv True\n",
            "235 top_bn True\n",
            "236 top_activation True\n"
          ]
        }
      ]
    },
    {
      "cell_type": "code",
      "source": [
        "print(len(model_2.trainable_variables))"
      ],
      "metadata": {
        "colab": {
          "base_uri": "https://localhost:8080/"
        },
        "id": "3F6UBNPaG0u6",
        "outputId": "26463450-b0c4-47d9-9c91-acf846d59cca"
      },
      "execution_count": 105,
      "outputs": [
        {
          "output_type": "stream",
          "name": "stdout",
          "text": [
            "12\n"
          ]
        }
      ]
    },
    {
      "cell_type": "code",
      "source": [
        "fine_tune_epochs = initial_epochs + 5\n",
        "\n",
        "history_3 = model_2.fit(train_data_10_percent,\n",
        "                        steps_per_epoch = len(train_data_10_percent),\n",
        "                        epochs = fine_tune_epochs,\n",
        "                        initial_epoch = history_2.epoch[-1],\n",
        "                        validation_data = test_data_10_percent,\n",
        "                        validation_steps = int(0.25*len(test_data_10_percent)),\n",
        "                        callbacks = [create_tensorboard_callback(dir_name = 'transfer_learning_part_2',\n",
        "                                                                 experiment_name = 'finetuning_10percent_augmented'),\n",
        "                                     checkpoint_callback])"
      ],
      "metadata": {
        "colab": {
          "base_uri": "https://localhost:8080/"
        },
        "id": "p-KF_fi1HbIH",
        "outputId": "7eb1aa9a-cb71-4efa-fe2e-f5ccd5b8821a"
      },
      "execution_count": 107,
      "outputs": [
        {
          "output_type": "stream",
          "name": "stdout",
          "text": [
            "Saving TensorBoard log files to: transfer_learning_part_2/finetuning_10percent_augmented/20220112-031707\n",
            "Epoch 5/10\n"
          ]
        },
        {
          "output_type": "stream",
          "name": "stderr",
          "text": [
            "/usr/local/lib/python3.7/dist-packages/keras/engine/functional.py:1410: CustomMaskWarning: Custom mask layers require a config and must override get_config. When loading, the custom mask layer must be passed to the custom_objects argument.\n",
            "  layer_config = serialize_layer_fn(layer)\n"
          ]
        },
        {
          "output_type": "stream",
          "name": "stdout",
          "text": [
            "24/24 [==============================] - ETA: 0s - loss: 0.5036 - accuracy: 0.8533\n",
            "Epoch 00005: val_loss improved from inf to 0.50115, saving model to ten_percent_model_checkpoints_weights/checkpoint.ckpt\n",
            "24/24 [==============================] - 89s 4s/step - loss: 0.5036 - accuracy: 0.8533 - val_loss: 0.5012 - val_accuracy: 0.8372\n",
            "Epoch 6/10\n",
            "24/24 [==============================] - ETA: 0s - loss: 0.4571 - accuracy: 0.8533\n",
            "Epoch 00006: val_loss did not improve from 0.50115\n",
            "24/24 [==============================] - 85s 4s/step - loss: 0.4571 - accuracy: 0.8533 - val_loss: 0.5247 - val_accuracy: 0.8306\n",
            "Epoch 7/10\n",
            "24/24 [==============================] - ETA: 0s - loss: 0.4014 - accuracy: 0.8840\n",
            "Epoch 00007: val_loss did not improve from 0.50115\n",
            "24/24 [==============================] - 76s 3s/step - loss: 0.4014 - accuracy: 0.8840 - val_loss: 0.5419 - val_accuracy: 0.8240\n",
            "Epoch 8/10\n",
            "24/24 [==============================] - ETA: 0s - loss: 0.3510 - accuracy: 0.8960\n",
            "Epoch 00008: val_loss improved from 0.50115 to 0.46381, saving model to ten_percent_model_checkpoints_weights/checkpoint.ckpt\n",
            "24/24 [==============================] - 76s 3s/step - loss: 0.3510 - accuracy: 0.8960 - val_loss: 0.4638 - val_accuracy: 0.8487\n",
            "Epoch 9/10\n",
            "24/24 [==============================] - ETA: 0s - loss: 0.3387 - accuracy: 0.9080\n",
            "Epoch 00009: val_loss did not improve from 0.46381\n",
            "24/24 [==============================] - 84s 4s/step - loss: 0.3387 - accuracy: 0.9080 - val_loss: 0.4838 - val_accuracy: 0.8306\n",
            "Epoch 10/10\n",
            "24/24 [==============================] - ETA: 0s - loss: 0.2692 - accuracy: 0.9293\n",
            "Epoch 00010: val_loss did not improve from 0.46381\n",
            "24/24 [==============================] - 78s 3s/step - loss: 0.2692 - accuracy: 0.9293 - val_loss: 0.4873 - val_accuracy: 0.8372\n"
          ]
        }
      ]
    },
    {
      "cell_type": "code",
      "source": [
        "plot_loss_curves(history_3)"
      ],
      "metadata": {
        "colab": {
          "base_uri": "https://localhost:8080/",
          "height": 573
        },
        "id": "ZnipPyNIJYdj",
        "outputId": "6cdd3309-8a69-4767-bab0-e8e814d47abc"
      },
      "execution_count": 108,
      "outputs": [
        {
          "output_type": "display_data",
          "data": {
            "image/png": "[encoded data removed]",
            "text/plain": [
              "<Figure size 432x288 with 1 Axes>"
            ]
          },
          "metadata": {
            "needs_background": "light"
          }
        },
        {
          "output_type": "display_data",
          "data": {
            "image/png": "[encoded data removed]",
            "text/plain": [
              "<Figure size 432x288 with 1 Axes>"
            ]
          },
          "metadata": {
            "needs_background": "light"
          }
        }
      ]
    },
    {
      "cell_type": "markdown",
      "source": [
        "Create a function to compare training histories"
      ],
      "metadata": {
        "id": "8ecv3jfmTDTX"
      }
    },
    {
      "cell_type": "code",
      "source": [
        "def compare_history(original_history , new_history,initial_epochs = 5):\n",
        "  '''\n",
        "  compare two tensorflow history objects\n",
        "  '''\n",
        "  acc= original_history.history['accuracy']\n",
        "  loss = original_history.history['loss']\n",
        "\n",
        "  val_acc= original_history.history['val_accuracy']\n",
        "  val_loss = original_history.history['val_loss']\n",
        "\n",
        "  #combine original history history metrics with new history metrics\n",
        "  total_acc = acc+new_history.history['accuracy']\n",
        "  total_loss = loss + new_history.history['loss']\n",
        "\n",
        "  val_total_acc = acc+new_history.history['val_accuracy']\n",
        "  val_total_loss = loss + new_history.history['val_loss']\n",
        "\n",
        "  #make plots\n",
        "  plt.figure(figsize = (8,8))\n",
        "  plt.subplot(2,1,1)\n",
        "  plt.plot(total_acc,label = 'Training accuracy')\n",
        "  plt.plot(val_total_acc, label = 'Val acccuracy')\n",
        "  plt.plot([initial_epochs-1,initial_epochs-1], plt.ylim(),label = 'Start Fine Tuning')\n",
        "  plt.legend(loc = 'lower right'),\n",
        "  plt.title('Training and Validation Accuracy')\n",
        "\n",
        "\n",
        "    #make plots\n",
        "  plt.figure(figsize = (8,8))\n",
        "  plt.subplot(2,1,2)\n",
        "  plt.plot(total_loss,label = 'Training loss')\n",
        "  plt.plot(val_total_loss, label = 'Val loss')\n",
        "  plt.plot([initial_epochs-1,initial_epochs-1], plt.ylim(),label = 'Start Fine Tuning')\n",
        "  plt.legend(loc = 'lower right'),\n",
        "  plt.title('Training and Validation Accuracy')"
      ],
      "metadata": {
        "id": "bbZeLICNTKOV"
      },
      "execution_count": 124,
      "outputs": []
    },
    {
      "cell_type": "code",
      "source": [
        "compare_history(history_2,history_3,initial_epochs = 5)"
      ],
      "metadata": {
        "colab": {
          "base_uri": "https://localhost:8080/",
          "height": 507
        },
        "id": "RxrcPP0pUH59",
        "outputId": "b7dcbed1-549e-4467-d700-f339321a9289"
      },
      "execution_count": 125,
      "outputs": [
        {
          "output_type": "display_data",
          "data": {
            "image/png": "[encoded data removed]",
            "text/plain": [
              "<Figure size 576x576 with 1 Axes>"
            ]
          },
          "metadata": {
            "needs_background": "light"
          }
        },
        {
          "output_type": "display_data",
          "data": {
            "image/png": "[encoded data removed]",
            "text/plain": [
              "<Figure size 576x576 with 1 Axes>"
            ]
          },
          "metadata": {
            "needs_background": "light"
          }
        }
      ]
    },
    {
      "cell_type": "code",
      "source": [
        "!wget https://storage.googleapis.com/ztm_tf_course/food_vision/10_food_classes_all_data.zip\n",
        "unzip_data('10_food_classes_all_data.zip')"
      ],
      "metadata": {
        "colab": {
          "base_uri": "https://localhost:8080/"
        },
        "id": "zEANuJASVP3O",
        "outputId": "efc2d46a-8043-4c0d-c631-e5060cf6baf2"
      },
      "execution_count": 126,
      "outputs": [
        {
          "output_type": "stream",
          "name": "stdout",
          "text": [
            "--2022-01-12 03:55:59--  https://storage.googleapis.com/ztm_tf_course/food_vision/10_food_classes_all_data.zip\n",
            "Resolving storage.googleapis.com (storage.googleapis.com)... 74.125.195.128, 74.125.142.128, 108.177.98.128, ...\n",
            "Connecting to storage.googleapis.com (storage.googleapis.com)|74.125.195.128|:443... connected.\n",
            "HTTP request sent, awaiting response... 200 OK\n",
            "Length: 519183241 (495M) [application/zip]\n",
            "Saving to: ‘10_food_classes_all_data.zip’\n",
            "\n",
            "10_food_classes_all 100%[===================>] 495.13M   145MB/s    in 3.5s    \n",
            "\n",
            "2022-01-12 03:56:03 (140 MB/s) - ‘10_food_classes_all_data.zip’ saved [519183241/519183241]\n",
            "\n"
          ]
        }
      ]
    },
    {
      "cell_type": "code",
      "source": [
        "full_10_data_train_dir = '10_food_classes_all_data/train'\n",
        "full_10_data_test_dir = '10_food_classes_all_data/test'"
      ],
      "metadata": {
        "id": "BOyj901ubZ84"
      },
      "execution_count": 127,
      "outputs": []
    },
    {
      "cell_type": "code",
      "source": [
        "walk_through_dir('10_food_classes_all_data')"
      ],
      "metadata": {
        "colab": {
          "base_uri": "https://localhost:8080/"
        },
        "id": "ABz-jbkcbp7_",
        "outputId": "a7696526-265a-4bb5-9ca0-2e2189c534ee"
      },
      "execution_count": 128,
      "outputs": [
        {
          "output_type": "stream",
          "name": "stdout",
          "text": [
            "There are 2 directories and 0 images in '10_food_classes_all_data'.\n",
            "There are 10 directories and 0 images in '10_food_classes_all_data/train'.\n",
            "There are 0 directories and 750 images in '10_food_classes_all_data/train/fried_rice'.\n",
            "There are 0 directories and 750 images in '10_food_classes_all_data/train/hamburger'.\n",
            "There are 0 directories and 750 images in '10_food_classes_all_data/train/chicken_wings'.\n",
            "There are 0 directories and 750 images in '10_food_classes_all_data/train/steak'.\n",
            "There are 0 directories and 750 images in '10_food_classes_all_data/train/pizza'.\n",
            "There are 0 directories and 750 images in '10_food_classes_all_data/train/ice_cream'.\n",
            "There are 0 directories and 750 images in '10_food_classes_all_data/train/sushi'.\n",
            "There are 0 directories and 750 images in '10_food_classes_all_data/train/grilled_salmon'.\n",
            "There are 0 directories and 750 images in '10_food_classes_all_data/train/ramen'.\n",
            "There are 0 directories and 750 images in '10_food_classes_all_data/train/chicken_curry'.\n",
            "There are 10 directories and 0 images in '10_food_classes_all_data/test'.\n",
            "There are 0 directories and 250 images in '10_food_classes_all_data/test/fried_rice'.\n",
            "There are 0 directories and 250 images in '10_food_classes_all_data/test/hamburger'.\n",
            "There are 0 directories and 250 images in '10_food_classes_all_data/test/chicken_wings'.\n",
            "There are 0 directories and 250 images in '10_food_classes_all_data/test/steak'.\n",
            "There are 0 directories and 250 images in '10_food_classes_all_data/test/pizza'.\n",
            "There are 0 directories and 250 images in '10_food_classes_all_data/test/ice_cream'.\n",
            "There are 0 directories and 250 images in '10_food_classes_all_data/test/sushi'.\n",
            "There are 0 directories and 250 images in '10_food_classes_all_data/test/grilled_salmon'.\n",
            "There are 0 directories and 250 images in '10_food_classes_all_data/test/ramen'.\n",
            "There are 0 directories and 250 images in '10_food_classes_all_data/test/chicken_curry'.\n"
          ]
        }
      ]
    },
    {
      "cell_type": "code",
      "source": [
        "from tensorflow.keras.preprocessing import image_dataset_from_directory\n",
        "\n",
        "IMG_SIZE = (224,224)\n",
        "\n",
        "train_data_full = image_dataset_from_directory(directory = train_dir,\n",
        "                                               image_size = IMG_SIZE,\n",
        "                                               batch_size = BATCH_SIZE,\n",
        "                                               label_mode = 'categorical')\n",
        "\n",
        "test_data_full = image_dataset_from_directory(directory = test_dir,\n",
        "                                               image_size = IMG_SIZE,\n",
        "                                               batch_size = BATCH_SIZE,\n",
        "                                               label_mode = 'categorical')"
      ],
      "metadata": {
        "colab": {
          "base_uri": "https://localhost:8080/"
        },
        "id": "emE55JnCbjdI",
        "outputId": "f93e022d-61dc-4a43-d62b-a3a2ec8bf9db"
      },
      "execution_count": 179,
      "outputs": [
        {
          "output_type": "stream",
          "name": "stdout",
          "text": [
            "Found 750 files belonging to 10 classes.\n",
            "Found 2500 files belonging to 10 classes.\n"
          ]
        }
      ]
    },
    {
      "cell_type": "code",
      "source": [
        "model_2.load_weights(checkpoint_path)"
      ],
      "metadata": {
        "colab": {
          "base_uri": "https://localhost:8080/"
        },
        "id": "mntvegzscLz3",
        "outputId": "4f1abbbc-ab52-4f0b-a329-1563b063223a"
      },
      "execution_count": 130,
      "outputs": [
        {
          "output_type": "execute_result",
          "data": {
            "text/plain": [
              "<tensorflow.python.training.tracking.util.CheckpointLoadStatus at 0x7f07d1755110>"
            ]
          },
          "metadata": {},
          "execution_count": 130
        }
      ]
    },
    {
      "cell_type": "code",
      "source": [
        "model_2.summary()"
      ],
      "metadata": {
        "colab": {
          "base_uri": "https://localhost:8080/"
        },
        "id": "K2-P9QCUcV6m",
        "outputId": "eac43a27-8401-4502-949e-17979051cc6b"
      },
      "execution_count": 131,
      "outputs": [
        {
          "output_type": "stream",
          "name": "stdout",
          "text": [
            "Model: \"model_6\"\n",
            "_________________________________________________________________\n",
            " Layer (type)                Output Shape              Param #   \n",
            "=================================================================\n",
            " input_layer (InputLayer)    [(None, 224, 224, 3)]     0         \n",
            "                                                                 \n",
            " data_augmentation (Sequenti  (None, None, None, 3)    0         \n",
            " al)                                                             \n",
            "                                                                 \n",
            " efficientnetb0 (Functional)  (None, None, None, 1280)  4049571  \n",
            "                                                                 \n",
            " global_average_pooling (Glo  (None, 1280)             0         \n",
            " balAveragePooling2D)                                            \n",
            "                                                                 \n",
            " output_layer (Dense)        (None, 10)                12810     \n",
            "                                                                 \n",
            "=================================================================\n",
            "Total params: 4,062,381\n",
            "Trainable params: 906,042\n",
            "Non-trainable params: 3,156,339\n",
            "_________________________________________________________________\n"
          ]
        }
      ]
    },
    {
      "cell_type": "code",
      "source": [
        "#Are the layers trainable?\n",
        "for layer in model_2.layers:\n",
        "  print(layer, layer.trainable)"
      ],
      "metadata": {
        "colab": {
          "base_uri": "https://localhost:8080/"
        },
        "id": "VbmOrsNvcY2G",
        "outputId": "19a0114f-9489-4b31-b37d-c5a74c7173e4"
      },
      "execution_count": 135,
      "outputs": [
        {
          "output_type": "stream",
          "name": "stdout",
          "text": [
            "<keras.engine.input_layer.InputLayer object at 0x7f07de9c6690> True\n",
            "<keras.engine.sequential.Sequential object at 0x7f07daecd210> True\n",
            "<keras.engine.functional.Functional object at 0x7f07d307af10> True\n",
            "<keras.layers.pooling.GlobalAveragePooling2D object at 0x7f07cf43b310> True\n",
            "<keras.layers.core.dense.Dense object at 0x7f07d3118d90> True\n"
          ]
        }
      ]
    },
    {
      "cell_type": "code",
      "source": [
        "model_2.evaluate(test_data_10_percent)"
      ],
      "metadata": {
        "colab": {
          "base_uri": "https://localhost:8080/"
        },
        "id": "JcJVEfqRcdKi",
        "outputId": "e7c55983-7524-4739-ff2e-e62683165202"
      },
      "execution_count": 136,
      "outputs": [
        {
          "output_type": "stream",
          "name": "stdout",
          "text": [
            "79/79 [==============================] - 125s 2s/step - loss: 0.4714 - accuracy: 0.8480\n"
          ]
        },
        {
          "output_type": "execute_result",
          "data": {
            "text/plain": [
              "[0.471406489610672, 0.8479999899864197]"
            ]
          },
          "metadata": {},
          "execution_count": 136
        }
      ]
    },
    {
      "cell_type": "code",
      "source": [
        "for layer_number , layer in enumerate(model_2.layers):\n",
        "  print(layer_number , layer.name , layer.trainable)"
      ],
      "metadata": {
        "colab": {
          "base_uri": "https://localhost:8080/"
        },
        "id": "ZWB3p9NedKbn",
        "outputId": "d611bb91-e5c8-4dbd-aa7c-fe923677ea31"
      },
      "execution_count": 137,
      "outputs": [
        {
          "output_type": "stream",
          "name": "stdout",
          "text": [
            "0 input_layer True\n",
            "1 data_augmentation True\n",
            "2 efficientnetb0 True\n",
            "3 global_average_pooling True\n",
            "4 output_layer True\n"
          ]
        }
      ]
    },
    {
      "cell_type": "code",
      "source": [
        "for layer_number , layer in enumerate(model_2.layers[2].layers):\n",
        "  print(layer_number , layer.name , layer.trainable)"
      ],
      "metadata": {
        "colab": {
          "base_uri": "https://localhost:8080/"
        },
        "id": "WvtPa9KCdPs9",
        "outputId": "4e453c6b-baf5-4338-9825-51c81176a8bb"
      },
      "execution_count": 140,
      "outputs": [
        {
          "output_type": "stream",
          "name": "stdout",
          "text": [
            "0 input_7 False\n",
            "1 rescaling_6 False\n",
            "2 normalization_6 False\n",
            "3 stem_conv_pad False\n",
            "4 stem_conv False\n",
            "5 stem_bn False\n",
            "6 stem_activation False\n",
            "7 block1a_dwconv False\n",
            "8 block1a_bn False\n",
            "9 block1a_activation False\n",
            "10 block1a_se_squeeze False\n",
            "11 block1a_se_reshape False\n",
            "12 block1a_se_reduce False\n",
            "13 block1a_se_expand False\n",
            "14 block1a_se_excite False\n",
            "15 block1a_project_conv False\n",
            "16 block1a_project_bn False\n",
            "17 block2a_expand_conv False\n",
            "18 block2a_expand_bn False\n",
            "19 block2a_expand_activation False\n",
            "20 block2a_dwconv_pad False\n",
            "21 block2a_dwconv False\n",
            "22 block2a_bn False\n",
            "23 block2a_activation False\n",
            "24 block2a_se_squeeze False\n",
            "25 block2a_se_reshape False\n",
            "26 block2a_se_reduce False\n",
            "27 block2a_se_expand False\n",
            "28 block2a_se_excite False\n",
            "29 block2a_project_conv False\n",
            "30 block2a_project_bn False\n",
            "31 block2b_expand_conv False\n",
            "32 block2b_expand_bn False\n",
            "33 block2b_expand_activation False\n",
            "34 block2b_dwconv False\n",
            "35 block2b_bn False\n",
            "36 block2b_activation False\n",
            "37 block2b_se_squeeze False\n",
            "38 block2b_se_reshape False\n",
            "39 block2b_se_reduce False\n",
            "40 block2b_se_expand False\n",
            "41 block2b_se_excite False\n",
            "42 block2b_project_conv False\n",
            "43 block2b_project_bn False\n",
            "44 block2b_drop False\n",
            "45 block2b_add False\n",
            "46 block3a_expand_conv False\n",
            "47 block3a_expand_bn False\n",
            "48 block3a_expand_activation False\n",
            "49 block3a_dwconv_pad False\n",
            "50 block3a_dwconv False\n",
            "51 block3a_bn False\n",
            "52 block3a_activation False\n",
            "53 block3a_se_squeeze False\n",
            "54 block3a_se_reshape False\n",
            "55 block3a_se_reduce False\n",
            "56 block3a_se_expand False\n",
            "57 block3a_se_excite False\n",
            "58 block3a_project_conv False\n",
            "59 block3a_project_bn False\n",
            "60 block3b_expand_conv False\n",
            "61 block3b_expand_bn False\n",
            "62 block3b_expand_activation False\n",
            "63 block3b_dwconv False\n",
            "64 block3b_bn False\n",
            "65 block3b_activation False\n",
            "66 block3b_se_squeeze False\n",
            "67 block3b_se_reshape False\n",
            "68 block3b_se_reduce False\n",
            "69 block3b_se_expand False\n",
            "70 block3b_se_excite False\n",
            "71 block3b_project_conv False\n",
            "72 block3b_project_bn False\n",
            "73 block3b_drop False\n",
            "74 block3b_add False\n",
            "75 block4a_expand_conv False\n",
            "76 block4a_expand_bn False\n",
            "77 block4a_expand_activation False\n",
            "78 block4a_dwconv_pad False\n",
            "79 block4a_dwconv False\n",
            "80 block4a_bn False\n",
            "81 block4a_activation False\n",
            "82 block4a_se_squeeze False\n",
            "83 block4a_se_reshape False\n",
            "84 block4a_se_reduce False\n",
            "85 block4a_se_expand False\n",
            "86 block4a_se_excite False\n",
            "87 block4a_project_conv False\n",
            "88 block4a_project_bn False\n",
            "89 block4b_expand_conv False\n",
            "90 block4b_expand_bn False\n",
            "91 block4b_expand_activation False\n",
            "92 block4b_dwconv False\n",
            "93 block4b_bn False\n",
            "94 block4b_activation False\n",
            "95 block4b_se_squeeze False\n",
            "96 block4b_se_reshape False\n",
            "97 block4b_se_reduce False\n",
            "98 block4b_se_expand False\n",
            "99 block4b_se_excite False\n",
            "100 block4b_project_conv False\n",
            "101 block4b_project_bn False\n",
            "102 block4b_drop False\n",
            "103 block4b_add False\n",
            "104 block4c_expand_conv False\n",
            "105 block4c_expand_bn False\n",
            "106 block4c_expand_activation False\n",
            "107 block4c_dwconv False\n",
            "108 block4c_bn False\n",
            "109 block4c_activation False\n",
            "110 block4c_se_squeeze False\n",
            "111 block4c_se_reshape False\n",
            "112 block4c_se_reduce False\n",
            "113 block4c_se_expand False\n",
            "114 block4c_se_excite False\n",
            "115 block4c_project_conv False\n",
            "116 block4c_project_bn False\n",
            "117 block4c_drop False\n",
            "118 block4c_add False\n",
            "119 block5a_expand_conv False\n",
            "120 block5a_expand_bn False\n",
            "121 block5a_expand_activation False\n",
            "122 block5a_dwconv False\n",
            "123 block5a_bn False\n",
            "124 block5a_activation False\n",
            "125 block5a_se_squeeze False\n",
            "126 block5a_se_reshape False\n",
            "127 block5a_se_reduce False\n",
            "128 block5a_se_expand False\n",
            "129 block5a_se_excite False\n",
            "130 block5a_project_conv False\n",
            "131 block5a_project_bn False\n",
            "132 block5b_expand_conv False\n",
            "133 block5b_expand_bn False\n",
            "134 block5b_expand_activation False\n",
            "135 block5b_dwconv False\n",
            "136 block5b_bn False\n",
            "137 block5b_activation False\n",
            "138 block5b_se_squeeze False\n",
            "139 block5b_se_reshape False\n",
            "140 block5b_se_reduce False\n",
            "141 block5b_se_expand False\n",
            "142 block5b_se_excite False\n",
            "143 block5b_project_conv False\n",
            "144 block5b_project_bn False\n",
            "145 block5b_drop False\n",
            "146 block5b_add False\n",
            "147 block5c_expand_conv False\n",
            "148 block5c_expand_bn False\n",
            "149 block5c_expand_activation False\n",
            "150 block5c_dwconv False\n",
            "151 block5c_bn False\n",
            "152 block5c_activation False\n",
            "153 block5c_se_squeeze False\n",
            "154 block5c_se_reshape False\n",
            "155 block5c_se_reduce False\n",
            "156 block5c_se_expand False\n",
            "157 block5c_se_excite False\n",
            "158 block5c_project_conv False\n",
            "159 block5c_project_bn False\n",
            "160 block5c_drop False\n",
            "161 block5c_add False\n",
            "162 block6a_expand_conv False\n",
            "163 block6a_expand_bn False\n",
            "164 block6a_expand_activation False\n",
            "165 block6a_dwconv_pad False\n",
            "166 block6a_dwconv False\n",
            "167 block6a_bn False\n",
            "168 block6a_activation False\n",
            "169 block6a_se_squeeze False\n",
            "170 block6a_se_reshape False\n",
            "171 block6a_se_reduce False\n",
            "172 block6a_se_expand False\n",
            "173 block6a_se_excite False\n",
            "174 block6a_project_conv False\n",
            "175 block6a_project_bn False\n",
            "176 block6b_expand_conv False\n",
            "177 block6b_expand_bn False\n",
            "178 block6b_expand_activation False\n",
            "179 block6b_dwconv False\n",
            "180 block6b_bn False\n",
            "181 block6b_activation False\n",
            "182 block6b_se_squeeze False\n",
            "183 block6b_se_reshape False\n",
            "184 block6b_se_reduce False\n",
            "185 block6b_se_expand False\n",
            "186 block6b_se_excite False\n",
            "187 block6b_project_conv False\n",
            "188 block6b_project_bn False\n",
            "189 block6b_drop False\n",
            "190 block6b_add False\n",
            "191 block6c_expand_conv False\n",
            "192 block6c_expand_bn False\n",
            "193 block6c_expand_activation False\n",
            "194 block6c_dwconv False\n",
            "195 block6c_bn False\n",
            "196 block6c_activation False\n",
            "197 block6c_se_squeeze False\n",
            "198 block6c_se_reshape False\n",
            "199 block6c_se_reduce False\n",
            "200 block6c_se_expand False\n",
            "201 block6c_se_excite False\n",
            "202 block6c_project_conv False\n",
            "203 block6c_project_bn False\n",
            "204 block6c_drop False\n",
            "205 block6c_add False\n",
            "206 block6d_expand_conv False\n",
            "207 block6d_expand_bn False\n",
            "208 block6d_expand_activation False\n",
            "209 block6d_dwconv False\n",
            "210 block6d_bn False\n",
            "211 block6d_activation False\n",
            "212 block6d_se_squeeze False\n",
            "213 block6d_se_reshape False\n",
            "214 block6d_se_reduce False\n",
            "215 block6d_se_expand False\n",
            "216 block6d_se_excite False\n",
            "217 block6d_project_conv False\n",
            "218 block6d_project_bn False\n",
            "219 block6d_drop False\n",
            "220 block6d_add False\n",
            "221 block7a_expand_conv False\n",
            "222 block7a_expand_bn False\n",
            "223 block7a_expand_activation False\n",
            "224 block7a_dwconv False\n",
            "225 block7a_bn False\n",
            "226 block7a_activation False\n",
            "227 block7a_se_squeeze True\n",
            "228 block7a_se_reshape True\n",
            "229 block7a_se_reduce True\n",
            "230 block7a_se_expand True\n",
            "231 block7a_se_excite True\n",
            "232 block7a_project_conv True\n",
            "233 block7a_project_bn True\n",
            "234 top_conv True\n",
            "235 top_bn True\n",
            "236 top_activation True\n"
          ]
        }
      ]
    },
    {
      "cell_type": "code",
      "source": [
        "model_2.compile(loss = tf.keras.losses.CategoricalCrossentropy(),\n",
        "                optimizer = tf.keras.optimizers.Adam(learning_rate = 0.0001),\n",
        "                metrics = ['accuracy'])"
      ],
      "metadata": {
        "id": "CsrNcz96dXGM"
      },
      "execution_count": 141,
      "outputs": []
    },
    {
      "cell_type": "code",
      "source": [
        "fine_tune_epochs = initial_epochs + 5\n",
        "\n",
        "history_4 = model_2.fit(train_data_full,\n",
        "                        epochs = fine_tune_epochs,\n",
        "                        validation_data = test_data_10_percent,\n",
        "                        validation_steps = int(0.25*len(test_data_10_percent)),\n",
        "                        steps_per_epoch = len(train_data_full),\n",
        "                        initial_epoch = initial_epochs,\n",
        "                        callbacks = [create_tensorboard_callback(dir_name = 'transfer_learning_part_2',\n",
        "                                                                 experiment_name = 'full_data'),\n",
        "                                     checkpoint_callback])"
      ],
      "metadata": {
        "colab": {
          "base_uri": "https://localhost:8080/"
        },
        "id": "ykQMs93ldu8C",
        "outputId": "26ee8045-4895-4890-d16a-b5ed9a2e3d20"
      },
      "execution_count": 145,
      "outputs": [
        {
          "output_type": "stream",
          "name": "stdout",
          "text": [
            "Saving TensorBoard log files to: transfer_learning_part_2/full_data/20220112-040937\n",
            "Epoch 6/10\n"
          ]
        },
        {
          "output_type": "stream",
          "name": "stderr",
          "text": [
            "/usr/local/lib/python3.7/dist-packages/keras/engine/functional.py:1410: CustomMaskWarning: Custom mask layers require a config and must override get_config. When loading, the custom mask layer must be passed to the custom_objects argument.\n",
            "  layer_config = serialize_layer_fn(layer)\n"
          ]
        },
        {
          "output_type": "stream",
          "name": "stdout",
          "text": [
            "79/79 [==============================] - ETA: 0s - loss: 0.5991 - accuracy: 0.8012\n",
            "Epoch 00006: val_loss improved from 0.46381 to 0.41428, saving model to ten_percent_model_checkpoints_weights/checkpoint.ckpt\n",
            "79/79 [==============================] - 191s 2s/step - loss: 0.5991 - accuracy: 0.8012 - val_loss: 0.4143 - val_accuracy: 0.8668\n",
            "Epoch 7/10\n",
            "79/79 [==============================] - ETA: 0s - loss: 0.4961 - accuracy: 0.8396\n",
            "Epoch 00007: val_loss improved from 0.41428 to 0.35791, saving model to ten_percent_model_checkpoints_weights/checkpoint.ckpt\n",
            "79/79 [==============================] - 197s 2s/step - loss: 0.4961 - accuracy: 0.8396 - val_loss: 0.3579 - val_accuracy: 0.8832\n",
            "Epoch 8/10\n",
            "79/79 [==============================] - ETA: 0s - loss: 0.4403 - accuracy: 0.8552\n",
            "Epoch 00008: val_loss improved from 0.35791 to 0.30378, saving model to ten_percent_model_checkpoints_weights/checkpoint.ckpt\n",
            "79/79 [==============================] - 197s 2s/step - loss: 0.4403 - accuracy: 0.8552 - val_loss: 0.3038 - val_accuracy: 0.8931\n",
            "Epoch 9/10\n",
            "79/79 [==============================] - ETA: 0s - loss: 0.3953 - accuracy: 0.8740\n",
            "Epoch 00009: val_loss did not improve from 0.30378\n",
            "79/79 [==============================] - 196s 2s/step - loss: 0.3953 - accuracy: 0.8740 - val_loss: 0.3116 - val_accuracy: 0.9030\n",
            "Epoch 10/10\n",
            "79/79 [==============================] - ETA: 0s - loss: 0.3618 - accuracy: 0.8792\n",
            "Epoch 00010: val_loss improved from 0.30378 to 0.28547, saving model to ten_percent_model_checkpoints_weights/checkpoint.ckpt\n",
            "79/79 [==============================] - 202s 3s/step - loss: 0.3618 - accuracy: 0.8792 - val_loss: 0.2855 - val_accuracy: 0.9112\n"
          ]
        }
      ]
    },
    {
      "cell_type": "code",
      "source": [
        "compare_history(original_history = history_2,\n",
        "                 new_history = history_4,\n",
        "                 initial_epochs = 5)"
      ],
      "metadata": {
        "colab": {
          "base_uri": "https://localhost:8080/",
          "height": 507
        },
        "id": "Bq0ZSV1Fdxll",
        "outputId": "b98f0b70-be8b-41bb-cbb1-e1411486f3ad"
      },
      "execution_count": 147,
      "outputs": [
        {
          "output_type": "display_data",
          "data": {
            "image/png": "[encoded data removed]",
            "text/plain": [
              "<Figure size 576x576 with 1 Axes>"
            ]
          },
          "metadata": {
            "needs_background": "light"
          }
        },
        {
          "output_type": "display_data",
          "data": {
            "image/png": "[encoded data removed]",
            "text/plain": [
              "<Figure size 576x576 with 1 Axes>"
            ]
          },
          "metadata": {
            "needs_background": "light"
          }
        }
      ]
    },
    {
      "cell_type": "code",
      "source": [
        "import pandas as pd\n",
        "pd.DataFrame(history_2.history)"
      ],
      "metadata": {
        "colab": {
          "base_uri": "https://localhost:8080/",
          "height": 206
        },
        "id": "9-Lr8xPji0vX",
        "outputId": "346d1afa-169f-4112-eecc-6cee128e4e99"
      },
      "execution_count": 149,
      "outputs": [
        {
          "output_type": "execute_result",
          "data": {
            "text/html": [
              "\n",
              "  <div id=\"df-c04799ae-dfbc-4492-819f-8df99163eb2a\">\n",
              "    <div class=\"colab-df-container\">\n",
              "      <div>\n",
              "<style scoped>\n",
              "    .dataframe tbody tr th:only-of-type {\n",
              "        vertical-align: middle;\n",
              "    }\n",
              "\n",
              "    .dataframe tbody tr th {\n",
              "        vertical-align: top;\n",
              "    }\n",
              "\n",
              "    .dataframe thead th {\n",
              "        text-align: right;\n",
              "    }\n",
              "</style>\n",
              "<table border=\"1\" class=\"dataframe\">\n",
              "  <thead>\n",
              "    <tr style=\"text-align: right;\">\n",
              "      <th></th>\n",
              "      <th>loss</th>\n",
              "      <th>accuracy</th>\n",
              "      <th>val_loss</th>\n",
              "      <th>val_accuracy</th>\n",
              "    </tr>\n",
              "  </thead>\n",
              "  <tbody>\n",
              "    <tr>\n",
              "      <th>0</th>\n",
              "      <td>0.917061</td>\n",
              "      <td>0.758667</td>\n",
              "      <td>0.753644</td>\n",
              "      <td>0.804276</td>\n",
              "    </tr>\n",
              "    <tr>\n",
              "      <th>1</th>\n",
              "      <td>0.807698</td>\n",
              "      <td>0.789333</td>\n",
              "      <td>0.728796</td>\n",
              "      <td>0.791118</td>\n",
              "    </tr>\n",
              "    <tr>\n",
              "      <th>2</th>\n",
              "      <td>0.723327</td>\n",
              "      <td>0.808000</td>\n",
              "      <td>0.664494</td>\n",
              "      <td>0.822368</td>\n",
              "    </tr>\n",
              "    <tr>\n",
              "      <th>3</th>\n",
              "      <td>0.691821</td>\n",
              "      <td>0.800000</td>\n",
              "      <td>0.642586</td>\n",
              "      <td>0.819079</td>\n",
              "    </tr>\n",
              "    <tr>\n",
              "      <th>4</th>\n",
              "      <td>0.632970</td>\n",
              "      <td>0.834667</td>\n",
              "      <td>0.573417</td>\n",
              "      <td>0.840461</td>\n",
              "    </tr>\n",
              "  </tbody>\n",
              "</table>\n",
              "</div>\n",
              "      <button class=\"colab-df-convert\" onclick=\"convertToInteractive('df-c04799ae-dfbc-4492-819f-8df99163eb2a')\"\n",
              "              title=\"Convert this dataframe to an interactive table.\"\n",
              "              style=\"display:none;\">\n",
              "        \n",
              "  <svg xmlns=\"http://www.w3.org/2000/svg\" height=\"24px\"viewBox=\"0 0 24 24\"\n",
              "       width=\"24px\">\n",
              "    <path d=\"M0 0h24v24H0V0z\" fill=\"none\"/>\n",
              "    <path d=\"M18.56 5.44l.94 2.06.94-2.06 2.06-.94-2.06-.94-.94-2.06-.94 2.06-2.06.94zm-11 1L8.5 8.5l.94-2.06 2.06-.94-2.06-.94L8.5 2.5l-.94 2.06-2.06.94zm10 10l.94 2.06.94-2.06 2.06-.94-2.06-.94-.94-2.06-.94 2.06-2.06.94z\"/><path d=\"M17.41 7.96l-1.37-1.37c-.4-.4-.92-.59-1.43-.59-.52 0-1.04.2-1.43.59L10.3 9.45l-7.72 7.72c-.78.78-.78 2.05 0 2.83L4 21.41c.39.39.9.59 1.41.59.51 0 1.02-.2 1.41-.59l7.78-7.78 2.81-2.81c.8-.78.8-2.07 0-2.86zM5.41 20L4 18.59l7.72-7.72 1.47 1.35L5.41 20z\"/>\n",
              "  </svg>\n",
              "      </button>\n",
              "      \n",
              "  <style>\n",
              "    .colab-df-container {\n",
              "      display:flex;\n",
              "      flex-wrap:wrap;\n",
              "      gap: 12px;\n",
              "    }\n",
              "\n",
              "    .colab-df-convert {\n",
              "      background-color: #E8F0FE;\n",
              "      border: none;\n",
              "      border-radius: 50%;\n",
              "      cursor: pointer;\n",
              "      display: none;\n",
              "      fill: #1967D2;\n",
              "      height: 32px;\n",
              "      padding: 0 0 0 0;\n",
              "      width: 32px;\n",
              "    }\n",
              "\n",
              "    .colab-df-convert:hover {\n",
              "      background-color: #E2EBFA;\n",
              "      box-shadow: 0px 1px 2px rgba(60, 64, 67, 0.3), 0px 1px 3px 1px rgba(60, 64, 67, 0.15);\n",
              "      fill: #174EA6;\n",
              "    }\n",
              "\n",
              "    [theme=dark] .colab-df-convert {\n",
              "      background-color: #3B4455;\n",
              "      fill: #D2E3FC;\n",
              "    }\n",
              "\n",
              "    [theme=dark] .colab-df-convert:hover {\n",
              "      background-color: #434B5C;\n",
              "      box-shadow: 0px 1px 3px 1px rgba(0, 0, 0, 0.15);\n",
              "      filter: drop-shadow(0px 1px 2px rgba(0, 0, 0, 0.3));\n",
              "      fill: #FFFFFF;\n",
              "    }\n",
              "  </style>\n",
              "\n",
              "      <script>\n",
              "        const buttonEl =\n",
              "          document.querySelector('#df-c04799ae-dfbc-4492-819f-8df99163eb2a button.colab-df-convert');\n",
              "        buttonEl.style.display =\n",
              "          google.colab.kernel.accessAllowed ? 'block' : 'none';\n",
              "\n",
              "        async function convertToInteractive(key) {\n",
              "          const element = document.querySelector('#df-c04799ae-dfbc-4492-819f-8df99163eb2a');\n",
              "          const dataTable =\n",
              "            await google.colab.kernel.invokeFunction('convertToInteractive',\n",
              "                                                     [key], {});\n",
              "          if (!dataTable) return;\n",
              "\n",
              "          const docLinkHtml = 'Like what you see? Visit the ' +\n",
              "            '<a target=\"_blank\" href=https://colab.research.google.com/notebooks/data_table.ipynb>data table notebook</a>'\n",
              "            + ' to learn more about interactive tables.';\n",
              "          element.innerHTML = '';\n",
              "          dataTable['output_type'] = 'display_data';\n",
              "          await google.colab.output.renderOutput(dataTable, element);\n",
              "          const docLink = document.createElement('div');\n",
              "          docLink.innerHTML = docLinkHtml;\n",
              "          element.appendChild(docLink);\n",
              "        }\n",
              "      </script>\n",
              "    </div>\n",
              "  </div>\n",
              "  "
            ],
            "text/plain": [
              "       loss  accuracy  val_loss  val_accuracy\n",
              "0  0.917061  0.758667  0.753644      0.804276\n",
              "1  0.807698  0.789333  0.728796      0.791118\n",
              "2  0.723327  0.808000  0.664494      0.822368\n",
              "3  0.691821  0.800000  0.642586      0.819079\n",
              "4  0.632970  0.834667  0.573417      0.840461"
            ]
          },
          "metadata": {},
          "execution_count": 149
        }
      ]
    },
    {
      "cell_type": "markdown",
      "source": [
        "##View our experiment data to TensorBoar"
      ],
      "metadata": {
        "id": "LH00uriyfb-N"
      }
    },
    {
      "cell_type": "code",
      "source": [
        "!tensorboard dev upload --log_dir ./transfer_learning_part_2\\\n",
        " --name '10 food classes'\\\n",
        " --description 'a series of experiments with varying amount of data and fine-tuning'\\\n",
        " --one_shot"
      ],
      "metadata": {
        "colab": {
          "base_uri": "https://localhost:8080/"
        },
        "id": "975mMEtcfqfI",
        "outputId": "85a0a5fc-c14a-4cba-a72d-92abb5d05341"
      },
      "execution_count": 163,
      "outputs": [
        {
          "output_type": "stream",
          "name": "stdout",
          "text": [
            "2022-01-12 04:49:05.530671: E tensorflow/stream_executor/cuda/cuda_driver.cc:271] failed call to cuInit: CUDA_ERROR_NO_DEVICE: no CUDA-capable device is detected\n",
            "Error: Must specify directory to upload via `--logdir`.\n"
          ]
        }
      ]
    },
    {
      "cell_type": "code",
      "source": [
        "#!tensorboard dev li#st\n",
        "#!tensorboard dev delete -- experiment_id xxxxxxxx"
      ],
      "metadata": {
        "id": "NevKLwCFgHi_"
      },
      "execution_count": 164,
      "outputs": []
    },
    {
      "cell_type": "code",
      "source": [
        "from tensorflow.keras.layers.experimental import  preprocessing"
      ],
      "metadata": {
        "id": "aKpaAdcdosRd"
      },
      "execution_count": 166,
      "outputs": []
    },
    {
      "cell_type": "code",
      "source": [
        "data_augmentation = tf.keras.Sequential([preprocessing.RandomWidth(0.2),\n",
        "                                         preprocessing.RandomHeight(0.2),\n",
        "                                         preprocessing.RandomFlip('horizontal'),\n",
        "                                         preprocessing.RandomRotation(0.2)\n",
        "])"
      ],
      "metadata": {
        "id": "yqkhTbNbo6bh"
      },
      "execution_count": 169,
      "outputs": []
    },
    {
      "cell_type": "code",
      "source": [
        "#setup new base model\n",
        "base_model = tf.keras.applications.EfficientNetB4(include_top = False)\n",
        "base_model.trainable = False\n",
        "\n",
        "#setup inputs\n",
        "inputs = keras.layers.Input(shape = (224,224,3), name = 'input_layer')\n",
        "#pass input layers to base model\n",
        "x = data_augmentation(inputs)\n",
        "x = base_model(x,training = False)\n",
        "\n",
        "x = tf.keras.layers.GlobalAveragePooling2D(name = 'average_pooling_layer')(x)\n",
        "outputs = tf.keras.layers.Dense(10, activation = 'softmax', name = 'output_lay')(x)\n",
        "\n",
        "model_5 = keras.Model(inputs,outputs)"
      ],
      "metadata": {
        "id": "JQJ462HQn5fV"
      },
      "execution_count": 173,
      "outputs": []
    },
    {
      "cell_type": "code",
      "source": [
        "from tensorflow.keras.callbacks import ModelCheckpoint\n",
        "\n",
        "new_checkpoint_path = 'new_model_checkpoints_weights/checkpoint.ckpt'\n",
        "checkpoint_callback_1 = ModelCheckpoint(filepath = new_checkpoint_path,\n",
        "                                        save_weights_only = True,\n",
        "                                        save_best_only = True)"
      ],
      "metadata": {
        "id": "DHkJVHzhrFtj"
      },
      "execution_count": 175,
      "outputs": []
    },
    {
      "cell_type": "code",
      "source": [
        "model_5.compile(loss = tf.keras.losses.CategoricalCrossentropy(),\n",
        "                optimizer = tf.keras.optimizers.Adam(learning_rate = 0.001),\n",
        "                metrics = ['accuracy'])\n",
        "\n",
        "model_5.fit(train_data_10_percent,\n",
        "            epochs = 5,\n",
        "            steps_per_epoch = len(train_data_10_percent),\n",
        "            validation_data = test_data_10_percent,\n",
        "            validation_steps = int(0.25*len(test_data_10_percent)),\n",
        "            callbacks = [checkpoint_callback_1])"
      ],
      "metadata": {
        "colab": {
          "base_uri": "https://localhost:8080/"
        },
        "id": "PBRuTSQnpomq",
        "outputId": "6fccb388-0868-4290-aab5-3e89505fda6c"
      },
      "execution_count": 176,
      "outputs": [
        {
          "output_type": "stream",
          "name": "stdout",
          "text": [
            "Epoch 1/5\n",
            "24/24 [==============================] - 222s 9s/step - loss: 1.8982 - accuracy: 0.4120 - val_loss: 1.2723 - val_accuracy: 0.7401\n",
            "Epoch 2/5\n",
            "24/24 [==============================] - 200s 8s/step - loss: 1.2009 - accuracy: 0.7147 - val_loss: 0.8954 - val_accuracy: 0.7780\n",
            "Epoch 3/5\n",
            "24/24 [==============================] - 200s 8s/step - loss: 0.9392 - accuracy: 0.7507 - val_loss: 0.7379 - val_accuracy: 0.8240\n",
            "Epoch 4/5\n",
            "24/24 [==============================] - 202s 9s/step - loss: 0.7970 - accuracy: 0.7893 - val_loss: 0.6614 - val_accuracy: 0.8174\n",
            "Epoch 5/5\n",
            "24/24 [==============================] - 203s 9s/step - loss: 0.7168 - accuracy: 0.8093 - val_loss: 0.6146 - val_accuracy: 0.8191\n"
          ]
        },
        {
          "output_type": "execute_result",
          "data": {
            "text/plain": [
              "<keras.callbacks.History at 0x7f07cc71f810>"
            ]
          },
          "metadata": {},
          "execution_count": 176
        }
      ]
    },
    {
      "cell_type": "code",
      "source": [
        "model_5.load_weights(new_checkpoint_path)"
      ],
      "metadata": {
        "colab": {
          "base_uri": "https://localhost:8080/"
        },
        "id": "3thzHEqGsARH",
        "outputId": "db558e65-ae5b-41a9-fd0e-05bb73df8746"
      },
      "execution_count": 177,
      "outputs": [
        {
          "output_type": "execute_result",
          "data": {
            "text/plain": [
              "<tensorflow.python.training.tracking.util.CheckpointLoadStatus at 0x7f07cc9705d0>"
            ]
          },
          "metadata": {},
          "execution_count": 177
        }
      ]
    },
    {
      "cell_type": "code",
      "source": [
        "#To begin fine-tuning , let's start by setting the last 10 layers of our base_model.trainable.\n",
        "base_model.trainable = True\n",
        "for layer in base_model.layers[:-10]:\n",
        "  layer.trainable = False\n",
        "\n",
        "#recompile (we have to recompile our model every time we make a change)\n",
        "model_5.compile(loss = tf.keras.losses.CategoricalCrossentropy(),\n",
        "                optimizer = tf.keras.optimizers.Adam(learning_rate = 0.0001),\n",
        "#When fine tuning we wouldn't want to change the trainable layers too much - as that will result in  overfitting\n",
        "#a rule of thumb is to reduce the learning rate by 10x -reference UML fit paper\n",
        "                metrics = ['accuracy'])"
      ],
      "metadata": {
        "id": "-YGKgcaiscG6"
      },
      "execution_count": 178,
      "outputs": []
    },
    {
      "cell_type": "code",
      "source": [
        "initial_epochs = 5\n",
        "fine_tuning_epochs = initial_epochs + 5\n",
        "new_history = model_5.fit(train_data_full,\n",
        "                          epochs = fine_tuning_epochs,\n",
        "                          steps_per_epoch = len(train_data_full),\n",
        "                          validation_data = test_data_10_percent,\n",
        "                          validation_steps = int(0.25*len(test_data_10_percent)),\n",
        "                          initial_epoch = initial_epochs,\n",
        "                          callbacks = [checkpoint_callback_1]\n",
        "                          )"
      ],
      "metadata": {
        "colab": {
          "base_uri": "https://localhost:8080/"
        },
        "id": "UNtCT5jHs9LX",
        "outputId": "72a26485-5794-4cf3-befd-8645bad2a7ea"
      },
      "execution_count": null,
      "outputs": [
        {
          "output_type": "stream",
          "name": "stdout",
          "text": [
            "Epoch 6/10\n",
            " 6/24 [======>.......................] - ETA: 1:27 - loss: 0.5967 - accuracy: 0.8438"
          ]
        }
      ]
    },
    {
      "cell_type": "code",
      "source": [
        ""
      ],
      "metadata": {
        "id": "_C28i_R4t3Sj"
      },
      "execution_count": null,
      "outputs": []
    }
  ]
}
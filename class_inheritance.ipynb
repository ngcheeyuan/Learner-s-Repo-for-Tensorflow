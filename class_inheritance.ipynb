{
  "nbformat": 4,
  "nbformat_minor": 0,
  "metadata": {
    "colab": {
      "name": "class_inheritance.ipynb",
      "provenance": [],
      "authorship_tag": "ABX9TyMDdgcBwGMJOW9vgBUinhVB",
      "include_colab_link": true
    },
    "kernelspec": {
      "name": "python3",
      "display_name": "Python 3"
    },
    "language_info": {
      "name": "python"
    }
  },
  "cells": [
    {
      "cell_type": "markdown",
      "metadata": {
        "id": "view-in-github",
        "colab_type": "text"
      },
      "source": [
        "<a href=\"https://colab.research.google.com/github/ngcheeyuan/Learner-s-Repo-for-Tensorflow/blob/main/class_inheritance.ipynb\" target=\"_parent\"><img src=\"https://colab.research.google.com/assets/colab-badge.svg\" alt=\"Open In Colab\"/></a>"
      ]
    },
    {
      "cell_type": "code",
      "execution_count": 1,
      "metadata": {
        "id": "QstSNUHkdTIt"
      },
      "outputs": [],
      "source": [
        "class Person:\n",
        "  def __init__(self,name,age):\n",
        "    self.name = name\n",
        "    self.age = age\n",
        "  \n",
        "  def myfunc(self,x):\n",
        "    return print(self.name,x)"
      ]
    },
    {
      "cell_type": "code",
      "source": [
        "p1 = Person('John',36)\n",
        "p2 = Person('Amy',24)"
      ],
      "metadata": {
        "id": "PzbzCaLnddlc"
      },
      "execution_count": 2,
      "outputs": []
    },
    {
      "cell_type": "code",
      "source": [
        "p1.myfunc(12)"
      ],
      "metadata": {
        "colab": {
          "base_uri": "https://localhost:8080/"
        },
        "id": "xw0u_07GdkAQ",
        "outputId": "e936186f-58ec-4e33-cef7-4c5a2108d5fc"
      },
      "execution_count": 3,
      "outputs": [
        {
          "output_type": "stream",
          "name": "stdout",
          "text": [
            "John 12\n"
          ]
        }
      ]
    },
    {
      "cell_type": "code",
      "source": [
        "class Employee:\n",
        "\n",
        "  raise_amt = 1.04 #global constant\n",
        "\n",
        "  def __init__(self,first,last,pay):\n",
        "    self.first = first\n",
        "    self.last = last\n",
        "    self.pay = pay\n",
        "    self.email = first + '.' + last + '@email.com'\n",
        "    self.pay = pay\n",
        "\n",
        "  def fullname(self):\n",
        "    return '{}{}'.format(self.first,self.last)\n",
        "  \n",
        "  def apply_raise(self):\n",
        "    self.pay = int(self.pay*self.raise_amt)"
      ],
      "metadata": {
        "id": "qrAL4FYmdwvl"
      },
      "execution_count": 4,
      "outputs": []
    },
    {
      "cell_type": "code",
      "source": [
        "class Developer(Employee):\n",
        "  raise_amt = 1.2 #class specific \n",
        "  pass"
      ],
      "metadata": {
        "id": "_3hjLVTxfHWy"
      },
      "execution_count": 5,
      "outputs": []
    },
    {
      "cell_type": "code",
      "source": [
        "dev_1 = Developer('a','b',123)\n",
        "dev_2 = Developer('c','d',345)"
      ],
      "metadata": {
        "id": "xBkSymUSfJ1P"
      },
      "execution_count": 6,
      "outputs": []
    },
    {
      "cell_type": "code",
      "source": [
        "print(dev_1.email)\n",
        "print(dev_1.fullname())\n",
        "print(dev_1.pay)"
      ],
      "metadata": {
        "colab": {
          "base_uri": "https://localhost:8080/"
        },
        "id": "pF5QyQ0jfQko",
        "outputId": "9036380f-a98c-4f0b-fc45-9c62687b2e5e"
      },
      "execution_count": 7,
      "outputs": [
        {
          "output_type": "stream",
          "name": "stdout",
          "text": [
            "a.b@email.com\n",
            "ab\n",
            "123\n"
          ]
        }
      ]
    },
    {
      "cell_type": "code",
      "source": [
        "dev_1.apply_raise()"
      ],
      "metadata": {
        "id": "V2TGhG2MfT2L"
      },
      "execution_count": 8,
      "outputs": []
    },
    {
      "cell_type": "code",
      "source": [
        "print(dev_1.pay)"
      ],
      "metadata": {
        "colab": {
          "base_uri": "https://localhost:8080/"
        },
        "id": "uL2XNaNqf5eO",
        "outputId": "198060d3-d87c-44ce-f2ad-f965d54dbe9b"
      },
      "execution_count": 9,
      "outputs": [
        {
          "output_type": "stream",
          "name": "stdout",
          "text": [
            "147\n"
          ]
        }
      ]
    },
    {
      "cell_type": "markdown",
      "source": [
        "Python searches through the method resolution order to search for the different attributes that the instance should have."
      ],
      "metadata": {
        "id": "V5cumIKYgp1y"
      }
    },
    {
      "cell_type": "code",
      "source": [
        "print(help(Developer))"
      ],
      "metadata": {
        "colab": {
          "base_uri": "https://localhost:8080/"
        },
        "id": "L8w942WhgPza",
        "outputId": "1eb3412f-2f62-46d2-a06c-46bc7ff80af8"
      },
      "execution_count": 10,
      "outputs": [
        {
          "output_type": "stream",
          "name": "stdout",
          "text": [
            "Help on class Developer in module __main__:\n",
            "\n",
            "class Developer(Employee)\n",
            " |  Developer(first, last, pay)\n",
            " |  \n",
            " |  Method resolution order:\n",
            " |      Developer\n",
            " |      Employee\n",
            " |      builtins.object\n",
            " |  \n",
            " |  Data and other attributes defined here:\n",
            " |  \n",
            " |  raise_amt = 1.2\n",
            " |  \n",
            " |  ----------------------------------------------------------------------\n",
            " |  Methods inherited from Employee:\n",
            " |  \n",
            " |  __init__(self, first, last, pay)\n",
            " |      Initialize self.  See help(type(self)) for accurate signature.\n",
            " |  \n",
            " |  apply_raise(self)\n",
            " |  \n",
            " |  fullname(self)\n",
            " |  \n",
            " |  ----------------------------------------------------------------------\n",
            " |  Data descriptors inherited from Employee:\n",
            " |  \n",
            " |  __dict__\n",
            " |      dictionary for instance variables (if defined)\n",
            " |  \n",
            " |  __weakref__\n",
            " |      list of weak references to the object (if defined)\n",
            "\n",
            "None\n"
          ]
        }
      ]
    },
    {
      "cell_type": "markdown",
      "source": [
        "Initiating addition parameters to subclasses"
      ],
      "metadata": {
        "id": "4J8KG0RChVo9"
      }
    },
    {
      "cell_type": "code",
      "source": [
        "class Developer(Employee):\n",
        "  raise_amt = 1.2 #class specific \n",
        "\n",
        "  def __init__(self, first , last , pay , prog_lang):\n",
        "    super().__init__(first,last,pay) # this will past first last pay to Employee class to handle these parameters initialization\n",
        "    #Employee.__init__(self,first,last,pay) # works just the same as before\n",
        "\n",
        "    self.prog_lang = prog_lang"
      ],
      "metadata": {
        "id": "P4NKgGSogk5C"
      },
      "execution_count": 11,
      "outputs": []
    },
    {
      "cell_type": "code",
      "source": [
        "dev_3 = Developer('a','b',5000,'Python')"
      ],
      "metadata": {
        "id": "i7wAqeZJjKdS"
      },
      "execution_count": 12,
      "outputs": []
    },
    {
      "cell_type": "code",
      "source": [
        "print(dev_3.email,dev_3.prog_lang)"
      ],
      "metadata": {
        "colab": {
          "base_uri": "https://localhost:8080/"
        },
        "id": "xiAtZkrRjO6w",
        "outputId": "bb293291-98ef-4741-8569-86df191fade1"
      },
      "execution_count": 13,
      "outputs": [
        {
          "output_type": "stream",
          "name": "stdout",
          "text": [
            "a.b@email.com Python\n"
          ]
        }
      ]
    },
    {
      "cell_type": "code",
      "source": [
        "class Manager(Employee):\n",
        "  def __init__(self,first,last,pay,employees = None):\n",
        "    super().__init__(first,last,pay)\n",
        "\n",
        "    if employees is None:\n",
        "      self.employees = []\n",
        "    \n",
        "    else:\n",
        "      self.employees = employees\n",
        "  \n",
        "  def add_employees(self,emp):\n",
        "    if emp not in self.employees:\n",
        "      self.employees.append(emp)\n",
        "\n",
        "  def remove_employees(self,emp):\n",
        "    if emp in self.employees:\n",
        "      self.employees.remove(emp)\n",
        "\n",
        "  def print_emps(self):\n",
        "    for emp in self.employees:\n",
        "      print('-->',emp.fullname())"
      ],
      "metadata": {
        "id": "g9EsXeZ3jTMh"
      },
      "execution_count": 18,
      "outputs": []
    },
    {
      "cell_type": "code",
      "source": [
        "mgr_1 = Manager('c','d',50000,[dev_1,dev_2])"
      ],
      "metadata": {
        "id": "A-69cgyTkPAT"
      },
      "execution_count": 19,
      "outputs": []
    },
    {
      "cell_type": "code",
      "source": [
        "print(mgr_1.email)"
      ],
      "metadata": {
        "colab": {
          "base_uri": "https://localhost:8080/"
        },
        "id": "R-yHowOxkX9l",
        "outputId": "c7089d87-e6d9-4012-db2b-79d2afa89bee"
      },
      "execution_count": 20,
      "outputs": [
        {
          "output_type": "stream",
          "name": "stdout",
          "text": [
            "c.d@email.com\n"
          ]
        }
      ]
    },
    {
      "cell_type": "code",
      "source": [
        "print(mgr_1.print_emps())"
      ],
      "metadata": {
        "colab": {
          "base_uri": "https://localhost:8080/"
        },
        "id": "tqzgXfvQkZ92",
        "outputId": "933b9f62-636d-41bf-d911-33d41509c198"
      },
      "execution_count": 21,
      "outputs": [
        {
          "output_type": "stream",
          "name": "stdout",
          "text": [
            "--> ab\n",
            "--> cd\n",
            "None\n"
          ]
        }
      ]
    },
    {
      "cell_type": "code",
      "source": [
        "mgr_1.add_employees(dev_3)"
      ],
      "metadata": {
        "id": "r1uqs7WVkd-L"
      },
      "execution_count": 22,
      "outputs": []
    },
    {
      "cell_type": "code",
      "source": [
        "print(mgr_1.print_emps())"
      ],
      "metadata": {
        "colab": {
          "base_uri": "https://localhost:8080/"
        },
        "id": "k9Ochp-ckkN0",
        "outputId": "da1a5aa6-635a-48cf-dd9f-b00abbe11360"
      },
      "execution_count": 23,
      "outputs": [
        {
          "output_type": "stream",
          "name": "stdout",
          "text": [
            "--> ab\n",
            "--> cd\n",
            "--> ab\n",
            "None\n"
          ]
        }
      ]
    },
    {
      "cell_type": "code",
      "source": [
        "mgr_1.remove_employees(dev_1)"
      ],
      "metadata": {
        "id": "H1YHLyKwkonY"
      },
      "execution_count": 24,
      "outputs": []
    },
    {
      "cell_type": "code",
      "source": [
        "print(mgr_1.print_emps())"
      ],
      "metadata": {
        "colab": {
          "base_uri": "https://localhost:8080/"
        },
        "id": "pFb0a8jeks-I",
        "outputId": "ac445695-1e3f-4071-dad0-f92d63071b2c"
      },
      "execution_count": 25,
      "outputs": [
        {
          "output_type": "stream",
          "name": "stdout",
          "text": [
            "--> cd\n",
            "--> ab\n",
            "None\n"
          ]
        }
      ]
    },
    {
      "cell_type": "code",
      "source": [
        "print(isinstance(mgr_1,Employee))"
      ],
      "metadata": {
        "colab": {
          "base_uri": "https://localhost:8080/"
        },
        "id": "yFHSzf60kvWo",
        "outputId": "51ab1249-7903-4c75-de9a-07286eef69e2"
      },
      "execution_count": 26,
      "outputs": [
        {
          "output_type": "stream",
          "name": "stdout",
          "text": [
            "True\n"
          ]
        }
      ]
    },
    {
      "cell_type": "code",
      "source": [
        "print(isinstance(mgr_1,Developer))"
      ],
      "metadata": {
        "colab": {
          "base_uri": "https://localhost:8080/"
        },
        "id": "OUrmH73xk7Nb",
        "outputId": "c2b72a92-3e49-423c-9993-efe5f750f0c8"
      },
      "execution_count": 27,
      "outputs": [
        {
          "output_type": "stream",
          "name": "stdout",
          "text": [
            "False\n"
          ]
        }
      ]
    },
    {
      "cell_type": "code",
      "source": [
        "print(issubclass(Manager,Developer))"
      ],
      "metadata": {
        "colab": {
          "base_uri": "https://localhost:8080/"
        },
        "id": "IQ2YevNzk-AU",
        "outputId": "1e5b5b10-548d-48a9-a6c9-f83f7df355d3"
      },
      "execution_count": 28,
      "outputs": [
        {
          "output_type": "stream",
          "name": "stdout",
          "text": [
            "False\n"
          ]
        }
      ]
    },
    {
      "cell_type": "markdown",
      "source": [
        "## Special (dunder) Methods"
      ],
      "metadata": {
        "id": "THpmo1C5lrMy"
      }
    },
    {
      "cell_type": "code",
      "source": [
        "repr(dev_1)"
      ],
      "metadata": {
        "colab": {
          "base_uri": "https://localhost:8080/",
          "height": 36
        },
        "id": "PhSavajnlG2S",
        "outputId": "ca9163c9-6948-451b-d083-9c3bb7e91ed8"
      },
      "execution_count": 29,
      "outputs": [
        {
          "output_type": "execute_result",
          "data": {
            "application/vnd.google.colaboratory.intrinsic+json": {
              "type": "string"
            },
            "text/plain": [
              "'<__main__.Developer object at 0x7f983554a910>'"
            ]
          },
          "metadata": {},
          "execution_count": 29
        }
      ]
    },
    {
      "cell_type": "code",
      "source": [
        "str(dev_1)"
      ],
      "metadata": {
        "colab": {
          "base_uri": "https://localhost:8080/",
          "height": 36
        },
        "id": "3V7brR4imFkH",
        "outputId": "22c9b6c4-c67d-4b11-ecaf-3d1be070c77a"
      },
      "execution_count": 30,
      "outputs": [
        {
          "output_type": "execute_result",
          "data": {
            "application/vnd.google.colaboratory.intrinsic+json": {
              "type": "string"
            },
            "text/plain": [
              "'<__main__.Developer object at 0x7f983554a910>'"
            ]
          },
          "metadata": {},
          "execution_count": 30
        }
      ]
    },
    {
      "cell_type": "code",
      "source": [
        "class Employee:\n",
        "\n",
        "  raise_amt = 1.04 #global constant\n",
        "\n",
        "  def __init__(self,first,last,pay):\n",
        "    self.first = first\n",
        "    self.last = last\n",
        "    self.pay = pay\n",
        "    self.email = first + '.' + last + '@email.com'\n",
        "    self.pay = pay\n",
        "\n",
        "  def __repr__(self):\n",
        "    return f'{self.first} {self.last} {self.pay}'\n",
        "  \n",
        "  def __str__(self):\n",
        "    return '{}-{}'.format(self.fullname(),self.email)\n",
        "\n",
        "  def fullname(self):\n",
        "    return '{}{}'.format(self.first,self.last)\n",
        "\n",
        "  def __add__(self,other):\n",
        "    return self.pay + other.pay\n",
        "\n",
        "  def __len__(self):\n",
        "    return len(self.fullname())\n",
        "  \n",
        "  def apply_raise(self):\n",
        "    self.pay = int(self.pay*self.raise_amt)\n",
        "    "
      ],
      "metadata": {
        "id": "K0Ye8my1mNJw"
      },
      "execution_count": 31,
      "outputs": []
    },
    {
      "cell_type": "code",
      "source": [
        "emp_1 = Employee('a','b',10000)\n",
        "emp_2 = Employee('c','d',20000)"
      ],
      "metadata": {
        "id": "ilDF3QYlm2A2"
      },
      "execution_count": 32,
      "outputs": []
    },
    {
      "cell_type": "code",
      "source": [
        "print(emp_1.__repr__())"
      ],
      "metadata": {
        "colab": {
          "base_uri": "https://localhost:8080/"
        },
        "id": "ZhHHUROYm6ES",
        "outputId": "e87322c0-02b4-4021-c50e-184bcda6dbea"
      },
      "execution_count": 33,
      "outputs": [
        {
          "output_type": "stream",
          "name": "stdout",
          "text": [
            "a b 10000\n"
          ]
        }
      ]
    },
    {
      "cell_type": "code",
      "source": [
        "print(emp_1.__str__())"
      ],
      "metadata": {
        "colab": {
          "base_uri": "https://localhost:8080/"
        },
        "id": "PSLCreh5m-D3",
        "outputId": "2a4cbe32-9f30-4886-fbe1-39525f3882e6"
      },
      "execution_count": 34,
      "outputs": [
        {
          "output_type": "stream",
          "name": "stdout",
          "text": [
            "ab-a.b@email.com\n"
          ]
        }
      ]
    },
    {
      "cell_type": "code",
      "source": [
        "print(emp_1 + emp_2)"
      ],
      "metadata": {
        "colab": {
          "base_uri": "https://localhost:8080/"
        },
        "id": "rHLIgwUun2qY",
        "outputId": "b4da3a42-addf-49d0-bd0b-c9cb8e0024df"
      },
      "execution_count": 35,
      "outputs": [
        {
          "output_type": "stream",
          "name": "stdout",
          "text": [
            "30000\n"
          ]
        }
      ]
    },
    {
      "cell_type": "code",
      "source": [
        "print(len(emp_1))"
      ],
      "metadata": {
        "colab": {
          "base_uri": "https://localhost:8080/"
        },
        "id": "jr9LEjeGoIxa",
        "outputId": "b47515a9-aa6a-43d6-87cb-22399b24c364"
      },
      "execution_count": 36,
      "outputs": [
        {
          "output_type": "stream",
          "name": "stdout",
          "text": [
            "2\n"
          ]
        }
      ]
    },
    {
      "cell_type": "markdown",
      "source": [
        "## Decorators"
      ],
      "metadata": {
        "id": "BLkqfXVWpOUi"
      }
    },
    {
      "cell_type": "code",
      "source": [
        "##property decorator\n",
        "\n",
        "\n",
        "class Employee:\n",
        "\n",
        "  raise_amt = 1.04 #global constant\n",
        "\n",
        "  def __init__(self,first,last,pay):\n",
        "    self.first = first\n",
        "    self.last = last\n",
        "    self.pay = pay\n",
        "    self.pay = pay\n",
        "\n",
        "  @property\n",
        "  def email(self):\n",
        "    return '{}.{}@email.com'.format(self.first,self.last)\n",
        "\n",
        "  @property\n",
        "  def fullname(self):\n",
        "    return '{} {}'.format(self.first,self.last)\n",
        "  \n",
        "  @fullname.setter #setter\n",
        "  def fullname(self,name):\n",
        "    first , last = name.split(' ')\n",
        "    self.first = first\n",
        "    self.last = last\n",
        "\n",
        "  @fullname.deleter #deleter\n",
        "  def fullname(self):\n",
        "    print('Delete Name!')\n",
        "    self.first = None\n",
        "    self.last = None\n",
        "\n",
        "  def apply_raise(self):\n",
        "    self.pay = int(self.pay*self.raise_amt)"
      ],
      "metadata": {
        "id": "iKclObpConWl"
      },
      "execution_count": 37,
      "outputs": []
    },
    {
      "cell_type": "code",
      "source": [
        "emp_1 = Employee('John','Smith',20000)"
      ],
      "metadata": {
        "id": "tbbs_h8Jrhrj"
      },
      "execution_count": 38,
      "outputs": []
    },
    {
      "cell_type": "code",
      "source": [
        "print(emp_1.fullname)"
      ],
      "metadata": {
        "colab": {
          "base_uri": "https://localhost:8080/"
        },
        "id": "yy315naJrmmJ",
        "outputId": "113b7409-7496-4b8e-e4e5-02ae8401b2d9"
      },
      "execution_count": 39,
      "outputs": [
        {
          "output_type": "stream",
          "name": "stdout",
          "text": [
            "John Smith\n"
          ]
        }
      ]
    },
    {
      "cell_type": "code",
      "source": [
        "emp_1.fullname = 'Karen Chia'"
      ],
      "metadata": {
        "id": "o-yZcaqcrsmM"
      },
      "execution_count": 40,
      "outputs": []
    },
    {
      "cell_type": "code",
      "source": [
        "print(emp_1.fullname)"
      ],
      "metadata": {
        "colab": {
          "base_uri": "https://localhost:8080/"
        },
        "id": "SwfFyANhsLje",
        "outputId": "386e3c22-1eaa-4f23-e44a-1ce8aeaf3a2d"
      },
      "execution_count": 41,
      "outputs": [
        {
          "output_type": "stream",
          "name": "stdout",
          "text": [
            "Karen Chia\n"
          ]
        }
      ]
    },
    {
      "cell_type": "code",
      "source": [
        "del emp_1.fullname"
      ],
      "metadata": {
        "colab": {
          "base_uri": "https://localhost:8080/"
        },
        "id": "dArGzMP3sMt2",
        "outputId": "efc37d74-28f0-4d6e-f968-3fb3068936c4"
      },
      "execution_count": 42,
      "outputs": [
        {
          "output_type": "stream",
          "name": "stdout",
          "text": [
            "Delete Name!\n"
          ]
        }
      ]
    },
    {
      "cell_type": "code",
      "source": [
        "## first class function"
      ],
      "metadata": {
        "id": "GlxIywBHsZhP"
      },
      "execution_count": 43,
      "outputs": []
    },
    {
      "cell_type": "code",
      "source": [
        "def outer_function():\n",
        "  message = 'Hi'\n",
        "\n",
        "  def inner_function():\n",
        "    print(message)\n",
        "  return inner_function()"
      ],
      "metadata": {
        "id": "Zxg2udXGtQTH"
      },
      "execution_count": 44,
      "outputs": []
    },
    {
      "cell_type": "code",
      "source": [
        "outer_function()"
      ],
      "metadata": {
        "colab": {
          "base_uri": "https://localhost:8080/"
        },
        "id": "PqNh1w5DtYyi",
        "outputId": "ef446b86-dc24-47df-f6d5-81337cbc339a"
      },
      "execution_count": 45,
      "outputs": [
        {
          "output_type": "stream",
          "name": "stdout",
          "text": [
            "Hi\n"
          ]
        }
      ]
    },
    {
      "cell_type": "code",
      "source": [
        "def outer_function():\n",
        "  message = 'Hi'\n",
        "\n",
        "  def inner_function():\n",
        "    print(message)\n",
        "  return inner_function"
      ],
      "metadata": {
        "id": "ZBa-bVzSteHe"
      },
      "execution_count": 46,
      "outputs": []
    },
    {
      "cell_type": "code",
      "source": [
        "outer_function()"
      ],
      "metadata": {
        "colab": {
          "base_uri": "https://localhost:8080/"
        },
        "id": "RmxWU707tg7q",
        "outputId": "9e9fd227-d5a7-4166-9ba5-0cdcc35e796a"
      },
      "execution_count": 47,
      "outputs": [
        {
          "output_type": "execute_result",
          "data": {
            "text/plain": [
              "<function __main__.outer_function.<locals>.inner_function>"
            ]
          },
          "metadata": {},
          "execution_count": 47
        }
      ]
    },
    {
      "cell_type": "code",
      "source": [
        "my_func = outer_function()"
      ],
      "metadata": {
        "id": "MMvSsjtrtiI3"
      },
      "execution_count": 48,
      "outputs": []
    },
    {
      "cell_type": "code",
      "source": [
        "my_func()"
      ],
      "metadata": {
        "colab": {
          "base_uri": "https://localhost:8080/"
        },
        "id": "uArz-G0VtmYt",
        "outputId": "b394629e-2dcd-4020-e400-fadfa0c4d253"
      },
      "execution_count": 49,
      "outputs": [
        {
          "output_type": "stream",
          "name": "stdout",
          "text": [
            "Hi\n"
          ]
        }
      ]
    },
    {
      "cell_type": "code",
      "source": [
        "my_func()"
      ],
      "metadata": {
        "colab": {
          "base_uri": "https://localhost:8080/"
        },
        "id": "LBZLtkrGtn9V",
        "outputId": "9415f19f-bdf6-4ae5-bcef-6d1050402504"
      },
      "execution_count": 50,
      "outputs": [
        {
          "output_type": "stream",
          "name": "stdout",
          "text": [
            "Hi\n"
          ]
        }
      ]
    },
    {
      "cell_type": "code",
      "source": [
        "def outer_function(msg):\n",
        "  def inner_function():\n",
        "    print(msg)\n",
        "  return inner_function"
      ],
      "metadata": {
        "id": "GBzHb0R-touP"
      },
      "execution_count": 51,
      "outputs": []
    },
    {
      "cell_type": "code",
      "source": [
        "hi_func = outer_function('Hi')\n",
        "bye_func = outer_function('Bye')"
      ],
      "metadata": {
        "id": "k-jG47FWtvq9"
      },
      "execution_count": 52,
      "outputs": []
    },
    {
      "cell_type": "code",
      "source": [
        "hi_func()"
      ],
      "metadata": {
        "colab": {
          "base_uri": "https://localhost:8080/"
        },
        "id": "CD2So6Pnt2Qi",
        "outputId": "a702a84d-168d-4c20-9e36-75cf6403eaf2"
      },
      "execution_count": 53,
      "outputs": [
        {
          "output_type": "stream",
          "name": "stdout",
          "text": [
            "Hi\n"
          ]
        }
      ]
    },
    {
      "cell_type": "code",
      "source": [
        "bye_func()"
      ],
      "metadata": {
        "colab": {
          "base_uri": "https://localhost:8080/"
        },
        "id": "78H96IZzt3Oj",
        "outputId": "1a8084a9-3846-48b9-bd11-6f5228a795b2"
      },
      "execution_count": 54,
      "outputs": [
        {
          "output_type": "stream",
          "name": "stdout",
          "text": [
            "Bye\n"
          ]
        }
      ]
    },
    {
      "cell_type": "code",
      "source": [
        "def decorator_function(original_function):\n",
        "  def wrapper_function():\n",
        "    return original_function()\n",
        "  return wrapper_function"
      ],
      "metadata": {
        "id": "1MwUbv_jt4np"
      },
      "execution_count": 55,
      "outputs": []
    },
    {
      "cell_type": "code",
      "source": [
        "def display():\n",
        "  print('display function ran')"
      ],
      "metadata": {
        "id": "H7nN8niyucnx"
      },
      "execution_count": 56,
      "outputs": []
    },
    {
      "cell_type": "code",
      "source": [
        "decorated_display = decorator_function(display)"
      ],
      "metadata": {
        "id": "c2Dy0IHhugep"
      },
      "execution_count": 57,
      "outputs": []
    },
    {
      "cell_type": "code",
      "source": [
        "decorated_display()"
      ],
      "metadata": {
        "colab": {
          "base_uri": "https://localhost:8080/"
        },
        "id": "XTsWHzp8uj1K",
        "outputId": "63e461ff-0158-4f86-f151-ec9317bd8553"
      },
      "execution_count": 58,
      "outputs": [
        {
          "output_type": "stream",
          "name": "stdout",
          "text": [
            "display function ran\n"
          ]
        }
      ]
    },
    {
      "cell_type": "code",
      "source": [
        "## Why would you do this? - adding functionality to your existing function"
      ],
      "metadata": {
        "id": "G_2uir8OulXn"
      },
      "execution_count": 59,
      "outputs": []
    },
    {
      "cell_type": "code",
      "source": [
        "def decorator_function(original_function):\n",
        "  def wrapper_function():\n",
        "    print('wrapper executed this before'.format(original_function.__name__))\n",
        "    return original_function()\n",
        "  return wrapper_function"
      ],
      "metadata": {
        "id": "CVcCupJhu-MK"
      },
      "execution_count": 60,
      "outputs": []
    },
    {
      "cell_type": "code",
      "source": [
        "decorated_display = decorator_function(display)\n",
        "decorated_display()"
      ],
      "metadata": {
        "colab": {
          "base_uri": "https://localhost:8080/"
        },
        "id": "bDXbO9k3vF3G",
        "outputId": "6caae50d-b959-4cd7-ca8a-a81c0dd3291b"
      },
      "execution_count": 61,
      "outputs": [
        {
          "output_type": "stream",
          "name": "stdout",
          "text": [
            "wrapper executed this before\n",
            "display function ran\n"
          ]
        }
      ]
    },
    {
      "cell_type": "code",
      "source": [
        "@decorator_function #same as decorated_display = decorator_function(display)\n",
        "def display():\n",
        "  print('display function ran')"
      ],
      "metadata": {
        "id": "hvra8eWZvNc5"
      },
      "execution_count": 62,
      "outputs": []
    },
    {
      "cell_type": "code",
      "source": [
        "display()"
      ],
      "metadata": {
        "colab": {
          "base_uri": "https://localhost:8080/"
        },
        "id": "5OULLsFHvfjt",
        "outputId": "574a26e1-e9c4-4af3-9400-ba5f9e835255"
      },
      "execution_count": 63,
      "outputs": [
        {
          "output_type": "stream",
          "name": "stdout",
          "text": [
            "wrapper executed this before\n",
            "display function ran\n"
          ]
        }
      ]
    },
    {
      "cell_type": "code",
      "source": [
        "@decorator_function\n",
        "def display_info(name,age):\n",
        "  print(f'display_info ran with {name},{age}')"
      ],
      "metadata": {
        "id": "BQBEMixhvguP"
      },
      "execution_count": 64,
      "outputs": []
    },
    {
      "cell_type": "code",
      "source": [
        "display_info('john',99)"
      ],
      "metadata": {
        "colab": {
          "base_uri": "https://localhost:8080/",
          "height": 174
        },
        "id": "XQxUBYsmv_Jl",
        "outputId": "e135e91d-203a-4f93-8607-a9066525250d"
      },
      "execution_count": 65,
      "outputs": [
        {
          "output_type": "error",
          "ename": "TypeError",
          "evalue": "ignored",
          "traceback": [
            "\u001b[0;31m---------------------------------------------------------------------------\u001b[0m",
            "\u001b[0;31mTypeError\u001b[0m                                 Traceback (most recent call last)",
            "\u001b[0;32m<ipython-input-65-af962131cbc3>\u001b[0m in \u001b[0;36m<module>\u001b[0;34m()\u001b[0m\n\u001b[0;32m----> 1\u001b[0;31m \u001b[0mdisplay_info\u001b[0m\u001b[0;34m(\u001b[0m\u001b[0;34m'john'\u001b[0m\u001b[0;34m,\u001b[0m\u001b[0;36m99\u001b[0m\u001b[0;34m)\u001b[0m\u001b[0;34m\u001b[0m\u001b[0;34m\u001b[0m\u001b[0m\n\u001b[0m",
            "\u001b[0;31mTypeError\u001b[0m: wrapper_function() takes 0 positional arguments but 2 were given"
          ]
        }
      ]
    },
    {
      "cell_type": "code",
      "source": [
        "#the fix to the error above, includes *args, and **kwargs in wrapper function arguments\n",
        "def decorator_function(original_function):\n",
        "  def wrapper_function(*args , **kwargs):\n",
        "    print('wrapper executed this before'.format(original_function.__name__))\n",
        "    return original_function(*args , **kwargs)\n",
        "  return wrapper_function"
      ],
      "metadata": {
        "id": "n20efcXrvvYO"
      },
      "execution_count": 74,
      "outputs": []
    },
    {
      "cell_type": "code",
      "source": [
        "@decorator_function\n",
        "def display_info(name,age):\n",
        "  print(f'display_info ran with {name},{age}')"
      ],
      "metadata": {
        "id": "fvkiGMezw7MQ"
      },
      "execution_count": 75,
      "outputs": []
    },
    {
      "cell_type": "code",
      "source": [
        "display_info('john',99)"
      ],
      "metadata": {
        "colab": {
          "base_uri": "https://localhost:8080/"
        },
        "id": "I0Bc-5Xav8Ai",
        "outputId": "a9ddb57f-7322-483c-f9f7-9871e299f470"
      },
      "execution_count": 76,
      "outputs": [
        {
          "output_type": "stream",
          "name": "stdout",
          "text": [
            "wrapper executed this before\n",
            "display_info ran with john,99\n"
          ]
        }
      ]
    },
    {
      "cell_type": "code",
      "source": [
        "'''\n",
        "class decorator_class(object):\n",
        "  def __init__(self, original_function):\n",
        "    self.original_function = original_function\n",
        "\n",
        "  def __call__(self, *args, **kwargs):\n",
        "    print('The call method executed this before'.format(self.original_function.__name__))\n",
        "    return self.original_function(*args , **kwargs)\n",
        "\n",
        "@decorator_class\n",
        "def display_info(name,age):\n",
        "  print(f'display_info ran with {name},{age}')\n",
        "'''"
      ],
      "metadata": {
        "colab": {
          "base_uri": "https://localhost:8080/",
          "height": 92
        },
        "id": "y8HPqx9cw1kA",
        "outputId": "24117fc6-c4ae-403a-a9bc-d9fa71cd674a"
      },
      "execution_count": 78,
      "outputs": [
        {
          "output_type": "execute_result",
          "data": {
            "application/vnd.google.colaboratory.intrinsic+json": {
              "type": "string"
            },
            "text/plain": [
              "\"\\nclass decorator_class(object):\\n  def __init__(self, original_function):\\n    self.original_function = original_function\\n\\n  def __call__(self, *args, **kwargs):\\n    print('The call method executed this before'.format(self.original_function.__name__))\\n    return self.original_function(*args , **kwargs)\\n\\n@decorator_class\\ndef display_info(name,age):\\n  print(f'display_info ran with {name},{age}')\\n\""
            ]
          },
          "metadata": {},
          "execution_count": 78
        }
      ]
    },
    {
      "cell_type": "code",
      "source": [
        "display_info('john',24)"
      ],
      "metadata": {
        "colab": {
          "base_uri": "https://localhost:8080/"
        },
        "id": "mQ9PoFArxtfF",
        "outputId": "e6a83c7c-f48e-4068-b929-c9bcdd5f0c52"
      },
      "execution_count": 79,
      "outputs": [
        {
          "output_type": "stream",
          "name": "stdout",
          "text": [
            "wrapper executed this before\n",
            "display_info ran with john,24\n"
          ]
        }
      ]
    },
    {
      "cell_type": "code",
      "source": [
        "## use case\n",
        "\n",
        "def my_timer(orig_func):\n",
        "  import time\n",
        "  def wrapper(*args,**kwargs):\n",
        "    t1 = time.time()\n",
        "    result = orig_func(*args,**kwargs)\n",
        "    t2 = time.time() - t1\n",
        "    print(f'{orig_func.__name__} ran in sec {t2}')\n",
        "    return result\n",
        "  return wrapper"
      ],
      "metadata": {
        "id": "KyzFZ-QDx4nk"
      },
      "execution_count": 88,
      "outputs": []
    },
    {
      "cell_type": "code",
      "source": [
        "@my_timer\n",
        "def display_info(name,age):\n",
        "  print(f'display_info ran with {name},{age}')"
      ],
      "metadata": {
        "id": "VSO7LQruzHhp"
      },
      "execution_count": 89,
      "outputs": []
    },
    {
      "cell_type": "code",
      "source": [
        "display_info('john',24)"
      ],
      "metadata": {
        "colab": {
          "base_uri": "https://localhost:8080/"
        },
        "id": "mr03VraGzLaO",
        "outputId": "982de28f-3b1c-47ea-92ce-3b3ef1aee134"
      },
      "execution_count": 90,
      "outputs": [
        {
          "output_type": "stream",
          "name": "stdout",
          "text": [
            "display_info ran with john,24\n",
            "display_info ran in sec 7.987022399902344e-05\n"
          ]
        }
      ]
    },
    {
      "cell_type": "code",
      "source": [
        "def my_logger(orig_func):\n",
        "  import logging\n",
        "  logging.basicConfig(filename = '{}.log'.format(orig_func.__name__), level = logging.info)\n",
        "\n",
        "  def wrapper(*args,**kwargs):\n",
        "    logging.info('Ran with args: {}, and kwargs: {}'.format(args,kwargs))\n",
        "    return orig_func(*args,**kwargs)\n",
        "\n",
        "  return wrapper"
      ],
      "metadata": {
        "id": "GVc80OhR0mYA"
      },
      "execution_count": 96,
      "outputs": []
    },
    {
      "cell_type": "code",
      "source": [
        "@decorator_function\n",
        "@my_timer\n",
        "def display_info(name,age):\n",
        "  print(f'display_info ran with {name},{age}')\n",
        "\n",
        "#is equivalent to display_info = my_timer(decorator_function(display_info))"
      ],
      "metadata": {
        "id": "7fYHlnTEz6mb"
      },
      "execution_count": 87,
      "outputs": []
    },
    {
      "cell_type": "code",
      "source": [
        "from functools import wraps"
      ],
      "metadata": {
        "id": "ff8jlorDz7_D"
      },
      "execution_count": 91,
      "outputs": []
    },
    {
      "cell_type": "code",
      "source": [
        "## use case\n",
        "\n",
        "def my_timer(orig_func):\n",
        "  import time\n",
        "  \n",
        "  @wraps(orig_func)\n",
        "  def wrapper(*args,**kwargs):\n",
        "    t1 = time.time()\n",
        "    result = orig_func(*args,**kwargs)\n",
        "    t2 = time.time() - t1\n",
        "    print(f'{orig_func.__name__} ran in sec {t2}')\n",
        "    return result\n",
        "  return wrapper\n",
        "\n",
        "\n",
        "def my_logger(orig_func):\n",
        "  import logging\n",
        "  logging.basicConfig(filename = '{}.log'.format(orig_func.__name__), level = logging.info)\n",
        "\n",
        "  @wraps(orig_func)\n",
        "  def wrapper(*args,**kwargs):\n",
        "    logging.info('Ran with args: {}, and kwargs: {}'.format(args,kwargs))\n",
        "    return orig_func(*args,**kwargs)\n",
        "\n",
        "  return wrapper"
      ],
      "metadata": {
        "id": "3OV4mrJJ0eVt"
      },
      "execution_count": 106,
      "outputs": []
    },
    {
      "cell_type": "code",
      "source": [
        "@my_logger\n",
        "@my_timer\n",
        "def display_info(name,age):\n",
        "  print(f'display_info ran with {name},{age}')"
      ],
      "metadata": {
        "id": "sJeJLvfz1Ddu"
      },
      "execution_count": 107,
      "outputs": []
    },
    {
      "cell_type": "code",
      "source": [
        "display_info('john',24)"
      ],
      "metadata": {
        "colab": {
          "base_uri": "https://localhost:8080/"
        },
        "id": "HuZae7ql1REW",
        "outputId": "b74441e1-8587-44f5-c123-4b44694616fd"
      },
      "execution_count": 108,
      "outputs": [
        {
          "output_type": "stream",
          "name": "stdout",
          "text": [
            "display_info ran with john,24\n",
            "display_info ran in sec 0.0001544952392578125\n"
          ]
        }
      ]
    },
    {
      "cell_type": "code",
      "source": [
        "def f1(func):\n",
        "  def wrapper(*args,**kwargs):\n",
        "    print('Started')\n",
        "    func(*args,**kwargs)\n",
        "    print('Ended')\n",
        "  return wrapper"
      ],
      "metadata": {
        "id": "kAyj8Yss1Zei"
      },
      "execution_count": 115,
      "outputs": []
    },
    {
      "cell_type": "code",
      "source": [
        "@f1\n",
        "def f(a):\n",
        "  print(a)"
      ],
      "metadata": {
        "id": "hylVBEU64Rb4"
      },
      "execution_count": 116,
      "outputs": []
    },
    {
      "cell_type": "code",
      "source": [
        "f('Hi!')"
      ],
      "metadata": {
        "colab": {
          "base_uri": "https://localhost:8080/"
        },
        "id": "SH-eLlyV4UGe",
        "outputId": "cb9c033b-75a0-467b-a448-84f194244be5"
      },
      "execution_count": 117,
      "outputs": [
        {
          "output_type": "stream",
          "name": "stdout",
          "text": [
            "Started\n",
            "Hi!\n",
            "Ended\n"
          ]
        }
      ]
    },
    {
      "cell_type": "code",
      "source": [
        ""
      ],
      "metadata": {
        "id": "xig2-O8a4VnD"
      },
      "execution_count": null,
      "outputs": []
    }
  ]
}
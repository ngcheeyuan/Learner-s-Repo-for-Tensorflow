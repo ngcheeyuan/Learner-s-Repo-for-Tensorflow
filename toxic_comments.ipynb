{
  "nbformat": 4,
  "nbformat_minor": 0,
  "metadata": {
    "colab": {
      "name": "toxic_comments.ipynb",
      "provenance": [],
      "authorship_tag": "ABX9TyN1O/0ehqYxIzuVUFzwL9Dv",
      "include_colab_link": true
    },
    "kernelspec": {
      "name": "python3",
      "display_name": "Python 3"
    },
    "language_info": {
      "name": "python"
    },
    "accelerator": "GPU"
  },
  "cells": [
    {
      "cell_type": "markdown",
      "metadata": {
        "id": "view-in-github",
        "colab_type": "text"
      },
      "source": [
        "<a href=\"https://colab.research.google.com/github/ngcheeyuan/Learner-s-Repo-for-Tensorflow/blob/main/toxic_comments.ipynb\" target=\"_parent\"><img src=\"https://colab.research.google.com/assets/colab-badge.svg\" alt=\"Open In Colab\"/></a>"
      ]
    },
    {
      "cell_type": "code",
      "execution_count": 1,
      "metadata": {
        "id": "o4ew_OWhX4RD"
      },
      "outputs": [],
      "source": [
        "import tensorflow as tf\n",
        "import tensorflow_datasets as tfds"
      ]
    },
    {
      "cell_type": "code",
      "source": [
        "ds , ds_info = tfds.load('civil_comments' ,\n",
        "                        shuffle_files = True,\n",
        "                        with_info = True)"
      ],
      "metadata": {
        "id": "hSZHWdCMYysr"
      },
      "execution_count": 2,
      "outputs": []
    },
    {
      "cell_type": "code",
      "source": [
        "import pandas as pd"
      ],
      "metadata": {
        "id": "UFApjBUJGzt5"
      },
      "execution_count": 3,
      "outputs": []
    },
    {
      "cell_type": "markdown",
      "source": [
        "## prepping dataframe"
      ],
      "metadata": {
        "id": "HgB-eaHdS9OC"
      }
    },
    {
      "cell_type": "code",
      "source": [
        "train_sample = ds['train'].shuffle(buffer_size = 2000).take(500000)\n",
        "val_sample = ds['validation'].shuffle(buffer_size = 2000).take(100000)\n",
        "test_sample = ds['test'].shuffle(buffer_size = 2000).take(100000)"
      ],
      "metadata": {
        "id": "l89YkH2jOZqn"
      },
      "execution_count": 4,
      "outputs": []
    },
    {
      "cell_type": "code",
      "source": [
        "df_train = pd.DataFrame(train_sample).applymap(lambda x : x.numpy())\n",
        "df_val = pd.DataFrame(val_sample).applymap(lambda x : x.numpy())\n",
        "df_test = pd.DataFrame(test_sample).applymap(lambda x : x.numpy())"
      ],
      "metadata": {
        "id": "K8T5KcM8Pobc"
      },
      "execution_count": 5,
      "outputs": []
    },
    {
      "cell_type": "code",
      "source": [
        "df_train['text'] = df_train['text'].map(lambda x : str(x)[2:-1])\n",
        "df_val['text'] = df_val['text'].map(lambda x : str(x)[2:-1])\n",
        "df_test['text'] = df_test['text'].map(lambda x : str(x)[2:-1])"
      ],
      "metadata": {
        "id": "J6wzmRANIwMN"
      },
      "execution_count": 6,
      "outputs": []
    },
    {
      "cell_type": "code",
      "source": [
        "#removing duplicates as the sampling was done with replacement\n",
        "df_train = df_train.drop(df_train[df_train.duplicated(keep = 'first')].index)\n",
        "df_val = df_val.drop(df_val[df_val.duplicated(keep = 'first')].index)\n",
        "df_test = df_test.drop(df_test[df_test.duplicated(keep = 'first')].index)"
      ],
      "metadata": {
        "id": "WqD1EAOOTG-a"
      },
      "execution_count": 7,
      "outputs": []
    },
    {
      "cell_type": "code",
      "source": [
        "df_train.head(10)"
      ],
      "metadata": {
        "colab": {
          "base_uri": "https://localhost:8080/",
          "height": 363
        },
        "id": "GRuJRShv8wyY",
        "outputId": "deb363b9-4b9f-49ca-8052-ae7a7b32901f"
      },
      "execution_count": 8,
      "outputs": [
        {
          "output_type": "execute_result",
          "data": {
            "text/html": [
              "\n",
              "  <div id=\"df-98e6cac7-f7fd-415e-8782-b585709921b9\">\n",
              "    <div class=\"colab-df-container\">\n",
              "      <div>\n",
              "<style scoped>\n",
              "    .dataframe tbody tr th:only-of-type {\n",
              "        vertical-align: middle;\n",
              "    }\n",
              "\n",
              "    .dataframe tbody tr th {\n",
              "        vertical-align: top;\n",
              "    }\n",
              "\n",
              "    .dataframe thead th {\n",
              "        text-align: right;\n",
              "    }\n",
              "</style>\n",
              "<table border=\"1\" class=\"dataframe\">\n",
              "  <thead>\n",
              "    <tr style=\"text-align: right;\">\n",
              "      <th></th>\n",
              "      <th>identity_attack</th>\n",
              "      <th>insult</th>\n",
              "      <th>obscene</th>\n",
              "      <th>severe_toxicity</th>\n",
              "      <th>sexual_explicit</th>\n",
              "      <th>text</th>\n",
              "      <th>threat</th>\n",
              "      <th>toxicity</th>\n",
              "    </tr>\n",
              "  </thead>\n",
              "  <tbody>\n",
              "    <tr>\n",
              "      <th>0</th>\n",
              "      <td>0.0</td>\n",
              "      <td>0.0</td>\n",
              "      <td>0.0</td>\n",
              "      <td>0.0</td>\n",
              "      <td>0.0</td>\n",
              "      <td>Oh there is an rural / urban divide about Gun ...</td>\n",
              "      <td>0.0</td>\n",
              "      <td>0.0</td>\n",
              "    </tr>\n",
              "    <tr>\n",
              "      <th>1</th>\n",
              "      <td>0.0</td>\n",
              "      <td>0.0</td>\n",
              "      <td>0.0</td>\n",
              "      <td>0.0</td>\n",
              "      <td>0.0</td>\n",
              "      <td>Harper paid down 30+ billion in debt during hi...</td>\n",
              "      <td>0.0</td>\n",
              "      <td>0.0</td>\n",
              "    </tr>\n",
              "    <tr>\n",
              "      <th>2</th>\n",
              "      <td>0.0</td>\n",
              "      <td>0.0</td>\n",
              "      <td>0.0</td>\n",
              "      <td>0.0</td>\n",
              "      <td>0.0</td>\n",
              "      <td>I have a sister who is going on 80 years old a...</td>\n",
              "      <td>0.0</td>\n",
              "      <td>0.0</td>\n",
              "    </tr>\n",
              "    <tr>\n",
              "      <th>3</th>\n",
              "      <td>0.0</td>\n",
              "      <td>0.0</td>\n",
              "      <td>0.0</td>\n",
              "      <td>0.0</td>\n",
              "      <td>0.0</td>\n",
              "      <td>What this editorial writer, and many others in...</td>\n",
              "      <td>0.0</td>\n",
              "      <td>0.0</td>\n",
              "    </tr>\n",
              "    <tr>\n",
              "      <th>4</th>\n",
              "      <td>0.0</td>\n",
              "      <td>0.0</td>\n",
              "      <td>0.0</td>\n",
              "      <td>0.0</td>\n",
              "      <td>0.0</td>\n",
              "      <td>I have Stage IVc throat cancer and have been f...</td>\n",
              "      <td>0.0</td>\n",
              "      <td>0.0</td>\n",
              "    </tr>\n",
              "    <tr>\n",
              "      <th>5</th>\n",
              "      <td>0.0</td>\n",
              "      <td>0.0</td>\n",
              "      <td>0.0</td>\n",
              "      <td>0.0</td>\n",
              "      <td>0.0</td>\n",
              "      <td>In the 1970s, UH Professor Ben Finney, told me...</td>\n",
              "      <td>0.0</td>\n",
              "      <td>0.0</td>\n",
              "    </tr>\n",
              "    <tr>\n",
              "      <th>6</th>\n",
              "      <td>0.0</td>\n",
              "      <td>0.0</td>\n",
              "      <td>0.0</td>\n",
              "      <td>0.0</td>\n",
              "      <td>0.0</td>\n",
              "      <td>delete your account</td>\n",
              "      <td>0.0</td>\n",
              "      <td>0.0</td>\n",
              "    </tr>\n",
              "    <tr>\n",
              "      <th>7</th>\n",
              "      <td>0.0</td>\n",
              "      <td>0.0</td>\n",
              "      <td>0.0</td>\n",
              "      <td>0.0</td>\n",
              "      <td>0.0</td>\n",
              "      <td>Did Justin have to ask Mr. Bronfman 18 times t...</td>\n",
              "      <td>0.0</td>\n",
              "      <td>0.0</td>\n",
              "    </tr>\n",
              "    <tr>\n",
              "      <th>8</th>\n",
              "      <td>0.0</td>\n",
              "      <td>0.0</td>\n",
              "      <td>0.0</td>\n",
              "      <td>0.0</td>\n",
              "      <td>0.0</td>\n",
              "      <td>Well I don't think governor walker will be mak...</td>\n",
              "      <td>0.0</td>\n",
              "      <td>0.0</td>\n",
              "    </tr>\n",
              "    <tr>\n",
              "      <th>9</th>\n",
              "      <td>0.0</td>\n",
              "      <td>0.0</td>\n",
              "      <td>0.0</td>\n",
              "      <td>0.0</td>\n",
              "      <td>0.0</td>\n",
              "      <td>Can someone explain what is going on at this I...</td>\n",
              "      <td>0.0</td>\n",
              "      <td>0.0</td>\n",
              "    </tr>\n",
              "  </tbody>\n",
              "</table>\n",
              "</div>\n",
              "      <button class=\"colab-df-convert\" onclick=\"convertToInteractive('df-98e6cac7-f7fd-415e-8782-b585709921b9')\"\n",
              "              title=\"Convert this dataframe to an interactive table.\"\n",
              "              style=\"display:none;\">\n",
              "        \n",
              "  <svg xmlns=\"http://www.w3.org/2000/svg\" height=\"24px\"viewBox=\"0 0 24 24\"\n",
              "       width=\"24px\">\n",
              "    <path d=\"M0 0h24v24H0V0z\" fill=\"none\"/>\n",
              "    <path d=\"M18.56 5.44l.94 2.06.94-2.06 2.06-.94-2.06-.94-.94-2.06-.94 2.06-2.06.94zm-11 1L8.5 8.5l.94-2.06 2.06-.94-2.06-.94L8.5 2.5l-.94 2.06-2.06.94zm10 10l.94 2.06.94-2.06 2.06-.94-2.06-.94-.94-2.06-.94 2.06-2.06.94z\"/><path d=\"M17.41 7.96l-1.37-1.37c-.4-.4-.92-.59-1.43-.59-.52 0-1.04.2-1.43.59L10.3 9.45l-7.72 7.72c-.78.78-.78 2.05 0 2.83L4 21.41c.39.39.9.59 1.41.59.51 0 1.02-.2 1.41-.59l7.78-7.78 2.81-2.81c.8-.78.8-2.07 0-2.86zM5.41 20L4 18.59l7.72-7.72 1.47 1.35L5.41 20z\"/>\n",
              "  </svg>\n",
              "      </button>\n",
              "      \n",
              "  <style>\n",
              "    .colab-df-container {\n",
              "      display:flex;\n",
              "      flex-wrap:wrap;\n",
              "      gap: 12px;\n",
              "    }\n",
              "\n",
              "    .colab-df-convert {\n",
              "      background-color: #E8F0FE;\n",
              "      border: none;\n",
              "      border-radius: 50%;\n",
              "      cursor: pointer;\n",
              "      display: none;\n",
              "      fill: #1967D2;\n",
              "      height: 32px;\n",
              "      padding: 0 0 0 0;\n",
              "      width: 32px;\n",
              "    }\n",
              "\n",
              "    .colab-df-convert:hover {\n",
              "      background-color: #E2EBFA;\n",
              "      box-shadow: 0px 1px 2px rgba(60, 64, 67, 0.3), 0px 1px 3px 1px rgba(60, 64, 67, 0.15);\n",
              "      fill: #174EA6;\n",
              "    }\n",
              "\n",
              "    [theme=dark] .colab-df-convert {\n",
              "      background-color: #3B4455;\n",
              "      fill: #D2E3FC;\n",
              "    }\n",
              "\n",
              "    [theme=dark] .colab-df-convert:hover {\n",
              "      background-color: #434B5C;\n",
              "      box-shadow: 0px 1px 3px 1px rgba(0, 0, 0, 0.15);\n",
              "      filter: drop-shadow(0px 1px 2px rgba(0, 0, 0, 0.3));\n",
              "      fill: #FFFFFF;\n",
              "    }\n",
              "  </style>\n",
              "\n",
              "      <script>\n",
              "        const buttonEl =\n",
              "          document.querySelector('#df-98e6cac7-f7fd-415e-8782-b585709921b9 button.colab-df-convert');\n",
              "        buttonEl.style.display =\n",
              "          google.colab.kernel.accessAllowed ? 'block' : 'none';\n",
              "\n",
              "        async function convertToInteractive(key) {\n",
              "          const element = document.querySelector('#df-98e6cac7-f7fd-415e-8782-b585709921b9');\n",
              "          const dataTable =\n",
              "            await google.colab.kernel.invokeFunction('convertToInteractive',\n",
              "                                                     [key], {});\n",
              "          if (!dataTable) return;\n",
              "\n",
              "          const docLinkHtml = 'Like what you see? Visit the ' +\n",
              "            '<a target=\"_blank\" href=https://colab.research.google.com/notebooks/data_table.ipynb>data table notebook</a>'\n",
              "            + ' to learn more about interactive tables.';\n",
              "          element.innerHTML = '';\n",
              "          dataTable['output_type'] = 'display_data';\n",
              "          await google.colab.output.renderOutput(dataTable, element);\n",
              "          const docLink = document.createElement('div');\n",
              "          docLink.innerHTML = docLinkHtml;\n",
              "          element.appendChild(docLink);\n",
              "        }\n",
              "      </script>\n",
              "    </div>\n",
              "  </div>\n",
              "  "
            ],
            "text/plain": [
              "   identity_attack  insult  ...  threat  toxicity\n",
              "0              0.0     0.0  ...     0.0       0.0\n",
              "1              0.0     0.0  ...     0.0       0.0\n",
              "2              0.0     0.0  ...     0.0       0.0\n",
              "3              0.0     0.0  ...     0.0       0.0\n",
              "4              0.0     0.0  ...     0.0       0.0\n",
              "5              0.0     0.0  ...     0.0       0.0\n",
              "6              0.0     0.0  ...     0.0       0.0\n",
              "7              0.0     0.0  ...     0.0       0.0\n",
              "8              0.0     0.0  ...     0.0       0.0\n",
              "9              0.0     0.0  ...     0.0       0.0\n",
              "\n",
              "[10 rows x 8 columns]"
            ]
          },
          "metadata": {},
          "execution_count": 8
        }
      ]
    },
    {
      "cell_type": "code",
      "source": [
        "df_train.isna().sum()"
      ],
      "metadata": {
        "colab": {
          "base_uri": "https://localhost:8080/"
        },
        "id": "7_2n34k2ajII",
        "outputId": "97102fc1-c400-4942-a789-6f4ffcd55940"
      },
      "execution_count": 9,
      "outputs": [
        {
          "output_type": "execute_result",
          "data": {
            "text/plain": [
              "identity_attack    0\n",
              "insult             0\n",
              "obscene            0\n",
              "severe_toxicity    0\n",
              "sexual_explicit    0\n",
              "text               0\n",
              "threat             0\n",
              "toxicity           0\n",
              "dtype: int64"
            ]
          },
          "metadata": {},
          "execution_count": 9
        }
      ]
    },
    {
      "cell_type": "code",
      "source": [
        "df_val.isna().sum()"
      ],
      "metadata": {
        "id": "zohFdkV3WNTI",
        "colab": {
          "base_uri": "https://localhost:8080/"
        },
        "outputId": "8739cc0c-17d4-474f-e804-a2f74d080df6"
      },
      "execution_count": 10,
      "outputs": [
        {
          "output_type": "execute_result",
          "data": {
            "text/plain": [
              "identity_attack    0\n",
              "insult             0\n",
              "obscene            0\n",
              "severe_toxicity    0\n",
              "sexual_explicit    0\n",
              "text               0\n",
              "threat             0\n",
              "toxicity           0\n",
              "dtype: int64"
            ]
          },
          "metadata": {},
          "execution_count": 10
        }
      ]
    },
    {
      "cell_type": "markdown",
      "source": [
        "## Visualizing random texts"
      ],
      "metadata": {
        "id": "IyH0uYurizFO"
      }
    },
    {
      "cell_type": "code",
      "source": [
        "df_test.isna().sum()"
      ],
      "metadata": {
        "colab": {
          "base_uri": "https://localhost:8080/"
        },
        "id": "6mOYezPzMAas",
        "outputId": "bf1b60d6-8322-4ab9-ca79-86f771d03cf5"
      },
      "execution_count": 11,
      "outputs": [
        {
          "output_type": "execute_result",
          "data": {
            "text/plain": [
              "identity_attack    0\n",
              "insult             0\n",
              "obscene            0\n",
              "severe_toxicity    0\n",
              "sexual_explicit    0\n",
              "text               0\n",
              "threat             0\n",
              "toxicity           0\n",
              "dtype: int64"
            ]
          },
          "metadata": {},
          "execution_count": 11
        }
      ]
    },
    {
      "cell_type": "code",
      "source": [
        "import random\n",
        "\n",
        "random_index = random.randint(0,len(df_train)-9)\n",
        "\n",
        "for row in df_train[random_index:random_index+9].itertuples():\n",
        "  _,attack,insult,obscene,severe_toxic,sexual,text,threat,toxic= row\n",
        "  print(f'text: {str(text)[:]}')\n",
        "  print(f'text: {len(str(text))}')\n",
        "  print(f'attack: {attack}, insults: {insult} obscene: {obscene} severe_toxcity : {severe_toxic}, sexual: {sexual} , threat: {threat}, toxic: {toxic}')\n",
        "  print('-----------------------------------------------------------------------------------------------------------------------------------------------------')"
      ],
      "metadata": {
        "id": "Mavx9-nijQF5",
        "colab": {
          "base_uri": "https://localhost:8080/"
        },
        "outputId": "260ce1f2-d1e0-4c79-c82a-90605673140c"
      },
      "execution_count": 12,
      "outputs": [
        {
          "output_type": "stream",
          "name": "stdout",
          "text": [
            "text: There is no way for an employer to not be involved in an employees health care choices if the employee uses his wages or employee benefits plans to acquire those health care services.  It started as the employer's money either way.  \\n\\nFailing to included such things as blood transfusions or transplants in a health insurance policy because of religious convictions is a refusal of the employer to give employees the ability to act on their own religious convictions.\\n\\nInclusion of blood transfusions or contraceptives in health insurance provides access to the health care risk pool which spreads the costs over all those who may need those services. This affects all aspects of access to care now, given the control the insurance market has over the health care market and negotiated prices with providers.  Exclude something and the employee faces much higher costs and in some cases a financial ruin if something like blood transfusions are needed.  Yes.  That is coercion.\n",
            "text: 981\n",
            "attack: 0.0, insults: 0.0 obscene: 0.0 severe_toxcity : 0.0, sexual: 0.0 , threat: 0.0, toxic: 0.0\n",
            "-----------------------------------------------------------------------------------------------------------------------------------------------------\n",
            "text: I have a copy of that book. \\nDo you mean Realms of Meaning?\n",
            "text: 60\n",
            "attack: 0.0, insults: 0.0 obscene: 0.0 severe_toxcity : 0.0, sexual: 0.0 , threat: 0.0, toxic: 0.0\n",
            "-----------------------------------------------------------------------------------------------------------------------------------------------------\n",
            "text: Wrong, Desert Storm 1991.\n",
            "text: 25\n",
            "attack: 0.0, insults: 0.0 obscene: 0.0 severe_toxcity : 0.0, sexual: 0.0 , threat: 0.0, toxic: 0.0\n",
            "-----------------------------------------------------------------------------------------------------------------------------------------------------\n",
            "text: https://www.theguardian.com/us-news/2017/feb/03/former-norway-pm-bondevik-held-washington-dulles-airport-2014-visit-iran\\n\\nYes, the USA is turning into EXACTLY what it seems to be turning into.\\n\\nGodwin\\'s Law is dead, killed by minority-elect \"President\" Trump & Co.\n",
            "text: 269\n",
            "attack: 0.0, insults: 0.20000000298023224 obscene: 0.0 severe_toxcity : 0.0, sexual: 0.0 , threat: 0.10000000149011612, toxic: 0.30000001192092896\n",
            "-----------------------------------------------------------------------------------------------------------------------------------------------------\n",
            "text: This is certainly a catch 22 that some may prefer not to address.\n",
            "text: 65\n",
            "attack: 0.0, insults: 0.0 obscene: 0.0 severe_toxcity : 0.0, sexual: 0.0 , threat: 0.0, toxic: 0.0\n",
            "-----------------------------------------------------------------------------------------------------------------------------------------------------\n",
            "text: \"I\\'ve always wanted to know what Trump was thinking by leading the \\'birther\\' charge for so many years?\"\\n\\nI\\'m not sure. Maybe the same thing Obama was thinking when commuted the life sentence of this guy? \\n\\nhttp://insider.foxnews.com/2017/02/07/ex-convict-commuted-barack-obama-back-jail-cocaine\\n\\nPerhaps one of these days you will realize there aren\\'t \"good guys\" and \"bad guys\" in U.S. politics. They\\'re ALL dysfunctional, as I\\'ve said many times.  The true fantasy is that you and other libs think otherwise.\n",
            "text: 523\n",
            "attack: 0.0, insults: 0.0 obscene: 0.0 severe_toxcity : 0.0, sexual: 0.0 , threat: 0.0, toxic: 0.1666666716337204\n",
            "-----------------------------------------------------------------------------------------------------------------------------------------------------\n",
            "text: It seems the report focuses on Xiao Jianhua, whereas the inclusion of Gui Minhai is specific to this article.\\n\\nAs the article says, indeed, it isn't clear what Mr Xiao is being held for; except having fallen foul of the Chinese Establishment, to which he previously belonged, and which would then have connived at any financial crimes he did commit. The fact that he colluded with its injustices does not mean he should be treated unjustly now; but I doubt his prosecutors will be too mentally constipated with Communist self-righteousness to be aware of such nicety.\\n\\nMr Gui, on the other hand, is that sort of person who has never really done anything wrong; but who has been clobbered by life's irony, on account of the choices he has made. His daughter, Angela Gui, leads a campaign for his release, that may be followed on twitter and facebook, either by his name or by hers. It is now almost two years since his abduction, so I will set out a few of his details in a second post.\n",
            "text: 989\n",
            "attack: 0.0, insults: 0.0 obscene: 0.0 severe_toxcity : 0.0, sexual: 0.0 , threat: 0.0, toxic: 0.0\n",
            "-----------------------------------------------------------------------------------------------------------------------------------------------------\n",
            "text: Er, yes, it's a hateful and racist position. Just to answer your question.\n",
            "text: 74\n",
            "attack: 0.20000000298023224, insults: 0.20000000298023224 obscene: 0.0 severe_toxcity : 0.20000000298023224, sexual: 0.0 , threat: 0.0, toxic: 0.20000000298023224\n",
            "-----------------------------------------------------------------------------------------------------------------------------------------------------\n",
            "text: No, I mean the real one in our GDP stats.  Not the conspiracy theory ones that you folks try to dream-up.\n",
            "text: 105\n",
            "attack: 0.0, insults: 0.0 obscene: 0.0 severe_toxcity : 0.0, sexual: 0.0 , threat: 0.0, toxic: 0.0\n",
            "-----------------------------------------------------------------------------------------------------------------------------------------------------\n"
          ]
        }
      ]
    },
    {
      "cell_type": "code",
      "source": [
        "pip install vaderSentiment"
      ],
      "metadata": {
        "id": "2_fbEOZqnzN0",
        "colab": {
          "base_uri": "https://localhost:8080/"
        },
        "outputId": "9bfe0429-03e5-4b72-8cc5-b738e8189cbf"
      },
      "execution_count": 13,
      "outputs": [
        {
          "output_type": "stream",
          "name": "stdout",
          "text": [
            "Requirement already satisfied: vaderSentiment in /usr/local/lib/python3.7/dist-packages (3.3.2)\n",
            "Requirement already satisfied: requests in /usr/local/lib/python3.7/dist-packages (from vaderSentiment) (2.23.0)\n",
            "Requirement already satisfied: certifi>=2017.4.17 in /usr/local/lib/python3.7/dist-packages (from requests->vaderSentiment) (2021.10.8)\n",
            "Requirement already satisfied: chardet<4,>=3.0.2 in /usr/local/lib/python3.7/dist-packages (from requests->vaderSentiment) (3.0.4)\n",
            "Requirement already satisfied: idna<3,>=2.5 in /usr/local/lib/python3.7/dist-packages (from requests->vaderSentiment) (2.10)\n",
            "Requirement already satisfied: urllib3!=1.25.0,!=1.25.1,<1.26,>=1.21.1 in /usr/local/lib/python3.7/dist-packages (from requests->vaderSentiment) (1.24.3)\n"
          ]
        }
      ]
    },
    {
      "cell_type": "code",
      "source": [
        "from vaderSentiment.vaderSentiment import SentimentIntensityAnalyzer"
      ],
      "metadata": {
        "id": "QOajqoYbjRPE"
      },
      "execution_count": 14,
      "outputs": []
    },
    {
      "cell_type": "code",
      "source": [
        "analyzer = SentimentIntensityAnalyzer()"
      ],
      "metadata": {
        "id": "NqiO6X9Now8v"
      },
      "execution_count": 15,
      "outputs": []
    },
    {
      "cell_type": "code",
      "source": [
        "import numpy as np\n",
        "vfunc = np.vectorize(analyzer.polarity_scores)"
      ],
      "metadata": {
        "id": "bqR9sSV-oMBD"
      },
      "execution_count": 16,
      "outputs": []
    },
    {
      "cell_type": "code",
      "source": [
        "df_train['text']"
      ],
      "metadata": {
        "colab": {
          "base_uri": "https://localhost:8080/"
        },
        "id": "0P4H4kbzQpye",
        "outputId": "51a77500-6f87-4fe6-ad87-13ad7bedbcdc"
      },
      "execution_count": 17,
      "outputs": [
        {
          "output_type": "execute_result",
          "data": {
            "text/plain": [
              "0         Oh there is an rural / urban divide about Gun ...\n",
              "1         Harper paid down 30+ billion in debt during hi...\n",
              "2         I have a sister who is going on 80 years old a...\n",
              "3         What this editorial writer, and many others in...\n",
              "4         I have Stage IVc throat cancer and have been f...\n",
              "                                ...                        \n",
              "499995    Google please. Or just stay in denial over wid...\n",
              "499996    That's gonna buy a lot of bratwurst! A few bow...\n",
              "499997                       Thank you... Precisely!\\n\\n/..\n",
              "499998    We need more people with his integrity everywh...\n",
              "499999    While we're rewriting Gomer & Carbon Barbie's ...\n",
              "Name: text, Length: 496975, dtype: object"
            ]
          },
          "metadata": {},
          "execution_count": 17
        }
      ]
    },
    {
      "cell_type": "code",
      "source": [
        "df_train['sentiment'] = vfunc(df_train['text'])\n",
        "df_val['sentiment'] = vfunc(df_val['text'])\n",
        "df_test['sentiment'] = vfunc(df_test['text'])"
      ],
      "metadata": {
        "id": "UUA1GDPhoWSt"
      },
      "execution_count": 18,
      "outputs": []
    },
    {
      "cell_type": "code",
      "source": [
        "df_train.reset_index(drop = True , inplace = True)\n",
        "df_val.reset_index(drop = True , inplace = True)\n",
        "df_test.reset_index(drop = True , inplace = True)"
      ],
      "metadata": {
        "id": "ir-vvDe6QQCK"
      },
      "execution_count": 19,
      "outputs": []
    },
    {
      "cell_type": "code",
      "source": [
        "df_train = pd.concat([df_train.drop(columns = ['sentiment'] , axis = 'columns') ,pd.json_normalize(df_train['sentiment'])],axis =1 )\n",
        "df_val = pd.concat([df_val.drop(columns = ['sentiment'] , axis = 'columns') ,pd.json_normalize(df_val['sentiment'])],axis =1 )\n",
        "df_test = pd.concat([df_test.drop(columns = ['sentiment'] , axis = 'columns') ,pd.json_normalize(df_test['sentiment'])],axis =1 )"
      ],
      "metadata": {
        "id": "dKDyeypLp5um"
      },
      "execution_count": 20,
      "outputs": []
    },
    {
      "cell_type": "code",
      "source": [
        "df_train[df_train.isnull().any(axis=1)]"
      ],
      "metadata": {
        "colab": {
          "base_uri": "https://localhost:8080/",
          "height": 49
        },
        "id": "dDgGKxbkZNBS",
        "outputId": "089fe123-7523-41e3-94a8-8ffc6560d004"
      },
      "execution_count": 21,
      "outputs": [
        {
          "output_type": "execute_result",
          "data": {
            "text/html": [
              "\n",
              "  <div id=\"df-834ae1a7-a519-48e5-9c2f-7092a8949471\">\n",
              "    <div class=\"colab-df-container\">\n",
              "      <div>\n",
              "<style scoped>\n",
              "    .dataframe tbody tr th:only-of-type {\n",
              "        vertical-align: middle;\n",
              "    }\n",
              "\n",
              "    .dataframe tbody tr th {\n",
              "        vertical-align: top;\n",
              "    }\n",
              "\n",
              "    .dataframe thead th {\n",
              "        text-align: right;\n",
              "    }\n",
              "</style>\n",
              "<table border=\"1\" class=\"dataframe\">\n",
              "  <thead>\n",
              "    <tr style=\"text-align: right;\">\n",
              "      <th></th>\n",
              "      <th>identity_attack</th>\n",
              "      <th>insult</th>\n",
              "      <th>obscene</th>\n",
              "      <th>severe_toxicity</th>\n",
              "      <th>sexual_explicit</th>\n",
              "      <th>text</th>\n",
              "      <th>threat</th>\n",
              "      <th>toxicity</th>\n",
              "      <th>neg</th>\n",
              "      <th>neu</th>\n",
              "      <th>pos</th>\n",
              "      <th>compound</th>\n",
              "    </tr>\n",
              "  </thead>\n",
              "  <tbody>\n",
              "  </tbody>\n",
              "</table>\n",
              "</div>\n",
              "      <button class=\"colab-df-convert\" onclick=\"convertToInteractive('df-834ae1a7-a519-48e5-9c2f-7092a8949471')\"\n",
              "              title=\"Convert this dataframe to an interactive table.\"\n",
              "              style=\"display:none;\">\n",
              "        \n",
              "  <svg xmlns=\"http://www.w3.org/2000/svg\" height=\"24px\"viewBox=\"0 0 24 24\"\n",
              "       width=\"24px\">\n",
              "    <path d=\"M0 0h24v24H0V0z\" fill=\"none\"/>\n",
              "    <path d=\"M18.56 5.44l.94 2.06.94-2.06 2.06-.94-2.06-.94-.94-2.06-.94 2.06-2.06.94zm-11 1L8.5 8.5l.94-2.06 2.06-.94-2.06-.94L8.5 2.5l-.94 2.06-2.06.94zm10 10l.94 2.06.94-2.06 2.06-.94-2.06-.94-.94-2.06-.94 2.06-2.06.94z\"/><path d=\"M17.41 7.96l-1.37-1.37c-.4-.4-.92-.59-1.43-.59-.52 0-1.04.2-1.43.59L10.3 9.45l-7.72 7.72c-.78.78-.78 2.05 0 2.83L4 21.41c.39.39.9.59 1.41.59.51 0 1.02-.2 1.41-.59l7.78-7.78 2.81-2.81c.8-.78.8-2.07 0-2.86zM5.41 20L4 18.59l7.72-7.72 1.47 1.35L5.41 20z\"/>\n",
              "  </svg>\n",
              "      </button>\n",
              "      \n",
              "  <style>\n",
              "    .colab-df-container {\n",
              "      display:flex;\n",
              "      flex-wrap:wrap;\n",
              "      gap: 12px;\n",
              "    }\n",
              "\n",
              "    .colab-df-convert {\n",
              "      background-color: #E8F0FE;\n",
              "      border: none;\n",
              "      border-radius: 50%;\n",
              "      cursor: pointer;\n",
              "      display: none;\n",
              "      fill: #1967D2;\n",
              "      height: 32px;\n",
              "      padding: 0 0 0 0;\n",
              "      width: 32px;\n",
              "    }\n",
              "\n",
              "    .colab-df-convert:hover {\n",
              "      background-color: #E2EBFA;\n",
              "      box-shadow: 0px 1px 2px rgba(60, 64, 67, 0.3), 0px 1px 3px 1px rgba(60, 64, 67, 0.15);\n",
              "      fill: #174EA6;\n",
              "    }\n",
              "\n",
              "    [theme=dark] .colab-df-convert {\n",
              "      background-color: #3B4455;\n",
              "      fill: #D2E3FC;\n",
              "    }\n",
              "\n",
              "    [theme=dark] .colab-df-convert:hover {\n",
              "      background-color: #434B5C;\n",
              "      box-shadow: 0px 1px 3px 1px rgba(0, 0, 0, 0.15);\n",
              "      filter: drop-shadow(0px 1px 2px rgba(0, 0, 0, 0.3));\n",
              "      fill: #FFFFFF;\n",
              "    }\n",
              "  </style>\n",
              "\n",
              "      <script>\n",
              "        const buttonEl =\n",
              "          document.querySelector('#df-834ae1a7-a519-48e5-9c2f-7092a8949471 button.colab-df-convert');\n",
              "        buttonEl.style.display =\n",
              "          google.colab.kernel.accessAllowed ? 'block' : 'none';\n",
              "\n",
              "        async function convertToInteractive(key) {\n",
              "          const element = document.querySelector('#df-834ae1a7-a519-48e5-9c2f-7092a8949471');\n",
              "          const dataTable =\n",
              "            await google.colab.kernel.invokeFunction('convertToInteractive',\n",
              "                                                     [key], {});\n",
              "          if (!dataTable) return;\n",
              "\n",
              "          const docLinkHtml = 'Like what you see? Visit the ' +\n",
              "            '<a target=\"_blank\" href=https://colab.research.google.com/notebooks/data_table.ipynb>data table notebook</a>'\n",
              "            + ' to learn more about interactive tables.';\n",
              "          element.innerHTML = '';\n",
              "          dataTable['output_type'] = 'display_data';\n",
              "          await google.colab.output.renderOutput(dataTable, element);\n",
              "          const docLink = document.createElement('div');\n",
              "          docLink.innerHTML = docLinkHtml;\n",
              "          element.appendChild(docLink);\n",
              "        }\n",
              "      </script>\n",
              "    </div>\n",
              "  </div>\n",
              "  "
            ],
            "text/plain": [
              "Empty DataFrame\n",
              "Columns: [identity_attack, insult, obscene, severe_toxicity, sexual_explicit, text, threat, toxicity, neg, neu, pos, compound]\n",
              "Index: []"
            ]
          },
          "metadata": {},
          "execution_count": 21
        }
      ]
    },
    {
      "cell_type": "code",
      "source": [
        "import matplotlib.pyplot as plt\n",
        "fig, ax = plt.subplots(2, 3, sharex='col', sharey='row', figsize=(12,7))\n",
        "ax = ax.ravel() \n",
        "\n",
        "for idx,columns in enumerate(['identity_attack','insult','obscene','severe_toxicity','sexual_explicit','threat']):\n",
        "  ax[idx].hist(df_train.loc[:,columns], bins=12, alpha=0.5)\n",
        "  ax[idx].set_title(f'histogram of {columns} label')"
      ],
      "metadata": {
        "colab": {
          "base_uri": "https://localhost:8080/",
          "height": 444
        },
        "id": "d27lL0uuca9p",
        "outputId": "959d23f3-c2e3-4030-af95-690e87e96a9f"
      },
      "execution_count": 22,
      "outputs": [
        {
          "output_type": "display_data",
          "data": {
            "image/png": "[encoded data removed]",
            "text/plain": [
              "<Figure size 864x504 with 6 Axes>"
            ]
          },
          "metadata": {
            "needs_background": "light"
          }
        }
      ]
    },
    {
      "cell_type": "code",
      "source": [
        "fig,ax = plt.subplots(1,1,figsize = (7,7))\n",
        "ax = df_train['toxicity'].hist()\n",
        "ax.set_title(f'target label historgram: toxicity')"
      ],
      "metadata": {
        "colab": {
          "base_uri": "https://localhost:8080/",
          "height": 463
        },
        "id": "7_AITGr3spT7",
        "outputId": "1ebf68b8-c6f4-4a65-fbdd-cf383d5bb427"
      },
      "execution_count": 23,
      "outputs": [
        {
          "output_type": "execute_result",
          "data": {
            "text/plain": [
              "Text(0.5, 1.0, 'target label historgram: toxicity')"
            ]
          },
          "metadata": {},
          "execution_count": 23
        },
        {
          "output_type": "display_data",
          "data": {
            "image/png": "[encoded data removed]",
            "text/plain": [
              "<Figure size 504x504 with 1 Axes>"
            ]
          },
          "metadata": {
            "needs_background": "light"
          }
        }
      ]
    },
    {
      "cell_type": "code",
      "source": [
        "def convert_target_class(df,label,threshold):\n",
        "  '''\n",
        "  Function to convert target class labels to binary, where positive classes will be where target >= threshold\n",
        "\n",
        "  df : dataframe\n",
        "  label : name of the target column, input has to be a string\n",
        "  threshold : a floating number between 0 and 1\n",
        "  '''\n",
        "  temp_df = df.copy()\n",
        "  temp_df[label] = temp_df[label].map(lambda x : 1 if x >= threshold else 0)\n",
        "\n",
        "  return temp_df"
      ],
      "metadata": {
        "id": "Q9K30oiNtExV"
      },
      "execution_count": 24,
      "outputs": []
    },
    {
      "cell_type": "code",
      "source": [
        "df_train = convert_target_class(df_train , 'toxicity' , 0.5)\n",
        "df_val = convert_target_class(df_val , 'toxicity' , 0.5)\n",
        "df_val = convert_target_class(df_val , 'toxicity' , 0.5)"
      ],
      "metadata": {
        "id": "w2RXc1fGuHGb"
      },
      "execution_count": 25,
      "outputs": []
    },
    {
      "cell_type": "code",
      "source": [
        "df_train.toxicity.mean() , df_val.toxicity.mean() , df_test.toxicity.mean()"
      ],
      "metadata": {
        "colab": {
          "base_uri": "https://localhost:8080/"
        },
        "id": "NTQMRVGCXFtk",
        "outputId": "19afe4d1-3642-47c4-ad30-03abcda2b909"
      },
      "execution_count": 26,
      "outputs": [
        {
          "output_type": "execute_result",
          "data": {
            "text/plain": [
              "(0.08034408169425021, 0.07910123018860142, 0.10316588340479929)"
            ]
          },
          "metadata": {},
          "execution_count": 26
        }
      ]
    },
    {
      "cell_type": "code",
      "source": [
        "X_train = df_train['text']\n",
        "X_train_indicators = df_train[['identity_attack','insult','obscene','severe_toxicity','sexual_explicit','threat']]\n",
        "y_train = df_train['toxicity']\n",
        "\n",
        "X_val = df_val['text']\n",
        "X_val_indicators = df_val[['identity_attack','insult','obscene','severe_toxicity','sexual_explicit','threat']]\n",
        "y_val = df_val['toxicity']\n",
        "\n",
        "X_test = df_test['text']\n",
        "X_val_indicators = df_val[['identity_attack','insult','obscene','severe_toxicity','sexual_explicit','threat']]\n",
        "y_test = df_test['toxicity']"
      ],
      "metadata": {
        "id": "SAXUpesvXzs1"
      },
      "execution_count": 64,
      "outputs": []
    },
    {
      "cell_type": "code",
      "source": [
        "len(X_train),len(y_train), len(X_val), len(y_val), len(X_test), len(y_test)"
      ],
      "metadata": {
        "colab": {
          "base_uri": "https://localhost:8080/"
        },
        "id": "sAwMVa5IX0bh",
        "outputId": "490031cc-4c02-4c40-af5f-c4d083ec8df1"
      },
      "execution_count": 28,
      "outputs": [
        {
          "output_type": "execute_result",
          "data": {
            "text/plain": [
              "(496975, 496975, 96977, 96977, 96972, 96972)"
            ]
          },
          "metadata": {},
          "execution_count": 28
        }
      ]
    },
    {
      "cell_type": "code",
      "source": [
        "import itertools\n",
        "import matplotlib.pyplot as plt\n",
        "import numpy as np\n",
        "from sklearn.metrics import confusion_matrix\n",
        "\n",
        "# Our function needs a different name to sklearn's plot_confusion_matrix\n",
        "def make_confusion_matrix(y_true, y_pred, classes=None, figsize=(10, 10), text_size=15, norm=False, savefig=False): \n",
        "  \"\"\"Makes a labelled confusion matrix comparing predictions and ground truth labels.\n",
        "  If classes is passed, confusion matrix will be labelled, if not, integer class values\n",
        "  will be used.\n",
        "  Args:\n",
        "    y_true: Array of truth labels (must be same shape as y_pred).\n",
        "    y_pred: Array of predicted labels (must be same shape as y_true).\n",
        "    classes: Array of class labels (e.g. string form). If `None`, integer labels are used.\n",
        "    figsize: Size of output figure (default=(10, 10)).\n",
        "    text_size: Size of output figure text (default=15).\n",
        "    norm: normalize values or not (default=False).\n",
        "    savefig: save confusion matrix to file (default=False).\n",
        "  \n",
        "  Returns:\n",
        "    A labelled confusion matrix plot comparing y_true and y_pred.\n",
        "  Example usage:\n",
        "    make_confusion_matrix(y_true=test_labels, # ground truth test labels\n",
        "                          y_pred=y_preds, # predicted labels\n",
        "                          classes=class_names, # array of class label names\n",
        "                          figsize=(15, 15),\n",
        "                          text_size=10)\n",
        "  \"\"\"  \n",
        "  # Create the confustion matrix\n",
        "  cm = confusion_matrix(y_true, y_pred)\n",
        "  cm_norm = cm.astype(\"float\") / cm.sum(axis=1)[:, np.newaxis] # normalize it\n",
        "  n_classes = cm.shape[0] # find the number of classes we're dealing with\n",
        "\n",
        "  # Plot the figure and make it pretty\n",
        "  fig, ax = plt.subplots(figsize=figsize)\n",
        "  cax = ax.matshow(cm, cmap=plt.cm.Blues) # colors will represent how 'correct' a class is, darker == better\n",
        "  fig.colorbar(cax)\n",
        "\n",
        "  # Are there a list of classes?\n",
        "  if classes:\n",
        "    labels = classes\n",
        "  else:\n",
        "    labels = np.arange(cm.shape[0])\n",
        "  \n",
        "  # Label the axes\n",
        "  ax.set(title=\"Confusion Matrix\",\n",
        "         xlabel=\"Predicted label\",\n",
        "         ylabel=\"True label\",\n",
        "         xticks=np.arange(n_classes), # create enough axis slots for each class\n",
        "         yticks=np.arange(n_classes), \n",
        "         xticklabels=labels, # axes will labeled with class names (if they exist) or ints\n",
        "         yticklabels=labels)\n",
        "  \n",
        "  # Make x-axis labels appear on bottom\n",
        "  ax.xaxis.set_label_position(\"bottom\")\n",
        "  ax.xaxis.tick_bottom()\n",
        "\n",
        "  # Set the threshold for different colors\n",
        "  threshold = (cm.max() + cm.min()) / 2.\n",
        "\n",
        "  # Plot the text on each cell\n",
        "  for i, j in itertools.product(range(cm.shape[0]), range(cm.shape[1])):\n",
        "    if norm:\n",
        "      plt.text(j, i, f\"{cm[i, j]} ({cm_norm[i, j]*100:.1f}%)\",\n",
        "              horizontalalignment=\"center\",\n",
        "              color=\"white\" if cm[i, j] > threshold else \"black\",\n",
        "              size=text_size)\n",
        "    else:\n",
        "      plt.text(j, i, f\"{cm[i, j]}\",\n",
        "              horizontalalignment=\"center\",\n",
        "              color=\"white\" if cm[i, j] > threshold else \"black\",\n",
        "              size=text_size)\n",
        "\n",
        "  # Save the figure to the current working directory\n",
        "  if savefig:\n",
        "    fig.savefig(\"confusion_matrix.png\")"
      ],
      "metadata": {
        "id": "6QEruRVRxc7T"
      },
      "execution_count": 29,
      "outputs": []
    },
    {
      "cell_type": "code",
      "source": [
        "import tensorflow as tf\n",
        "from tensorflow.keras.layers import TextVectorization"
      ],
      "metadata": {
        "id": "4WrzOlK1uY7Z"
      },
      "execution_count": 30,
      "outputs": []
    },
    {
      "cell_type": "code",
      "source": [
        "text_vec = TextVectorization(max_tokens= 10000,\n",
        "                             standardize = 'lower_and_strip_punctuation',\n",
        "                             split = 'whitespace',\n",
        "                             ngrams = None,\n",
        "                             output_mode = 'int',\n",
        "                             output_sequence_length = None, #pad text to have the same length as the longest text,\n",
        "                             pad_to_max_tokens = True)"
      ],
      "metadata": {
        "id": "ToqJyOGCvbUM"
      },
      "execution_count": 31,
      "outputs": []
    },
    {
      "cell_type": "code",
      "source": [
        "#Average number of tokens in the training tweets\n",
        "round(sum([len(i.split()) for i in X_train])/len(X_train))"
      ],
      "metadata": {
        "colab": {
          "base_uri": "https://localhost:8080/"
        },
        "id": "SQjX0MrNvfAg",
        "outputId": "de7fddf7-44db-4e58-b726-2b50b5ab8095"
      },
      "execution_count": 32,
      "outputs": [
        {
          "output_type": "execute_result",
          "data": {
            "text/plain": [
              "51"
            ]
          },
          "metadata": {},
          "execution_count": 32
        }
      ]
    },
    {
      "cell_type": "code",
      "source": [
        "#setup text vectorization variables\n",
        "max_vocab_length = 10000 # max num of words to have in our vocab\n",
        "max_length = 51 # max length of our sequence\n",
        "\n",
        "text_vectorizer = TextVectorization(max_tokens = max_vocab_length,\n",
        "                                    output_sequence_length = max_length)"
      ],
      "metadata": {
        "id": "bMqOAGsHvk5h"
      },
      "execution_count": 33,
      "outputs": []
    },
    {
      "cell_type": "code",
      "source": [
        "#Fit the text vectorizer to the training text\n",
        "text_vectorizer.adapt(X_train)"
      ],
      "metadata": {
        "id": "ngPmtTmsvuh8"
      },
      "execution_count": 34,
      "outputs": []
    },
    {
      "cell_type": "code",
      "source": [
        "sample_sentence = \"Trump is awesome!\"\n",
        "text_vectorizer([sample_sentence])"
      ],
      "metadata": {
        "colab": {
          "base_uri": "https://localhost:8080/"
        },
        "id": "iu8SqG-2vyFe",
        "outputId": "017917e4-fff3-4988-a39c-8881c5cab645"
      },
      "execution_count": 35,
      "outputs": [
        {
          "output_type": "execute_result",
          "data": {
            "text/plain": [
              "<tf.Tensor: shape=(1, 51), dtype=int64, numpy=\n",
              "array([[  59,    7, 3070,    0,    0,    0,    0,    0,    0,    0,    0,\n",
              "           0,    0,    0,    0,    0,    0,    0,    0,    0,    0,    0,\n",
              "           0,    0,    0,    0,    0,    0,    0,    0,    0,    0,    0,\n",
              "           0,    0,    0,    0,    0,    0,    0,    0,    0,    0,    0,\n",
              "           0,    0,    0,    0,    0,    0,    0]])>"
            ]
          },
          "metadata": {},
          "execution_count": 35
        }
      ]
    },
    {
      "cell_type": "code",
      "source": [
        "# get the unique words in the vocabulary\n",
        "words_in_vocab = text_vectorizer.get_vocabulary()\n",
        "top_5_words = words_in_vocab[:5]\n",
        "bottom_5_words = words_in_vocab[-5:]"
      ],
      "metadata": {
        "id": "zikoWMmWv9-3"
      },
      "execution_count": 36,
      "outputs": []
    },
    {
      "cell_type": "code",
      "source": [
        "print(top_5_words)\n",
        "print(bottom_5_words)"
      ],
      "metadata": {
        "colab": {
          "base_uri": "https://localhost:8080/"
        },
        "id": "j6MBIasKjOLm",
        "outputId": "93f0d839-1d86-44be-d462-ca4ecdc46684"
      },
      "execution_count": 37,
      "outputs": [
        {
          "output_type": "stream",
          "name": "stdout",
          "text": [
            "['', '[UNK]', 'the', 'to', 'and']\n",
            "['assemble', 'ar', 'advancing', 'adopting', 'absorbed']\n"
          ]
        }
      ]
    },
    {
      "cell_type": "code",
      "source": [
        "from tensorflow.keras import layers\n",
        "\n",
        "embedding = layers.Embedding(input_dim = max_vocab_length,\n",
        "                             output_dim = 128,\n",
        "                             input_length = max_length)\n",
        "embedding"
      ],
      "metadata": {
        "colab": {
          "base_uri": "https://localhost:8080/"
        },
        "id": "7QkATteywIlB",
        "outputId": "be2f71f8-6816-4d5d-9f9a-eb5d7438d219"
      },
      "execution_count": 38,
      "outputs": [
        {
          "output_type": "execute_result",
          "data": {
            "text/plain": [
              "<keras.layers.embeddings.Embedding at 0x7f4b9fdae8d0>"
            ]
          },
          "metadata": {},
          "execution_count": 38
        }
      ]
    },
    {
      "cell_type": "markdown",
      "source": [
        "## Baseline model"
      ],
      "metadata": {
        "id": "eYiGJg4wwVT5"
      }
    },
    {
      "cell_type": "code",
      "source": [
        "from sklearn.feature_extraction.text import TfidfVectorizer\n",
        "from sklearn.naive_bayes import MultinomialNB\n",
        "from sklearn.pipeline import Pipeline"
      ],
      "metadata": {
        "id": "Z64MFA3Wwc8e"
      },
      "execution_count": 39,
      "outputs": []
    },
    {
      "cell_type": "code",
      "source": [
        "model_0 = Pipeline([('tfidf',TfidfVectorizer()),\n",
        "                     ('clf',MultinomialNB())])"
      ],
      "metadata": {
        "id": "kq_aTI-bwfK0"
      },
      "execution_count": 40,
      "outputs": []
    },
    {
      "cell_type": "code",
      "source": [
        "model_0.fit(X_train,y_train)"
      ],
      "metadata": {
        "colab": {
          "base_uri": "https://localhost:8080/"
        },
        "id": "bfs7iCvLwgvx",
        "outputId": "f6140c83-5760-499c-d22f-acf167b0dd1b"
      },
      "execution_count": 41,
      "outputs": [
        {
          "output_type": "execute_result",
          "data": {
            "text/plain": [
              "Pipeline(steps=[('tfidf', TfidfVectorizer()), ('clf', MultinomialNB())])"
            ]
          },
          "metadata": {},
          "execution_count": 41
        }
      ]
    },
    {
      "cell_type": "code",
      "source": [
        "from sklearn.metrics import accuracy_score , f1_score"
      ],
      "metadata": {
        "id": "jG3_tI0rwitH"
      },
      "execution_count": 42,
      "outputs": []
    },
    {
      "cell_type": "code",
      "source": [
        "model_0.score(X_val , y_val)"
      ],
      "metadata": {
        "colab": {
          "base_uri": "https://localhost:8080/"
        },
        "id": "5Wio3nKLwnVi",
        "outputId": "b5edaec4-2a18-43ca-ab8e-4c6473beddce"
      },
      "execution_count": 43,
      "outputs": [
        {
          "output_type": "execute_result",
          "data": {
            "text/plain": [
              "0.9217649545768585"
            ]
          },
          "metadata": {},
          "execution_count": 43
        }
      ]
    },
    {
      "cell_type": "code",
      "source": [
        "base_preds = model_0.predict(X_val)"
      ],
      "metadata": {
        "id": "AlVlwX26wsNj"
      },
      "execution_count": 44,
      "outputs": []
    },
    {
      "cell_type": "code",
      "source": [
        "f1_score(y_val , base_preds ,average = 'weighted')"
      ],
      "metadata": {
        "colab": {
          "base_uri": "https://localhost:8080/"
        },
        "id": "vr0703exwzbw",
        "outputId": "747d349a-d77f-4950-aae5-a047a096df85"
      },
      "execution_count": 45,
      "outputs": [
        {
          "output_type": "execute_result",
          "data": {
            "text/plain": [
              "0.8853032474032854"
            ]
          },
          "metadata": {},
          "execution_count": 45
        }
      ]
    },
    {
      "cell_type": "code",
      "source": [
        "make_confusion_matrix(y_val,base_preds, classes=None, figsize=(10, 10), text_size=15, norm=False, savefig=False)"
      ],
      "metadata": {
        "id": "Zch45Khaw2Gi",
        "colab": {
          "base_uri": "https://localhost:8080/",
          "height": 574
        },
        "outputId": "7ae9c39b-c2e2-4a4c-aede-2d6bb0fdb74d"
      },
      "execution_count": 46,
      "outputs": [
        {
          "output_type": "display_data",
          "data": {
            "image/png": "[encoded data removed]",
            "text/plain": [
              "<Figure size 720x720 with 2 Axes>"
            ]
          },
          "metadata": {
            "needs_background": "light"
          }
        }
      ]
    },
    {
      "cell_type": "markdown",
      "source": [
        "## Model 2 - Logistic Regression"
      ],
      "metadata": {
        "id": "yfVEI9bA0r66"
      }
    },
    {
      "cell_type": "code",
      "source": [
        "from sklearn.linear_model import LogisticRegression"
      ],
      "metadata": {
        "id": "y73vdSXC0uB6"
      },
      "execution_count": 47,
      "outputs": []
    },
    {
      "cell_type": "code",
      "source": [
        "model_1 = LogisticRegression(class_weight = 'balance')"
      ],
      "metadata": {
        "id": "YGGYcVm-0uB-"
      },
      "execution_count": 48,
      "outputs": []
    },
    {
      "cell_type": "code",
      "source": [
        "model_1.fit(X_train_indicators,y_train)"
      ],
      "metadata": {
        "colab": {
          "base_uri": "https://localhost:8080/"
        },
        "outputId": "122ca48e-4766-45cd-e8e8-c7c6bdf6f868",
        "id": "f9mwZ7G40uCA"
      },
      "execution_count": 49,
      "outputs": [
        {
          "output_type": "execute_result",
          "data": {
            "text/plain": [
              "LogisticRegression(class_weight='balance')"
            ]
          },
          "metadata": {},
          "execution_count": 49
        }
      ]
    },
    {
      "cell_type": "code",
      "source": [
        "model_1.score(X_val_indicators , y_val)"
      ],
      "metadata": {
        "colab": {
          "base_uri": "https://localhost:8080/"
        },
        "outputId": "1b0df64f-d712-482a-b0e0-67bdd5819011",
        "id": "RRqo-OLL0uCF"
      },
      "execution_count": 50,
      "outputs": [
        {
          "output_type": "execute_result",
          "data": {
            "text/plain": [
              "0.9845633500726977"
            ]
          },
          "metadata": {},
          "execution_count": 50
        }
      ]
    },
    {
      "cell_type": "code",
      "source": [
        "base_preds = model_1.predict(X_val_indicators)"
      ],
      "metadata": {
        "id": "M9JMeXXQ0uCG"
      },
      "execution_count": 51,
      "outputs": []
    },
    {
      "cell_type": "code",
      "source": [
        "f1_score(y_val , base_preds ,average = 'weighted')"
      ],
      "metadata": {
        "colab": {
          "base_uri": "https://localhost:8080/"
        },
        "outputId": "2c09b4d9-09dd-4558-fff9-afb6dc8c2ce4",
        "id": "KL2j1KR80uCI"
      },
      "execution_count": 52,
      "outputs": [
        {
          "output_type": "execute_result",
          "data": {
            "text/plain": [
              "0.9845518325968401"
            ]
          },
          "metadata": {},
          "execution_count": 52
        }
      ]
    },
    {
      "cell_type": "code",
      "source": [
        "make_confusion_matrix(y_val,base_preds, classes=None, figsize=(10, 10), text_size=15, norm=False, savefig=False)"
      ],
      "metadata": {
        "colab": {
          "base_uri": "https://localhost:8080/",
          "height": 574
        },
        "outputId": "3d00b70d-68f5-4a4e-c76d-40a81d1b11d9",
        "id": "ez5tIYVs0uCI"
      },
      "execution_count": 53,
      "outputs": [
        {
          "output_type": "display_data",
          "data": {
            "image/png": "[encoded data removed]",
            "text/plain": [
              "<Figure size 720x720 with 2 Axes>"
            ]
          },
          "metadata": {
            "needs_background": "light"
          }
        }
      ]
    },
    {
      "cell_type": "markdown",
      "source": [
        "1. The model was unable to differentiate  between classes due to the data imbalance"
      ],
      "metadata": {
        "id": "lRpKA7kdx6Qu"
      }
    },
    {
      "cell_type": "markdown",
      "source": [
        "## Model 2 : Ensemble logistic regression + naive bayes"
      ],
      "metadata": {
        "id": "_YnXDIRWveea"
      }
    },
    {
      "cell_type": "code",
      "source": [
        "from sklearn.ensemble import VotingClassifier\n",
        "from sklearn.base import TransformerMixin, BaseEstimator\n",
        "import numpy as np\n",
        "from sklearn.ensemble import VotingClassifier\n",
        "\n",
        "######################\n",
        "# custom transformer for sklearn pipeline\n",
        "class ColumnExtractor(TransformerMixin, BaseEstimator):\n",
        "    def __init__(self, cols):\n",
        "        self.cols = cols\n",
        "\n",
        "    def transform(self, X):\n",
        "      if len(self.cols) == 1:\n",
        "        return X[self.cols[0]]\n",
        "      else:\n",
        "        return X[self.cols]\n",
        "\n",
        "    def fit(self, X, y=None):\n",
        "        return self\n",
        "\n",
        "# fit clf1 with df1\n",
        "pipe1 = Pipeline([\n",
        "    ('col_extract', ColumnExtractor( cols= ['identity_attack','insult','obscene','severe_toxicity','sexual_explicit','threat'] )), # selecting features 0 and 1 (df1) to be used with LR (clf1)\n",
        "    ('clf', LogisticRegression(class_weight = 'balance'))\n",
        "    ])\n",
        "\n",
        "pipe1.fit(df_train, y_train) # sanity check\n",
        "print(f'accuracy - pipe1, logistic regression :{pipe1.score(df_val,y_val)}') # sanity check\n",
        "\n",
        "# fit clf2 with df2\n",
        "pipe2 = Pipeline([\n",
        "    ('col_extract', ColumnExtractor( cols=['text'])), # selecting features 2 and 3 (df2) to be used with SVC (clf2)\n",
        "    ('tfidf',TfidfVectorizer()),\n",
        "    ('clf', MultinomialNB())\n",
        "    ])\n",
        "\n",
        "pipe2.fit(df_train, y_train) # sanity check\n",
        "print(f'accuracy - pipe2, MultinomialNB , with TFidfVectorizer:{pipe2.score(df_val,y_val)}') # sanity check\n",
        "\n",
        "######################\n",
        "# ensemble/voting classifier where clf1 fitted with df1 and clf2 fitted with df2\n",
        "eclf = VotingClassifier(estimators=[('df1-clf1', pipe1), ('df2-clf2', pipe2)], voting='soft', weights= [1.5, 0.5])\n",
        "eclf.fit(df_train, y_train)\n",
        "print(f'accuracy - voting classifier with pipe1 and pipe 2 :{eclf.score(df_val,y_val)}')\n"
      ],
      "metadata": {
        "id": "l8vaflmIvqX6",
        "colab": {
          "base_uri": "https://localhost:8080/"
        },
        "outputId": "383a4113-6235-45f9-bb34-0d2ed35d8cff"
      },
      "execution_count": 54,
      "outputs": [
        {
          "output_type": "stream",
          "name": "stdout",
          "text": [
            "accuracy - pipe1, logistic regression :0.9845633500726977\n",
            "accuracy - pipe2, MultinomialNB , with TFidfVectorizer:0.9217649545768585\n",
            "accuracy - voting classifier with pipe1 and pipe 2 :0.9812120399682399\n"
          ]
        }
      ]
    },
    {
      "cell_type": "code",
      "source": [
        "model_2_predictions = eclf.predict(df_val)"
      ],
      "metadata": {
        "id": "YLq0-JW_t_5a"
      },
      "execution_count": 55,
      "outputs": []
    },
    {
      "cell_type": "code",
      "source": [
        "make_confusion_matrix(y_val,model_2_predictions, classes=None, figsize=(10, 10), text_size=15, norm=False, savefig=False)"
      ],
      "metadata": {
        "colab": {
          "base_uri": "https://localhost:8080/",
          "height": 574
        },
        "id": "Jjlcy0FMyEJB",
        "outputId": "dabf0ff8-a543-4f5e-d898-f7464f70c471"
      },
      "execution_count": 56,
      "outputs": [
        {
          "output_type": "display_data",
          "data": {
            "image/png": "[encoded data removed]",
            "text/plain": [
              "<Figure size 720x720 with 2 Axes>"
            ]
          },
          "metadata": {
            "needs_background": "light"
          }
        }
      ]
    },
    {
      "cell_type": "markdown",
      "source": [
        "## Model 3 : USE encoder"
      ],
      "metadata": {
        "id": "zi3Iv_9fxlp3"
      }
    },
    {
      "cell_type": "code",
      "source": [
        "import tensorflow_hub as hub\n",
        "tf_hub_embedding_layer = hub.KerasLayer('https://tfhub.dev/google/universal-sentence-encoder/4',\n",
        "                                        trainable = False,\n",
        "                                        name = 'universal_sentence_encoder')"
      ],
      "metadata": {
        "id": "xfttxKzJzlfW"
      },
      "execution_count": 57,
      "outputs": []
    },
    {
      "cell_type": "code",
      "source": [
        "import tensorflow as tf\n",
        "from tensorflow.keras import layers"
      ],
      "metadata": {
        "id": "B6NAnRti0XSY"
      },
      "execution_count": 58,
      "outputs": []
    },
    {
      "cell_type": "code",
      "source": [
        "# from imblearn.over_sampling import RandomOverSampler\n",
        "# from imblearn.under_sampling import RandomUnderSampler\n",
        "# from imblearn.pipeline import Pipeline as imblearnpipe\n",
        "\n",
        "\n",
        "# ros = RandomOverSampler(sampling_strategy = {0:457046,1:457046},random_state=42)\n",
        "# rus = RandomUnderSampler(sampling_strategy = {0:100000,1:100000} , random_state=42)\n",
        "\n",
        "# imbpipe = imblearnpipe([('ros',ros)])\n",
        "# X_train, y_train = imbpipe.fit_resample(df_train[['identity_attack','insult','obscene','severe_toxicity','sexual_explicit','threat','text']], df_train['toxicity'])\n",
        "X_train = df_train[['identity_attack','insult','obscene','severe_toxicity','sexual_explicit','threat','text']]\n",
        "y_train = df_train['toxicity']"
      ],
      "metadata": {
        "id": "inlkJJIzLhUU"
      },
      "execution_count": 178,
      "outputs": []
    },
    {
      "cell_type": "code",
      "source": [
        "#1.\n",
        "token_inputs = layers.Input(shape = [], dtype = tf.string , name = 'token_inputs')\n",
        "token_embeddings = tf_hub_embedding_layer(token_inputs)\n",
        "token_outputs = layers.Dense(128, activation = 'relu')(token_embeddings)\n",
        "token_model = tf.keras.Model(inputs = token_inputs,\n",
        "                             outputs = token_outputs,\n",
        "                             name = 'token_model')\n",
        "\n",
        "#2.\n",
        "numeric_inputs = layers.Input(shape = (6,) , dtype = tf.int32, name = 'numeric_input')\n",
        "x = layers.Dense(32, activation = 'relu')(numeric_inputs)\n",
        "x = layers.Dense(32, activation = 'relu')(x)\n",
        "numeric_model = tf.keras.Model(inputs = numeric_inputs,\n",
        "                           outputs = x)\n",
        "\n",
        "#5. Combine token and char embedding into a hybrid embedding\n",
        "\n",
        "combined_embeddings = layers.Concatenate(name = 'token_vader')([token_model.output,\n",
        "                                                                numeric_model.output])\n",
        "\n",
        "\n",
        "z = layers.Dense(256,activation = 'relu')(combined_embeddings)\n",
        "z = layers.Dropout(0.5)(z)\n",
        "\n",
        "\n",
        "#7. Create output layer\n",
        "output_layer = layers.Dense(2,activation = 'sigmoid' , name = 'output_layer')(z)\n",
        "\n",
        "#8. Combine model\n",
        "\n",
        "model_3 = tf.keras.Model(inputs = [token_model.input,\n",
        "                                   numeric_model.input\n",
        "                                   ],\n",
        "                         outputs = output_layer,\n",
        "                         name = 'token_vader_model')"
      ],
      "metadata": {
        "id": "GT06qqMYz0aY"
      },
      "execution_count": 179,
      "outputs": []
    },
    {
      "cell_type": "code",
      "source": [
        "model_3.summary()"
      ],
      "metadata": {
        "colab": {
          "base_uri": "https://localhost:8080/"
        },
        "id": "xBCzdieQ25ye",
        "outputId": "b2fd1470-0c4d-4f5d-9920-0b188ad4f067"
      },
      "execution_count": 180,
      "outputs": [
        {
          "output_type": "stream",
          "name": "stdout",
          "text": [
            "Model: \"token_vader_model\"\n",
            "__________________________________________________________________________________________________\n",
            " Layer (type)                   Output Shape         Param #     Connected to                     \n",
            "==================================================================================================\n",
            " token_inputs (InputLayer)      [(None,)]            0           []                               \n",
            "                                                                                                  \n",
            " numeric_input (InputLayer)     [(None, 6)]          0           []                               \n",
            "                                                                                                  \n",
            " universal_sentence_encoder (Ke  (None, 512)         256797824   ['token_inputs[0][0]']           \n",
            " rasLayer)                                                                                        \n",
            "                                                                                                  \n",
            " dense_33 (Dense)               (None, 32)           224         ['numeric_input[0][0]']          \n",
            "                                                                                                  \n",
            " dense_32 (Dense)               (None, 128)          65664       ['universal_sentence_encoder[7][0\n",
            "                                                                 ]']                              \n",
            "                                                                                                  \n",
            " dense_34 (Dense)               (None, 32)           1056        ['dense_33[0][0]']               \n",
            "                                                                                                  \n",
            " token_vader (Concatenate)      (None, 160)          0           ['dense_32[0][0]',               \n",
            "                                                                  'dense_34[0][0]']               \n",
            "                                                                                                  \n",
            " dense_35 (Dense)               (None, 256)          41216       ['token_vader[0][0]']            \n",
            "                                                                                                  \n",
            " dropout_11 (Dropout)           (None, 256)          0           ['dense_35[0][0]']               \n",
            "                                                                                                  \n",
            " output_layer (Dense)           (None, 2)            514         ['dropout_11[0][0]']             \n",
            "                                                                                                  \n",
            "==================================================================================================\n",
            "Total params: 256,906,498\n",
            "Trainable params: 108,674\n",
            "Non-trainable params: 256,797,824\n",
            "__________________________________________________________________________________________________\n"
          ]
        }
      ]
    },
    {
      "cell_type": "code",
      "source": [
        "from tensorflow.keras.utils import plot_model\n",
        "plot_model(model_3, show_shapes = True)"
      ],
      "metadata": {
        "colab": {
          "base_uri": "https://localhost:8080/",
          "height": 754
        },
        "id": "9XJjY64N3bM6",
        "outputId": "8809f82b-1302-495e-f7d9-72261b2ac095"
      },
      "execution_count": 181,
      "outputs": [
        {
          "output_type": "execute_result",
          "data": {
            "image/png": "[encoded data removed]",
            "text/plain": [
              "<IPython.core.display.Image object>"
            ]
          },
          "metadata": {},
          "execution_count": 181
        }
      ]
    },
    {
      "cell_type": "code",
      "source": [
        "from sklearn.preprocessing import OneHotEncoder, LabelEncoder"
      ],
      "metadata": {
        "id": "Jh878YgV3gFj"
      },
      "execution_count": 182,
      "outputs": []
    },
    {
      "cell_type": "code",
      "source": [
        "one_hot_encoder = OneHotEncoder(sparse = False)\n",
        "train_labels_one_hot = one_hot_encoder.fit_transform(y_train.to_numpy().reshape(-1,1))\n",
        "val_labels_one_hot = one_hot_encoder.transform(y_val.to_numpy().reshape(-1,1))"
      ],
      "metadata": {
        "id": "6GAM7Q8w4Jpp"
      },
      "execution_count": 183,
      "outputs": []
    },
    {
      "cell_type": "code",
      "source": [
        "label_encoder = LabelEncoder()\n",
        "train_labels_encoded = label_encoder.fit_transform(y_train.to_numpy())\n",
        "val_labels_encoded = label_encoder.transform(y_val.to_numpy())"
      ],
      "metadata": {
        "id": "SXrcwQBD4n6R"
      },
      "execution_count": 184,
      "outputs": []
    },
    {
      "cell_type": "code",
      "source": [
        "train_sentences = X_train.text.tolist()\n",
        "train_numeric = X_train[['identity_attack', 'insult', 'obscene', 'severe_toxicity','sexual_explicit', 'threat']]\n",
        "\n",
        "val_sentences = df_val.text.tolist()\n",
        "val_numeric = df_val[['identity_attack', 'insult', 'obscene', 'severe_toxicity','sexual_explicit', 'threat']]"
      ],
      "metadata": {
        "id": "G_aahZSN5iyZ"
      },
      "execution_count": 185,
      "outputs": []
    },
    {
      "cell_type": "code",
      "source": [
        "train_token_numeric_data = tf.data.Dataset.from_tensor_slices((train_sentences,\n",
        "                                                             train_numeric\n",
        "                                                             ))\n",
        "\n",
        "train_token_numeric_labels = tf.data.Dataset.from_tensor_slices(train_labels_one_hot)\n",
        "train_token_numeric_dataset = tf.data.Dataset.zip((train_token_numeric_data,\n",
        "                                                   train_token_numeric_labels))\n",
        "\n",
        "train_token_numeric_dataset = train_token_numeric_dataset.batch(32).prefetch(tf.data.AUTOTUNE)\n",
        "\n",
        "\n",
        "val_token_numeric_data = tf.data.Dataset.from_tensor_slices((val_sentences,\n",
        "                                                             val_numeric\n",
        "                                                             ))\n",
        "\n",
        "val_token_numeric_labels = tf.data.Dataset.from_tensor_slices(val_labels_one_hot)\n",
        "val_token_numeric_dataset = tf.data.Dataset.zip((val_token_numeric_data,\n",
        "                                                 val_token_numeric_labels))\n",
        "\n",
        "val_token_numeric_dataset = val_token_numeric_dataset.batch(32).prefetch(tf.data.AUTOTUNE)\n"
      ],
      "metadata": {
        "id": "N2rj_2LD4vj-"
      },
      "execution_count": 186,
      "outputs": []
    },
    {
      "cell_type": "code",
      "source": [
        "print(train_token_numeric_dataset)\n",
        "print(val_token_numeric_dataset)"
      ],
      "metadata": {
        "colab": {
          "base_uri": "https://localhost:8080/"
        },
        "id": "MKocD0jC6gj8",
        "outputId": "62be57ed-b61a-4d03-e153-39a1f6854282"
      },
      "execution_count": 187,
      "outputs": [
        {
          "output_type": "stream",
          "name": "stdout",
          "text": [
            "<PrefetchDataset shapes: (((None,), (None, 6)), (None, 2)), types: ((tf.string, tf.float64), tf.float64)>\n",
            "<PrefetchDataset shapes: (((None,), (None, 6)), (None, 2)), types: ((tf.string, tf.float64), tf.float64)>\n"
          ]
        }
      ]
    },
    {
      "cell_type": "code",
      "source": [
        "len(y_train)/(y_train.sum())"
      ],
      "metadata": {
        "colab": {
          "base_uri": "https://localhost:8080/"
        },
        "id": "B1LUIdKgENpt",
        "outputId": "0595ad94-2a32-44fb-abe8-05e3d0eff6f6"
      },
      "execution_count": 188,
      "outputs": [
        {
          "output_type": "execute_result",
          "data": {
            "text/plain": [
              "12.446467479776603"
            ]
          },
          "metadata": {},
          "execution_count": 188
        }
      ]
    },
    {
      "cell_type": "code",
      "source": [
        "earlystopping = tf.keras.callbacks.EarlyStopping(min_delta = 0.001,monitor = 'val_auc_9', verbose = 1 , patience = 5)"
      ],
      "metadata": {
        "id": "a6QoSV397l-B"
      },
      "execution_count": 189,
      "outputs": []
    },
    {
      "cell_type": "code",
      "source": [
        "model_3.compile(loss = tf.keras.losses.BinaryCrossentropy(label_smoothing = 0.2),\n",
        "                optimizer = tf.keras.optimizers.Adam(),\n",
        "                metrics = tf.keras.metrics.AUC(curve='PR')\n",
        "                )"
      ],
      "metadata": {
        "id": "2-5DskFg8IzL"
      },
      "execution_count": 190,
      "outputs": []
    },
    {
      "cell_type": "code",
      "source": [
        "classweights = {0:1,\n",
        "                1:len(y_train)/(y_train.sum())}"
      ],
      "metadata": {
        "id": "giL8t9ImEcKP"
      },
      "execution_count": 191,
      "outputs": []
    },
    {
      "cell_type": "code",
      "source": [
        "model_3_history = model_3.fit(train_token_numeric_dataset,\n",
        "                              steps_per_epoch = int(len(train_token_numeric_dataset)//32),\n",
        "                              epochs = 20,\n",
        "                              validation_data = val_token_numeric_dataset,\n",
        "                              class_weight = classweights,\n",
        "                              validation_steps = int(len(val_token_numeric_dataset)//32),\n",
        "                              callbacks = [tf.keras.callbacks.ModelCheckpoint(filepath = 'model_checkpoint',\n",
        "                                                                              monitor = 'val_auc_9',\n",
        "                                                                              save_best_only = True,\n",
        "                                                                              save_weights_only = False),\n",
        "                                           earlystopping])"
      ],
      "metadata": {
        "colab": {
          "base_uri": "https://localhost:8080/"
        },
        "id": "hDu3DENG8Mlh",
        "outputId": "da902136-fa35-48e9-bb03-669e264b2660"
      },
      "execution_count": 192,
      "outputs": [
        {
          "output_type": "stream",
          "name": "stdout",
          "text": [
            "Epoch 1/20\n",
            "484/485 [============================>.] - ETA: 0s - loss: 1.1633 - auc_9: 0.7715INFO:tensorflow:Assets written to: model_checkpoint/assets\n"
          ]
        },
        {
          "output_type": "stream",
          "name": "stderr",
          "text": [
            "INFO:tensorflow:Assets written to: model_checkpoint/assets\n"
          ]
        },
        {
          "output_type": "stream",
          "name": "stdout",
          "text": [
            "485/485 [==============================] - 42s 79ms/step - loss: 1.1641 - auc_9: 0.7717 - val_loss: 0.6310 - val_auc_9: 0.7543\n",
            "Epoch 2/20\n",
            "485/485 [==============================] - 15s 31ms/step - loss: 1.0936 - auc_9: 0.8227 - val_loss: 0.5573 - val_auc_9: 0.8599\n",
            "Epoch 3/20\n",
            "485/485 [==============================] - 15s 31ms/step - loss: 1.0968 - auc_9: 0.8235 - val_loss: 0.6104 - val_auc_9: 0.7875\n",
            "Epoch 4/20\n",
            "485/485 [==============================] - 15s 31ms/step - loss: 1.0562 - auc_9: 0.8414 - val_loss: 0.5510 - val_auc_9: 0.8719\n",
            "Epoch 5/20\n",
            "485/485 [==============================] - 15s 31ms/step - loss: 1.0860 - auc_9: 0.8382 - val_loss: 0.5857 - val_auc_9: 0.8102\n",
            "Epoch 6/20\n",
            "485/485 [==============================] - 16s 32ms/step - loss: 1.0892 - auc_9: 0.8308 - val_loss: 0.5882 - val_auc_9: 0.8230\n",
            "Epoch 00006: early stopping\n"
          ]
        }
      ]
    },
    {
      "cell_type": "code",
      "source": [
        "model_3 = tf.keras.models.load_model('model_checkpoint/')"
      ],
      "metadata": {
        "id": "Id7PpthqRitR"
      },
      "execution_count": 193,
      "outputs": []
    },
    {
      "cell_type": "code",
      "source": [
        "model_3.evaluate(val_token_numeric_dataset)"
      ],
      "metadata": {
        "colab": {
          "base_uri": "https://localhost:8080/"
        },
        "id": "1R0hec8Z8YLY",
        "outputId": "9f39260f-553f-4308-ed4d-5c798049c2b3"
      },
      "execution_count": 194,
      "outputs": [
        {
          "output_type": "stream",
          "name": "stdout",
          "text": [
            "3031/3031 [==============================] - 75s 25ms/step - loss: 0.6274 - auc_9: 0.7616\n"
          ]
        },
        {
          "output_type": "execute_result",
          "data": {
            "text/plain": [
              "[0.6274358630180359, 0.761631965637207]"
            ]
          },
          "metadata": {},
          "execution_count": 194
        }
      ]
    },
    {
      "cell_type": "code",
      "source": [
        "preds = model_3.predict(val_token_numeric_dataset)"
      ],
      "metadata": {
        "id": "2PxaCfJfAwqR"
      },
      "execution_count": 195,
      "outputs": []
    },
    {
      "cell_type": "code",
      "source": [
        "preds"
      ],
      "metadata": {
        "colab": {
          "base_uri": "https://localhost:8080/"
        },
        "id": "T01ZZfei-hlb",
        "outputId": "b6c0034d-1267-4a4e-bb3b-8292d1522d54"
      },
      "execution_count": 196,
      "outputs": [
        {
          "output_type": "execute_result",
          "data": {
            "text/plain": [
              "array([[0.72661656, 0.2748922 ],\n",
              "       [0.6842146 , 0.32085103],\n",
              "       [0.5554041 , 0.44117725],\n",
              "       ...,\n",
              "       [0.3379691 , 0.6676854 ],\n",
              "       [0.93383706, 0.06279226],\n",
              "       [0.69949615, 0.30179092]], dtype=float32)"
            ]
          },
          "metadata": {},
          "execution_count": 196
        }
      ]
    },
    {
      "cell_type": "code",
      "source": [
        "predictions = np.argmax(preds,axis = 1)"
      ],
      "metadata": {
        "id": "aEQ3LduRBXz6"
      },
      "execution_count": 197,
      "outputs": []
    },
    {
      "cell_type": "code",
      "source": [
        "make_confusion_matrix(y_val,predictions, classes=None, figsize=(10, 10), text_size=15, norm=False, savefig=False)"
      ],
      "metadata": {
        "colab": {
          "base_uri": "https://localhost:8080/",
          "height": 574
        },
        "id": "wXUJtXDlAiCY",
        "outputId": "33d9afed-06c8-4009-93a4-aa07d5c4dbdb"
      },
      "execution_count": 198,
      "outputs": [
        {
          "output_type": "display_data",
          "data": {
            "image/png": "[encoded data removed]",
            "text/plain": [
              "<Figure size 720x720 with 2 Axes>"
            ]
          },
          "metadata": {
            "needs_background": "light"
          }
        }
      ]
    }
  ]
}